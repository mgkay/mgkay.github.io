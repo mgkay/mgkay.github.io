{
 "cells": [
  {
   "cell_type": "markdown",
   "metadata": {},
   "source": [
    "# 4. Networks 4: Production-Inventory Planning: Multiple Products\n",
    "`ISE 754, Fall 2024`\n",
    "\n",
    "__Package Used:__ No new packages used."
   ]
  },
  {
   "cell_type": "markdown",
   "metadata": {},
   "source": [
    "A production-inventory planning model for multiple products differs from multiple single-product due to need to share resources between products. This is done through coupling and linking constraints. The model remains an LP if multiple products can be produced at the same time on the same resource, where (continuous variable) _coupling constraints_ are used to ensure total output does not exceed available capacity. The model becomes a MILP model if each product requires the exclusive use of a resource, where (discrete variable) _linking constraints_ are used to ensure that only one product can use each resource during each period."
   ]
  },
  {
   "attachments": {
    "012d0ab9-85ac-4358-a23d-0ec54cf1d2c2.png": {
     "image/png": "[encoded data removed]"
    }
   },
   "cell_type": "markdown",
   "metadata": {},
   "source": [
    "## 1. Multiple Products with Exclusive Shared Resources: MILP\n",
    "In the following model, binary-variable linking constraints are used to ensure products cannot be produced together simultaneously on the same resource. The production indicator variables, $z_{ijk}$, do not appear in the objective function and are only used to control shared access to each resource through constraints (c) and (d):\n",
    "\n",
    "$ \\begin{eqnarray*}\n",
    "\\quad \\mbox{Minimize} \\quad \\sum_{i=1}^{m} \\sum_{j=1}^{t} \\sum_{k=1}^{g} c_{ik}^p x_{ijk} + \n",
    "\\sum_{i=1}^{m} \\sum_{j=2}^{t+1} \\sum_{k=1}^{g} c_{ik}^i y_{ijk} \\\\\n",
    "\\quad \\mbox{subject to} \\quad -x_{ijk} + x_{(i+1)jk} - y_{ijk} + y_{i(j+1)k} &=& 0 \\mbox{,} \n",
    "& i = 1, \\dots, m-1; j = 1, \\dots, t; k = 1, \\dots, g \\;\\;& (a) \\\\ \n",
    "-x_{mjk} - y_{mjk} + y_{m(j+1)k} &=& d_{jk} \\mbox{,} \n",
    "& j = 1, \\dots, t; k = 1, \\dots, g  & (b) \\\\\n",
    "x_{ijk} &\\le& u_{ik} z_{ijk} \\mbox{,} \n",
    "& i = 1, \\dots, m; j = 1, \\dots, t; k = 1, \\dots, g & (c) \\\\ \n",
    "\\sum_{k=1}^g z_{ijk} &\\le& 1 \\mbox{,}\n",
    "& i = 1, \\dots, m; j = 1, \\dots, t & (d) \\\\\n",
    "y_{i1k} &=& y_i^0 \\mbox{,} & i = 1, \\dots, m; k = 1, \\dots, g \\\\\n",
    "y_{i(t+1)k} &=& y_{ik}^{t+1} \\mbox{,} & i = 1, \\dots, m; k = 1, \\dots, g \\\\\n",
    "x, y \\ge 0; z &\\in& \\bigl\\{ 0, 1 \\bigr\\} \\mbox{,} \\\\\n",
    "\\end{eqnarray*} $\n",
    "\n",
    "where,\n",
    "\n",
    "$ \\begin{eqnarray*}\n",
    "\\quad m &=& \\mbox{number of production stages} \\\\\n",
    "t &=& \\mbox{number of periods of production} \\\\\n",
    "g &=& \\mbox{number of products} \\\\\n",
    "c_{ik}^p &=& \\mbox{production cost (dollar/ton) in stage } i \\mbox{ for product } k \\\\\n",
    "x_{ijk} &=& \\mbox{production (ton) at stage } i \\mbox{ in period } j \\mbox{ for product } k \\\\\n",
    "c_{ik}^i &=& \\mbox{inventory cost (dollar/ton) in stage } i \\mbox{ for product } k \\\\\n",
    "y_{ijk} &=& \\mbox{stage-} i \\mbox{ inventory (ton) from period } j-1 \\mbox{ to } j \\mbox{ for product } k \\\\\n",
    "z_{ijk} &=& \\mbox{production indicator at stage } i \\mbox{ in period } j \\mbox{ for product } k \\\\\n",
    "d_{jk} &=& \\mbox{demand (ton) in period } j \\mbox{ for product } k \\\\\n",
    "u_{ik} &=& \\mbox{production capacity (ton) of stage } i \\mbox{ in period } j \\mbox{ for product } k \\\\\n",
    "y_{ik}^0 &=& \\mbox{initial inventory (ton) of stage } i \\mbox{ for product } k \\\\\n",
    "y_{ik}^{t+1} &=& \\mbox{final inventory (ton) of stage } i  \\mbox{ for product } k \\mbox{.} \\\\\n",
    "\\end{eqnarray*} $\n",
    "\n",
    "Constraints (_a_) and (_b_) are for flow balance, (_c_) for production capacity, and (_d_) are linking constraints that ensure that only one product is produced at each stage during each period. Constraints (_a_)-(_c_) all refer to each product separately, and only (_d_) refer to multiple products together for each stage and period. \n",
    "\n",
    "![image.png](attachment:012d0ab9-85ac-4358-a23d-0ec54cf1d2c2.png)\n"
   ]
  },
  {
   "cell_type": "markdown",
   "metadata": {},
   "source": [
    "### Ex: Two-Product, Three-Stage Process with Exclusive Shared Resources\n",
    "A plant can use a three-stage process to produce two products. A 13-week rolling horizon is used for planning production. The products’ forecasted demand, in tons, is the following, where `d[j,k]` is the demand in period _j_ for product _k_:\n",
    "\n",
    "```\n",
    "d = [\n",
    "  6  17\n",
    " 40  14\n",
    " 33  17\n",
    " 24   4\n",
    " 29   7\n",
    " 24  10\n",
    " 16  12\n",
    " 13  18\n",
    " 14  13\n",
    " 17  23\n",
    " 18   8\n",
    " 43  17\n",
    " 25   3\n",
    "]\n",
    "```\n",
    "\n",
    "The plant can produce up to 60, 55, and 50 and 50, 45, and 35 tons per week for each stage of each product, respectively; has production costs of \\\\$12, \\\\$75, and \\\\$35 and \\\\$20, \\\\$130, and \\\\$60 per ton for each stage of each product, respectively. The annual inventory carrying rate is 0.3. The first two weeks' demand for the second product is being held as finished product inventory. The final inventory for all stages of both products is zero. Determine the amount of each product that should be produced to minimize total costs over the planning horizon."
   ]
  },
  {
   "cell_type": "code",
   "execution_count": 1,
   "metadata": {},
   "outputs": [
    {
     "data": {
      "text/plain": [
       "3×2 Matrix{Int64}:\n",
       " 0   0\n",
       " 0   0\n",
       " 0  31"
      ]
     },
     "execution_count": 1,
     "metadata": {},
     "output_type": "execute_result"
    }
   ],
   "source": [
    "d = [6 40 33 24 29 24 16 13 14 17 18 43 25\n",
    "    17 14 17  4  7 10 12 18 13 23  8 17  3]'  # demand in each period, each product (ton)\n",
    "t = size(d, 1)                        # number of periods\n",
    "u = [60 50; 55 45; 50 35]             # capacity of each stage for each product (ton)\n",
    "m = size(u, 1)                        # number of production stages\n",
    "g = size(u, 2)                        # number of products\n",
    "cᵖ = [12 20; 75 130; 35 60]           # production cost for each stage, each product ($/ton)\n",
    "h = 0.3/(365.25/7)                    # weekly inventory carrying rate (1/wk)\n",
    "cⁱ = cumsum(cᵖ, dims=1)*h             # inventory cost for each stage, each product ($/ton)\n",
    "y⁰ = [0 0; 0 0; 0 sum(d[[1 2], 2])]   # initial inventory of each stage, each product (ton)"
   ]
  },
  {
   "cell_type": "code",
   "execution_count": 2,
   "metadata": {},
   "outputs": [
    {
     "data": {
      "text/plain": [
       "3×14×2 Array{Float64, 3}:\n",
       "[:, :, 1] =\n",
       " 0.0  Inf  Inf  Inf  Inf  Inf  Inf  Inf  Inf  Inf  Inf  Inf  Inf  0.0\n",
       " 0.0  Inf  Inf  Inf  Inf  Inf  Inf  Inf  Inf  Inf  Inf  Inf  Inf  0.0\n",
       " 0.0  Inf  Inf  Inf  Inf  Inf  Inf  Inf  Inf  Inf  Inf  Inf  Inf  0.0\n",
       "\n",
       "[:, :, 2] =\n",
       "  0.0  Inf  Inf  Inf  Inf  Inf  Inf  Inf  Inf  Inf  Inf  Inf  Inf  0.0\n",
       "  0.0  Inf  Inf  Inf  Inf  Inf  Inf  Inf  Inf  Inf  Inf  Inf  Inf  0.0\n",
       " 31.0  Inf  Inf  Inf  Inf  Inf  Inf  Inf  Inf  Inf  Inf  Inf  Inf  0.0"
      ]
     },
     "execution_count": 2,
     "metadata": {},
     "output_type": "execute_result"
    }
   ],
   "source": [
    "yᵗ⁺¹ = zeros(m, g)                   # final inventory of each stage for each product (ton)\n",
    "                                     # convert y⁰ and yᵗ⁺¹ from 2D (m x g) to 3D (m x t x g)\n",
    "LBʸ = [reshape(y⁰, m, 1, g) zeros(m, t-1, g) reshape(yᵗ⁺¹, m, 1, g)]  \n",
    "UBʸ = [reshape(y⁰, m, 1, g) fill(Inf, m, t-1, g) reshape(yᵗ⁺¹, m, 1, g)]  "
   ]
  },
  {
   "cell_type": "code",
   "execution_count": 3,
   "metadata": {},
   "outputs": [
    {
     "name": "stdout",
     "output_type": "stream",
     "text": [
      "OPTIMAL\n"
     ]
    },
    {
     "data": {
      "text/plain": [
       "(64765.10554414787, [29.000000000000014 50.0 … 43.00000000000001 25.000000000000007; 29.000000000000018 50.0 … 43.000000000000014 25.000000000000007; 29.000000000000018 49.99999999999999 … 43.00000000000001 25.000000000000007;;; 0.0 0.0 … 0.0 0.0; 0.0 0.0 … 0.0 0.0; 0.0 0.0 … 0.0 0.0], [0.0 0.0 … 0.0 0.0; 0.0 0.0 … 0.0 0.0; 0.0 23.00000000000002 … 0.0 0.0;;; 0.0 0.0 … 0.0 0.0; 0.0 0.0 … 0.0 0.0; 31.0 13.999999999999998 … 3.0 0.0], [1.0 1.0 … 1.0 1.0; 1.0 1.0 … 1.0 1.0; 1.0 1.0 … 1.0 1.0;;; 0.0 0.0 … 0.0 0.0; 0.0 0.0 … 0.0 0.0; 0.0 0.0 … 0.0 0.0])"
      ]
     },
     "execution_count": 3,
     "metadata": {},
     "output_type": "execute_result"
    }
   ],
   "source": [
    "using JuMP, Cbc\n",
    "\n",
    "model=Model(Cbc.Optimizer)\n",
    "@variable(model, 0 <= x[i=1:m, j=1:t, k=1:g] )\n",
    "@variable(model, LBʸ[i,j,k] <= y[i=1:m, j=1:t+1, k=1:g] <= UBʸ[i,j,k] )\n",
    "@variable(model, z[i=1:m, j=1:t, k=1:g], Bin )\n",
    "@objective(model, Min, \n",
    "    sum(cᵖ[i,k]*x[i,j,k] for i=1:m, j=1:t, k=1:g ) + \n",
    "    sum(cⁱ[i,k]*y[i,j,k] for i=1:m, j=2:t+1, k=1:g ) )\n",
    "# (a) flow-balance all but last stage\n",
    "@constraint(model, [i=1:m-1, j=1:t, k=1:g], \n",
    "    -x[i,j,k] + x[i+1,j,k] - y[i,j,k] + y[i,j+1,k] == 0 )    \n",
    "# (b) flow-balance for last stage\n",
    "@constraint(model, [j=1:t, k=1:g], -x[m,j,k] - y[m,j,k] + y[m,j+1,k] == -d[j,k] )\n",
    "# (c) production capacity\n",
    "@constraint(model, [i=1:m, j=1:t, k=1:g], x[i,j,k] <= u[i,k]*z[i,j,k] )\n",
    "# (d) linking\n",
    "@constraint(model, [i=1:m, j=1:t], sum(z[i,j,k] for k=1:g) <= 1 )              \n",
    "set_attribute(model, \"logLevel\", 0)\n",
    "set_attribute(model, \"seconds\", 30.0)   # Solution timeout limit\n",
    "optimize!(model)\n",
    "println(solution_summary(model).termination_status)\n",
    "TCᵒ, xᵒ, yᵒ, zᵒ = objective_value(model), \n",
    "    Array(value.(x)), Array(value.(y)), Array(round.(value.(z)))"
   ]
  },
  {
   "cell_type": "code",
   "execution_count": 4,
   "metadata": {},
   "outputs": [
    {
     "data": {
      "text/plain": [
       "4×13 Matrix{Float64}:\n",
       " 29.0  50.0   0.0  27.0  50.0   0.0  29.0   0.0  49.0   0.0   0.0  43.0  25.0\n",
       " 29.0  50.0   0.0  27.0  50.0   0.0  29.0   0.0  49.0   0.0   0.0  43.0  25.0\n",
       " 29.0  50.0   0.0  27.0  50.0   0.0  29.0   0.0  49.0   0.0   0.0  43.0  25.0\n",
       "  6.0  40.0  33.0  24.0  29.0  24.0  16.0  13.0  14.0  17.0  18.0  43.0  25.0"
      ]
     },
     "execution_count": 4,
     "metadata": {},
     "output_type": "execute_result"
    }
   ],
   "source": [
    "[xᵒ[:,:,1]; d[:,1]']   # Product 1 production level/Demand"
   ]
  },
  {
   "cell_type": "code",
   "execution_count": 5,
   "metadata": {},
   "outputs": [
    {
     "data": {
      "text/plain": [
       "3×14 Matrix{Float64}:\n",
       " 0.0   0.0   0.0  0.0  0.0   0.0  0.0   0.0  0.0   0.0   0.0  0.0  0.0  0.0\n",
       " 0.0   0.0   0.0  0.0  0.0   0.0  0.0   0.0  0.0   0.0   0.0  0.0  0.0  0.0\n",
       " 0.0  23.0  33.0  0.0  3.0  24.0  0.0  13.0  0.0  35.0  18.0  0.0  0.0  0.0"
      ]
     },
     "execution_count": 5,
     "metadata": {},
     "output_type": "execute_result"
    }
   ],
   "source": [
    "yᵒ[:,:,1]              # Product 1 inventory level"
   ]
  },
  {
   "cell_type": "code",
   "execution_count": 6,
   "metadata": {},
   "outputs": [
    {
     "data": {
      "text/plain": [
       "3×13 Matrix{Float64}:\n",
       " 1.0  1.0  0.0  1.0  1.0  0.0  1.0  0.0  1.0  0.0  0.0  1.0  1.0\n",
       " 1.0  1.0  0.0  1.0  1.0  0.0  1.0  0.0  1.0  0.0  0.0  1.0  1.0\n",
       " 1.0  1.0  0.0  1.0  1.0  0.0  1.0  0.0  1.0  0.0  0.0  1.0  1.0"
      ]
     },
     "execution_count": 6,
     "metadata": {},
     "output_type": "execute_result"
    }
   ],
   "source": [
    "zᵒ[:,:,1]              # Product 1 production indicator"
   ]
  },
  {
   "cell_type": "code",
   "execution_count": 7,
   "metadata": {},
   "outputs": [
    {
     "data": {
      "text/plain": [
       "4×13 Matrix{Float64}:\n",
       "  0.0   0.0  28.0  0.0  0.0  22.0   0.0  31.0   0.0  23.0  28.0   0.0  0.0\n",
       "  0.0   0.0  28.0  0.0  0.0  22.0   0.0  31.0   0.0  23.0  28.0   0.0  0.0\n",
       "  0.0   0.0  28.0  0.0  0.0  22.0   0.0  31.0   0.0  23.0  28.0   0.0  0.0\n",
       " 17.0  14.0  17.0  4.0  7.0  10.0  12.0  18.0  13.0  23.0   8.0  17.0  3.0"
      ]
     },
     "execution_count": 7,
     "metadata": {},
     "output_type": "execute_result"
    }
   ],
   "source": [
    "[xᵒ[:,:,2]; d[:,2]']   # Product 2 production level/Demand"
   ]
  },
  {
   "cell_type": "code",
   "execution_count": 8,
   "metadata": {},
   "outputs": [
    {
     "data": {
      "text/plain": [
       "3×14 Matrix{Float64}:\n",
       "  0.0   0.0  0.0   0.0  0.0  0.0   0.0  0.0   0.0  0.0  0.0   0.0  0.0  0.0\n",
       "  0.0   0.0  0.0   0.0  0.0  0.0   0.0  0.0   0.0  0.0  0.0   0.0  0.0  0.0\n",
       " 31.0  14.0  0.0  11.0  7.0  0.0  12.0  0.0  13.0  0.0  0.0  20.0  3.0  0.0"
      ]
     },
     "execution_count": 8,
     "metadata": {},
     "output_type": "execute_result"
    }
   ],
   "source": [
    "yᵒ[:,:,2]              # Product 2 inventory level"
   ]
  },
  {
   "cell_type": "code",
   "execution_count": 9,
   "metadata": {},
   "outputs": [
    {
     "data": {
      "text/plain": [
       "3×13 Matrix{Float64}:\n",
       " 0.0  0.0  1.0  0.0  0.0  1.0  0.0  1.0  0.0  1.0  1.0  0.0  0.0\n",
       " 0.0  0.0  1.0  0.0  0.0  1.0  0.0  1.0  0.0  1.0  1.0  0.0  0.0\n",
       " 0.0  0.0  1.0  0.0  0.0  1.0  0.0  1.0  0.0  1.0  1.0  0.0  0.0"
      ]
     },
     "execution_count": 9,
     "metadata": {},
     "output_type": "execute_result"
    }
   ],
   "source": [
    "zᵒ[:,:,2]              # Product 2 production indicator"
   ]
  },
  {
   "cell_type": "code",
   "execution_count": 10,
   "metadata": {},
   "outputs": [
    {
     "data": {
      "text/plain": [
       "((3, 2), (3, 13, 2))"
      ]
     },
     "execution_count": 10,
     "metadata": {},
     "output_type": "execute_result"
    }
   ],
   "source": [
    "size(cᵖ), size(xᵒ)     # cᵖ not compatible size with xᵒ, need to reshape to (3, 1, 2)"
   ]
  },
  {
   "cell_type": "code",
   "execution_count": 11,
   "metadata": {},
   "outputs": [
    {
     "data": {
      "text/plain": [
       "(64564.00000000001, 201.10554414784394)"
      ]
     },
     "execution_count": 11,
     "metadata": {},
     "output_type": "execute_result"
    }
   ],
   "source": [
    "TCᵖ = sum((reshape(cᵖ,m,1,g).*xᵒ)[:])   # Reshaped cᵖ broadcast for multiplication with xᵒ\n",
    "TCⁱ = sum((reshape(cⁱ,m,1,g).*yᵒ[:,2:end,:])[:])   # First period excluded\n",
    "TCᵖ, TCⁱ"
   ]
  },
  {
   "cell_type": "code",
   "execution_count": 12,
   "metadata": {},
   "outputs": [
    {
     "data": {
      "text/plain": [
       "(64765.10554414785, 64765.10554414787)"
      ]
     },
     "execution_count": 12,
     "metadata": {},
     "output_type": "execute_result"
    }
   ],
   "source": [
    "TCᵖ + TCⁱ, TCᵒ   # Check that production and inventory costs match total cost"
   ]
  },
  {
   "attachments": {
    "2be2e217-ef6b-4cad-b2a7-44997de5ee35.png": {
     "image/png": "[encoded data removed]"
    },
    "bae938d5-a55a-4db3-9ccc-106e4f6f5c3a.png": {
     "image/png": "[encoded data removed]"
    }
   },
   "cell_type": "markdown",
   "metadata": {},
   "source": [
    "## 2. Multiple Products with Setup Costs: MILP\n",
    "If multiple products are produced using exclusive shared resources, there is often a cost associated with reconfiguring or setting up the resource to produce a product if it was previously producing a different product; examples of such setup costs would be the material and labor cost associated with re-tooling/re-calibration of machines, cleaning/sterilization of equipment, and the lost production capacity while a resource is not available during set up. In the following model, set up cost is separate from production cost in the objective function:\n",
    "\n",
    "$ \\begin{eqnarray*}\n",
    "\\quad \\mbox{Minimize} \\quad \\sum_{i=1}^{m} \\sum_{j=1}^{t} \\sum_{k=1}^{g} c_{ik}^p x_{ijk} + \n",
    "\\sum_{i=1}^{m} \\sum_{j=2}^{t+1} \\sum_{k=1}^{g} c_{ik}^i y_{ijk} &+& \n",
    "\\sum_{i=1}^{m} \\sum_{j=1}^{t} \\sum_{k=1}^{g} c_{ik}^s v_{ijk} \\\\\n",
    "\\quad \\mbox{subject to} \\quad -x_{ijk} + x_{(i+1)jk} - y_{ijk} + y_{i(j+1)k} &=& 0 \\mbox{,} \n",
    "& i = 1, \\dots, m-1; j = 1, \\dots, t; k = 1, \\dots, g \\;\\;& (a) \\\\ \n",
    "-x_{mjk} - y_{mjk} + y_{m(j+1)k} &=& d_{jk} \\mbox{,} \n",
    "& j = 1, \\dots, t; k = 1, \\dots, g  & (b) \\\\\n",
    "x_{ijk} &\\le& u_{ik} z_{ijk} \\mbox{,} \n",
    "& i = 1, \\dots, m; j = 1, \\dots, t; k = 1, \\dots, g & (c) \\\\ \n",
    "-v_{i1k} + z_{i1k} &\\le& z_{ik}^0 \\mbox{,}\n",
    "& i = 1, \\dots, m; k = 1, \\dots, g & (d) \\\\ \n",
    "-v_{ijk} + z_{ijk} - z_{i(j-1)k} &\\le& 0 \\mbox{,}\n",
    "& i = 1, \\dots, m; j = 2, \\dots, t; k = 1, \\dots, g & (e) \\\\\n",
    "\\sum_{k=1}^g z_{ijk} &\\le& 1 \\mbox{,}\n",
    "& i = 1, \\dots, m; j = 1, \\dots, t & (f) \\\\\n",
    "y_{i1k} &=& y_i^0 \\mbox{,} & i = 1, \\dots, m; k = 1, \\dots, g \\\\\n",
    "y_{i(t+1)k} &=& y_{ik}^{t+1} \\mbox{,} & i = 1, \\dots, m; k = 1, \\dots, g \\\\\n",
    "x, y \\ge 0; v, z &\\in& \\bigl\\{ 0, 1 \\bigr\\} \\mbox{,} \\\\\n",
    "\\end{eqnarray*} $\n",
    "\n",
    "where,\n",
    "\n",
    "$ \\begin{eqnarray*}\n",
    "\\quad m &=& \\mbox{number of production stages} \\\\\n",
    "t &=& \\mbox{number of periods of production} \\\\\n",
    "g &=& \\mbox{number of products} \\\\\n",
    "c_{ik}^p &=& \\mbox{production cost (dollar/ton) in stage } i \\mbox{ for product } k \\\\\n",
    "x_{ijk} &=& \\mbox{production (ton) at stage } i \\mbox{ in period } j \\mbox{ for product } k \\\\\n",
    "c_{ik}^i &=& \\mbox{inventory cost (dollar/ton) in stage } i \\mbox{ for product } k \\\\\n",
    "y_{ijk} &=& \\mbox{stage-} i \\mbox{ inventory (ton) from period } j-1 \\mbox{ to } j \\mbox{ for product } k \\\\\n",
    "c_{ik}^s &=& \\mbox{setup cost (dollar) in stage } i \\mbox{ for product } k \\\\\n",
    "v_{ijk} &=& \\mbox{setup indicator at stage } i \\mbox{ in period } j \\mbox{ for product } k \\\\\n",
    "z_{ijk} &=& \\mbox{production indicator at stage } i \\mbox{ in period } j \\mbox{ for product } k \\\\\n",
    "d_{jk} &=& \\mbox{demand (ton) in period } j \\mbox{ for product } k \\\\\n",
    "u_{ik} &=& \\mbox{production capacity (ton) of stage } i \\mbox{ in period } j \\mbox{ for product } k \\\\\n",
    "z_{ik}^0 &=& \\mbox{initial setup at stage } i \\mbox{ for product } k \\\\\n",
    "y_{ik}^0 &=& \\mbox{initial inventory (ton) of stage } i \\mbox{ for product } k \\\\\n",
    "y_{ik}^{t+1} &=& \\mbox{final inventory (ton) of stage } i  \\mbox{ for product } k \\mbox{.} \\\\\n",
    "\\end{eqnarray*} $\n",
    "\n",
    "Constraints (_a_) and (_b_) are for flow balance, (_c_) for production capacity, (_d_) and (_e_) to force setups to occur, and (_f_) are linking constraints that ensure that only one product is produced at each stage during each period. Constraints (_a_)-(_e_) all refer to each product separately, and only (_f_) refer to multiple products together for each stage and period. \n",
    "\n",
    "![image.png](attachment:bae938d5-a55a-4db3-9ccc-106e4f6f5c3a.png)\n",
    "\n",
    "In order to ensure that a setup occurs only the first period that production switched to a different product, the constraint $ -v_t + z_t - z_{t-1} \\le 0 $ can used. There are eight possible combinations of values that the three binary variables can take. In the table below, right, the combination $ [ 0 \\; 1 \\; 0 = 1 \\nleq 0 ] $ is not feasible (i.e., allowing a product switch without incurring a setup), and this constraint ensures that this cannot happen. The combination $ [ 1 \\; 1 \\; 0 = 0 \\leq 0 ] $ is feasible can will occur; the other three combinations where a setup is indicated ($ v_t = 1 $) are feasible but would never occur because they would only add an additional unnecessary setup cost and the objective is to minimize cost.\n",
    "\n",
    "![image.png](attachment:2be2e217-ef6b-4cad-b2a7-44997de5ee35.png)"
   ]
  },
  {
   "cell_type": "code",
   "execution_count": 13,
   "metadata": {},
   "outputs": [
    {
     "data": {
      "text/plain": [
       "8×5 Matrix{Int64}:\n",
       " 0  0  0   0  1\n",
       " 0  0  1  -1  1\n",
       " 0  1  0   1  0\n",
       " 0  1  1   0  1\n",
       " 1  0  0  -1  1\n",
       " 1  0  1  -2  1\n",
       " 1  1  0   0  1\n",
       " 1  1  1  -1  1"
      ]
     },
     "execution_count": 13,
     "metadata": {},
     "output_type": "execute_result"
    }
   ],
   "source": [
    "T = [0 0 0; 0 0 1; 0 1 0; 0 1 1; 1 0 0; 1 0 1; 1 1 0; 1 1 1]\n",
    "TT(f) = [T [f(row...) for row in eachrow(T)] [f(row...) .<= 0 for row in eachrow(T)]]\n",
    "TT((vₜ, zₜ, zₜ₋₁) -> -vₜ + zₜ - zₜ₋₁)"
   ]
  },
  {
   "cell_type": "markdown",
   "metadata": {},
   "source": [
    "### Ex: Two-Product, Three-Stage Process with Setup Costs\n",
    "The problem is the same as the example above, except that there is a setup cost associated with switching the production of one of the products on a resource to the other product. There is no setup cost in subsequent periods if the same product continues to be produced on the same resource. The costs per setup for each stage of each product are \\\\$400, \\\\$90, and \\\\$50, and \\\\$600, \\\\$110, and \\\\$60, respectively. The plant is currently set up to produce each stage of the first product. Determine the amount of each product that should be produced to minimize total costs over the planning horizon."
   ]
  },
  {
   "cell_type": "code",
   "execution_count": 14,
   "metadata": {},
   "outputs": [
    {
     "data": {
      "text/plain": [
       "3×2 Matrix{Int64}:\n",
       " 0   0\n",
       " 0   0\n",
       " 0  31"
      ]
     },
     "execution_count": 14,
     "metadata": {},
     "output_type": "execute_result"
    }
   ],
   "source": [
    "d = [6 40 33 24 29 24 16 13 14 17 18 43 25\n",
    "    17 14 17  4  7 10 12 18 13 23  8 17  3]'  # demand in each period, each product (ton)\n",
    "t = size(d, 1)                        # number of periods\n",
    "u = [60 50; 55 45; 50 35]             # capacity of each stage for each product (ton)\n",
    "m = size(u, 1)                        # number of production stages\n",
    "g = size(u, 2)                        # number of products\n",
    "cᵖ = [12 20; 75 130; 35 60]           # production cost for each stage, each product ($/ton)\n",
    "h = 0.3/(365.25/7)                    # weekly inventory carrying rate (1/wk)\n",
    "cⁱ = cumsum(cᵖ, dims=1)*h             # inventory cost for each stage, each product ($/ton)\n",
    "cˢ = [400 600; 90 110; 50 70]         # setup cost for each stage for each product ($)\n",
    "y⁰ = [0 0; 0 0; 0 sum(d[[1 2], 2])]   # initial inventory of each stage, each product (ton)"
   ]
  },
  {
   "cell_type": "code",
   "execution_count": 15,
   "metadata": {},
   "outputs": [
    {
     "data": {
      "text/plain": [
       "3×14×2 Array{Float64, 3}:\n",
       "[:, :, 1] =\n",
       " 0.0  Inf  Inf  Inf  Inf  Inf  Inf  Inf  Inf  Inf  Inf  Inf  Inf  0.0\n",
       " 0.0  Inf  Inf  Inf  Inf  Inf  Inf  Inf  Inf  Inf  Inf  Inf  Inf  0.0\n",
       " 0.0  Inf  Inf  Inf  Inf  Inf  Inf  Inf  Inf  Inf  Inf  Inf  Inf  0.0\n",
       "\n",
       "[:, :, 2] =\n",
       "  0.0  Inf  Inf  Inf  Inf  Inf  Inf  Inf  Inf  Inf  Inf  Inf  Inf  0.0\n",
       "  0.0  Inf  Inf  Inf  Inf  Inf  Inf  Inf  Inf  Inf  Inf  Inf  Inf  0.0\n",
       " 31.0  Inf  Inf  Inf  Inf  Inf  Inf  Inf  Inf  Inf  Inf  Inf  Inf  0.0"
      ]
     },
     "execution_count": 15,
     "metadata": {},
     "output_type": "execute_result"
    }
   ],
   "source": [
    "yᵗ⁺¹ = zeros(m, g)                   # final inventory of each stage for each product (ton)\n",
    "z⁰ = [1 0; 1 0; 1 0]                 # initial set up at each stage for each product\n",
    "                                     # convert y⁰ and yᵗ⁺¹ from 2D (m x g) to 3D (m x t x g)\n",
    "LBʸ = [reshape(y⁰, m, 1, g) zeros(m, t-1, g) reshape(yᵗ⁺¹, m, 1, g)]  \n",
    "UBʸ = [reshape(y⁰, m, 1, g) fill(Inf, m, t-1, g) reshape(yᵗ⁺¹, m, 1, g)]  "
   ]
  },
  {
   "cell_type": "code",
   "execution_count": 16,
   "metadata": {},
   "outputs": [
    {
     "name": "stdout",
     "output_type": "stream",
     "text": [
      "OPTIMAL\n"
     ]
    },
    {
     "data": {
      "text/plain": [
       "(67314.92484599589, [35.000000000000036 50.0 … 0.0 0.0; 35.000000000000036 50.0 … 43.000000000000014 25.000000000000007; 35.000000000000036 49.99999999999999 … 43.00000000000001 25.000000000000007;;; 0.0 0.0 … 0.0 0.0; 0.0 0.0 … 0.0 0.0; 0.0 0.0 … 0.0 0.0], [0.0 0.0 … 25.000000000000007 0.0; 0.0 0.0 … 0.0 0.0; 0.0 29.000000000000036 … 0.0 0.0;;; 0.0 0.0 … 0.0 0.0; 0.0 0.0 … 0.0 0.0; 31.0 13.999999999999998 … 3.0 0.0], [0.0 0.0 … 0.0 0.0; 0.0 0.0 … 1.0 0.0; 0.0 0.0 … 1.0 0.0;;; 0.0 0.0 … 0.0 0.0; 0.0 0.0 … 0.0 0.0; 0.0 0.0 … 0.0 0.0], [1.0 1.0 … 0.0 0.0; 1.0 1.0 … 1.0 1.0; 1.0 1.0 … 1.0 1.0;;; 0.0 0.0 … 1.0 0.0; 0.0 0.0 … 0.0 0.0; 0.0 0.0 … 0.0 0.0])"
      ]
     },
     "execution_count": 16,
     "metadata": {},
     "output_type": "execute_result"
    }
   ],
   "source": [
    "using JuMP, Cbc\n",
    "\n",
    "model=Model(Cbc.Optimizer)\n",
    "@variable(model, 0 <= x[i=1:m, j=1:t, k=1:g] )\n",
    "@variable(model, LBʸ[i,j,k] <= y[i=1:m, j=1:t+1, k=1:g] <= UBʸ[i,j,k] )\n",
    "@variable(model, v[i=1:m, j=1:t, k=1:g], Bin )\n",
    "@variable(model, z[i=1:m, j=1:t, k=1:g], Bin )\n",
    "@objective(model, Min, \n",
    "    sum(cᵖ[i,k]*x[i,j,k] for i=1:m, j=1:t, k=1:g ) + \n",
    "    sum(cⁱ[i,k]*y[i,j,k] for i=1:m, j=2:t+1, k=1:g ) + \n",
    "    sum(cˢ[i,k]*v[i,j,k] for i=1:m, j=1:t, k=1:g ) )\n",
    "# (a) flow-balance all but last stage\n",
    "@constraint(model, [i=1:m-1, j=1:t, k=1:g], \n",
    "    -x[i,j,k] + x[i+1,j,k] - y[i,j,k] + y[i,j+1,k] == 0 )    \n",
    "# (b) flow-balance for last stage\n",
    "@constraint(model, [j=1:t, k=1:g], -x[m,j,k] - y[m,j,k] + y[m,j+1,k] == -d[j,k] )\n",
    "# (c) production capacity\n",
    "@constraint(model, [i=1:m, j=1:t, k=1:g], x[i,j,k] <= u[i,k]*z[i,j,k] )\n",
    "# (d) setup for first stage\n",
    "@constraint(model, [i=1:m, k=1:g], -v[i,1,k] + z[i,1,k] <= z⁰[i,k] )\n",
    "# (e) setup all but first stage\n",
    "@constraint(model, [i=1:m, j=2:t, k=1:g], -v[i,j,k] + z[i,j,k] - z[i,j-1,k] <= 0 )\n",
    "# (f) linking\n",
    "@constraint(model, [i=1:m, j=1:t], sum(z[i,j,k] for k=1:g) <= 1 )              \n",
    "set_attribute(model, \"logLevel\", 0)\n",
    "set_attribute(model, \"seconds\", 30.0)   # Solution timeout limit\n",
    "optimize!(model)\n",
    "println(solution_summary(model).termination_status)\n",
    "TCᵒ, xᵒ, yᵒ, vᵒ, zᵒ = objective_value(model), Array(value.(x)), Array(value.(y)), \n",
    "    Array(round.(value.(v))), Array(round.(value.(z)))"
   ]
  },
  {
   "cell_type": "code",
   "execution_count": 17,
   "metadata": {},
   "outputs": [
    {
     "data": {
      "text/plain": [
       "4×13 Matrix{Float64}:\n",
       " 35.0  50.0   0.0  50.0  50.0  57.0  60.0   0.0   0.0   0.0   0.0   0.0   0.0\n",
       " 35.0  50.0   0.0  50.0  50.0  49.0   0.0   0.0   0.0   0.0   0.0  43.0  25.0\n",
       " 35.0  50.0   0.0  50.0  50.0   0.0   0.0   0.0  49.0   0.0   0.0  43.0  25.0\n",
       "  6.0  40.0  33.0  24.0  29.0  24.0  16.0  13.0  14.0  17.0  18.0  43.0  25.0"
      ]
     },
     "execution_count": 17,
     "metadata": {},
     "output_type": "execute_result"
    }
   ],
   "source": [
    "[xᵒ[:,:,1]; d[:,1]']   # Product 1 production level/Demand"
   ]
  },
  {
   "cell_type": "code",
   "execution_count": 18,
   "metadata": {},
   "outputs": [
    {
     "data": {
      "text/plain": [
       "3×14 Matrix{Float64}:\n",
       " 0.0   0.0   0.0  0.0   0.0   0.0   8.0  …  68.0  68.0  68.0  68.0  25.0  0.0\n",
       " 0.0   0.0   0.0  0.0   0.0   0.0  49.0     49.0   0.0   0.0   0.0   0.0  0.0\n",
       " 0.0  29.0  39.0  6.0  32.0  53.0  29.0      0.0  35.0  18.0   0.0   0.0  0.0"
      ]
     },
     "execution_count": 18,
     "metadata": {},
     "output_type": "execute_result"
    }
   ],
   "source": [
    "yᵒ[:,:,1]              # Product 1 inventory levelv"
   ]
  },
  {
   "cell_type": "code",
   "execution_count": 19,
   "metadata": {},
   "outputs": [
    {
     "data": {
      "text/plain": [
       "3×13 Matrix{Float64}:\n",
       " 0.0  0.0  0.0  1.0  0.0  0.0  0.0  0.0  0.0  0.0  0.0  0.0  0.0\n",
       " 0.0  0.0  0.0  1.0  0.0  0.0  0.0  0.0  0.0  0.0  0.0  1.0  0.0\n",
       " 0.0  0.0  0.0  1.0  0.0  0.0  0.0  0.0  1.0  0.0  0.0  1.0  0.0"
      ]
     },
     "execution_count": 19,
     "metadata": {},
     "output_type": "execute_result"
    }
   ],
   "source": [
    "vᵒ[:,:,1]              # Product 1 setup indicator"
   ]
  },
  {
   "cell_type": "code",
   "execution_count": 20,
   "metadata": {},
   "outputs": [
    {
     "data": {
      "text/plain": [
       "3×13 Matrix{Float64}:\n",
       " 1.0  1.0  0.0  1.0  1.0  1.0  1.0  0.0  0.0  0.0  0.0  0.0  0.0\n",
       " 1.0  1.0  0.0  1.0  1.0  1.0  0.0  0.0  0.0  0.0  0.0  1.0  1.0\n",
       " 1.0  1.0  0.0  1.0  1.0  0.0  0.0  0.0  1.0  0.0  0.0  1.0  1.0"
      ]
     },
     "execution_count": 20,
     "metadata": {},
     "output_type": "execute_result"
    }
   ],
   "source": [
    "zᵒ[:,:,1]              # Product 1 production indicator"
   ]
  },
  {
   "cell_type": "code",
   "execution_count": 21,
   "metadata": {},
   "outputs": [
    {
     "data": {
      "text/plain": [
       "4×13 Matrix{Float64}:\n",
       "  0.0   0.0  50.0  0.0  0.0   0.0   0.0  31.0   0.0  23.0  28.0   0.0  0.0\n",
       "  0.0   0.0  38.0  0.0  0.0   0.0  12.0  31.0   0.0  23.0  28.0   0.0  0.0\n",
       "  0.0   0.0  28.0  0.0  0.0  10.0  12.0  31.0   0.0  23.0  28.0   0.0  0.0\n",
       " 17.0  14.0  17.0  4.0  7.0  10.0  12.0  18.0  13.0  23.0   8.0  17.0  3.0"
      ]
     },
     "execution_count": 21,
     "metadata": {},
     "output_type": "execute_result"
    }
   ],
   "source": [
    "[xᵒ[:,:,2]; d[:,2]']   # Product 2 production level/Demand"
   ]
  },
  {
   "cell_type": "code",
   "execution_count": 22,
   "metadata": {},
   "outputs": [
    {
     "data": {
      "text/plain": [
       "3×14 Matrix{Float64}:\n",
       "  0.0   0.0  0.0  12.0  12.0  12.0  12.0  0.0   0.0  0.0  0.0   0.0  0.0  0.0\n",
       "  0.0   0.0  0.0  10.0  10.0  10.0   0.0  0.0   0.0  0.0  0.0   0.0  0.0  0.0\n",
       " 31.0  14.0  0.0  11.0   7.0   0.0   0.0  0.0  13.0  0.0  0.0  20.0  3.0  0.0"
      ]
     },
     "execution_count": 22,
     "metadata": {},
     "output_type": "execute_result"
    }
   ],
   "source": [
    "yᵒ[:,:,2]              # Product 2 inventory level"
   ]
  },
  {
   "cell_type": "code",
   "execution_count": 23,
   "metadata": {},
   "outputs": [
    {
     "data": {
      "text/plain": [
       "3×13 Matrix{Float64}:\n",
       " 0.0  0.0  1.0  0.0  0.0  0.0  0.0  1.0  0.0  0.0  0.0  0.0  0.0\n",
       " 0.0  0.0  1.0  0.0  0.0  0.0  1.0  0.0  0.0  0.0  0.0  0.0  0.0\n",
       " 0.0  0.0  1.0  0.0  0.0  1.0  0.0  0.0  0.0  1.0  0.0  0.0  0.0"
      ]
     },
     "execution_count": 23,
     "metadata": {},
     "output_type": "execute_result"
    }
   ],
   "source": [
    "vᵒ[:,:,2]              # Product 2 setup indicator"
   ]
  },
  {
   "cell_type": "code",
   "execution_count": 24,
   "metadata": {},
   "outputs": [
    {
     "data": {
      "text/plain": [
       "3×13 Matrix{Float64}:\n",
       " 0.0  0.0  1.0  0.0  0.0  0.0  0.0  1.0  1.0  1.0  1.0  1.0  0.0\n",
       " 0.0  0.0  1.0  0.0  0.0  0.0  1.0  1.0  1.0  1.0  1.0  0.0  0.0\n",
       " 0.0  0.0  1.0  0.0  0.0  1.0  1.0  1.0  0.0  1.0  1.0  0.0  0.0"
      ]
     },
     "execution_count": 24,
     "metadata": {},
     "output_type": "execute_result"
    }
   ],
   "source": [
    "zᵒ[:,:,2]              # Product 2 production indicator"
   ]
  },
  {
   "cell_type": "code",
   "execution_count": 25,
   "metadata": {},
   "outputs": [
    {
     "data": {
      "text/plain": [
       "((3, 2), (3, 13, 2))"
      ]
     },
     "execution_count": 25,
     "metadata": {},
     "output_type": "execute_result"
    }
   ],
   "source": [
    "size(cᵖ), size(xᵒ)     # cᵖ not compatible size with xᵒ, need to reshape to (3, 1, 2)"
   ]
  },
  {
   "cell_type": "code",
   "execution_count": 26,
   "metadata": {},
   "outputs": [
    {
     "data": {
      "text/plain": [
       "(64564.00000000001, 390.92484599589324, 2360.0)"
      ]
     },
     "execution_count": 26,
     "metadata": {},
     "output_type": "execute_result"
    }
   ],
   "source": [
    "TCᵖ = sum((reshape(cᵖ,m,1,g).*xᵒ)[:])   # Reshaped cᵖ broadcast for multiplication with xᵒ\n",
    "TCⁱ = sum((reshape(cⁱ,m,1,g).*yᵒ[:,2:end,:])[:])   # First period excluded\n",
    "TCˢ = sum((reshape(cˢ,m,1,g).*vᵒ)[:])\n",
    "TCᵖ, TCⁱ, TCˢ"
   ]
  },
  {
   "cell_type": "code",
   "execution_count": 27,
   "metadata": {},
   "outputs": [
    {
     "data": {
      "text/plain": [
       "(67314.9248459959, 67314.92484599589)"
      ]
     },
     "execution_count": 27,
     "metadata": {},
     "output_type": "execute_result"
    }
   ],
   "source": [
    "TCᵖ + TCⁱ + TCˢ, TCᵒ   # Check that production, inventory, and setup costs match total cost"
   ]
  },
  {
   "cell_type": "code",
   "execution_count": null,
   "metadata": {},
   "outputs": [],
   "source": []
  }
 ],
 "metadata": {
  "kernelspec": {
   "display_name": "Julia 1.10.4",
   "language": "julia",
   "name": "julia-1.10"
  },
  "language_info": {
   "file_extension": ".jl",
   "mimetype": "application/julia",
   "name": "julia",
   "version": "1.10.4"
  }
 },
 "nbformat": 4,
 "nbformat_minor": 4
}
