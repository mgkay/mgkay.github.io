{
 "cells": [
  {
   "cell_type": "markdown",
   "metadata": {},
   "source": [
    "# 4. Networks 3: Production-Inventory Planning: Single Product\n",
    "`ISE 754, Fall 2024`\n",
    "\n",
    "__Package Used:__ No new packages used."
   ]
  },
  {
   "cell_type": "markdown",
   "metadata": {},
   "source": [
    "Production-inventory planning models are one of the main uses of mathematical programming in industry. They provide a means to make complex decisions over a rolling planning horizon. "
   ]
  },
  {
   "cell_type": "markdown",
   "metadata": {},
   "source": [
    "## 1. Single-Product with Variable Capacity: LP\n",
    "The following production-inventory LP planning model is for a single product, produced in _m_ stages with a rolling horizon of _t_ periods (e.g., months). Determining if production capacity $u_{ij}$ should be available for each period, e.g., $u_{ij} = u_i$ or $u_{ij} = 0$ is used to plan production. \n",
    "\n",
    "$ \\begin{eqnarray*}\n",
    "\\quad \\mbox{Minimize} \\quad \\sum_{i=1}^{m} \\sum_{j=1}^{t} c_i^p x_{ij} + \n",
    "\\sum_{i=1}^{m} \\sum_{j=2}^{t+1} c_i^i y_{ij} \\\\\n",
    "\\quad \\mbox{subject to} \\quad -x_{ij} + x_{(i+1)j} - y_{ij} + y_{i(j+1)} &=& 0 \\mbox{,} \n",
    "&\\quad i = 1, \\dots, m-1; j = 1, \\dots, t &\\quad (a) \\\\ \n",
    "-x_{m,j} - y_{m,j} + y_{m(j+1)} &=& d_j \\mbox{,} &\\quad j = 1, \\dots, t  &\\quad (b) \\\\\n",
    "x_{ij} &\\le& u_{ij} \\mbox{,} &\\quad i = 1, \\dots, m; j = 1, \\dots, t \\\\ \n",
    "y_{i,1} &=& y_i^0 \\mbox{,} &\\quad i = 1, \\dots, m \\\\\n",
    "y_{i(t+1)} &=& y_i^{t+1} \\mbox{,} &\\quad i = 1, \\dots, m \\\\\n",
    "x, y &\\ge& 0 \\mbox{,} \\\\\n",
    "\\end{eqnarray*} $\n",
    "\n",
    "where,\n",
    "\n",
    "$ \\begin{eqnarray*}\n",
    "\\quad m &=& \\mbox{number of production stages} \\\\\n",
    "t &=& \\mbox{number of periods of production} \\\\\n",
    "c_i^p &=& \\mbox{production cost (dollar/ton) in stage } i \\\\\n",
    "x_{ij} &=& \\mbox{production (ton) at stage } i \\mbox{ in period } j \\\\\n",
    "c_i^i &=& \\mbox{inventory cost (dollar/ton) in stage } i \\\\\n",
    "y_{ij} &=& \\mbox{stage-} i \\mbox{ inventory (ton) from period } j-1 \\mbox{ to } j \\\\\n",
    "d_j &=& \\mbox{demand (ton) in period } j \\\\\n",
    "u_{ij} &=& \\mbox{production capacity (ton) of stage } i \\mbox{ in period } j \\\\\n",
    "y_i^0 &=& \\mbox{initial inventory (ton) of stage } i \\\\\n",
    "y_i^t &=& \\mbox{final inventory (ton) of stage } i \\mbox{.} \\\\\n",
    "\\end{eqnarray*} $\n",
    "\n",
    "In the objective function, inventory costs are summed from 2 to _t_ + 1 because the period 1 initial inventory cost was accounted for in period 0 prior to period 1 (rolling horizon). Constraints (_a_) and (_b_) in the model are the flow-balance equations for each node, while the remaining constraints represent lower- and upper-bounds on the decision variables _x_ and _y_."
   ]
  },
  {
   "attachments": {
    "0f9c476f-b9db-4a55-8b4d-584dedfa5927.png": {
     "image/png": "[encoded data removed]"
    }
   },
   "cell_type": "markdown",
   "metadata": {},
   "source": [
    "### Ex: Capacity Availability as Input to Model\n",
    "A single product is produced in two stages. The planning period is three months, and the model is run each month using current demand forecasts and scheduled production capacity. In some periods, the capacity is input as zero, which indicates that it will be used for other purposes during that period. The following shows the production-inventory planning network:\n",
    "\n",
    "![image.png](attachment:0f9c476f-b9db-4a55-8b4d-584dedfa5927.png)\n",
    "\n",
    "In the following formulation, the flow-balance constraints are the only constraints in the model because the capacity constraints are handled as upper bounds on $x_{ij}$. Inventory costs $c_i^i$ can be determined by multiplying an annual inventory carrying rate, $h$, by the cummulative production cost:\n",
    "\n",
    "$ \\begin{eqnarray*}\n",
    "\\quad c_i^i &=& h\\sum_{k=1}^{i} c_k^p \\\\\n",
    "h &=& \\mbox{per-period inventory carrying rate (\\$/\\$-period) .} \\\\\n",
    "\\end{eqnarray*} $\n",
    "\n",
    "Assuming an annual inventory carrying rate of 0.3 \\\\$/\\\\$-yr, the monthly rate is $ h = 0.3/12$. The inventory cost per ton at stage _i_ is then the monthly rate times the cumulative cost to produce each ton from stage 1 through _i_:\n",
    "\n",
    "$ \\begin{eqnarray*}\n",
    "\\quad c_1^i &=& \\dfrac{0.3}{12} 200 = 5 \\\\\n",
    "c_2^i &=& \\dfrac{0.3}{12} \\bigl( 200 + 800 \\bigr) = 25\n",
    "\\end{eqnarray*} $."
   ]
  },
  {
   "cell_type": "code",
   "execution_count": 1,
   "metadata": {},
   "outputs": [
    {
     "name": "stdout",
     "output_type": "stream",
     "text": [
      "cⁱ = cumsum(cᵖ) * h = [5.0, 24.999999999999996]\n"
     ]
    },
    {
     "data": {
      "text/plain": [
       "2×4 Matrix{Float64}:\n",
       " 0.0  Inf  Inf  35.0\n",
       " 0.0  Inf  Inf   0.0"
      ]
     },
     "execution_count": 1,
     "metadata": {},
     "output_type": "execute_result"
    }
   ],
   "source": [
    "u = [50  0 50;                     # capacity of stage m in period t (ton)\n",
    "     60  0  0];\n",
    "d = [20, 10, 15]                   # demand in period t (ton)\n",
    "cᵖ = [200, 800]                    # production cost in stage m ($/ton)\n",
    "h = 0.3/12                         # monthly inventory carrying rate (1/month)\n",
    "@show cⁱ = cumsum(cᵖ)*h            # inventory cost for stage m ($/ton)\n",
    "y⁰ = [0, 0]                        # initial inventory of stage m (ton)\n",
    "yᵗ⁺¹ = [35, 0]                     # final inventory of stage m (ton)\n",
    "m = length(cᵖ)                     # number of production stages = 2\n",
    "t = length(d)                      # number of periods of production = 3\n",
    "LBʸ = [y⁰ zeros(m, t-1) yᵗ⁺¹]      # same LB and UB to fix inventory level\n",
    "UBʸ = [y⁰ fill(Inf, m, t-1) yᵗ⁺¹]"
   ]
  },
  {
   "cell_type": "code",
   "execution_count": 2,
   "metadata": {},
   "outputs": [
    {
     "data": {
      "text/latex": [
       "$$ \\begin{aligned}\n",
       "\\min\\quad & 200 x_{1,1} + 200 x_{1,2} + 200 x_{1,3} + 800 x_{2,1} + 800 x_{2,2} + 800 x_{2,3} + 5 y_{1,2} + 5 y_{1,3} + 5 y_{1,4} + 24.999999999999996 y_{2,2} + 24.999999999999996 y_{2,3} + 24.999999999999996 y_{2,4}\\\\\n",
       "\\text{Subject to} \\quad & -x_{1,1} + x_{2,1} - y_{1,1} + y_{1,2} = 0\\\\\n",
       " & -x_{1,2} + x_{2,2} - y_{1,2} + y_{1,3} = 0\\\\\n",
       " & -x_{1,3} + x_{2,3} - y_{1,3} + y_{1,4} = 0\\\\\n",
       " & -x_{2,1} - y_{2,1} + y_{2,2} = -20\\\\\n",
       " & -x_{2,2} - y_{2,2} + y_{2,3} = -10\\\\\n",
       " & -x_{2,3} - y_{2,3} + y_{2,4} = -15\\\\\n",
       " & x_{1,1} \\geq 0\\\\\n",
       " & x_{2,1} \\geq 0\\\\\n",
       " & x_{1,2} \\geq 0\\\\\n",
       " & x_{2,2} \\geq 0\\\\\n",
       " & x_{1,3} \\geq 0\\\\\n",
       " & x_{2,3} \\geq 0\\\\\n",
       " & y_{1,1} \\geq 0\\\\\n",
       " & y_{2,1} \\geq 0\\\\\n",
       " & y_{1,2} \\geq 0\\\\\n",
       " & y_{2,2} \\geq 0\\\\\n",
       " & y_{1,3} \\geq 0\\\\\n",
       " & y_{2,3} \\geq 0\\\\\n",
       " & y_{1,4} \\geq 35\\\\\n",
       " & y_{2,4} \\geq 0\\\\\n",
       " & x_{1,1} \\leq 50\\\\\n",
       " & x_{2,1} \\leq 60\\\\\n",
       " & x_{1,2} \\leq 0\\\\\n",
       " & x_{2,2} \\leq 0\\\\\n",
       " & x_{1,3} \\leq 50\\\\\n",
       " & x_{2,3} \\leq 0\\\\\n",
       " & y_{1,1} \\leq 0\\\\\n",
       " & y_{2,1} \\leq 0\\\\\n",
       " & y_{1,4} \\leq 35\\\\\n",
       " & y_{2,4} \\leq 0\\\\\n",
       "\\end{aligned} $$"
      ]
     },
     "metadata": {},
     "output_type": "display_data"
    },
    {
     "name": "stdout",
     "output_type": "stream",
     "text": [
      "OPTIMAL\n",
      "Presolve 0 (-6) rows, 0 (-14) columns and 0 (-21) elements\n",
      "Optimal - objective value 53175\n",
      "After Postsolve, objective 53175, infeasibilities - dual 0 (0), primal 0 (0)\n",
      "Optimal objective 53175 - 0 iterations time 0.002, Presolve 0.00\n"
     ]
    },
    {
     "data": {
      "text/plain": [
       "(53175.0, [45.0 0.0 35.0; 45.0 0.0 0.0], [0.0 -0.0 0.0 35.0; 0.0 25.0 15.0 0.0])"
      ]
     },
     "execution_count": 2,
     "metadata": {},
     "output_type": "execute_result"
    }
   ],
   "source": [
    "using JuMP, Cbc\n",
    "\n",
    "model = Model(Cbc.Optimizer)\n",
    "@variable(model, 0 <= x[i=1:m, j=1:t] <= u[i,j] )\n",
    "@variable(model, LBʸ[i,j] <= y[i=1:m, j=1:t+1] <= UBʸ[i,j] )\n",
    "@objective(model, Min, \n",
    "    sum(cᵖ[i]*x[i,j] for i=1:m, j=1:t ) + \n",
    "    sum(cⁱ[i]*y[i,j] for i=1:m, j=2:t+1 ) )\n",
    "# (a) flow-balance all but last stage\n",
    "@constraint(model, [i=1:m-1, j=1:t], -x[i,j] + x[i+1,j] - y[i,j] + y[i,j+1] == 0 )\n",
    "# (b) flow-balance for last stage\n",
    "@constraint(model, [j=1:t], -x[m,j] - y[m,j] + y[m,j+1] == -d[j] )\n",
    "print(model)\n",
    "set_attribute(model, \"logLevel\", 0)\n",
    "optimize!(model)\n",
    "println(solution_summary(model).termination_status)\n",
    "TCᵒ, xᵒ, yᵒ = objective_value(model), Array(value.(x)), Array(value.(y))"
   ]
  },
  {
   "attachments": {
    "a05423ab-2dc1-4afa-826d-255040b0659f.png": {
     "image/png": "[encoded data removed]"
    }
   },
   "cell_type": "markdown",
   "metadata": {},
   "source": [
    "The following shows the optimal production and inventory flows (in blue) in the production-inventory planning network. Note that the flow is balanced at each node; that is, the flow into a node equals the combined production, inventory, and demand flow out of the node.\n",
    "\n",
    "![image.png](attachment:a05423ab-2dc1-4afa-826d-255040b0659f.png)\n",
    "\n",
    "Optimal production flows (and required demands):"
   ]
  },
  {
   "cell_type": "code",
   "execution_count": 3,
   "metadata": {},
   "outputs": [
    {
     "data": {
      "text/plain": [
       "3×3 Matrix{Float64}:\n",
       " 45.0   0.0  35.0\n",
       " 45.0   0.0   0.0\n",
       " 20.0  10.0  15.0"
      ]
     },
     "execution_count": 3,
     "metadata": {},
     "output_type": "execute_result"
    }
   ],
   "source": [
    "[xᵒ; d']"
   ]
  },
  {
   "cell_type": "markdown",
   "metadata": {},
   "source": [
    "Optimal inventory flows:"
   ]
  },
  {
   "cell_type": "code",
   "execution_count": 4,
   "metadata": {},
   "outputs": [
    {
     "data": {
      "text/plain": [
       "2×4 Matrix{Float64}:\n",
       " 0.0  -0.0   0.0  35.0\n",
       " 0.0  25.0  15.0   0.0"
      ]
     },
     "execution_count": 4,
     "metadata": {},
     "output_type": "execute_result"
    }
   ],
   "source": [
    "yᵒ"
   ]
  },
  {
   "cell_type": "markdown",
   "metadata": {},
   "source": [
    "### Ex: Scheduled Maintenance\n",
    "A single product is produced in a two-stage production process. Stage one has a capacity to produce 40 tons of the product per month, and there is a cost of \\\\$200 for each ton of product produced. For stage two, capacity is 80 tons per month, and there is a cost of \\\\$800 per ton. Due to scheduled maintenance, no capacity will be available during month five for stage 1 and during months three and five for stage 2. Demand for the next six months is estimated to be 25, 15, 10, 50, 25, and 15 tons per month. Currently, five tons of material is in storage at stage 1 and 35 tons at stage 2; at the end of the planning period, ten tons of material should be in storage at stage 1 and 15 at stage 2. Up to 30 tons of material per month can be stored at each stage. Assuming that the inventory costs are \\\\$12 and \\\\$46 per ton-month, determine the production plan that minimizes total costs over the planning horizon and what the total production costs will be, and what the total inventory costs will be.\n",
    "\n",
    "_Note:_ The maximum inventory storage constraint can be modeled as an upper bound on _y_."
   ]
  },
  {
   "cell_type": "code",
   "execution_count": 5,
   "metadata": {},
   "outputs": [
    {
     "data": {
      "text/plain": [
       "2×7 Matrix{Int64}:\n",
       "  5  30  30  30  30  30  10\n",
       " 25  30  30  30  30  30  15"
      ]
     },
     "execution_count": 5,
     "metadata": {},
     "output_type": "execute_result"
    }
   ],
   "source": [
    "u = [40 40 40 40 0 40;             # capacity of each stage (ton)\n",
    "     80 80  0 80 0 80]            \n",
    "d = [25, 15, 10, 50, 25, 15]       # demand in each period (ton)\n",
    "cᵖ = [200, 800]                    # variable production cost for each stage ($/ton)\n",
    "cⁱ = [12, 46]                      # inventory cost for each stage ($/ton)\n",
    "y⁰ = [5, 25]                       # initial inventory of each stage (ton)\n",
    "yᵗ⁺¹ = [10, 15]                    # final inventory of each stage (ton)\n",
    "m = length(cᵖ)                     # number of production stages\n",
    "t = length(d)                      # number of periods of production\n",
    "LBʸ = [y⁰ zeros(m, t-1) yᵗ⁺¹]      # same LB and UB to fix inital and final inventory levels\n",
    "UBʸ = [y⁰ fill(30, m, t-1) yᵗ⁺¹]   # max inventory storage level"
   ]
  },
  {
   "cell_type": "code",
   "execution_count": 6,
   "metadata": {},
   "outputs": [
    {
     "name": "stdout",
     "output_type": "stream",
     "text": [
      "OPTIMAL\n",
      "Presolve 5 (-7) rows, 12 (-14) columns and 18 (-24) elements\n",
      "0  Obj 96109.6 Primal inf 80.099997 (4) Dual inf 992 (3)\n",
      "8  Obj 134300\n",
      "Optimal - objective value 134300\n",
      "After Postsolve, objective 134300, infeasibilities - dual 0 (0), primal 0 (0)\n",
      "Optimal objective 134300 - 8 iterations time 0.002, Presolve 0.00\n"
     ]
    },
    {
     "data": {
      "text/plain": [
       "(134300.0, [0.0 25.0 … 0.0 40.0; -0.0 30.0 … 0.0 30.0], [5.0 5.0 … 0.0 10.0; 25.0 0.0 … 0.0 15.0])"
      ]
     },
     "execution_count": 6,
     "metadata": {},
     "output_type": "execute_result"
    }
   ],
   "source": [
    "using JuMP, Cbc\n",
    "\n",
    "model = Model(Cbc.Optimizer)\n",
    "@variable(model, 0 <= x[i=1:m, j=1:t] <= u[i,j] )\n",
    "@variable(model, LBʸ[i,j] <= y[i=1:m, j=1:t+1] <= UBʸ[i,j] )\n",
    "@objective(model, Min, \n",
    "    sum(cᵖ[i]*x[i,j] for i=1:m, j=1:t ) + \n",
    "    sum(cⁱ[i]*y[i,j] for i=1:m, j=2:t+1 ) )\n",
    "# (a) flow-balance all but last stage\n",
    "@constraint(model, [i=1:m-1, j=1:t], -x[i,j] + x[i+1,j] - y[i,j] + y[i,j+1] == 0 )\n",
    "# (b) flow-balance for last stage\n",
    "@constraint(model, [j=1:t], -x[m,j] - y[m,j] + y[m,j+1] == -d[j] )\n",
    "set_attribute(model, \"logLevel\", 0)\n",
    "optimize!(model)\n",
    "println(solution_summary(model).termination_status)\n",
    "TCᵒ, xᵒ, yᵒ = objective_value(model), Array(value.(x)), Array(value.(y))"
   ]
  },
  {
   "cell_type": "markdown",
   "metadata": {},
   "source": [
    "Optimal production flows (and required demands):"
   ]
  },
  {
   "cell_type": "code",
   "execution_count": 7,
   "metadata": {},
   "outputs": [
    {
     "data": {
      "text/plain": [
       "3×6 Matrix{Float64}:\n",
       "  0.0  25.0  30.0  40.0   0.0  40.0\n",
       " -0.0  30.0   0.0  70.0   0.0  30.0\n",
       " 25.0  15.0  10.0  50.0  25.0  15.0"
      ]
     },
     "execution_count": 7,
     "metadata": {},
     "output_type": "execute_result"
    }
   ],
   "source": [
    "[xᵒ; d']"
   ]
  },
  {
   "cell_type": "markdown",
   "metadata": {},
   "source": [
    "Optimal inventory flows:"
   ]
  },
  {
   "cell_type": "code",
   "execution_count": 8,
   "metadata": {},
   "outputs": [
    {
     "data": {
      "text/plain": [
       "2×7 Matrix{Float64}:\n",
       "  5.0  5.0   0.0  30.0  -0.0  0.0  10.0\n",
       " 25.0  0.0  15.0   5.0  25.0  0.0  15.0"
      ]
     },
     "execution_count": 8,
     "metadata": {},
     "output_type": "execute_result"
    }
   ],
   "source": [
    "yᵒ"
   ]
  },
  {
   "cell_type": "markdown",
   "metadata": {},
   "source": [
    "Calculate total production cost and total inventory cost:"
   ]
  },
  {
   "cell_type": "code",
   "execution_count": 9,
   "metadata": {},
   "outputs": [
    {
     "data": {
      "text/plain": [
       "(131000.0, 4510.0)"
      ]
     },
     "execution_count": 9,
     "metadata": {},
     "output_type": "execute_result"
    }
   ],
   "source": [
    "TCᵖ, TCⁱ = sum(cᵖ.*xᵒ), sum(cⁱ.*yᵒ)"
   ]
  },
  {
   "cell_type": "markdown",
   "metadata": {},
   "source": [
    "Sum of component costs exceeds total cost from solver because it includes first-period (time 0) inventory costs:"
   ]
  },
  {
   "cell_type": "code",
   "execution_count": 10,
   "metadata": {},
   "outputs": [
    {
     "data": {
      "text/plain": [
       "(135510.0, 134300.0)"
      ]
     },
     "execution_count": 10,
     "metadata": {},
     "output_type": "execute_result"
    }
   ],
   "source": [
    "TCᵖ + TCⁱ, TCᵒ"
   ]
  },
  {
   "cell_type": "markdown",
   "metadata": {},
   "source": [
    "Exclude first period from inventory costs:"
   ]
  },
  {
   "cell_type": "code",
   "execution_count": 11,
   "metadata": {},
   "outputs": [
    {
     "data": {
      "text/plain": [
       "3300.0"
      ]
     },
     "execution_count": 11,
     "metadata": {},
     "output_type": "execute_result"
    }
   ],
   "source": [
    "TCⁱ = sum(cⁱ.*yᵒ[:,2:end])"
   ]
  },
  {
   "cell_type": "markdown",
   "metadata": {},
   "source": [
    "Total component costs now match total cost from solver:"
   ]
  },
  {
   "cell_type": "code",
   "execution_count": 12,
   "metadata": {},
   "outputs": [
    {
     "data": {
      "text/plain": [
       "(134300.0, 134300.0)"
      ]
     },
     "execution_count": 12,
     "metadata": {},
     "output_type": "execute_result"
    }
   ],
   "source": [
    "TCᵖ + TCⁱ, TCᵒ"
   ]
  },
  {
   "attachments": {},
   "cell_type": "markdown",
   "metadata": {},
   "source": [
    "## 2. Single-Product with Fixed Cost: MILP\n",
    "In the production-inventory planning model presented above, unit production costs $c^p$ are constant and the production capacity available at each stage for each period was given; as a result, the model could be solved as an LP. Now, due to scale economies associated with batch production, production costs are separated into a fixed cost, $c^k$, and a variable cost, $c^p$, and the model will include making a decision at each stage for each period regarding how much, if any, capacity is available. The capacity is assumed to be available in discrete units that are either at 100% of the unit's capacity or not available at all. Binary decision variables are used to make these decisions. This internal capacity decision requires the model to be solved as a MILP.\n",
    "\n",
    "### MILP Model\n",
    "\n",
    "$ \\begin{eqnarray*}\n",
    "\\quad \\mbox{Minimize} \\quad \\sum_{i=1}^{m} \\sum_{j=1}^{t} c_i^p x_{ij} + \n",
    "\\sum_{i=1}^{m} \\sum_{j=2}^{t+1} c_i^i y_{ij} &+& \\sum_{i=1}^{m} \\sum_{j=1}^{t} c_i^k z_{ij} \\\\\n",
    "\\quad \\mbox{subject to} \\quad -x_{ij} + x_{(i+1)j} - y_{ij} + y_{i(j+1)} &=& 0 \\mbox{,} \n",
    "&\\quad i = 1, \\dots, m-1; j = 1, \\dots, t &\\quad (a) \\\\ \n",
    "-x_{mj} - y_{mj} + y_{m(j+1)} &=& d_j \\mbox{,} &\\quad j = 1, \\dots, t  &\\quad (b) \\\\\n",
    "x_{ij} &\\le& u_{i} z_{ij} \\mbox{,} &\\quad i = 1, \\dots, m; j = 1, \\dots, t &\\quad (c) \\\\ \n",
    "y_{i,1} &=& y_i^0 \\mbox{,} &\\quad i = 1, \\dots, m \\\\\n",
    "y_{i(t+1)} &=& y_i^{t+1} \\mbox{,} &\\quad i = 1, \\dots, m \\\\\n",
    "x, y \\ge 0; z &\\in& \\bigl\\{ 0, 1 \\bigr\\} \\mbox{,} \\\\\n",
    "\\end{eqnarray*} $ \n",
    "\n",
    "where,\n",
    "\n",
    "$ \\begin{eqnarray*} \n",
    "\\quad m &=& \\mbox{number of production stages} \\\\\n",
    "t &=& \\mbox{number of periods of production} \\\\\n",
    "c_i^p &=& \\mbox{variable production cost (dollar/ton) in stage } i \\\\\n",
    "x_{ij} &=& \\mbox{production (ton) at stage } i \\mbox{ in period } j \\\\\n",
    "c_i^i &=& \\mbox{inventory cost (dollar/ton) in stage } i \\\\\n",
    "y_{ij} &=& \\mbox{stage-} i \\mbox{ inventory (ton) from period } j-1 \\mbox{ to } j \\\\\n",
    "c_i^k &=& \\mbox{fixed production cost (dollar/period) in stage } i \\\\\n",
    "z_{ij} &=& \\mbox{production indicator at stage } i \\mbox{ in period } j \\\\\n",
    "d_j &=& \\mbox{demand (ton) in period } j \\\\\n",
    "u_{i} &=& \\mbox{production capacity (ton) of stage } i \\mbox{ in period } j \\\\\n",
    "y_i^0 &=& \\mbox{initial inventory (ton) of stage } i \\\\\n",
    "y_i^{t+1} &=& \\mbox{final inventory (ton) of stage } i \\mbox{.} \\\\\n",
    "\\end{eqnarray*} $  \n",
    "\n",
    "In the objective function, inventory costs are summed from 2 to _t_ + 1 because the period 1 initial inventory cost was accounted for in period 0 prior to period 1 (rolling horizon). Constraints (_a_) and (_b_) in the model are the flow-balance equations for each node. Constraint (_c_) represents available production capacity and uses the binary variables _z_ to indicate whether production occurs.\n",
    "\n",
    "### Ex: Single-Product with Fixed Cost\n",
    "A single product is produced in a two-stage production process. Stage one has the capacity to produce 40 tons of the product per month, and there is a fixed cost of \\\\$6000 per month and a variable cost of \\\\$200 for each ton of product produced. For stage two, capacity is 80 tons per month, and there is a fixed cost of \\\\$18,000 and a variable cost of \\\\$800. The fixed costs are only incurred when any amount of production occurs at that stage for that month. Demand for the next six months is estimated to be 25, 15, 10, 50, 25, and 15 tons per month. Currently, five tons of material are in storage at stage one and 35 tons at stage two; at the end of the planning period, ten tons of material should be in storage at stage one and 15 at stage two. Up to 30 tons of material per month can be stored at each stage. Assuming that the annual inventory carrying rate is $0.4 \\mbox{ \\$/\\$-yr }$, determine the production plan that minimizes total costs over the planning horizon and what those total costs will be.\n",
    "\n",
    "The model in Section 1 above can be extended by including a production indicator binary variable to turn capacity on or off at each stage for each period. One modeling issue is determining inventory cost per ton if the production cost includes a fixed component. An approximation is to allocate the fixed cost based on capacity:\n",
    "\n",
    "$ \\quad c_i^i = h\\sum_{j=1}^{i} \\left( c_j^p + \\dfrac{c_j^k}{u_j} \\right) $\n",
    "\n",
    "The maximum inventory storage constraint can be modeled as an upper bound on _y_."
   ]
  },
  {
   "cell_type": "code",
   "execution_count": 13,
   "metadata": {},
   "outputs": [
    {
     "data": {
      "text/plain": [
       "2×7 Matrix{Int64}:\n",
       "  5  30  30  30  30  30  10\n",
       " 25  30  30  30  30  30  15"
      ]
     },
     "execution_count": 13,
     "metadata": {},
     "output_type": "execute_result"
    }
   ],
   "source": [
    "u = [40, 80]                       # capacity of each stage (ton)\n",
    "d = [25, 15, 10, 50, 25, 15]       # demand in each period (ton)\n",
    "cᵖ = [200, 800]                    # variable production cost for each stage ($/ton)\n",
    "cᵏ = [6000, 18000]                 # fixed production cost for each stage ($/month)\n",
    "h = 0.4/12                         # monthly inventory carrying rate (1/month)\n",
    "cⁱ = cumsum(cᵖ + cᵏ./u)*h          # inventory cost for each stage ($/ton)\n",
    "y⁰ = [5, 25]                       # initial inventory of each stage (ton)\n",
    "yᵗ⁺¹ = [10, 15]                    # final inventory of each stage (ton)\n",
    "m = length(u)                      # number of production stages\n",
    "t = length(d)                      # number of periods of production\n",
    "LBʸ = [y⁰ zeros(m, t-1) yᵗ⁺¹]      # same LB and UB to fix initial and final inventory levels\n",
    "UBʸ = [y⁰ fill(30, m, t-1) yᵗ⁺¹]   # max inventory storage level"
   ]
  },
  {
   "cell_type": "code",
   "execution_count": 14,
   "metadata": {},
   "outputs": [
    {
     "name": "stdout",
     "output_type": "stream",
     "text": [
      "OPTIMAL\n"
     ]
    },
    {
     "data": {
      "text/plain": [
       "(212275.0, [0.0 24.999999999999986 … 0.0 40.0; 0.0 29.999999999999986 … 0.0 29.999999999999996], [5.0 5.0 … 0.0 10.0; 25.0 0.0 … 0.0 15.0], [0.0 1.0 … 0.0 1.0; 0.0 1.0 … 0.0 1.0])"
      ]
     },
     "execution_count": 14,
     "metadata": {},
     "output_type": "execute_result"
    }
   ],
   "source": [
    "using JuMP, Cbc\n",
    "\n",
    "model = Model(Cbc.Optimizer)\n",
    "@variable(model, 0 <= x[i=1:m, j=1:t] )\n",
    "@variable(model, LBʸ[i,j] <= y[i=1:m, j=1:t+1] <= UBʸ[i,j] )\n",
    "@variable(model, z[i=1:m, j=1:t], Bin )\n",
    "@objective(model, Min, \n",
    "    sum(cᵖ[i]*x[i,j] for i=1:m, j=1:t ) + \n",
    "    sum(cⁱ[i]*y[i,j] for i=1:m, j=2:t+1 ) + \n",
    "    sum(cᵏ[i]*z[i,j] for i=1:m, j=1:t ) )\n",
    "# (a) flow-balance all but last stage\n",
    "@constraint(model, [i=1:m-1, j=1:t], -x[i,j] + x[i+1,j] - y[i,j] + y[i,j+1] == 0 )  \n",
    "# (b) flow-balance for last stage\n",
    "@constraint(model, [j=1:t], -x[m,j] - y[m,j] + y[m,j+1] == -d[j] )\n",
    "# (c) production capacity\n",
    "@constraint(model, [i=1:m, j=1:t], x[i,j] <= u[i]*z[i,j] )\n",
    "set_attribute(model, \"logLevel\", 0)\n",
    "set_attribute(model, \"seconds\", 30.0)   # Solution timeout limit\n",
    "optimize!(model)\n",
    "println(solution_summary(model).termination_status)\n",
    "TCᵒ, xᵒ, yᵒ, zᵒ = objective_value(model), \n",
    "    Array(value.(x)), Array(value.(y)), Array(round.(value.(z)))"
   ]
  },
  {
   "cell_type": "markdown",
   "metadata": {},
   "source": [
    "Optimal production flows (and required demands):"
   ]
  },
  {
   "cell_type": "code",
   "execution_count": 15,
   "metadata": {},
   "outputs": [
    {
     "data": {
      "text/plain": [
       "3×6 Matrix{Float64}:\n",
       "  0.0  25.0  30.0  40.0   0.0  40.0\n",
       "  0.0  30.0   0.0  70.0   0.0  30.0\n",
       " 25.0  15.0  10.0  50.0  25.0  15.0"
      ]
     },
     "execution_count": 15,
     "metadata": {},
     "output_type": "execute_result"
    }
   ],
   "source": [
    "[xᵒ; d']"
   ]
  },
  {
   "cell_type": "markdown",
   "metadata": {},
   "source": [
    "Optimal inventory flows:"
   ]
  },
  {
   "cell_type": "code",
   "execution_count": 16,
   "metadata": {},
   "outputs": [
    {
     "data": {
      "text/plain": [
       "2×7 Matrix{Float64}:\n",
       "  5.0  5.0   0.0  30.0   0.0  0.0  10.0\n",
       " 25.0  0.0  15.0   5.0  25.0  0.0  15.0"
      ]
     },
     "execution_count": 16,
     "metadata": {},
     "output_type": "execute_result"
    }
   ],
   "source": [
    "yᵒ"
   ]
  },
  {
   "cell_type": "markdown",
   "metadata": {},
   "source": [
    "Optimal production indicators:"
   ]
  },
  {
   "cell_type": "code",
   "execution_count": 17,
   "metadata": {},
   "outputs": [
    {
     "data": {
      "text/plain": [
       "2×6 Matrix{Float64}:\n",
       " 0.0  1.0  1.0  1.0  0.0  1.0\n",
       " 0.0  1.0  0.0  1.0  0.0  1.0"
      ]
     },
     "execution_count": 17,
     "metadata": {},
     "output_type": "execute_result"
    }
   ],
   "source": [
    "zᵒ"
   ]
  },
  {
   "cell_type": "markdown",
   "metadata": {},
   "source": [
    "Calculate total variable production, inventory, and fixed production cost components:"
   ]
  },
  {
   "cell_type": "code",
   "execution_count": 18,
   "metadata": {},
   "outputs": [
    {
     "data": {
      "text/plain": [
       "(130999.99999999999, 3274.9999999999986, 78000.0)"
      ]
     },
     "execution_count": 18,
     "metadata": {},
     "output_type": "execute_result"
    }
   ],
   "source": [
    "TCᵖ, TCⁱ, TCᵏ = sum(cᵖ.*xᵒ), sum(cⁱ.*yᵒ[:,2:end]), sum(cᵏ.*zᵒ)"
   ]
  },
  {
   "cell_type": "markdown",
   "metadata": {},
   "source": [
    "Total component costs match total cost from solver:"
   ]
  },
  {
   "cell_type": "code",
   "execution_count": 19,
   "metadata": {},
   "outputs": [
    {
     "data": {
      "text/plain": [
       "(212274.99999999997, 212275.0)"
      ]
     },
     "execution_count": 19,
     "metadata": {},
     "output_type": "execute_result"
    }
   ],
   "source": [
    "TCᵖ + TCⁱ + TCᵏ, TCᵒ"
   ]
  },
  {
   "cell_type": "code",
   "execution_count": null,
   "metadata": {},
   "outputs": [],
   "source": []
  }
 ],
 "metadata": {
  "kernelspec": {
   "display_name": "Julia 1.10.4",
   "language": "julia",
   "name": "julia-1.10"
  },
  "language_info": {
   "file_extension": ".jl",
   "mimetype": "application/julia",
   "name": "julia",
   "version": "1.10.4"
  }
 },
 "nbformat": 4,
 "nbformat_minor": 4
}
