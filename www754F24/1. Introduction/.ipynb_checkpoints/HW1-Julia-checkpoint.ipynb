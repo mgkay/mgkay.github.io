{
 "cells": [
  {
   "cell_type": "markdown",
   "metadata": {},
   "source": [
    "# HW 1: Julia \n",
    "---\n",
    "`ISE 754, Fall 2024`\n",
    "\n",
    "__Assigned:__ Wed, 21 Aug (Individual Assignment)  \n",
    "__Due:__ 10:00a, Wed, 28 Aug \n",
    "\n",
    "Please use the Code cells in this Jupyter notebook to answer the following questions. Please run all of the cells in your notebook and then submit it as an .ipynb file, along with an .html or .pdf copy, via Moodle. (There is a _Run All Cells_ command under the _Run_ menu.)\n",
    "\n",
    "---"
   ]
  },
  {
   "cell_type": "markdown",
   "metadata": {},
   "source": [
    "__(1)__ Given the array `x = [3, 1, 2, 9, 5, 4]`, provide the single command  (namely, one line of code with at most one assignment (i.e., one equals sign =)) needed to perform the following actions. Unless noted, all of the actions should not modify `x`; instead, the result of the action will just be displayed in the notebook. If `x` is modified, type `x` on a second line in the cell to display the modified `x` in full (otherwise, just the modified elements of `x` will be displayed; the modified `x` should be used for subsequent actions.\n",
    "\n",
    "(a) After first creating `x`, extract the third element from `x`"
   ]
  },
  {
   "cell_type": "code",
   "execution_count": null,
   "metadata": {},
   "outputs": [],
   "source": []
  },
  {
   "cell_type": "markdown",
   "metadata": {},
   "source": [
    "(b) Extract all but the last element from `x`"
   ]
  },
  {
   "cell_type": "code",
   "execution_count": null,
   "metadata": {},
   "outputs": [],
   "source": []
  },
  {
   "cell_type": "markdown",
   "metadata": {},
   "source": [
    "(c) Extract the first, third, first, sixth, and first element from `x`"
   ]
  },
  {
   "cell_type": "code",
   "execution_count": null,
   "metadata": {},
   "outputs": [],
   "source": []
  },
  {
   "cell_type": "markdown",
   "metadata": {},
   "source": [
    "(d) Reverse the elements of `x`"
   ]
  },
  {
   "cell_type": "code",
   "execution_count": null,
   "metadata": {},
   "outputs": [],
   "source": []
  },
  {
   "cell_type": "markdown",
   "metadata": {},
   "source": [
    "(e) Calculate the sum of all of the elements of `x`"
   ]
  },
  {
   "cell_type": "code",
   "execution_count": null,
   "metadata": {},
   "outputs": [],
   "source": []
  },
  {
   "cell_type": "markdown",
   "metadata": {},
   "source": [
    "(f) Calculate the sum from the first to the _i_ th element of `x`, for all elements 1 to _i_ in `x`"
   ]
  },
  {
   "cell_type": "code",
   "execution_count": null,
   "metadata": {},
   "outputs": [],
   "source": []
  },
  {
   "cell_type": "markdown",
   "metadata": {},
   "source": [
    "(g) Modify `x` by setting the second and sixth elements of `x` equal to zero; then type `x` on a second line in cell in order to display the result"
   ]
  },
  {
   "cell_type": "code",
   "execution_count": null,
   "metadata": {},
   "outputs": [],
   "source": []
  },
  {
   "cell_type": "markdown",
   "metadata": {},
   "source": [
    "(h) Using the result from (g), modify `x` by deleting its third element"
   ]
  },
  {
   "cell_type": "code",
   "execution_count": null,
   "metadata": {},
   "outputs": [],
   "source": []
  },
  {
   "cell_type": "markdown",
   "metadata": {},
   "source": [
    "(i) Using the result from (h), modify `x` by adding 7 to its end"
   ]
  },
  {
   "cell_type": "markdown",
   "metadata": {},
   "source": [
    "## Part 1"
   ]
  },
  {
   "cell_type": "code",
   "execution_count": null,
   "metadata": {},
   "outputs": [],
   "source": []
  },
  {
   "cell_type": "markdown",
   "metadata": {},
   "source": [
    "---\n",
    "__(2)__ Provide a single command needed to create or modify the following arrays:\n",
    "\n",
    "(a) A two-row, three-column matrix consisting of all integer zero values"
   ]
  },
  {
   "cell_type": "code",
   "execution_count": null,
   "metadata": {},
   "outputs": [],
   "source": []
  },
  {
   "cell_type": "markdown",
   "metadata": {},
   "source": [
    "(b) A 3-element array whose first element is the vector `[1, 4, 2]`, second element is the matrix `[2 5 4; 1 8 3]`, and third element is the scalar 6.5"
   ]
  },
  {
   "cell_type": "code",
   "execution_count": null,
   "metadata": {},
   "outputs": [],
   "source": []
  },
  {
   "cell_type": "markdown",
   "metadata": {},
   "source": [
    "(c) Multiply each element of the array from (b) by 2"
   ]
  },
  {
   "cell_type": "code",
   "execution_count": null,
   "metadata": {},
   "outputs": [],
   "source": []
  },
  {
   "cell_type": "markdown",
   "metadata": {},
   "source": [
    "---\n",
    "__(3)__ A chemical processing facility will operate 24 hours a day, seven days a week. As a byproduct of its operation, hazardous waste material is generated at a constant rate of 1 ton per day and will be stored until removal. The facility has contracted to have its hazardous waste removed three times per week. The truck that will be used has the capacity to remove up to 15 tons of material, but no other details regarding the contract are currently available. Estimate how many tons, on average, of the hazardous material will be in storage at the facility."
   ]
  },
  {
   "cell_type": "code",
   "execution_count": null,
   "metadata": {},
   "outputs": [],
   "source": []
  },
  {
   "cell_type": "markdown",
   "metadata": {},
   "source": [
    "---\n",
    "__(4)__ Create a function `d1` that determines the rectilinear distance between two points:\n",
    "\n",
    "$ d = \\lvert x_1 - x_2 \\rvert + \\lvert y_1 - y_2 \\rvert $ "
   ]
  },
  {
   "cell_type": "code",
   "execution_count": null,
   "metadata": {},
   "outputs": [],
   "source": []
  },
  {
   "cell_type": "markdown",
   "metadata": {},
   "source": [
    "---\n",
    "__(5)__ Create a function `sum_d2` that returns the sum of the Euclidean distances between a single point and multiple other points."
   ]
  },
  {
   "cell_type": "code",
   "execution_count": null,
   "metadata": {},
   "outputs": [],
   "source": []
  }
 ],
 "metadata": {
  "kernelspec": {
   "display_name": "Julia 1.10.4",
   "language": "julia",
   "name": "julia-1.10"
  },
  "language_info": {
   "file_extension": ".jl",
   "mimetype": "application/julia",
   "name": "julia",
   "version": "1.10.4"
  }
 },
 "nbformat": 4,
 "nbformat_minor": 4
}
