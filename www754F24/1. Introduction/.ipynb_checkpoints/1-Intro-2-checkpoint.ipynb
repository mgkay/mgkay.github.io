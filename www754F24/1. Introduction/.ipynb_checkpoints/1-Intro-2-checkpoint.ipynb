{
 "cells": [
  {
   "attachments": {},
   "cell_type": "markdown",
   "metadata": {},
   "source": [
    "# 1. Intro 2: Basic Concepts in Julia\n",
    "`ISE 754, Fall 2024`\n",
    "\n",
    "## 1. The Julia Environment\n",
    "After launching Julia, execute `using IJulia` followed by `jupyterlab()` at the command prompt to launch Jupyter in your default browser. Julia has an extensive set of built-in functions as well as additional packages that consist of functions related to more specialized topics. It can be used in two different ways: as a traditional programming environment and as an interactive calculator. In *calculator mode* (running Julia either in Jupyter or at the command prompt), the built-in and package functions provide a convenient means of performing one-off calculations and graphical plotting; in *programming mode*, running Julia in an IDE like Visual Studio Code (VS Code) with Julia extensions, provides a programming environment (editor, debugger, and profiler) that enables the user to write their own functions and scripts.\n",
    "\n",
    "## 2. Creating Arrays\n",
    "In Julia, integer and real-valued scalars are distinguished, and vectors and matrices are special 1- and 2-dimensional cases of an _n_-dimensional array:\n",
    "\n",
    "- Scalar $ n = 1 $ is an `Int64` integer variable\n",
    "- Scalar $ x = 1. $ is a `Float64` real-valued variable\n",
    "- Vector $ {\\bf{a}} = \\left[ {\\begin{array}{c} 1\\\\2\\\\3 \\end{array}} \\right] $ is a 3-element `Array{Int64,1}` 1-dimensional integer array\n",
    "- Matrix $ {\\bf{A}} = \\left[ {\\begin{array}{c}1&2&3&4\\\\5&6&7&8\\end{array}} \\right] $ is a `2×4 Array{Int64,2}` 2-dimensional integer array.\n",
    "\n",
    "Scalar variables and arrays can be created as follows (`#` is used for comments in code, _Markdown_ is used for this comment since it is in a separate non-code cell):"
   ]
  },
  {
   "cell_type": "code",
   "execution_count": 3,
   "metadata": {},
   "outputs": [
    {
     "data": {
      "text/plain": [
       "Int64"
      ]
     },
     "execution_count": 3,
     "metadata": {},
     "output_type": "execute_result"
    }
   ],
   "source": [
    "n = 1        # Integer number\n",
    "typeof(n)"
   ]
  },
  {
   "cell_type": "code",
   "execution_count": 2,
   "metadata": {},
   "outputs": [
    {
     "data": {
      "text/plain": [
       "1.0"
      ]
     },
     "execution_count": 2,
     "metadata": {},
     "output_type": "execute_result"
    }
   ],
   "source": [
    "x = 1.       # Real (or floating point) number"
   ]
  },
  {
   "cell_type": "code",
   "execution_count": 3,
   "metadata": {},
   "outputs": [
    {
     "data": {
      "text/plain": [
       "1"
      ]
     },
     "execution_count": 3,
     "metadata": {},
     "output_type": "execute_result"
    }
   ],
   "source": [
    "Int(x)       # Convert real to integer"
   ]
  },
  {
   "cell_type": "code",
   "execution_count": 4,
   "metadata": {},
   "outputs": [
    {
     "data": {
      "text/plain": [
       "1.0"
      ]
     },
     "execution_count": 4,
     "metadata": {},
     "output_type": "execute_result"
    }
   ],
   "source": [
    "Float64(n)   # Convert integer to real"
   ]
  },
  {
   "cell_type": "code",
   "execution_count": 5,
   "metadata": {},
   "outputs": [
    {
     "data": {
      "text/plain": [
       "3-element Vector{Int64}:\n",
       " 1\n",
       " 2\n",
       " 3"
      ]
     },
     "execution_count": 5,
     "metadata": {},
     "output_type": "execute_result"
    }
   ],
   "source": [
    "a = [1, 2, 3]"
   ]
  },
  {
   "cell_type": "code",
   "execution_count": 6,
   "metadata": {},
   "outputs": [
    {
     "data": {
      "text/plain": [
       "2×4 Matrix{Int64}:\n",
       " 1  2  3  4\n",
       " 5  6  7  8"
      ]
     },
     "execution_count": 6,
     "metadata": {},
     "output_type": "execute_result"
    }
   ],
   "source": [
    "A = [1 2 3 4; 5 6 7 8]"
   ]
  },
  {
   "cell_type": "markdown",
   "metadata": {},
   "source": [
    "In Julia, the case of a variable matters; e.g., the arrays `a` and `A` are different variables. The last expression in a cell is displayed. To suppress the output, end the expression with a semicolon (`;`):"
   ]
  },
  {
   "cell_type": "code",
   "execution_count": 7,
   "metadata": {},
   "outputs": [],
   "source": [
    "A = [1 2 3 4; 5 6 7 8];"
   ]
  },
  {
   "cell_type": "markdown",
   "metadata": {},
   "source": [
    "An empty array is considered a vector of type `Any` (note: since only the last expression in a cell is displayed, the macro `@show` can be used to display an expression that is not the last):"
   ]
  },
  {
   "cell_type": "code",
   "execution_count": 8,
   "metadata": {},
   "outputs": [
    {
     "name": "stdout",
     "output_type": "stream",
     "text": [
      "a = [] = Any[]\n",
      "typeof(a) = Vector{Any}\n"
     ]
    },
    {
     "data": {
      "text/plain": [
       "Any[]"
      ]
     },
     "execution_count": 8,
     "metadata": {},
     "output_type": "execute_result"
    }
   ],
   "source": [
    "@show a = []\n",
    "@show typeof(a)\n",
    "a"
   ]
  },
  {
   "cell_type": "markdown",
   "metadata": {},
   "source": [
    "The following operators and functions can be used to automatically create basic structured arrays:"
   ]
  },
  {
   "cell_type": "code",
   "execution_count": 9,
   "metadata": {},
   "outputs": [
    {
     "data": {
      "text/plain": [
       "5-element Vector{Int64}:\n",
       " 1\n",
       " 2\n",
       " 3\n",
       " 4\n",
       " 5"
      ]
     },
     "execution_count": 9,
     "metadata": {},
     "output_type": "execute_result"
    }
   ],
   "source": [
    "a = collect(1:5)\n",
    "a = [1:5;]          # Note: the ';' is used to indicate that the 5-element array should be generated"
   ]
  },
  {
   "cell_type": "code",
   "execution_count": 10,
   "metadata": {},
   "outputs": [
    {
     "data": {
      "text/plain": [
       "1-element Vector{UnitRange{Int64}}:\n",
       " 1:5"
      ]
     },
     "execution_count": 10,
     "metadata": {},
     "output_type": "execute_result"
    }
   ],
   "source": [
    "a = [1:5]"
   ]
  },
  {
   "cell_type": "markdown",
   "metadata": {},
   "source": [
    "`[1:5]` only creates a 1-element `UnitRange` variable. It is used for iteration and is efficient since `[1:50000000000000]` would also be a 1-element variable, while `[1:50000000000000;]` or `collect(1:50000000000000)` would attempt to create a vector that would likely exceed the RAM on your computer."
   ]
  },
  {
   "cell_type": "code",
   "execution_count": 11,
   "metadata": {},
   "outputs": [
    {
     "name": "stdout",
     "output_type": "stream",
     "text": [
      "typeof([1:5;]) = Vector{Int64}\n",
      "[1:5] = UnitRange{Int64}[1:5]\n"
     ]
    },
    {
     "data": {
      "text/plain": [
       "UnitRange{Int64}"
      ]
     },
     "execution_count": 11,
     "metadata": {},
     "output_type": "execute_result"
    }
   ],
   "source": [
    "@show typeof([1:5;])\n",
    "@show [1:5]            \n",
    "typeof(1:5)"
   ]
  },
  {
   "cell_type": "code",
   "execution_count": 12,
   "metadata": {},
   "outputs": [
    {
     "data": {
      "text/plain": [
       "3-element Vector{Int64}:\n",
       " 1\n",
       " 3\n",
       " 5"
      ]
     },
     "execution_count": 12,
     "metadata": {},
     "output_type": "execute_result"
    }
   ],
   "source": [
    "a = [1:2:5;]"
   ]
  },
  {
   "cell_type": "code",
   "execution_count": 13,
   "metadata": {},
   "outputs": [
    {
     "data": {
      "text/plain": [
       "5-element Vector{Int64}:\n",
       " 10\n",
       "  8\n",
       "  6\n",
       "  4\n",
       "  2"
      ]
     },
     "execution_count": 13,
     "metadata": {},
     "output_type": "execute_result"
    }
   ],
   "source": [
    "a = [10:-2:1;]"
   ]
  },
  {
   "cell_type": "code",
   "execution_count": 14,
   "metadata": {},
   "outputs": [
    {
     "data": {
      "text/plain": [
       "5-element Vector{Float64}:\n",
       " 1.0\n",
       " 1.0\n",
       " 1.0\n",
       " 1.0\n",
       " 1.0"
      ]
     },
     "execution_count": 14,
     "metadata": {},
     "output_type": "execute_result"
    }
   ],
   "source": [
    "a = ones(5)              # Default is floating point"
   ]
  },
  {
   "cell_type": "code",
   "execution_count": 110,
   "metadata": {},
   "outputs": [
    {
     "data": {
      "text/plain": [
       "5-element Vector{Int64}:\n",
       " 1\n",
       " 1\n",
       " 1\n",
       " 1\n",
       " 1"
      ]
     },
     "execution_count": 110,
     "metadata": {},
     "output_type": "execute_result"
    }
   ],
   "source": [
    "a = ones(Int, 5)        # Integer ones"
   ]
  },
  {
   "cell_type": "code",
   "execution_count": 17,
   "metadata": {},
   "outputs": [
    {
     "data": {
      "text/plain": [
       "5×1 Matrix{Float64}:\n",
       " 1.0\n",
       " 1.0\n",
       " 1.0\n",
       " 1.0\n",
       " 1.0"
      ]
     },
     "execution_count": 17,
     "metadata": {},
     "output_type": "execute_result"
    }
   ],
   "source": [
    "a = ones(5, 1)         # 5x1 is different from a 5-element array (2-D vs. 1-D)"
   ]
  },
  {
   "cell_type": "code",
   "execution_count": 18,
   "metadata": {},
   "outputs": [
    {
     "data": {
      "text/plain": [
       "5-element Vector{Float64}:\n",
       " 0.0\n",
       " 0.0\n",
       " 0.0\n",
       " 0.0\n",
       " 0.0"
      ]
     },
     "execution_count": 18,
     "metadata": {},
     "output_type": "execute_result"
    }
   ],
   "source": [
    "a = zeros(5)"
   ]
  },
  {
   "cell_type": "markdown",
   "metadata": {},
   "source": [
    "*Array comprehensions* can be used to create custom-valued arrays."
   ]
  },
  {
   "cell_type": "code",
   "execution_count": 19,
   "metadata": {},
   "outputs": [
    {
     "data": {
      "text/plain": [
       "6-element Vector{Int64}:\n",
       "  1\n",
       "  3\n",
       "  7\n",
       " 13\n",
       " 21\n",
       " 31"
      ]
     },
     "execution_count": 19,
     "metadata": {},
     "output_type": "execute_result"
    }
   ],
   "source": [
    "a = [i^2 + i + 1 for i in 0:5]"
   ]
  },
  {
   "cell_type": "markdown",
   "metadata": {},
   "source": [
    "The `rand` function generates random numbers between 0 and 1. (Each time it is run, it generates different numbers.)"
   ]
  },
  {
   "cell_type": "code",
   "execution_count": 20,
   "metadata": {},
   "outputs": [
    {
     "data": {
      "text/plain": [
       "3-element Vector{Float64}:\n",
       " 0.0029016732080523466\n",
       " 0.939772531950368\n",
       " 0.16140671757896563"
      ]
     },
     "execution_count": 20,
     "metadata": {},
     "output_type": "execute_result"
    }
   ],
   "source": [
    "a = rand(3)"
   ]
  },
  {
   "cell_type": "code",
   "execution_count": 21,
   "metadata": {},
   "outputs": [
    {
     "data": {
      "text/plain": [
       "3-element Vector{Float64}:\n",
       " 0.2739916496461332\n",
       " 0.12646758295412197\n",
       " 0.3486956748317406"
      ]
     },
     "execution_count": 21,
     "metadata": {},
     "output_type": "execute_result"
    }
   ],
   "source": [
    "b = rand(3)"
   ]
  },
  {
   "cell_type": "code",
   "execution_count": 22,
   "metadata": {},
   "outputs": [
    {
     "data": {
      "text/plain": [
       "2×3 Matrix{Float64}:\n",
       " 0.978608   0.643051  0.524561\n",
       " 0.0569324  0.378742  0.58227"
      ]
     },
     "execution_count": 22,
     "metadata": {},
     "output_type": "execute_result"
    }
   ],
   "source": [
    "B = rand(2, 3)"
   ]
  },
  {
   "cell_type": "code",
   "execution_count": 23,
   "metadata": {},
   "outputs": [
    {
     "data": {
      "text/plain": [
       "5-element Vector{Int64}:\n",
       " 11\n",
       " 78\n",
       " 84\n",
       " 56\n",
       " 56"
      ]
     },
     "execution_count": 23,
     "metadata": {},
     "output_type": "execute_result"
    }
   ],
   "source": [
    "a = rand(1:100, 5)   # Generate 5 random integers between 1 and 100"
   ]
  },
  {
   "cell_type": "markdown",
   "metadata": {},
   "source": [
    "A random permutation of the integers 1 to *n* can be generated using the `randperm(n)` function, which is in the `Random` package and `using Random` is used to load it the first time it is called: "
   ]
  },
  {
   "cell_type": "code",
   "execution_count": 24,
   "metadata": {},
   "outputs": [
    {
     "data": {
      "text/plain": [
       "5-element Vector{Int64}:\n",
       " 3\n",
       " 5\n",
       " 1\n",
       " 2\n",
       " 4"
      ]
     },
     "execution_count": 24,
     "metadata": {},
     "output_type": "execute_result"
    }
   ],
   "source": [
    "using Random\n",
    "randperm(5)"
   ]
  },
  {
   "cell_type": "markdown",
   "metadata": {},
   "source": [
    "#### List the variables currently in the workspace:"
   ]
  },
  {
   "cell_type": "code",
   "execution_count": 25,
   "metadata": {
    "scrolled": true
   },
   "outputs": [
    {
     "data": {
      "text/latex": [
       "\\begin{tabular}\n",
       "{l | r | l}\n",
       "name & size & summary \\\\\n",
       "\\hline\n",
       "A & 104 bytes & 2×4 Matrix\\{Int64\\} \\\\\n",
       "B & 88 bytes & 2×3 Matrix\\{Float64\\} \\\\\n",
       "Base &  & Module \\\\\n",
       "Core &  & Module \\\\\n",
       "Main &  & Module \\\\\n",
       "a & 80 bytes & 5-element Vector\\{Int64\\} \\\\\n",
       "b & 64 bytes & 3-element Vector\\{Float64\\} \\\\\n",
       "n & 8 bytes & Int64 \\\\\n",
       "x & 8 bytes & Float64 \\\\\n",
       "\\end{tabular}\n"
      ],
      "text/markdown": [
       "| name |      size | summary                   |\n",
       "|:---- | ---------:|:------------------------- |\n",
       "| A    | 104 bytes | 2×4 Matrix{Int64}         |\n",
       "| B    |  88 bytes | 2×3 Matrix{Float64}       |\n",
       "| Base |           | Module                    |\n",
       "| Core |           | Module                    |\n",
       "| Main |           | Module                    |\n",
       "| a    |  80 bytes | 5-element Vector{Int64}   |\n",
       "| b    |  64 bytes | 3-element Vector{Float64} |\n",
       "| n    |   8 bytes | Int64                     |\n",
       "| x    |   8 bytes | Float64                   |\n"
      ],
      "text/plain": [
       "  name      size summary                  \n",
       "  –––– ––––––––– –––––––––––––––––––––––––\n",
       "  A    104 bytes 2×4 Matrix{Int64}        \n",
       "  B     88 bytes 2×3 Matrix{Float64}      \n",
       "  Base           Module                   \n",
       "  Core           Module                   \n",
       "  Main           Module                   \n",
       "  a     80 bytes 5-element Vector{Int64}  \n",
       "  b     64 bytes 3-element Vector{Float64}\n",
       "  n      8 bytes Int64                    \n",
       "  x      8 bytes Float64                  "
      ]
     },
     "execution_count": 25,
     "metadata": {},
     "output_type": "execute_result"
    }
   ],
   "source": [
    "varinfo()"
   ]
  },
  {
   "cell_type": "markdown",
   "metadata": {},
   "source": [
    "Variables cannot be removed from the worspace and, instead, can be set equal to `nothing` to that the memory they were using is freed:"
   ]
  },
  {
   "cell_type": "code",
   "execution_count": 26,
   "metadata": {},
   "outputs": [
    {
     "data": {
      "text/latex": [
       "\\begin{tabular}\n",
       "{l | r | l}\n",
       "name & size & summary \\\\\n",
       "\\hline\n",
       "A & 0 bytes & Nothing \\\\\n",
       "B & 88 bytes & 2×3 Matrix\\{Float64\\} \\\\\n",
       "Base &  & Module \\\\\n",
       "Core &  & Module \\\\\n",
       "Main &  & Module \\\\\n",
       "a & 0 bytes & Nothing \\\\\n",
       "b & 64 bytes & 3-element Vector\\{Float64\\} \\\\\n",
       "n & 8 bytes & Int64 \\\\\n",
       "x & 8 bytes & Float64 \\\\\n",
       "\\end{tabular}\n"
      ],
      "text/markdown": [
       "| name |     size | summary                   |\n",
       "|:---- | --------:|:------------------------- |\n",
       "| A    |  0 bytes | Nothing                   |\n",
       "| B    | 88 bytes | 2×3 Matrix{Float64}       |\n",
       "| Base |          | Module                    |\n",
       "| Core |          | Module                    |\n",
       "| Main |          | Module                    |\n",
       "| a    |  0 bytes | Nothing                   |\n",
       "| b    | 64 bytes | 3-element Vector{Float64} |\n",
       "| n    |  8 bytes | Int64                     |\n",
       "| x    |  8 bytes | Float64                   |\n"
      ],
      "text/plain": [
       "  name     size summary                  \n",
       "  –––– –––––––– –––––––––––––––––––––––––\n",
       "  A     0 bytes Nothing                  \n",
       "  B    88 bytes 2×3 Matrix{Float64}      \n",
       "  Base          Module                   \n",
       "  Core          Module                   \n",
       "  Main          Module                   \n",
       "  a     0 bytes Nothing                  \n",
       "  b    64 bytes 3-element Vector{Float64}\n",
       "  n     8 bytes Int64                    \n",
       "  x     8 bytes Float64                  "
      ]
     },
     "execution_count": 26,
     "metadata": {},
     "output_type": "execute_result"
    }
   ],
   "source": [
    "A = nothing\n",
    "a = nothing\n",
    "varinfo()"
   ]
  },
  {
   "cell_type": "markdown",
   "metadata": {},
   "source": [
    "## 3. Selecting Array Elements\n",
    "In Julia, indices or *index arrays* inside of square brackets are used to select elements of an array.\n",
    "#### 1-D array:"
   ]
  },
  {
   "cell_type": "code",
   "execution_count": 27,
   "metadata": {},
   "outputs": [
    {
     "data": {
      "text/plain": [
       "12"
      ]
     },
     "execution_count": 27,
     "metadata": {},
     "output_type": "execute_result"
    }
   ],
   "source": [
    "a = [10:15;]\n",
    "a[3]            # Select single element"
   ]
  },
  {
   "cell_type": "code",
   "execution_count": 28,
   "metadata": {},
   "outputs": [
    {
     "data": {
      "text/plain": [
       "2-element Vector{Int64}:\n",
       " 11\n",
       " 13"
      ]
     },
     "execution_count": 28,
     "metadata": {},
     "output_type": "execute_result"
    }
   ],
   "source": [
    "a[[2, 4]]        # Select multiple elements"
   ]
  },
  {
   "cell_type": "code",
   "execution_count": 29,
   "metadata": {},
   "outputs": [
    {
     "data": {
      "text/plain": [
       "2-element Vector{Int64}:\n",
       " 11\n",
       " 13"
      ]
     },
     "execution_count": 29,
     "metadata": {},
     "output_type": "execute_result"
    }
   ],
   "source": [
    "idx = [2, 4]    # Use index array\n",
    "a[idx]"
   ]
  },
  {
   "cell_type": "code",
   "execution_count": 30,
   "metadata": {},
   "outputs": [
    {
     "data": {
      "text/plain": [
       "3-element Vector{Float64}:\n",
       " 0.32597672886359486\n",
       " 0.5490511363155669\n",
       " 0.21858665481883066"
      ]
     },
     "execution_count": 30,
     "metadata": {},
     "output_type": "execute_result"
    }
   ],
   "source": [
    "using Random\n",
    "Random.seed!(1234)    # Set seed to allow replication\n",
    "x = rand(3)           # Array of random values"
   ]
  },
  {
   "cell_type": "code",
   "execution_count": 31,
   "metadata": {},
   "outputs": [
    {
     "data": {
      "text/plain": [
       "0.32597672886359486"
      ]
     },
     "execution_count": 31,
     "metadata": {},
     "output_type": "execute_result"
    }
   ],
   "source": [
    "x[1]"
   ]
  },
  {
   "cell_type": "code",
   "execution_count": 32,
   "metadata": {},
   "outputs": [
    {
     "data": {
      "text/plain": [
       "1-element Vector{Float64}:\n",
       " 0.32597672886359486"
      ]
     },
     "execution_count": 32,
     "metadata": {},
     "output_type": "execute_result"
    }
   ],
   "source": [
    "Random.seed!(1234)\n",
    "x = rand(1)           # Want single random value, but returned as 1-element array"
   ]
  },
  {
   "cell_type": "code",
   "execution_count": 33,
   "metadata": {},
   "outputs": [
    {
     "data": {
      "text/plain": [
       "0.32597672886359486"
      ]
     },
     "execution_count": 33,
     "metadata": {},
     "output_type": "execute_result"
    }
   ],
   "source": [
    "Random.seed!(1234)\n",
    "x = rand(1)[]         # Returned as single value"
   ]
  },
  {
   "cell_type": "markdown",
   "metadata": {},
   "source": [
    "#### 2-D arrays\n",
    "The colon operator `:` is used to select an entire row or column:"
   ]
  },
  {
   "cell_type": "code",
   "execution_count": 34,
   "metadata": {},
   "outputs": [
    {
     "data": {
      "text/plain": [
       "2×4 Matrix{Int64}:\n",
       " 1  2  3  4\n",
       " 5  6  7  8"
      ]
     },
     "execution_count": 34,
     "metadata": {},
     "output_type": "execute_result"
    }
   ],
   "source": [
    "A = [1 2 3 4; 5 6 7 8]\n",
    "A[:, :]"
   ]
  },
  {
   "cell_type": "code",
   "execution_count": 35,
   "metadata": {},
   "outputs": [
    {
     "data": {
      "text/plain": [
       "2"
      ]
     },
     "execution_count": 35,
     "metadata": {},
     "output_type": "execute_result"
    }
   ],
   "source": [
    "A[1, 2]        # Select single element"
   ]
  },
  {
   "cell_type": "code",
   "execution_count": 36,
   "metadata": {},
   "outputs": [
    {
     "data": {
      "text/plain": [
       "4-element Vector{Int64}:\n",
       " 1\n",
       " 2\n",
       " 3\n",
       " 4"
      ]
     },
     "execution_count": 36,
     "metadata": {},
     "output_type": "execute_result"
    }
   ],
   "source": [
    "A[1, :]        # Select single row"
   ]
  },
  {
   "cell_type": "code",
   "execution_count": 37,
   "metadata": {},
   "outputs": [
    {
     "data": {
      "text/plain": [
       "2-element Vector{Int64}:\n",
       " 1\n",
       " 5"
      ]
     },
     "execution_count": 37,
     "metadata": {},
     "output_type": "execute_result"
    }
   ],
   "source": [
    "A[:, 1]        # Select single column"
   ]
  },
  {
   "cell_type": "code",
   "execution_count": 38,
   "metadata": {},
   "outputs": [
    {
     "data": {
      "text/plain": [
       "2×2 Matrix{Int64}:\n",
       " 1  3\n",
       " 5  7"
      ]
     },
     "execution_count": 38,
     "metadata": {},
     "output_type": "execute_result"
    }
   ],
   "source": [
    "A[:, [1,3]]    # Select two columns"
   ]
  },
  {
   "cell_type": "markdown",
   "metadata": {},
   "source": [
    "The vector $ \\left[ {\\begin{array}{c} 1,3 \\end{array}} \\right] $ is an index array, where each element corresponds to a column index number of the original matrix **A**. The keyword `end` can be used to indicate the last row or column:"
   ]
  },
  {
   "cell_type": "code",
   "execution_count": 39,
   "metadata": {},
   "outputs": [
    {
     "data": {
      "text/plain": [
       "2-element Vector{Int64}:\n",
       " 4\n",
       " 8"
      ]
     },
     "execution_count": 39,
     "metadata": {},
     "output_type": "execute_result"
    }
   ],
   "source": [
    "A[:, end]"
   ]
  },
  {
   "cell_type": "code",
   "execution_count": 40,
   "metadata": {},
   "outputs": [
    {
     "data": {
      "text/plain": [
       "2-element Vector{Int64}:\n",
       " 3\n",
       " 7"
      ]
     },
     "execution_count": 40,
     "metadata": {},
     "output_type": "execute_result"
    }
   ],
   "source": [
    "A[:, end-1]"
   ]
  },
  {
   "cell_type": "markdown",
   "metadata": {},
   "source": [
    "The selected portion of the one array can be assigned to a new array:"
   ]
  },
  {
   "cell_type": "code",
   "execution_count": 41,
   "metadata": {},
   "outputs": [
    {
     "data": {
      "text/plain": [
       "2×2 Matrix{Int64}:\n",
       " 3  4\n",
       " 7  8"
      ]
     },
     "execution_count": 41,
     "metadata": {},
     "output_type": "execute_result"
    }
   ],
   "source": [
    "B = A[:, 3:end]"
   ]
  },
  {
   "cell_type": "markdown",
   "metadata": {},
   "source": [
    "## 4. Changing an Array\n",
    "### Change elements of array:\n",
    "Elements of an array can be changed by selecting a portion of an array as the left-hand-side target of an assignment statement:"
   ]
  },
  {
   "cell_type": "code",
   "execution_count": 42,
   "metadata": {},
   "outputs": [
    {
     "data": {
      "text/plain": [
       "5-element Vector{Int64}:\n",
       " 1\n",
       " 2\n",
       " 3\n",
       " 4\n",
       " 5"
      ]
     },
     "execution_count": 42,
     "metadata": {},
     "output_type": "execute_result"
    }
   ],
   "source": [
    "a = [1:5;]"
   ]
  },
  {
   "cell_type": "code",
   "execution_count": 43,
   "metadata": {},
   "outputs": [
    {
     "data": {
      "text/plain": [
       "6"
      ]
     },
     "execution_count": 43,
     "metadata": {},
     "output_type": "execute_result"
    }
   ],
   "source": [
    "a[2] = 6"
   ]
  },
  {
   "cell_type": "markdown",
   "metadata": {},
   "source": [
    "__Note:__ Just the modified element of `a` is displayed. Type `a` on a second line in the cell to display the modified `a` in full:"
   ]
  },
  {
   "cell_type": "code",
   "execution_count": 44,
   "metadata": {},
   "outputs": [
    {
     "data": {
      "text/plain": [
       "5-element Vector{Int64}:\n",
       " 1\n",
       " 6\n",
       " 3\n",
       " 4\n",
       " 5"
      ]
     },
     "execution_count": 44,
     "metadata": {},
     "output_type": "execute_result"
    }
   ],
   "source": [
    "a[2] = 6\n",
    "a"
   ]
  },
  {
   "cell_type": "markdown",
   "metadata": {},
   "source": [
    "Assign a value to multiple locations:"
   ]
  },
  {
   "cell_type": "code",
   "execution_count": 45,
   "metadata": {},
   "outputs": [
    {
     "ename": "LoadError",
     "evalue": "ArgumentError: indexed assignment with a single value to possibly many locations is not supported; perhaps use broadcasting `.=` instead?",
     "output_type": "error",
     "traceback": [
      "ArgumentError: indexed assignment with a single value to possibly many locations is not supported; perhaps use broadcasting `.=` instead?",
      "",
      "Stacktrace:",
      " [1] setindex_shape_check(::Int64, ::Int64)",
      "   @ Base .\\indices.jl:261",
      " [2] _unsafe_setindex!(::IndexLinear, A::Vector{Int64}, x::Int64, I::Vector{Int64})",
      "   @ Base .\\multidimensional.jl:953",
      " [3] _setindex!",
      "   @ .\\multidimensional.jl:944 [inlined]",
      " [4] setindex!(A::Vector{Int64}, v::Int64, I::Vector{Int64})",
      "   @ Base .\\abstractarray.jl:1396",
      " [5] top-level scope",
      "   @ In[45]:1"
     ]
    }
   ],
   "source": [
    "a[[1, 3]] = 0    # Error: need to use dot so that assignment is made to multiple elements in array"
   ]
  },
  {
   "attachments": {
    "3a3450d6-9218-4a72-953b-77a597f6c211.png": {
     "image/png": "[encoded data removed]"
    }
   },
   "cell_type": "markdown",
   "metadata": {},
   "source": [
    "![image.png](attachment:3a3450d6-9218-4a72-953b-77a597f6c211.png)\n",
    "\n",
    "#### Why all the dots?"
   ]
  },
  {
   "cell_type": "code",
   "execution_count": 46,
   "metadata": {},
   "outputs": [
    {
     "data": {
      "text/plain": [
       "5-element Vector{Int64}:\n",
       " 0\n",
       " 6\n",
       " 0\n",
       " 4\n",
       " 5"
      ]
     },
     "execution_count": 46,
     "metadata": {},
     "output_type": "execute_result"
    }
   ],
   "source": [
    "a[[1, 3]] .= 0    # Note: '.=' is used instead of '=' to assign to mulitple locations\n",
    "a"
   ]
  },
  {
   "cell_type": "code",
   "execution_count": 47,
   "metadata": {},
   "outputs": [
    {
     "data": {
      "text/plain": [
       "5-element Vector{Int64}:\n",
       " 7\n",
       " 6\n",
       " 8\n",
       " 4\n",
       " 5"
      ]
     },
     "execution_count": 47,
     "metadata": {},
     "output_type": "execute_result"
    }
   ],
   "source": [
    "a[[1, 3]] .= [7,8]\n",
    "a"
   ]
  },
  {
   "cell_type": "code",
   "execution_count": 48,
   "metadata": {},
   "outputs": [
    {
     "data": {
      "text/plain": [
       "2×4 Matrix{Int64}:\n",
       " 1  100  3  4\n",
       " 5    6  7  8"
      ]
     },
     "execution_count": 48,
     "metadata": {},
     "output_type": "execute_result"
    }
   ],
   "source": [
    "A[1, 2] = 100\n",
    "A"
   ]
  },
  {
   "cell_type": "markdown",
   "metadata": {},
   "source": [
    "### Delete selected array elements:"
   ]
  },
  {
   "cell_type": "code",
   "execution_count": 49,
   "metadata": {},
   "outputs": [
    {
     "data": {
      "text/plain": [
       "4-element Vector{Int64}:\n",
       " 1\n",
       " 2\n",
       " 4\n",
       " 5"
      ]
     },
     "execution_count": 49,
     "metadata": {},
     "output_type": "execute_result"
    }
   ],
   "source": [
    "a = [1:5;]\n",
    "deleteat!(a, 3)    # Note: the \"!\" at end of function name is used to signify that the values of input\n",
    "a                 #       variables are changed by the function (don't need to assign output)"
   ]
  },
  {
   "cell_type": "code",
   "execution_count": 50,
   "metadata": {},
   "outputs": [
    {
     "data": {
      "text/plain": [
       "2-element Vector{Int64}:\n",
       " 2\n",
       " 4"
      ]
     },
     "execution_count": 50,
     "metadata": {},
     "output_type": "execute_result"
    }
   ],
   "source": [
    "deleteat!(a,[1,4])\n",
    "a"
   ]
  },
  {
   "cell_type": "markdown",
   "metadata": {},
   "source": [
    "Delete and return last element:"
   ]
  },
  {
   "cell_type": "code",
   "execution_count": 51,
   "metadata": {},
   "outputs": [
    {
     "name": "stdout",
     "output_type": "stream",
     "text": [
      "b = pop!(a) = 5\n"
     ]
    },
    {
     "data": {
      "text/plain": [
       "4-element Vector{Int64}:\n",
       " 1\n",
       " 2\n",
       " 3\n",
       " 4"
      ]
     },
     "execution_count": 51,
     "metadata": {},
     "output_type": "execute_result"
    }
   ],
   "source": [
    "a = [1:5;]\n",
    "@show b = pop!(a)\n",
    "a"
   ]
  },
  {
   "cell_type": "code",
   "execution_count": 52,
   "metadata": {},
   "outputs": [
    {
     "name": "stdout",
     "output_type": "stream",
     "text": [
      "b = popfirst!(a) = 1\n"
     ]
    },
    {
     "data": {
      "text/plain": [
       "3-element Vector{Int64}:\n",
       " 2\n",
       " 3\n",
       " 4"
      ]
     },
     "execution_count": 52,
     "metadata": {},
     "output_type": "execute_result"
    }
   ],
   "source": [
    "@show b = popfirst!(a)     # Delete and return first element\n",
    "a"
   ]
  },
  {
   "cell_type": "markdown",
   "metadata": {},
   "source": [
    "### Insert selected array elements:"
   ]
  },
  {
   "cell_type": "code",
   "execution_count": 53,
   "metadata": {},
   "outputs": [
    {
     "name": "stdout",
     "output_type": "stream",
     "text": [
      "a = [3:5;] = [3, 4, 5]\n"
     ]
    },
    {
     "data": {
      "text/plain": [
       "4-element Vector{Int64}:\n",
       " 3\n",
       " 8\n",
       " 4\n",
       " 5"
      ]
     },
     "execution_count": 53,
     "metadata": {},
     "output_type": "execute_result"
    }
   ],
   "source": [
    "@show a = [3:5;]\n",
    "insert!(a, 2, 8)        # Insert scalar value 8 into array at location 2"
   ]
  },
  {
   "cell_type": "code",
   "execution_count": 54,
   "metadata": {},
   "outputs": [
    {
     "data": {
      "text/plain": [
       "5-element Vector{Int64}:\n",
       " 3\n",
       " 8\n",
       " 4\n",
       " 5\n",
       " 6"
      ]
     },
     "execution_count": 54,
     "metadata": {},
     "output_type": "execute_result"
    }
   ],
   "source": [
    "push!(a, 6)            # Insert 6 at end of array "
   ]
  },
  {
   "cell_type": "code",
   "execution_count": 55,
   "metadata": {},
   "outputs": [
    {
     "data": {
      "text/plain": [
       "6-element Vector{Int64}:\n",
       " 7\n",
       " 3\n",
       " 8\n",
       " 4\n",
       " 5\n",
       " 6"
      ]
     },
     "execution_count": 55,
     "metadata": {},
     "output_type": "execute_result"
    }
   ],
   "source": [
    "pushfirst!(a, 7)       # Insert 7 at beginning of array"
   ]
  },
  {
   "cell_type": "code",
   "execution_count": 56,
   "metadata": {},
   "outputs": [
    {
     "name": "stdout",
     "output_type": "stream",
     "text": [
      "b = [10:12;] = [10, 11, 12]\n"
     ]
    },
    {
     "data": {
      "text/plain": [
       "9-element Vector{Int64}:\n",
       "  7\n",
       "  3\n",
       "  8\n",
       "  4\n",
       "  5\n",
       "  6\n",
       " 10\n",
       " 11\n",
       " 12"
      ]
     },
     "execution_count": 56,
     "metadata": {},
     "output_type": "execute_result"
    }
   ],
   "source": [
    "@show b = [10:12;]\n",
    "append!(a, b)          # Append another array to end of array "
   ]
  },
  {
   "cell_type": "code",
   "execution_count": 57,
   "metadata": {},
   "outputs": [
    {
     "data": {
      "text/plain": [
       "12-element Vector{Int64}:\n",
       "  7\n",
       "  3\n",
       "  8\n",
       "  4\n",
       "  5\n",
       "  6\n",
       " 10\n",
       " 11\n",
       " 12\n",
       "  1\n",
       "  1\n",
       "  1"
      ]
     },
     "execution_count": 57,
     "metadata": {},
     "output_type": "execute_result"
    }
   ],
   "source": [
    "c = ones(3)\n",
    "append!(a,c)          # Append another array to end of array "
   ]
  },
  {
   "cell_type": "markdown",
   "metadata": {},
   "source": [
    "## 5. Multiplication and Addition\n",
    "### Scalar and array\n",
    "A scalar can be added to or multiplied with each element of an array; e.g.,"
   ]
  },
  {
   "cell_type": "code",
   "execution_count": 58,
   "metadata": {},
   "outputs": [
    {
     "ename": "LoadError",
     "evalue": "MethodError: no method matching +(::Int64, ::Vector{Int64})\nFor element-wise addition, use broadcasting with dot syntax: scalar .+ array\n\n\u001b[0mClosest candidates are:\n\u001b[0m  +(::Any, ::Any, \u001b[91m::Any\u001b[39m, \u001b[91m::Any...\u001b[39m)\n\u001b[0m\u001b[90m   @\u001b[39m \u001b[90mBase\u001b[39m \u001b[90m\u001b[4moperators.jl:587\u001b[24m\u001b[39m\n\u001b[0m  +(::Real, \u001b[91m::Complex{Bool}\u001b[39m)\n\u001b[0m\u001b[90m   @\u001b[39m \u001b[90mBase\u001b[39m \u001b[90m\u001b[4mcomplex.jl:319\u001b[24m\u001b[39m\n\u001b[0m  +(\u001b[91m::Array\u001b[39m, ::Array...)\n\u001b[0m\u001b[90m   @\u001b[39m \u001b[90mBase\u001b[39m \u001b[90m\u001b[4marraymath.jl:12\u001b[24m\u001b[39m\n\u001b[0m  ...\n",
     "output_type": "error",
     "traceback": [
      "MethodError: no method matching +(::Int64, ::Vector{Int64})\nFor element-wise addition, use broadcasting with dot syntax: scalar .+ array\n\n\u001b[0mClosest candidates are:\n\u001b[0m  +(::Any, ::Any, \u001b[91m::Any\u001b[39m, \u001b[91m::Any...\u001b[39m)\n\u001b[0m\u001b[90m   @\u001b[39m \u001b[90mBase\u001b[39m \u001b[90m\u001b[4moperators.jl:587\u001b[24m\u001b[39m\n\u001b[0m  +(::Real, \u001b[91m::Complex{Bool}\u001b[39m)\n\u001b[0m\u001b[90m   @\u001b[39m \u001b[90mBase\u001b[39m \u001b[90m\u001b[4mcomplex.jl:319\u001b[24m\u001b[39m\n\u001b[0m  +(\u001b[91m::Array\u001b[39m, ::Array...)\n\u001b[0m\u001b[90m   @\u001b[39m \u001b[90mBase\u001b[39m \u001b[90m\u001b[4marraymath.jl:12\u001b[24m\u001b[39m\n\u001b[0m  ...\n",
      "",
      "Stacktrace:",
      " [1] top-level scope",
      "   @ In[58]:2"
     ]
    }
   ],
   "source": [
    "a = [1:4;]\n",
    "2 + a                 # Error: '+' used instead of '.+'"
   ]
  },
  {
   "cell_type": "code",
   "execution_count": 59,
   "metadata": {},
   "outputs": [
    {
     "data": {
      "text/plain": [
       "4-element Vector{Int64}:\n",
       " 3\n",
       " 4\n",
       " 5\n",
       " 6"
      ]
     },
     "execution_count": 59,
     "metadata": {},
     "output_type": "execute_result"
    }
   ],
   "source": [
    "2 .+ a        # Note: '.+' is used instead of '+'"
   ]
  },
  {
   "cell_type": "markdown",
   "metadata": {},
   "source": [
    "__Broadcasting:__ Automatically expanding a value to have a *compatible size* another; e.g.,\n",
    "\n",
    " 2 .+ a == [2, 2, 2, 2] + a"
   ]
  },
  {
   "cell_type": "code",
   "execution_count": 60,
   "metadata": {},
   "outputs": [
    {
     "data": {
      "text/plain": [
       "4-element Vector{Int64}:\n",
       " 3\n",
       " 4\n",
       " 5\n",
       " 6"
      ]
     },
     "execution_count": 60,
     "metadata": {},
     "output_type": "execute_result"
    }
   ],
   "source": [
    "[2, 2, 2, 2] + a"
   ]
  },
  {
   "cell_type": "code",
   "execution_count": 61,
   "metadata": {},
   "outputs": [
    {
     "data": {
      "text/plain": [
       "4-element Vector{Int64}:\n",
       " 2\n",
       " 4\n",
       " 6\n",
       " 8"
      ]
     },
     "execution_count": 61,
     "metadata": {},
     "output_type": "execute_result"
    }
   ],
   "source": [
    "b = 2 * a     # Note: '*' OK for multiplication; reason?, see next cell"
   ]
  },
  {
   "cell_type": "code",
   "execution_count": 62,
   "metadata": {},
   "outputs": [
    {
     "data": {
      "text/plain": [
       "4-element Vector{Int64}:\n",
       " 2\n",
       " 4\n",
       " 6\n",
       " 8"
      ]
     },
     "execution_count": 62,
     "metadata": {},
     "output_type": "execute_result"
    }
   ],
   "source": [
    "b = 2a        # Don't need '*' if multipying a number and variable"
   ]
  },
  {
   "cell_type": "markdown",
   "metadata": {},
   "source": [
    "---\n",
    "#### __Question 1.2.1__\n",
    "What is the value of `b`?\n",
    "\n",
    "    a = [1:3;]\n",
    "    3 .+ a\n",
    "    b = 4a\n",
    "\n",
    "(a) `b = [4, 8, 12]`\n",
    "\n",
    "(b) `b = [16, 20, 24]`\n",
    "\n",
    "(c) `b = [12, 24, 36]`\n",
    "\n",
    "(d) `b = [7, 11, 15]`\n",
    "\n",
    "---"
   ]
  },
  {
   "cell_type": "markdown",
   "metadata": {},
   "source": [
    "### Summation\n",
    "The elements of a single array can be added together using\n",
    "the `sum` and `cumsum` functions."
   ]
  },
  {
   "cell_type": "code",
   "execution_count": 63,
   "metadata": {},
   "outputs": [
    {
     "name": "stdout",
     "output_type": "stream",
     "text": [
      "a = [1:5;] = [1, 2, 3, 4, 5]\n"
     ]
    },
    {
     "data": {
      "text/plain": [
       "15"
      ]
     },
     "execution_count": 63,
     "metadata": {},
     "output_type": "execute_result"
    }
   ],
   "source": [
    "@show a = [1:5;]\n",
    "sum(a)               # (Array summation)"
   ]
  },
  {
   "cell_type": "code",
   "execution_count": 64,
   "metadata": {},
   "outputs": [
    {
     "data": {
      "text/plain": [
       "5-element Vector{Int64}:\n",
       "  1\n",
       "  3\n",
       "  6\n",
       " 10\n",
       " 15"
      ]
     },
     "execution_count": 64,
     "metadata": {},
     "output_type": "execute_result"
    }
   ],
   "source": [
    "cumsum(a)            # (Cumulative summation)"
   ]
  },
  {
   "cell_type": "markdown",
   "metadata": {},
   "source": [
    "By default, Julia sums all the elements in a matrix. To sum each row or column of a matrix, the dimension must be specified:"
   ]
  },
  {
   "cell_type": "code",
   "execution_count": 65,
   "metadata": {},
   "outputs": [
    {
     "data": {
      "text/plain": [
       "28"
      ]
     },
     "execution_count": 65,
     "metadata": {},
     "output_type": "execute_result"
    }
   ],
   "source": [
    "A = [1 3 4; 5 7 8]\n",
    "sum(A)               # (Sum entire matrix)"
   ]
  },
  {
   "cell_type": "code",
   "execution_count": 66,
   "metadata": {},
   "outputs": [
    {
     "data": {
      "text/plain": [
       "1×3 Matrix{Int64}:\n",
       " 6  10  12"
      ]
     },
     "execution_count": 66,
     "metadata": {},
     "output_type": "execute_result"
    }
   ],
   "source": [
    "sum(A, dims = 1)     # (Sum along columns)"
   ]
  },
  {
   "cell_type": "code",
   "execution_count": 67,
   "metadata": {},
   "outputs": [
    {
     "data": {
      "text/plain": [
       "2×1 Matrix{Int64}:\n",
       "  8\n",
       " 20"
      ]
     },
     "execution_count": 67,
     "metadata": {},
     "output_type": "execute_result"
    }
   ],
   "source": [
    "sum(A, dims = 2)     # (Sum along rows)"
   ]
  },
  {
   "cell_type": "markdown",
   "metadata": {},
   "source": [
    "# 6. Tuples\n",
    "Arrays gain much of their utility because they are **mutable**, allowing elements to be easily added or deleted. *Tuples* are similar to arrays except that they are **immutable**: once defined, they can not be changed. This can be useful because it allows Julia to more efficiently process tuples because they're guaranteed not to change."
   ]
  },
  {
   "cell_type": "code",
   "execution_count": 68,
   "metadata": {},
   "outputs": [
    {
     "data": {
      "text/plain": [
       "(6, 1, 4)"
      ]
     },
     "execution_count": 68,
     "metadata": {},
     "output_type": "execute_result"
    }
   ],
   "source": [
    "t = (6, 1, 4)        # 3-tuple"
   ]
  },
  {
   "cell_type": "code",
   "execution_count": 69,
   "metadata": {},
   "outputs": [
    {
     "data": {
      "text/plain": [
       "Tuple{Int64, Int64, Int64}"
      ]
     },
     "execution_count": 69,
     "metadata": {},
     "output_type": "execute_result"
    }
   ],
   "source": [
    "typeof(t)"
   ]
  },
  {
   "cell_type": "code",
   "execution_count": 70,
   "metadata": {},
   "outputs": [
    {
     "data": {
      "text/plain": [
       "1"
      ]
     },
     "execution_count": 70,
     "metadata": {},
     "output_type": "execute_result"
    }
   ],
   "source": [
    "t[2]                 # Access second element"
   ]
  },
  {
   "cell_type": "code",
   "execution_count": 71,
   "metadata": {},
   "outputs": [
    {
     "ename": "LoadError",
     "evalue": "MethodError: no method matching setindex!(::Tuple{Int64, Int64, Int64}, ::Int64, ::Int64)",
     "output_type": "error",
     "traceback": [
      "MethodError: no method matching setindex!(::Tuple{Int64, Int64, Int64}, ::Int64, ::Int64)",
      "",
      "Stacktrace:",
      " [1] top-level scope",
      "   @ In[71]:1"
     ]
    }
   ],
   "source": [
    "t[2] = 3             # Can't reassign tuple element (immutable)"
   ]
  },
  {
   "cell_type": "code",
   "execution_count": 72,
   "metadata": {},
   "outputs": [
    {
     "ename": "LoadError",
     "evalue": "MethodError: no method matching pop!(::Tuple{Int64, Int64, Int64}, ::Int64)\n\n\u001b[0mClosest candidates are:\n\u001b[0m  pop!(\u001b[91m::BitSet\u001b[39m, ::Integer, \u001b[91m::Any\u001b[39m)\n\u001b[0m\u001b[90m   @\u001b[39m \u001b[90mBase\u001b[39m \u001b[90m\u001b[4mbitset.jl:263\u001b[24m\u001b[39m\n\u001b[0m  pop!(\u001b[91m::BitSet\u001b[39m, ::Integer)\n\u001b[0m\u001b[90m   @\u001b[39m \u001b[90mBase\u001b[39m \u001b[90m\u001b[4mbitset.jl:254\u001b[24m\u001b[39m\n\u001b[0m  pop!(\u001b[91m::Base.IdSet\u001b[39m, ::Any)\n\u001b[0m\u001b[90m   @\u001b[39m \u001b[90mBase\u001b[39m \u001b[90m\u001b[4midset.jl:22\u001b[24m\u001b[39m\n\u001b[0m  ...\n",
     "output_type": "error",
     "traceback": [
      "MethodError: no method matching pop!(::Tuple{Int64, Int64, Int64}, ::Int64)\n\n\u001b[0mClosest candidates are:\n\u001b[0m  pop!(\u001b[91m::BitSet\u001b[39m, ::Integer, \u001b[91m::Any\u001b[39m)\n\u001b[0m\u001b[90m   @\u001b[39m \u001b[90mBase\u001b[39m \u001b[90m\u001b[4mbitset.jl:263\u001b[24m\u001b[39m\n\u001b[0m  pop!(\u001b[91m::BitSet\u001b[39m, ::Integer)\n\u001b[0m\u001b[90m   @\u001b[39m \u001b[90mBase\u001b[39m \u001b[90m\u001b[4mbitset.jl:254\u001b[24m\u001b[39m\n\u001b[0m  pop!(\u001b[91m::Base.IdSet\u001b[39m, ::Any)\n\u001b[0m\u001b[90m   @\u001b[39m \u001b[90mBase\u001b[39m \u001b[90m\u001b[4midset.jl:22\u001b[24m\u001b[39m\n\u001b[0m  ...\n",
      "",
      "Stacktrace:",
      " [1] top-level scope",
      "   @ In[72]:1"
     ]
    }
   ],
   "source": [
    "pop!(t, 2)           # Can't remove last element (immutable)"
   ]
  },
  {
   "cell_type": "code",
   "execution_count": 73,
   "metadata": {},
   "outputs": [
    {
     "data": {
      "text/plain": [
       "3-element Vector{Int64}:\n",
       " 6\n",
       " 1\n",
       " 4"
      ]
     },
     "execution_count": 73,
     "metadata": {},
     "output_type": "execute_result"
    }
   ],
   "source": [
    "v = collect(t)       # Convert tuple to vector"
   ]
  },
  {
   "cell_type": "code",
   "execution_count": 74,
   "metadata": {},
   "outputs": [
    {
     "data": {
      "text/plain": [
       "3-element Vector{Int64}:\n",
       " 6\n",
       " 3\n",
       " 4"
      ]
     },
     "execution_count": 74,
     "metadata": {},
     "output_type": "execute_result"
    }
   ],
   "source": [
    "v[2] = 3             # Can reassign vector element (mutable)\n",
    "v"
   ]
  },
  {
   "cell_type": "code",
   "execution_count": 75,
   "metadata": {},
   "outputs": [
    {
     "data": {
      "text/plain": [
       "Int64"
      ]
     },
     "execution_count": 75,
     "metadata": {},
     "output_type": "execute_result"
    }
   ],
   "source": [
    "t = (5)              # Want a 1-tuple but got a scalar\n",
    "typeof(t)"
   ]
  },
  {
   "cell_type": "code",
   "execution_count": 76,
   "metadata": {},
   "outputs": [
    {
     "data": {
      "text/plain": [
       "Tuple{Int64}"
      ]
     },
     "execution_count": 76,
     "metadata": {},
     "output_type": "execute_result"
    }
   ],
   "source": [
    "t = (5,)             # Got a 1-tuple containing an integer\n",
    "typeof(t)"
   ]
  },
  {
   "cell_type": "code",
   "execution_count": 77,
   "metadata": {},
   "outputs": [
    {
     "data": {
      "text/plain": [
       "Tuple{Float64}"
      ]
     },
     "execution_count": 77,
     "metadata": {},
     "output_type": "execute_result"
    }
   ],
   "source": [
    "t = (5.0,)             # Got a 1-tuple containing a real (floating point) number)\n",
    "typeof(t)"
   ]
  },
  {
   "cell_type": "markdown",
   "metadata": {},
   "source": [
    "## 7. User-Defined Functions\n",
    "### Multi-line (named) functions"
   ]
  },
  {
   "cell_type": "code",
   "execution_count": 78,
   "metadata": {},
   "outputs": [
    {
     "name": "stdout",
     "output_type": "stream",
     "text": [
      "b = 16\n"
     ]
    },
    {
     "data": {
      "text/plain": [
       "8.0"
      ]
     },
     "execution_count": 78,
     "metadata": {},
     "output_type": "execute_result"
    }
   ],
   "source": [
    "function fun1(a)\n",
    "    b = 3a + 1\n",
    "    println(\"b = \", b)\n",
    "    if b % 2 == 0    # Check if c is even\n",
    "        c = b/2\n",
    "    else\n",
    "        c = (b - 1)/2\n",
    "    end\n",
    "    return c\n",
    "end\n",
    "fun1(5)               # Output returned as Float64"
   ]
  },
  {
   "cell_type": "code",
   "execution_count": 79,
   "metadata": {},
   "outputs": [
    {
     "name": "stdout",
     "output_type": "stream",
     "text": [
      "b = 25.0\n"
     ]
    },
    {
     "data": {
      "text/plain": [
       "12.0"
      ]
     },
     "execution_count": 79,
     "metadata": {},
     "output_type": "execute_result"
    }
   ],
   "source": [
    "fun1(8.)"
   ]
  },
  {
   "cell_type": "markdown",
   "metadata": {},
   "source": [
    "#### Multiple outputs returned as a tuple"
   ]
  },
  {
   "cell_type": "code",
   "execution_count": 80,
   "metadata": {},
   "outputs": [
    {
     "name": "stdout",
     "output_type": "stream",
     "text": [
      "b = 16\n"
     ]
    },
    {
     "data": {
      "text/plain": [
       "(16, 8.0)"
      ]
     },
     "execution_count": 80,
     "metadata": {},
     "output_type": "execute_result"
    }
   ],
   "source": [
    "function fun2(a)\n",
    "    b = 3a + 1\n",
    "    println(\"b = \", b)\n",
    "    if b % 2 == 0    # Check if c is even\n",
    "        c = b/2\n",
    "    else\n",
    "        c = (b - 1)/2\n",
    "    end\n",
    "    return b, c\n",
    "end\n",
    "fun2(5)               # Output returned as 2-tuple"
   ]
  },
  {
   "cell_type": "code",
   "execution_count": 81,
   "metadata": {},
   "outputs": [
    {
     "name": "stdout",
     "output_type": "stream",
     "text": [
      "b = 16\n"
     ]
    },
    {
     "data": {
      "text/plain": [
       "16"
      ]
     },
     "execution_count": 81,
     "metadata": {},
     "output_type": "execute_result"
    }
   ],
   "source": [
    "fun2(5)[1]            # Get only the first value        "
   ]
  },
  {
   "cell_type": "code",
   "execution_count": 82,
   "metadata": {},
   "outputs": [
    {
     "name": "stdout",
     "output_type": "stream",
     "text": [
      "b = 16\n"
     ]
    },
    {
     "data": {
      "text/plain": [
       "8.0"
      ]
     },
     "execution_count": 82,
     "metadata": {},
     "output_type": "execute_result"
    }
   ],
   "source": [
    "fun2(5)[2]           # Get only the second value"
   ]
  },
  {
   "cell_type": "markdown",
   "metadata": {},
   "source": [
    "### One-line (named) functions"
   ]
  },
  {
   "cell_type": "code",
   "execution_count": 83,
   "metadata": {},
   "outputs": [
    {
     "data": {
      "text/plain": [
       "25"
      ]
     },
     "execution_count": 83,
     "metadata": {},
     "output_type": "execute_result"
    }
   ],
   "source": [
    "fun3(a) = 3a + 1\n",
    "fun3(8)"
   ]
  },
  {
   "cell_type": "markdown",
   "metadata": {},
   "source": [
    "### Anonymous (unnamed) functions"
   ]
  },
  {
   "cell_type": "code",
   "execution_count": 84,
   "metadata": {},
   "outputs": [
    {
     "data": {
      "text/plain": [
       "#3 (generic function with 1 method)"
      ]
     },
     "execution_count": 84,
     "metadata": {},
     "output_type": "execute_result"
    }
   ],
   "source": [
    "x -> 3x + 1"
   ]
  },
  {
   "cell_type": "code",
   "execution_count": 85,
   "metadata": {},
   "outputs": [
    {
     "data": {
      "text/plain": [
       "25"
      ]
     },
     "execution_count": 85,
     "metadata": {},
     "output_type": "execute_result"
    }
   ],
   "source": [
    "map(x -> 3x + 1, 8)           # `map` applies a function (x -> 3x + 1) to a value (8)"
   ]
  },
  {
   "cell_type": "code",
   "execution_count": 86,
   "metadata": {},
   "outputs": [
    {
     "data": {
      "text/plain": [
       "3-element Vector{Int64}:\n",
       " 25\n",
       " 10\n",
       " 22"
      ]
     },
     "execution_count": 86,
     "metadata": {},
     "output_type": "execute_result"
    }
   ],
   "source": [
    "map(x -> 3x + 1, [8, 3, 7])   # Can also apply to a collection [8, 3, 7]"
   ]
  },
  {
   "cell_type": "code",
   "execution_count": 87,
   "metadata": {},
   "outputs": [
    {
     "data": {
      "text/plain": [
       "3-element Vector{Int64}:\n",
       " 25\n",
       " 10\n",
       " 22"
      ]
     },
     "execution_count": 87,
     "metadata": {},
     "output_type": "execute_result"
    }
   ],
   "source": [
    "[3x + 1 for x in [8, 3, 7]]   # Array comprehension gives same result"
   ]
  },
  {
   "cell_type": "code",
   "execution_count": 88,
   "metadata": {},
   "outputs": [
    {
     "data": {
      "text/plain": [
       "#11 (generic function with 1 method)"
      ]
     },
     "execution_count": 88,
     "metadata": {},
     "output_type": "execute_result"
    }
   ],
   "source": [
    "afun = x -> 3x + 1   # Can assign to a variable `afun`"
   ]
  },
  {
   "cell_type": "code",
   "execution_count": 89,
   "metadata": {},
   "outputs": [
    {
     "data": {
      "text/plain": [
       "25"
      ]
     },
     "execution_count": 89,
     "metadata": {},
     "output_type": "execute_result"
    }
   ],
   "source": [
    "afun(8)              # Can now be used like a named function"
   ]
  },
  {
   "cell_type": "code",
   "execution_count": 90,
   "metadata": {},
   "outputs": [
    {
     "data": {
      "text/latex": [
       "\\begin{tabular}\n",
       "{l | r | l}\n",
       "name & size & summary \\\\\n",
       "\\hline\n",
       "A & 88 bytes & 2×3 Matrix\\{Int64\\} \\\\\n",
       "B & 72 bytes & 2×2 Matrix\\{Int64\\} \\\\\n",
       "Base &  & Module \\\\\n",
       "Core &  & Module \\\\\n",
       "Main &  & Module \\\\\n",
       "a & 80 bytes & 5-element Vector\\{Int64\\} \\\\\n",
       "afun & 0 bytes & \\#11 (generic function with 1 method) \\\\\n",
       "b & 72 bytes & 4-element Vector\\{Int64\\} \\\\\n",
       "c & 64 bytes & 3-element Vector\\{Float64\\} \\\\\n",
       "fun1 & 0 bytes & fun1 (generic function with 1 method) \\\\\n",
       "fun2 & 0 bytes & fun2 (generic function with 1 method) \\\\\n",
       "fun3 & 0 bytes & fun3 (generic function with 1 method) \\\\\n",
       "idx & 56 bytes & 2-element Vector\\{Int64\\} \\\\\n",
       "n & 8 bytes & Int64 \\\\\n",
       "t & 8 bytes & Tuple\\{Float64\\} \\\\\n",
       "v & 64 bytes & 3-element Vector\\{Int64\\} \\\\\n",
       "x & 8 bytes & Float64 \\\\\n",
       "\\end{tabular}\n"
      ],
      "text/markdown": [
       "| name |     size | summary                               |\n",
       "|:---- | --------:|:------------------------------------- |\n",
       "| A    | 88 bytes | 2×3 Matrix{Int64}                     |\n",
       "| B    | 72 bytes | 2×2 Matrix{Int64}                     |\n",
       "| Base |          | Module                                |\n",
       "| Core |          | Module                                |\n",
       "| Main |          | Module                                |\n",
       "| a    | 80 bytes | 5-element Vector{Int64}               |\n",
       "| afun |  0 bytes | #11 (generic function with 1 method)  |\n",
       "| b    | 72 bytes | 4-element Vector{Int64}               |\n",
       "| c    | 64 bytes | 3-element Vector{Float64}             |\n",
       "| fun1 |  0 bytes | fun1 (generic function with 1 method) |\n",
       "| fun2 |  0 bytes | fun2 (generic function with 1 method) |\n",
       "| fun3 |  0 bytes | fun3 (generic function with 1 method) |\n",
       "| idx  | 56 bytes | 2-element Vector{Int64}               |\n",
       "| n    |  8 bytes | Int64                                 |\n",
       "| t    |  8 bytes | Tuple{Float64}                        |\n",
       "| v    | 64 bytes | 3-element Vector{Int64}               |\n",
       "| x    |  8 bytes | Float64                               |\n"
      ],
      "text/plain": [
       "  name     size summary                              \n",
       "  –––– –––––––– –––––––––––––––––––––––––––––––––––––\n",
       "  A    88 bytes 2×3 Matrix{Int64}                    \n",
       "  B    72 bytes 2×2 Matrix{Int64}                    \n",
       "  Base          Module                               \n",
       "  Core          Module                               \n",
       "  Main          Module                               \n",
       "  a    80 bytes 5-element Vector{Int64}              \n",
       "  afun  0 bytes #11 (generic function with 1 method) \n",
       "  b    72 bytes 4-element Vector{Int64}              \n",
       "  c    64 bytes 3-element Vector{Float64}            \n",
       "  fun1  0 bytes fun1 (generic function with 1 method)\n",
       "  fun2  0 bytes fun2 (generic function with 1 method)\n",
       "  fun3  0 bytes fun3 (generic function with 1 method)\n",
       "  idx  56 bytes 2-element Vector{Int64}              \n",
       "  n     8 bytes Int64                                \n",
       "  t     8 bytes Tuple{Float64}                       \n",
       "  v    64 bytes 3-element Vector{Int64}              \n",
       "  x     8 bytes Float64                              "
      ]
     },
     "execution_count": 90,
     "metadata": {},
     "output_type": "execute_result"
    }
   ],
   "source": [
    "varinfo()            # Still not a named function"
   ]
  },
  {
   "attachments": {
    "7912c23a-8c99-4a19-ac86-e591f65f95f2.png": {
     "image/png": "[encoded data removed]"
    }
   },
   "cell_type": "markdown",
   "metadata": {},
   "source": [
    "## 8. Ex: 2-D Euclidean Distance\n",
    "\n",
    "User-defined functions can be used to extend the capabilities of Julia beyond its basic functions. Although developing a set of functions to solve a particular problem is at the heart of using Julia to program, the easiest way to create a function is to do it in an incremental, scripting manner by writing each line, executing it, and, if it works, and only then copying it into the function.\n",
    "\n",
    "The best way to start is to create some example data for which you know the correct answer: \n",
    "\n",
    "![image.png](attachment:7912c23a-8c99-4a19-ac86-e591f65f95f2.png)\n",
    "\n",
    "$ d = \\sqrt{\\left(x_1 - x_2\\right)^2 + \\left(y_1 - y_2\\right)^2}$ "
   ]
  },
  {
   "cell_type": "code",
   "execution_count": 91,
   "metadata": {},
   "outputs": [
    {
     "ename": "LoadError",
     "evalue": "MethodError: no method matching -(::Tuple{Int64, Int64}, ::Tuple{Int64, Int64})",
     "output_type": "error",
     "traceback": [
      "MethodError: no method matching -(::Tuple{Int64, Int64}, ::Tuple{Int64, Int64})",
      "",
      "Stacktrace:",
      " [1] top-level scope",
      "   @ In[91]:3"
     ]
    }
   ],
   "source": [
    "x1 = (3, 1)        # Using 2-tuple for each 2-D point, could also use 2-vector [3, 1]\n",
    "x2 = (6, 5)\n",
    "x1 - x2"
   ]
  },
  {
   "cell_type": "code",
   "execution_count": 92,
   "metadata": {},
   "outputs": [
    {
     "data": {
      "text/plain": [
       "(-3, -4)"
      ]
     },
     "execution_count": 92,
     "metadata": {},
     "output_type": "execute_result"
    }
   ],
   "source": [
    "x1 .- x2"
   ]
  },
  {
   "cell_type": "code",
   "execution_count": 93,
   "metadata": {},
   "outputs": [
    {
     "data": {
      "text/plain": [
       "(9, 16)"
      ]
     },
     "execution_count": 93,
     "metadata": {},
     "output_type": "execute_result"
    }
   ],
   "source": [
    "(x1 .- x2).^2"
   ]
  },
  {
   "cell_type": "code",
   "execution_count": 94,
   "metadata": {},
   "outputs": [
    {
     "data": {
      "text/plain": [
       "25"
      ]
     },
     "execution_count": 94,
     "metadata": {},
     "output_type": "execute_result"
    }
   ],
   "source": [
    "sum((x1 .- x2).^2)"
   ]
  },
  {
   "cell_type": "code",
   "execution_count": 95,
   "metadata": {},
   "outputs": [
    {
     "data": {
      "text/plain": [
       "5.0"
      ]
     },
     "execution_count": 95,
     "metadata": {},
     "output_type": "execute_result"
    }
   ],
   "source": [
    "sqrt(sum((x1 .- x2).^2))"
   ]
  },
  {
   "cell_type": "code",
   "execution_count": 96,
   "metadata": {},
   "outputs": [
    {
     "data": {
      "text/plain": [
       "5.0"
      ]
     },
     "execution_count": 96,
     "metadata": {},
     "output_type": "execute_result"
    }
   ],
   "source": [
    "d2(x1, x2) = sqrt(sum((x1 .- x2).^2))\n",
    "d2(x1, x2)"
   ]
  },
  {
   "cell_type": "code",
   "execution_count": 97,
   "metadata": {},
   "outputs": [
    {
     "data": {
      "text/plain": [
       "7.0710678118654755"
      ]
     },
     "execution_count": 97,
     "metadata": {},
     "output_type": "execute_result"
    }
   ],
   "source": [
    "d2((3, 1, 7), (6, 5, 2))   # Get 3-D for free"
   ]
  },
  {
   "cell_type": "code",
   "execution_count": 98,
   "metadata": {},
   "outputs": [
    {
     "data": {
      "text/plain": [
       "3.0"
      ]
     },
     "execution_count": 98,
     "metadata": {},
     "output_type": "execute_result"
    }
   ],
   "source": [
    "d2(3, 6)   # Also get 1-D (for free)"
   ]
  },
  {
   "cell_type": "markdown",
   "metadata": {},
   "source": [
    "Calculate distances from *x* to other points stored as an array/vector __pt__ of 2-tuples"
   ]
  },
  {
   "cell_type": "code",
   "execution_count": 99,
   "metadata": {},
   "outputs": [
    {
     "data": {
      "text/plain": [
       "3-element Vector{Float64}:\n",
       " 2.0\n",
       " 3.0\n",
       " 5.0"
      ]
     },
     "execution_count": 99,
     "metadata": {},
     "output_type": "execute_result"
    }
   ],
   "source": [
    "pt = [(1, 1), (6, 1), (6, 5)]\n",
    "x = (3, 1)\n",
    "[d2(x, i) for i in pt]   # Array comprehension"
   ]
  },
  {
   "cell_type": "code",
   "execution_count": 100,
   "metadata": {},
   "outputs": [
    {
     "data": {
      "text/plain": [
       "3-element Vector{Float64}:\n",
       " 2.0\n",
       " 3.0\n",
       " 5.0"
      ]
     },
     "execution_count": 100,
     "metadata": {},
     "output_type": "execute_result"
    }
   ],
   "source": [
    "[d2(x, i) for i ∈ pt]   # type \"\\in\" followed by TAB to get element of symbol"
   ]
  },
  {
   "cell_type": "markdown",
   "metadata": {},
   "source": [
    "Broadcast `d2`:"
   ]
  },
  {
   "cell_type": "code",
   "execution_count": 101,
   "metadata": {},
   "outputs": [
    {
     "ename": "LoadError",
     "evalue": "DimensionMismatch: arrays could not be broadcast to a common size; got a dimension with lengths 2 and 3",
     "output_type": "error",
     "traceback": [
      "DimensionMismatch: arrays could not be broadcast to a common size; got a dimension with lengths 2 and 3",
      "",
      "Stacktrace:",
      " [1] _bcs1",
      "   @ .\\broadcast.jl:555 [inlined]",
      " [2] _bcs",
      "   @ .\\broadcast.jl:549 [inlined]",
      " [3] broadcast_shape",
      "   @ .\\broadcast.jl:543 [inlined]",
      " [4] combine_axes",
      "   @ .\\broadcast.jl:524 [inlined]",
      " [5] instantiate",
      "   @ .\\broadcast.jl:306 [inlined]",
      " [6] materialize(bc::Base.Broadcast.Broadcasted{Base.Broadcast.DefaultArrayStyle{1}, Nothing, typeof(d2), Tuple{Tuple{Int64, Int64}, Vector{Tuple{Int64, Int64}}}})",
      "   @ Base.Broadcast .\\broadcast.jl:903",
      " [7] top-level scope",
      "   @ In[101]:1"
     ]
    }
   ],
   "source": [
    "d2.(x, pt)              # x is a tuple of integers and pt an array of tuples"
   ]
  },
  {
   "cell_type": "code",
   "execution_count": 102,
   "metadata": {},
   "outputs": [
    {
     "data": {
      "text/plain": [
       "3-element Vector{Float64}:\n",
       " 2.0\n",
       " 3.0\n",
       " 5.0"
      ]
     },
     "execution_count": 102,
     "metadata": {},
     "output_type": "execute_result"
    }
   ],
   "source": [
    "d2.([x], pt)            # Make x an array of tuples and broadcast function d2"
   ]
  },
  {
   "cell_type": "markdown",
   "metadata": {},
   "source": [
    "__1-D points:__"
   ]
  },
  {
   "cell_type": "code",
   "execution_count": 103,
   "metadata": {},
   "outputs": [
    {
     "data": {
      "text/plain": [
       "3.7416573867739413"
      ]
     },
     "execution_count": 103,
     "metadata": {},
     "output_type": "execute_result"
    }
   ],
   "source": [
    "pt = [1, 4, 6]\n",
    "x = 3\n",
    "d2(x, pt)               # Why is this \"working\" in 1-D, put gave error in 2-D?"
   ]
  },
  {
   "cell_type": "code",
   "execution_count": 109,
   "metadata": {},
   "outputs": [
    {
     "data": {
      "text/plain": [
       "3.7416573867739413"
      ]
     },
     "execution_count": 109,
     "metadata": {},
     "output_type": "execute_result"
    }
   ],
   "source": [
    "d2((x, x, x), pt)       # `x` is braodcasted to be a 3-D point"
   ]
  },
  {
   "cell_type": "code",
   "execution_count": 105,
   "metadata": {},
   "outputs": [
    {
     "data": {
      "text/plain": [
       "3-element Vector{Float64}:\n",
       " 2.0\n",
       " 1.0\n",
       " 3.0"
      ]
     },
     "execution_count": 105,
     "metadata": {},
     "output_type": "execute_result"
    }
   ],
   "source": [
    "d2.(x, pt)              # Incorrect result, forgot the `.` "
   ]
  },
  {
   "cell_type": "markdown",
   "metadata": {},
   "source": [
    "How can this be prevented?"
   ]
  },
  {
   "cell_type": "code",
   "execution_count": 106,
   "metadata": {},
   "outputs": [
    {
     "data": {
      "text/plain": [
       "3"
      ]
     },
     "execution_count": 106,
     "metadata": {},
     "output_type": "execute_result"
    }
   ],
   "source": [
    "a, b = 4, 1\n",
    "a < b ? b - a : a - b   # Ternary operator: condition ? true : false"
   ]
  },
  {
   "cell_type": "code",
   "execution_count": 107,
   "metadata": {},
   "outputs": [
    {
     "ename": "LoadError",
     "evalue": "Inputs not same length.",
     "output_type": "error",
     "traceback": [
      "Inputs not same length.",
      "",
      "Stacktrace:",
      " [1] error(s::String)",
      "   @ Base .\\error.jl:35",
      " [2] d2(x1::Int64, x2::Vector{Int64})",
      "   @ Main .\\In[107]:1",
      " [3] top-level scope",
      "   @ In[107]:2"
     ]
    }
   ],
   "source": [
    "d2(x1, x2) = length(x1) == length(x2) ? sqrt(sum((x1 .- x2).^2)) : error(\"Inputs not same length.\")\n",
    "d2(x, pt)"
   ]
  },
  {
   "cell_type": "code",
   "execution_count": 108,
   "metadata": {},
   "outputs": [
    {
     "data": {
      "text/plain": [
       "3-element Vector{Float64}:\n",
       " 2.0\n",
       " 1.0\n",
       " 3.0"
      ]
     },
     "execution_count": 108,
     "metadata": {},
     "output_type": "execute_result"
    }
   ],
   "source": [
    "d2.(x, pt)"
   ]
  },
  {
   "cell_type": "markdown",
   "metadata": {},
   "source": [
    "---\n",
    "#### __Question 1.2.2__\n",
    "Why is it usually better to represent a two-dimensional point as a 2-tuple, `(x, y)`, than a 2-vector, `[x, y]`?\n",
    "\n",
    "    (a) Tuples are dynamically sized, which makes them more efficient than vectors for small datasets.\n",
    "\n",
    "    (b) Since points typically change frequently during processing, a tuple can adapt to these changes more efficiently than a mutable vector.\n",
    "\n",
    "    (c) Since points do not typically change, they can be immutable, allowing better memory usage since the storage location size for each point will not change.\n",
    "\n",
    "    (d) Tuples are mutable, allowing for easier modification of the point coordinates.\n",
    "\n",
    "------\n"
   ]
  },
  {
   "cell_type": "code",
   "execution_count": null,
   "metadata": {},
   "outputs": [],
   "source": []
  }
 ],
 "metadata": {
  "kernelspec": {
   "display_name": "Julia 1.10.4",
   "language": "julia",
   "name": "julia-1.10"
  },
  "language_info": {
   "file_extension": ".jl",
   "mimetype": "application/julia",
   "name": "julia",
   "version": "1.10.4"
  }
 },
 "nbformat": 4,
 "nbformat_minor": 4
}
