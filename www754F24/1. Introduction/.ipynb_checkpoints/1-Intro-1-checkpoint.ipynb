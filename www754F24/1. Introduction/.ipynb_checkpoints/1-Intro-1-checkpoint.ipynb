{
 "cells": [
  {
   "cell_type": "markdown",
   "metadata": {},
   "source": [
    "# 1. Intro 1: Modeling, Guesstimation, and Fermi Problems\n",
    "`ISE 754, Fall 2024`\n",
    "\n",
    "* See *Julia* page in the Moodle General section for instructions on installing Julia."
   ]
  },
  {
   "cell_type": "markdown",
   "metadata": {},
   "source": [
    "## Fermi Problems\n",
    "_Fermi Problems_, named after the physicist Enrico Fermi, are inspired guesses about quantities that seem almost impossible to determine given the limited data that you have available. Solving a Fermi Problem involves _guesstimation_ of the input parameters needed and back-of-the-envelope type approximations.\n",
    "* The goal is to have an answer that is within an order of magnitude of the correct answer (or what is termed a _zeroth-order approximation_).\n",
    "* It works because the over- and under-estimations of each parameter tend to cancel each other out as long as there is no consistent bias.\n",
    "\n",
    "__Ex 1: How many McDonald’s restaurants in U.S.?__"
   ]
  },
  {
   "cell_type": "code",
   "execution_count": 1,
   "metadata": {},
   "outputs": [
    {
     "name": "stdout",
     "output_type": "stream",
     "text": [
      "f = sqrt(LB * UB) = 18.708286933869708\n",
      "q * f = 5.6124860801609125e9\n",
      "(q * f) / 365 = 1.5376674192221679e7\n",
      "H * 60 * r = 960\n"
     ]
    },
    {
     "data": {
      "text/plain": [
       "16017.368950230915"
      ]
     },
     "execution_count": 1,
     "metadata": {},
     "output_type": "execute_result"
    }
   ],
   "source": [
    "# Parameters (note: orders includes in-store and drive-thru)\n",
    "LB = 1; UB = 350         # Bounds on per capita demand (order/person-yr)\n",
    "@show f = sqrt(LB*UB)    # Annual per capita demand (order/person-yr)\n",
    "q = 3e8                  # U.S. population (person)\n",
    "H = 16                   # Operating hours per day (hr/day)\n",
    "r = 1                    # Orders per store per minute (order/store-min)\n",
    "# Analysis\n",
    "@show q*f                # Annual U.S. demand (order/yr)\n",
    "@show q*f/365            # Daily U.S. demand (order/day)\n",
    "@show H*60*r             # Daily demand per store (order/store-day)\n",
    "(q*f/365)/(H*60*r)       # Est. number of U.S. stores (store)"
   ]
  },
  {
   "cell_type": "markdown",
   "metadata": {},
   "source": [
    "“Reasonable” guesstimates can be made for all of the parameters needed to make the estimation except for customer demand; as a result, the geometric mean of the estimated lower and upper bounds on demand is used as the estimate. The actual number of McDonald’s restaurants in the U.S. as of 2013 is 14,267,  which is around 10% below the estimate. A key assumption in the analysis is that the number of McDonald’s restaurants in the U.S. has reached market saturation, allowing the entire U.S. population to be used as the customer base."
   ]
  },
  {
   "cell_type": "markdown",
   "metadata": {},
   "source": [
    "## System Performance Estimation\n",
    "Often easy to estimate performance of a new system if can assume either perfect (LB) or no control (practical UB), as opposed trying to develop a more detailed model of performance.\n",
    "\n",
    "__Ex 2: Estimate the waiting time for a bus__\n",
    "\n",
    "If, during the morning rush, there are five buses operating on Wolfline Route 13 and it takes them 40 minutes, on average, to complete one circuit of the route, what is the estimated waiting time for a student who does not use TransLoc for real-time bus tracking?\n",
    "\n",
    "* $ \\frac{40}{5} = 8 $ min. avg. time (aka “headway”) between buses\n",
    "* Customers arrive at random (assuming no web-based bus tracking)\n",
    "* Perfect control (LB): wait time = half of headway = 8/2\n",
    "* No control (practical UB): wait time = headway = 8\n",
    "    * Assuming buses arrive at random (Poisson process)\n",
    "    * Bad control can result in higher values than no control"
   ]
  },
  {
   "cell_type": "code",
   "execution_count": 2,
   "metadata": {},
   "outputs": [
    {
     "data": {
      "text/plain": [
       "5.656854249492381"
      ]
     },
     "execution_count": 2,
     "metadata": {},
     "output_type": "execute_result"
    }
   ],
   "source": [
    "headway = 8\n",
    "LB = headway/2       # perfect control\n",
    "UB = headway\n",
    "Estimated_wait_time = sqrt(LB*UB)  # (min)"
   ]
  },
  {
   "cell_type": "markdown",
   "metadata": {},
   "source": [
    "__Ex 3: Amount spent per grocery trip__  \n",
    "Estimate the average amount spent per trip to a grocery store. Total U.S. supermarket sales were recently determined to be \\$649,087,000,000, but it is not clear whether this number refers to annual sales, or monthly, or weekly sales."
   ]
  },
  {
   "cell_type": "code",
   "execution_count": 3,
   "metadata": {},
   "outputs": [
    {
     "name": "stdout",
     "output_type": "stream",
     "text": [
      "6.5e11 / 3.0e8 = 2166.6666666666665\n",
      "sqrt(LB * UB) = 2.6457513110645907\n",
      "sqrt(LB * UB) * 52 = 137.5790681753587\n"
     ]
    },
    {
     "data": {
      "text/plain": [
       "15.748519708717799"
      ]
     },
     "execution_count": 3,
     "metadata": {},
     "output_type": "execute_result"
    }
   ],
   "source": [
    "@show 6.5e11/3e8               # ($/person-yr)\n",
    "LB = 1; UB = 7                 # (trips/wk)\n",
    "@show sqrt(LB*UB)\n",
    "@show sqrt(LB*UB)*52\n",
    "(6.5e11/3e8)/(sqrt(LB*UB)*52)  # ($/person-trip) => Likely annual sales"
   ]
  },
  {
   "cell_type": "markdown",
   "metadata": {},
   "source": [
    "**Note:** the solution on the slide for this problem was done back of the envelope without a calcuator (or Julia)"
   ]
  }
 ],
 "metadata": {
  "kernelspec": {
   "display_name": "Julia 1.10.4",
   "language": "julia",
   "name": "julia-1.10"
  },
  "language_info": {
   "file_extension": ".jl",
   "mimetype": "application/julia",
   "name": "julia",
   "version": "1.10.4"
  }
 },
 "nbformat": 4,
 "nbformat_minor": 4
}
