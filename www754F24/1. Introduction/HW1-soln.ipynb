{
 "cells": [
  {
   "cell_type": "markdown",
   "metadata": {},
   "source": [
    "# HW 1: Julia (Solution)\n",
    "---\n",
    "`ISE 754, Fall 2024`\n",
    "\n",
    "__Assigned:__ Wed, 21 Aug (Individual Assignment)  \n",
    "__Due:__ 10:00a, Wed, 28 Aug \n",
    "\n",
    "Please use the Code cells in this Jupyter Notebook to answer the following questions. Please run all of the cells in your notebook and then submit it as a .ipynb file, along with a .html or .pdf copy, via Moodle. (There is a _Run All Cells_ command under the _Run_ menu.)\n",
    "\n",
    "---"
   ]
  },
  {
   "cell_type": "markdown",
   "metadata": {},
   "source": [
    "__(1)__ Given the array `x = [3, 1, 2, 9, 5, 4]`, provide the single command  (namely, one line of code with at most one assignment (i.e., one equals sign =)) needed to perform the following actions. Unless noted, all of the actions should not modify `x`; instead, the result of the action will just be displayed in the notebook. If `x` is modified, type `x` on a second line in the cell to display the modified `x` in full (otherwise, just the modified elements of `x` will be displayed; the modified `x` should be used for subsequent actions.\n",
    "\n",
    "(a) After first creating `x`, extract the third element from `x`"
   ]
  },
  {
   "cell_type": "code",
   "execution_count": 1,
   "metadata": {},
   "outputs": [
    {
     "data": {
      "text/plain": [
       "2"
      ]
     },
     "execution_count": 1,
     "metadata": {},
     "output_type": "execute_result"
    }
   ],
   "source": [
    "x = [3, 1, 2, 9, 5, 4]\n",
    "x[3]"
   ]
  },
  {
   "cell_type": "markdown",
   "metadata": {},
   "source": [
    "(b) Extract all but the last element from `x`"
   ]
  },
  {
   "cell_type": "code",
   "execution_count": 2,
   "metadata": {},
   "outputs": [
    {
     "data": {
      "text/plain": [
       "5-element Vector{Int64}:\n",
       " 3\n",
       " 1\n",
       " 2\n",
       " 9\n",
       " 5"
      ]
     },
     "execution_count": 2,
     "metadata": {},
     "output_type": "execute_result"
    }
   ],
   "source": [
    "x[1:end-1]"
   ]
  },
  {
   "cell_type": "markdown",
   "metadata": {},
   "source": [
    "(c) Extract the first, third, first, sixth, and first element from `x`"
   ]
  },
  {
   "cell_type": "code",
   "execution_count": 3,
   "metadata": {},
   "outputs": [
    {
     "data": {
      "text/plain": [
       "5-element Vector{Int64}:\n",
       " 3\n",
       " 2\n",
       " 3\n",
       " 4\n",
       " 3"
      ]
     },
     "execution_count": 3,
     "metadata": {},
     "output_type": "execute_result"
    }
   ],
   "source": [
    "x[[1, 3, 1, 6, 1]]"
   ]
  },
  {
   "cell_type": "markdown",
   "metadata": {},
   "source": [
    "(d) Reverse the elements of `x`"
   ]
  },
  {
   "cell_type": "code",
   "execution_count": 4,
   "metadata": {},
   "outputs": [
    {
     "data": {
      "text/plain": [
       "6-element Vector{Int64}:\n",
       " 4\n",
       " 5\n",
       " 9\n",
       " 2\n",
       " 1\n",
       " 3"
      ]
     },
     "execution_count": 4,
     "metadata": {},
     "output_type": "execute_result"
    }
   ],
   "source": [
    "reverse(x)    # 1st approach"
   ]
  },
  {
   "cell_type": "code",
   "execution_count": 5,
   "metadata": {},
   "outputs": [
    {
     "data": {
      "text/plain": [
       "6-element Vector{Int64}:\n",
       " 4\n",
       " 5\n",
       " 9\n",
       " 2\n",
       " 1\n",
       " 3"
      ]
     },
     "execution_count": 5,
     "metadata": {},
     "output_type": "execute_result"
    }
   ],
   "source": [
    "x[end:-1:1]    # second approach"
   ]
  },
  {
   "cell_type": "markdown",
   "metadata": {},
   "source": [
    "(e) Calculate the sum of all of the elements of `x`"
   ]
  },
  {
   "cell_type": "code",
   "execution_count": 6,
   "metadata": {},
   "outputs": [
    {
     "data": {
      "text/plain": [
       "24"
      ]
     },
     "execution_count": 6,
     "metadata": {},
     "output_type": "execute_result"
    }
   ],
   "source": [
    "sum(x)"
   ]
  },
  {
   "cell_type": "markdown",
   "metadata": {},
   "source": [
    "(f) Calculate the sum from the first to the _i_ th element of `x`, for all elements 1 to _i_ in `x`"
   ]
  },
  {
   "cell_type": "code",
   "execution_count": 7,
   "metadata": {},
   "outputs": [
    {
     "data": {
      "text/plain": [
       "6-element Vector{Int64}:\n",
       "  3\n",
       "  4\n",
       "  6\n",
       " 15\n",
       " 20\n",
       " 24"
      ]
     },
     "execution_count": 7,
     "metadata": {},
     "output_type": "execute_result"
    }
   ],
   "source": [
    "cumsum(x)    # 1st approach"
   ]
  },
  {
   "cell_type": "code",
   "execution_count": 8,
   "metadata": {},
   "outputs": [
    {
     "data": {
      "text/plain": [
       "6-element Vector{Int64}:\n",
       "  3\n",
       "  4\n",
       "  6\n",
       " 15\n",
       " 20\n",
       " 24"
      ]
     },
     "execution_count": 8,
     "metadata": {},
     "output_type": "execute_result"
    }
   ],
   "source": [
    "[sum(x[1:i]) for i in 1:length(x)]    # 2nd approach"
   ]
  },
  {
   "cell_type": "markdown",
   "metadata": {},
   "source": [
    "(g) Modify `x` by setting the second and sixth elements of `x` equal to zero; then type `x` on a second line in cell in order to display the result"
   ]
  },
  {
   "cell_type": "code",
   "execution_count": 9,
   "metadata": {},
   "outputs": [
    {
     "data": {
      "text/plain": [
       "6-element Vector{Int64}:\n",
       " 3\n",
       " 0\n",
       " 2\n",
       " 9\n",
       " 5\n",
       " 0"
      ]
     },
     "execution_count": 9,
     "metadata": {},
     "output_type": "execute_result"
    }
   ],
   "source": [
    "x[[2, 6]] .= 0\n",
    "x"
   ]
  },
  {
   "cell_type": "markdown",
   "metadata": {},
   "source": [
    "(h) Using the result from (g), modify `x` by deleting its third element"
   ]
  },
  {
   "cell_type": "code",
   "execution_count": 10,
   "metadata": {},
   "outputs": [
    {
     "data": {
      "text/plain": [
       "5-element Vector{Int64}:\n",
       " 3\n",
       " 0\n",
       " 9\n",
       " 5\n",
       " 0"
      ]
     },
     "execution_count": 10,
     "metadata": {},
     "output_type": "execute_result"
    }
   ],
   "source": [
    "deleteat!(x,3)\n",
    "x"
   ]
  },
  {
   "cell_type": "markdown",
   "metadata": {},
   "source": [
    "(i) Using the result from (h), modify `x` by adding 7 to its end"
   ]
  },
  {
   "cell_type": "code",
   "execution_count": 11,
   "metadata": {},
   "outputs": [
    {
     "data": {
      "text/plain": [
       "6-element Vector{Int64}:\n",
       " 3\n",
       " 0\n",
       " 9\n",
       " 5\n",
       " 0\n",
       " 7"
      ]
     },
     "execution_count": 11,
     "metadata": {},
     "output_type": "execute_result"
    }
   ],
   "source": [
    "push!(x,7)\n",
    "x"
   ]
  },
  {
   "cell_type": "markdown",
   "metadata": {},
   "source": [
    "---\n",
    "__(2)__ Provide a single command needed to create or modify the following arrays:\n",
    "\n",
    "(a) A two-row, three-column matrix consisting of all integer zero values"
   ]
  },
  {
   "cell_type": "code",
   "execution_count": 12,
   "metadata": {},
   "outputs": [
    {
     "data": {
      "text/plain": [
       "2×3 Matrix{Int64}:\n",
       " 0  0  0\n",
       " 0  0  0"
      ]
     },
     "execution_count": 12,
     "metadata": {},
     "output_type": "execute_result"
    }
   ],
   "source": [
    "zeros(Int, 2,3)"
   ]
  },
  {
   "cell_type": "markdown",
   "metadata": {},
   "source": [
    "(b) A 3-element array whose first element is the vector `[1, 4, 2]`, second element is the matrix `[2 5 4; 1 8 3]`, and third element is the scalar 6.5"
   ]
  },
  {
   "cell_type": "code",
   "execution_count": 13,
   "metadata": {},
   "outputs": [
    {
     "data": {
      "text/plain": [
       "3-element Vector{Any}:\n",
       "  [1, 4, 2]\n",
       "  [2 5 4; 1 8 3]\n",
       " 6.5"
      ]
     },
     "execution_count": 13,
     "metadata": {},
     "output_type": "execute_result"
    }
   ],
   "source": [
    "[[1, 4, 2], [2 5 4; 1 8 3], 6.5]"
   ]
  },
  {
   "cell_type": "markdown",
   "metadata": {},
   "source": [
    "(c) Multiply each element of the array from (b) by 2"
   ]
  },
  {
   "cell_type": "code",
   "execution_count": 14,
   "metadata": {},
   "outputs": [
    {
     "data": {
      "text/plain": [
       "3-element Vector{Any}:\n",
       "   [2, 8, 4]\n",
       "   [4 10 8; 2 16 6]\n",
       " 13.0"
      ]
     },
     "execution_count": 14,
     "metadata": {},
     "output_type": "execute_result"
    }
   ],
   "source": [
    "[2x for x  in [[1, 4, 2], [2 5 4; 1 8 3], 6.5]]"
   ]
  },
  {
   "cell_type": "markdown",
   "metadata": {},
   "source": [
    "---\n",
    "__(3)__ A chemical processing facility will operate 24 hours a day, seven days a week. As a byproduct of its operation, hazardous waste material is generated at a constant rate of 1 ton per day and will be stored until removal. The facility has contracted to have its hazardous waste removed three times per week. The truck that will be used has the capacity to remove up to 15 tons of material, but no other details regarding the contract are currently available. Estimate how many tons, on average, of the hazardous material will be in storage at the facility."
   ]
  },
  {
   "cell_type": "code",
   "execution_count": 15,
   "metadata": {},
   "outputs": [
    {
     "name": "stdout",
     "output_type": "stream",
     "text": [
      "tLB = 7 / 3 = 2.3333333333333335\n",
      "t = sqrt(tLB * tUB) = 4.041451884327381\n",
      "Average waste in storage (ton) = 2.0207259421636903\n"
     ]
    }
   ],
   "source": [
    "@show tLB = 7/3          # Perfect control\n",
    "tUB = 7                  # Bad control\n",
    "@show t = sqrt(tLB*tUB)  # Time between removals (day)\n",
    "r = 1                    # Waste rate (ton/day)\n",
    "q = r * t/2              # Average waste in storage (ton)\n",
    "println(\"Average waste in storage (ton) = \", q)"
   ]
  },
  {
   "cell_type": "markdown",
   "metadata": {},
   "source": [
    "__Note:__ _ISE754 GPT_ gave $q = r * tLB/2 = 1.165$ tons as estimate"
   ]
  },
  {
   "cell_type": "markdown",
   "metadata": {},
   "source": [
    "---\n",
    "__(4)__ Create a function `d1` that determines the rectilinear distance between two points:\n",
    "\n",
    "$ d = \\lvert x_1 - x_2 \\rvert + \\lvert y_1 - y_2 \\rvert $ "
   ]
  },
  {
   "cell_type": "code",
   "execution_count": 16,
   "metadata": {},
   "outputs": [
    {
     "data": {
      "text/plain": [
       "7"
      ]
     },
     "execution_count": 16,
     "metadata": {},
     "output_type": "execute_result"
    }
   ],
   "source": [
    "d1(x1, x2) = length(x1) == length(x2) ? sum(abs.(x1 .- x2)) : \n",
    "    error(\"Inputs not same length.\")\n",
    "\n",
    "x1 = (3, 1)\n",
    "x2 = (6, 5)\n",
    "d1(x1, x2)"
   ]
  },
  {
   "cell_type": "markdown",
   "metadata": {},
   "source": [
    "---\n",
    "__(5)__ Create a function `sum_d2` that returns the sum of the Euclidean distances between a single point and multiple other points."
   ]
  },
  {
   "cell_type": "code",
   "execution_count": 17,
   "metadata": {},
   "outputs": [
    {
     "data": {
      "text/plain": [
       "10.0"
      ]
     },
     "execution_count": 17,
     "metadata": {},
     "output_type": "execute_result"
    }
   ],
   "source": [
    "d2(x1, x2) = length(x1) == length(x2) ? sqrt(sum((x1 .- x2).^2)) : \n",
    "    error(\"Inputs not same length.\")\n",
    "sum_d2(x, pt) = sum(d2.([xy], pt))\n",
    "\n",
    "pt = [(1, 1), (6, 1), (6, 5)]\n",
    "xy = (3, 1)\n",
    "sum_d2(xy, pt)"
   ]
  }
 ],
 "metadata": {
  "kernelspec": {
   "display_name": "Julia 1.10.4",
   "language": "julia",
   "name": "julia-1.10"
  },
  "language_info": {
   "file_extension": ".jl",
   "mimetype": "application/julia",
   "name": "julia",
   "version": "1.10.4"
  }
 },
 "nbformat": 4,
 "nbformat_minor": 4
}
