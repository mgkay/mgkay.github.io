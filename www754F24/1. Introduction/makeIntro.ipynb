{
 "cells": [
  {
   "cell_type": "markdown",
   "id": "3ecfc4ad-6160-44ec-aa79-da73f06b818e",
   "metadata": {},
   "source": [
    "# Make Introduction"
   ]
  },
  {
   "cell_type": "markdown",
   "id": "420a1fbe-d4ab-48df-b0ad-e17b32dd8a1c",
   "metadata": {},
   "source": [
    "## Questions 1.2.1"
   ]
  },
  {
   "cell_type": "code",
   "execution_count": 4,
   "id": "93b84152-e50a-4c7d-8803-f2da7ee20671",
   "metadata": {},
   "outputs": [
    {
     "data": {
      "text/plain": [
       "3-element Vector{Int64}:\n",
       "  4\n",
       "  8\n",
       " 12"
      ]
     },
     "execution_count": 4,
     "metadata": {},
     "output_type": "execute_result"
    }
   ],
   "source": [
    "a = [1:3;]\n",
    "3 .+ a\n",
    "b = 4a"
   ]
  },
  {
   "cell_type": "code",
   "execution_count": null,
   "id": "85a670b7-ccbe-4ba4-ad97-dc276d1993fb",
   "metadata": {},
   "outputs": [],
   "source": [
    "(a) b = [4, 8, 12]\n",
    "\n",
    "(b) b = [16, 20, 24]\n",
    "\n",
    "(c) b = [12, 24, 36]\n",
    "\n",
    "(d) b = [7, 11, 15]\n"
   ]
  },
  {
   "cell_type": "markdown",
   "id": "fbe2a536-8acb-4eb6-b5c0-8785dedb1ec0",
   "metadata": {},
   "source": [
    "## Question 1.2.2"
   ]
  },
  {
   "cell_type": "code",
   "execution_count": 26,
   "id": "47953eab-86b0-4731-b508-33eef729eeae",
   "metadata": {},
   "outputs": [
    {
     "ename": "LoadError",
     "evalue": "DimensionMismatch: arrays could not be broadcast to a common size; got a dimension with lengths 2 and 3",
     "output_type": "error",
     "traceback": [
      "DimensionMismatch: arrays could not be broadcast to a common size; got a dimension with lengths 2 and 3",
      "",
      "Stacktrace:",
      "  [1] _bcs1",
      "    @ .\\broadcast.jl:555 [inlined]",
      "  [2] _bcs",
      "    @ .\\broadcast.jl:549 [inlined]",
      "  [3] broadcast_shape(::Tuple{Base.OneTo{Int64}}, ::Tuple{Base.OneTo{Int64}})",
      "    @ Base.Broadcast .\\broadcast.jl:543",
      "  [4] combine_axes",
      "    @ .\\broadcast.jl:524 [inlined]",
      "  [5] _axes",
      "    @ .\\broadcast.jl:236 [inlined]",
      "  [6] axes",
      "    @ .\\broadcast.jl:234 [inlined]",
      "  [7] combine_axes",
      "    @ .\\broadcast.jl:524 [inlined]",
      "  [8] combine_axes",
      "    @ .\\broadcast.jl:523 [inlined]",
      "  [9] _axes",
      "    @ .\\broadcast.jl:236 [inlined]",
      " [10] axes",
      "    @ .\\broadcast.jl:234 [inlined]",
      " [11] copy",
      "    @ .\\broadcast.jl:1115 [inlined]",
      " [12] materialize",
      "    @ .\\broadcast.jl:903 [inlined]",
      " [13] d2(x1::Tuple{Int64, Int64}, x2::Tuple{Int64, Int64, Int64})",
      "    @ Main .\\In[26]:1",
      " [14] top-level scope",
      "    @ In[26]:3"
     ]
    }
   ],
   "source": [
    "d2(x1, x2) = sqrt(sum((x1 .- x2).^2))\n",
    "\n",
    "d2((3, 4), (6, 5, 1))"
   ]
  },
  {
   "cell_type": "code",
   "execution_count": 16,
   "id": "5515de33-e4ac-4770-8fcf-d06379311ce5",
   "metadata": {},
   "outputs": [
    {
     "ename": "LoadError",
     "evalue": "MethodError: no method matching -(::Int64, ::Tuple{Int64, Int64})\n\n\u001b[0mClosest candidates are:\n\u001b[0m  -(::Real, \u001b[91m::Complex{Bool}\u001b[39m)\n\u001b[0m\u001b[90m   @\u001b[39m \u001b[90mBase\u001b[39m \u001b[90m\u001b[4mcomplex.jl:321\u001b[24m\u001b[39m\n\u001b[0m  -(::Number, \u001b[91m::LinearAlgebra.UniformScaling\u001b[39m)\n\u001b[0m\u001b[90m   @\u001b[39m \u001b[36mLinearAlgebra\u001b[39m \u001b[90mC:\\Users\\kay\\AppData\\Local\\Programs\\Julia-1.10.4\\share\\julia\\stdlib\\v1.10\\LinearAlgebra\\src\\\u001b[39m\u001b[90m\u001b[4muniformscaling.jl:147\u001b[24m\u001b[39m\n\u001b[0m  -(::Number, \u001b[91m::Missing\u001b[39m)\n\u001b[0m\u001b[90m   @\u001b[39m \u001b[90mBase\u001b[39m \u001b[90m\u001b[4mmissing.jl:124\u001b[24m\u001b[39m\n\u001b[0m  ...\n",
     "output_type": "error",
     "traceback": [
      "MethodError: no method matching -(::Int64, ::Tuple{Int64, Int64})\n\n\u001b[0mClosest candidates are:\n\u001b[0m  -(::Real, \u001b[91m::Complex{Bool}\u001b[39m)\n\u001b[0m\u001b[90m   @\u001b[39m \u001b[90mBase\u001b[39m \u001b[90m\u001b[4mcomplex.jl:321\u001b[24m\u001b[39m\n\u001b[0m  -(::Number, \u001b[91m::LinearAlgebra.UniformScaling\u001b[39m)\n\u001b[0m\u001b[90m   @\u001b[39m \u001b[36mLinearAlgebra\u001b[39m \u001b[90mC:\\Users\\kay\\AppData\\Local\\Programs\\Julia-1.10.4\\share\\julia\\stdlib\\v1.10\\LinearAlgebra\\src\\\u001b[39m\u001b[90m\u001b[4muniformscaling.jl:147\u001b[24m\u001b[39m\n\u001b[0m  -(::Number, \u001b[91m::Missing\u001b[39m)\n\u001b[0m\u001b[90m   @\u001b[39m \u001b[90mBase\u001b[39m \u001b[90m\u001b[4mmissing.jl:124\u001b[24m\u001b[39m\n\u001b[0m  ...\n",
      "",
      "Stacktrace:",
      " [1] _broadcast_getindex_evalf",
      "   @ .\\broadcast.jl:709 [inlined]",
      " [2] _broadcast_getindex",
      "   @ .\\broadcast.jl:682 [inlined]",
      " [3] _getindex (repeats 2 times)",
      "   @ .\\broadcast.jl:705 [inlined]",
      " [4] _broadcast_getindex",
      "   @ .\\broadcast.jl:681 [inlined]",
      " [5] getindex",
      "   @ .\\broadcast.jl:636 [inlined]",
      " [6] copy",
      "   @ .\\broadcast.jl:942 [inlined]",
      " [7] materialize",
      "   @ .\\broadcast.jl:903 [inlined]",
      " [8] d2(x1::Int64, x2::Vector{Tuple{Int64, Int64}})",
      "   @ Main .\\In[15]:1",
      " [9] top-level scope",
      "   @ In[16]:1"
     ]
    }
   ],
   "source": [
    "d2(3, [(6, 5)])"
   ]
  },
  {
   "cell_type": "code",
   "execution_count": 17,
   "id": "364d86cc-ae2a-4f88-a0c9-348c5b5c3fca",
   "metadata": {},
   "outputs": [
    {
     "data": {
      "text/plain": [
       "3.605551275463989"
      ]
     },
     "execution_count": 17,
     "metadata": {},
     "output_type": "execute_result"
    }
   ],
   "source": [
    "d2(3, [6, 5])"
   ]
  },
  {
   "cell_type": "code",
   "execution_count": 18,
   "id": "29c51f5d-aaff-4715-b84d-9560729edf77",
   "metadata": {},
   "outputs": [
    {
     "data": {
      "text/plain": [
       "3.605551275463989"
      ]
     },
     "execution_count": 18,
     "metadata": {},
     "output_type": "execute_result"
    }
   ],
   "source": [
    "d2([3], [6, 5])"
   ]
  },
  {
   "cell_type": "code",
   "execution_count": 20,
   "id": "91a73e33-ca16-4b60-a6ec-ad6e08324b30",
   "metadata": {},
   "outputs": [
    {
     "data": {
      "text/plain": [
       "2-element Vector{Float64}:\n",
       " 3.0\n",
       " 2.0"
      ]
     },
     "execution_count": 20,
     "metadata": {},
     "output_type": "execute_result"
    }
   ],
   "source": [
    "d2.(3, [6, 5])"
   ]
  },
  {
   "cell_type": "code",
   "execution_count": 32,
   "id": "f1b73357-ab64-49bb-95fa-91cec8a3de97",
   "metadata": {},
   "outputs": [
    {
     "data": {
      "text/plain": [
       "3-element Vector{Int64}:\n",
       " 25\n",
       " 10\n",
       " 22"
      ]
     },
     "execution_count": 32,
     "metadata": {},
     "output_type": "execute_result"
    }
   ],
   "source": [
    "[3x + 1 for x in [8, 3, 7]]"
   ]
  }
 ],
 "metadata": {
  "kernelspec": {
   "display_name": "Julia 1.10.4",
   "language": "julia",
   "name": "julia-1.10"
  },
  "language_info": {
   "file_extension": ".jl",
   "mimetype": "application/julia",
   "name": "julia",
   "version": "1.10.4"
  }
 },
 "nbformat": 4,
 "nbformat_minor": 5
}
