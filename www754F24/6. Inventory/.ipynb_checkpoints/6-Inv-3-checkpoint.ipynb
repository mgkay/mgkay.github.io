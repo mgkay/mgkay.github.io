{
 "cells": [
  {
   "cell_type": "markdown",
   "metadata": {},
   "source": [
    "# 6. Inventory 3: Multi-Echelon Inventory Systems\n",
    "`ISE 754, Fall 2024`\n",
    "\n",
    "__Package Used:__ No new packages used."
   ]
  },
  {
   "cell_type": "markdown",
   "metadata": {},
   "source": [
    "## Ex: Two-Echelon Supply Chain\n",
    "\n",
    "### Estimate Performance Measures\n",
    "Estimate the out-of-stock $\\pi_0$ and average-inventory $\\overline{q}$ performance measures. "
   ]
  },
  {
   "cell_type": "code",
   "execution_count": 1,
   "metadata": {},
   "outputs": [
    {
     "data": {
      "text/plain": [
       "base_stock_two_echelon (generic function with 1 method)"
      ]
     },
     "execution_count": 1,
     "metadata": {},
     "output_type": "execute_result"
    }
   ],
   "source": [
    "using Random, DataStructures, DataFrames, Statistics\n",
    "\n",
    "function base_stock_two_echelon(qmax_r, qmax_dc, sch_r, sch_dc, t_stop)\n",
    "    n = length(qmax_r)                  # Number of retailers\n",
    "\n",
    "    E = PriorityQueue{Tuple{Symbol, Int, Int}, Float64}()  # Event queue\n",
    "    for i in 1:n                        # Initial demand events for each retailer\n",
    "        enqueue!(E, (:demand, i, 0), 0.0)\n",
    "    end\n",
    "\n",
    "    # State variables\n",
    "    S = Dict(\n",
    "        :q_r => copy(qmax_r),            # Inventory levels at retailers (vector)\n",
    "        :q_dc => qmax_dc,                # Inventory level at DCr\n",
    "    )\n",
    "\n",
    "    # Output log\n",
    "    out = DataFrame(t=Float64[], evt=Symbol[], loc=Int[], q_r=Vector{Int}[], q_dc=Int[])\n",
    "\n",
    "    id = 0\n",
    "    while !isempty(E)\n",
    "        (evt, i, _), t = dequeue_pair!(E)  # Get next event and time\n",
    "\n",
    "        t > t_stop && break              # Stop simulation if t > t_stop\n",
    "\n",
    "        if evt == :demand                # Schedule next demand event for retailer i\n",
    "            id += 1\n",
    "            enqueue!(E, (:demand, i, id), sch_r[i][1](t))\n",
    "\n",
    "            if S[:q_r][i] > 0            # Inventory available, fulfill demand\n",
    "                S[:q_r][i] -= 1\n",
    "                id += 1\n",
    "                enqueue!(E, (:ret2dc_order, i, id), t)  # Immediate order placement\n",
    "            end\n",
    "\n",
    "        elseif evt == :ret2dc_order      # Retailer i places order to DC\n",
    "            if S[:q_dc] > 0              # DC has inventory, fulfill retailer's order\n",
    "                S[:q_dc] -= 1\n",
    "\n",
    "                id += 1                  # Schedule arrival of inventory at retailer i\n",
    "                enqueue!(E, (:dc2ret_ship, i, id), sch_r[i][2](t))\n",
    "\n",
    "                id += 1                  # DC places immediate replenishment order\n",
    "                enqueue!(E, (:sup2dc_ship, 0, id), sch_dc(t))\n",
    "            else                         # DC is out of stock\n",
    "                id += 1                  # Schedule sup2dc2ret crossdock for backorder\n",
    "                enqueue!(E, (:sup2dc2ret_ship, i, id), sch_r[i][2](sch_dc(t)))\n",
    "            end\n",
    "\n",
    "        elseif evt == :dc2ret_ship        # Inventory arrives at retailer i from DC\n",
    "            S[:q_r][i] += 1\n",
    "\n",
    "        elseif evt == :sup2dc_ship        # DC's replenishment arrives from supplier\n",
    "            S[:q_dc] += 1\n",
    "        \n",
    "        elseif evt == :sup2dc2ret_ship    # Backorder arrives at retailer i\n",
    "            S[:q_r][i] += 1\n",
    "        end\n",
    "\n",
    "        push!(out, (t, evt, i, copy(S[:q_r]), S[:q_dc]))   # Log state\n",
    "    end\n",
    "\n",
    "    # Calculate metrics\n",
    "    π₀_r = zeros(n)\n",
    "    for i in 1:n\n",
    "        demands = [row for row in eachrow(out) if row.evt == :demand && row.loc == i]\n",
    "        stockouts = [row for row in demands if row.q_r[i] == 0]\n",
    "        π₀_r[i] = length(stockouts) / length(demands)\n",
    "    end\n",
    "\n",
    "    # Average inventory levels\n",
    "    q̄_r = [mean([row.q_r[i] for row in eachrow(out)]) for i in 1:n]\n",
    "    q̄_dc = mean([row.q_dc for row in eachrow(out)])\n",
    "\n",
    "    return π₀_r, q̄_r, q̄_dc, out\n",
    "end\n"
   ]
  },
  {
   "cell_type": "code",
   "execution_count": 19,
   "metadata": {},
   "outputs": [
    {
     "name": "stdout",
     "output_type": "stream",
     "text": [
      "π₀_r = [0.5300638226402419, 0.5152658662092624]\n",
      "q̄_r = [1.6841138659320478, 1.742653810835629]\n",
      "q̄_dc = 5.8007346189164375\n"
     ]
    }
   ],
   "source": [
    "qmax_r, qmax_dc = [8, 8], 30 \n",
    "rₐ = [3.0, 3.0]\n",
    "t_dc2ret = [1.0, 1.0]\n",
    "t_sup2dc = 7.0\n",
    "\n",
    "n = length(qmax_r)\n",
    "sch_r = [[] for _ in 1:n]\n",
    "for i = 1:n\n",
    "    sch_r[i], rng = [], Xoshiro(1234+i)                                          \n",
    "    push!(sch_r[i], t -> t + randexp(rng)/rₐ[i])\n",
    "    push!(sch_r[i], t -> t + t_dc2ret[i])\n",
    "end                                         \n",
    "sch_dc = t -> t + t_sup2dc\n",
    "\n",
    "t_stop = 1000.0\n",
    "π₀_r, q̄_r, q̄_dc, out = base_stock_two_echelon(qmax_r, qmax_dc, sch_r, sch_dc, t_stop)\n",
    "@show π₀_r\n",
    "@show q̄_r\n",
    "@show q̄_dc;"
   ]
  },
  {
   "cell_type": "code",
   "execution_count": 8,
   "metadata": {},
   "outputs": [
    {
     "name": "stderr",
     "output_type": "stream",
     "text": [
      "Excessive output truncated after 926366 bytes."
     ]
    },
    {
     "data": {
      "text/html": [
       "<div><div style = \"float: left;\"><span>15181×5 DataFrame</span></div><div style = \"float: right;\"><span style = \"font-style: italic;\">15156 rows omitted</span></div><div style = \"clear: both;\"></div></div><div class = \"data-frame\" style = \"overflow-x: scroll;\"><table class = \"data-frame\" style = \"margin-bottom: 6px;\"><thead><tr class = \"header\"><th class = \"rowNumber\" style = \"font-weight: bold; text-align: right;\">Row</th><th style = \"text-align: left;\">t</th><th style = \"text-align: left;\">evt</th><th style = \"text-align: left;\">loc</th><th style = \"text-align: left;\">q_r</th><th style = \"text-align: left;\">q_dc</th></tr><tr class = \"subheader headerLastRow\"><th class = \"rowNumber\" style = \"font-weight: bold; text-align: right;\"></th><th title = \"Float64\" style = \"text-align: left;\">Float64</th><th title = \"Symbol\" style = \"text-align: left;\">Symbol</th><th title = \"Int64\" style = \"text-align: left;\">Int64</th><th title = \"Vector{Int64}\" style = \"text-align: left;\">Array…</th><th title = \"Int64\" style = \"text-align: left;\">Int64</th></tr></thead><tbody><tr><td class = \"rowNumber\" style = \"font-weight: bold; text-align: right;\">1</td><td style = \"text-align: right;\">0.0</td><td style = \"text-align: left;\">demand</td><td style = \"text-align: right;\">1</td><td style = \"text-align: left;\">[7, 8]</td><td style = \"text-align: right;\">20</td></tr><tr><td class = \"rowNumber\" style = \"font-weight: bold; text-align: right;\">2</td><td style = \"text-align: right;\">0.0</td><td style = \"text-align: left;\">demand</td><td style = \"text-align: right;\">2</td><td style = \"text-align: left;\">[7, 7]</td><td style = \"text-align: right;\">20</td></tr><tr><td class = \"rowNumber\" style = \"font-weight: bold; text-align: right;\">3</td><td style = \"text-align: right;\">0.0</td><td style = \"text-align: left;\">ret2dc_order</td><td style = \"text-align: right;\">1</td><td style = \"text-align: left;\">[7, 7]</td><td style = \"text-align: right;\">19</td></tr><tr><td class = \"rowNumber\" style = \"font-weight: bold; text-align: right;\">4</td><td style = \"text-align: right;\">0.0</td><td style = \"text-align: left;\">ret2dc_order</td><td style = \"text-align: right;\">2</td><td style = \"text-align: left;\">[7, 7]</td><td style = \"text-align: right;\">18</td></tr><tr><td class = \"rowNumber\" style = \"font-weight: bold; text-align: right;\">5</td><td style = \"text-align: right;\">0.456446</td><td style = \"text-align: left;\">demand</td><td style = \"text-align: right;\">1</td><td style = \"text-align: left;\">[6, 7]</td><td style = \"text-align: right;\">18</td></tr><tr><td class = \"rowNumber\" style = \"font-weight: bold; text-align: right;\">6</td><td style = \"text-align: right;\">0.456446</td><td style = \"text-align: left;\">ret2dc_order</td><td style = \"text-align: right;\">1</td><td style = \"text-align: left;\">[6, 7]</td><td style = \"text-align: right;\">17</td></tr><tr><td class = \"rowNumber\" style = \"font-weight: bold; text-align: right;\">7</td><td style = \"text-align: right;\">0.572171</td><td style = \"text-align: left;\">demand</td><td style = \"text-align: right;\">1</td><td style = \"text-align: left;\">[5, 7]</td><td style = \"text-align: right;\">17</td></tr><tr><td class = \"rowNumber\" style = \"font-weight: bold; text-align: right;\">8</td><td style = \"text-align: right;\">0.572171</td><td style = \"text-align: left;\">ret2dc_order</td><td style = \"text-align: right;\">1</td><td style = \"text-align: left;\">[5, 7]</td><td style = \"text-align: right;\">16</td></tr><tr><td class = \"rowNumber\" style = \"font-weight: bold; text-align: right;\">9</td><td style = \"text-align: right;\">0.955705</td><td style = \"text-align: left;\">demand</td><td style = \"text-align: right;\">1</td><td style = \"text-align: left;\">[4, 7]</td><td style = \"text-align: right;\">16</td></tr><tr><td class = \"rowNumber\" style = \"font-weight: bold; text-align: right;\">10</td><td style = \"text-align: right;\">0.955705</td><td style = \"text-align: left;\">ret2dc_order</td><td style = \"text-align: right;\">1</td><td style = \"text-align: left;\">[4, 7]</td><td style = \"text-align: right;\">15</td></tr><tr><td class = \"rowNumber\" style = \"font-weight: bold; text-align: right;\">11</td><td style = \"text-align: right;\">1.0</td><td style = \"text-align: left;\">dc2ret_ship</td><td style = \"text-align: right;\">2</td><td style = \"text-align: left;\">[4, 8]</td><td style = \"text-align: right;\">15</td></tr><tr><td class = \"rowNumber\" style = \"font-weight: bold; text-align: right;\">12</td><td style = \"text-align: right;\">1.0</td><td style = \"text-align: left;\">dc2ret_ship</td><td style = \"text-align: right;\">1</td><td style = \"text-align: left;\">[5, 8]</td><td style = \"text-align: right;\">15</td></tr><tr><td class = \"rowNumber\" style = \"font-weight: bold; text-align: right;\">13</td><td style = \"text-align: right;\">1.11036</td><td style = \"text-align: left;\">demand</td><td style = \"text-align: right;\">1</td><td style = \"text-align: left;\">[4, 8]</td><td style = \"text-align: right;\">15</td></tr><tr><td style = \"text-align: right;\">&vellip;</td><td style = \"text-align: right;\">&vellip;</td><td style = \"text-align: right;\">&vellip;</td><td style = \"text-align: right;\">&vellip;</td><td style = \"text-align: right;\">&vellip;</td><td style = \"text-align: right;\">&vellip;</td></tr><tr><td class = \"rowNumber\" style = \"font-weight: bold; text-align: right;\">15170</td><td style = \"text-align: right;\">999.355</td><td style = \"text-align: left;\">dc2ret_ship</td><td style = \"text-align: right;\">1</td><td style = \"text-align: left;\">[2, 1]</td><td style = \"text-align: right;\">8</td></tr><tr><td class = \"rowNumber\" style = \"font-weight: bold; text-align: right;\">15171</td><td style = \"text-align: right;\">999.477</td><td style = \"text-align: left;\">sup2dc2ret_ship</td><td style = \"text-align: right;\">1</td><td style = \"text-align: left;\">[3, 1]</td><td style = \"text-align: right;\">8</td></tr><tr><td class = \"rowNumber\" style = \"font-weight: bold; text-align: right;\">15172</td><td style = \"text-align: right;\">999.478</td><td style = \"text-align: left;\">sup2dc2ret_ship</td><td style = \"text-align: right;\">1</td><td style = \"text-align: left;\">[4, 1]</td><td style = \"text-align: right;\">8</td></tr><tr><td class = \"rowNumber\" style = \"font-weight: bold; text-align: right;\">15173</td><td style = \"text-align: right;\">999.551</td><td style = \"text-align: left;\">demand</td><td style = \"text-align: right;\">1</td><td style = \"text-align: left;\">[3, 1]</td><td style = \"text-align: right;\">8</td></tr><tr><td class = \"rowNumber\" style = \"font-weight: bold; text-align: right;\">15174</td><td style = \"text-align: right;\">999.551</td><td style = \"text-align: left;\">ret2dc_order</td><td style = \"text-align: right;\">1</td><td style = \"text-align: left;\">[3, 1]</td><td style = \"text-align: right;\">7</td></tr><tr><td class = \"rowNumber\" style = \"font-weight: bold; text-align: right;\">15175</td><td style = \"text-align: right;\">999.632</td><td style = \"text-align: left;\">demand</td><td style = \"text-align: right;\">2</td><td style = \"text-align: left;\">[3, 0]</td><td style = \"text-align: right;\">7</td></tr><tr><td class = \"rowNumber\" style = \"font-weight: bold; text-align: right;\">15176</td><td style = \"text-align: right;\">999.632</td><td style = \"text-align: left;\">ret2dc_order</td><td style = \"text-align: right;\">2</td><td style = \"text-align: left;\">[3, 0]</td><td style = \"text-align: right;\">6</td></tr><tr><td class = \"rowNumber\" style = \"font-weight: bold; text-align: right;\">15177</td><td style = \"text-align: right;\">999.692</td><td style = \"text-align: left;\">dc2ret_ship</td><td style = \"text-align: right;\">2</td><td style = \"text-align: left;\">[3, 1]</td><td style = \"text-align: right;\">6</td></tr><tr><td class = \"rowNumber\" style = \"font-weight: bold; text-align: right;\">15178</td><td style = \"text-align: right;\">999.718</td><td style = \"text-align: left;\">demand</td><td style = \"text-align: right;\">1</td><td style = \"text-align: left;\">[2, 1]</td><td style = \"text-align: right;\">6</td></tr><tr><td class = \"rowNumber\" style = \"font-weight: bold; text-align: right;\">15179</td><td style = \"text-align: right;\">999.718</td><td style = \"text-align: left;\">ret2dc_order</td><td style = \"text-align: right;\">1</td><td style = \"text-align: left;\">[2, 1]</td><td style = \"text-align: right;\">5</td></tr><tr><td class = \"rowNumber\" style = \"font-weight: bold; text-align: right;\">15180</td><td style = \"text-align: right;\">999.858</td><td style = \"text-align: left;\">dc2ret_ship</td><td style = \"text-align: right;\">1</td><td style = \"text-align: left;\">[3, 1]</td><td style = \"text-align: right;\">5</td></tr><tr><td class = \"rowNumber\" style = \"font-weight: bold; text-align: right;\">15181</td><td style = \"text-align: right;\">999.892</td><td style = \"text-align: left;\">dc2ret_ship</td><td style = \"text-align: right;\">1</td><td style = \"text-align: left;\">[4, 1]</td><td style = \"text-align: right;\">5</td></tr></tbody></table></div>"
      ],
      "text/latex": [
       "\\begin{tabular}{r|ccccc}\n",
       "\t& t & evt & loc & q\\_r & q\\_dc\\\\\n",
       "\t\\hline\n",
       "\t& Float64 & Symbol & Int64 & Array… & Int64\\\\\n",
       "\t\\hline\n",
       "\t1 & 0.0 & demand & 1 & [7, 8] & 20 \\\\\n",
       "\t2 & 0.0 & demand & 2 & [7, 7] & 20 \\\\\n",
       "\t3 & 0.0 & ret2dc\\_order & 1 & [7, 7] & 19 \\\\\n",
       "\t4 & 0.0 & ret2dc\\_order & 2 & [7, 7] & 18 \\\\\n",
       "\t5 & 0.456446 & demand & 1 & [6, 7] & 18 \\\\\n",
       "\t6 & 0.456446 & ret2dc\\_order & 1 & [6, 7] & 17 \\\\\n",
       "\t7 & 0.572171 & demand & 1 & [5, 7] & 17 \\\\\n",
       "\t8 & 0.572171 & ret2dc\\_order & 1 & [5, 7] & 16 \\\\\n",
       "\t9 & 0.955705 & demand & 1 & [4, 7] & 16 \\\\\n",
       "\t10 & 0.955705 & ret2dc\\_order & 1 & [4, 7] & 15 \\\\\n",
       "\t11 & 1.0 & dc2ret\\_ship & 2 & [4, 8] & 15 \\\\\n",
       "\t12 & 1.0 & dc2ret\\_ship & 1 & [5, 8] & 15 \\\\\n",
       "\t13 & 1.11036 & demand & 1 & [4, 8] & 15 \\\\\n",
       "\t14 & 1.11036 & ret2dc\\_order & 1 & [4, 8] & 14 \\\\\n",
       "\t15 & 1.40027 & demand & 2 & [4, 7] & 14 \\\\\n",
       "\t16 & 1.40027 & ret2dc\\_order & 2 & [4, 7] & 13 \\\\\n",
       "\t17 & 1.42669 & demand & 2 & [4, 6] & 13 \\\\\n",
       "\t18 & 1.42669 & ret2dc\\_order & 2 & [4, 6] & 12 \\\\\n",
       "\t19 & 1.45645 & dc2ret\\_ship & 1 & [5, 6] & 12 \\\\\n",
       "\t20 & 1.57217 & dc2ret\\_ship & 1 & [6, 6] & 12 \\\\\n",
       "\t21 & 1.77306 & demand & 1 & [5, 6] & 12 \\\\\n",
       "\t22 & 1.77306 & ret2dc\\_order & 1 & [5, 6] & 11 \\\\\n",
       "\t23 & 1.81912 & demand & 1 & [4, 6] & 11 \\\\\n",
       "\t24 & 1.81912 & ret2dc\\_order & 1 & [4, 6] & 10 \\\\\n",
       "\t25 & 1.95571 & dc2ret\\_ship & 1 & [5, 6] & 10 \\\\\n",
       "\t26 & 1.96513 & demand & 1 & [4, 6] & 10 \\\\\n",
       "\t27 & 1.96513 & ret2dc\\_order & 1 & [4, 6] & 9 \\\\\n",
       "\t28 & 2.11036 & dc2ret\\_ship & 1 & [5, 6] & 9 \\\\\n",
       "\t29 & 2.21831 & demand & 1 & [4, 6] & 9 \\\\\n",
       "\t30 & 2.21831 & ret2dc\\_order & 1 & [4, 6] & 8 \\\\\n",
       "\t$\\dots$ & $\\dots$ & $\\dots$ & $\\dots$ & $\\dots$ & $\\dots$ \\\\\n",
       "\\end{tabular}\n"
      ],
      "text/plain": [
       "\u001b[1m15181×5 DataFrame\u001b[0m\n",
       "\u001b[1m   Row \u001b[0m│\u001b[1m t          \u001b[0m\u001b[1m evt             \u001b[0m\u001b[1m loc   \u001b[0m\u001b[1m q_r    \u001b[0m\u001b[1m q_dc  \u001b[0m\n",
       "       │\u001b[90m Float64    \u001b[0m\u001b[90m Symbol          \u001b[0m\u001b[90m Int64 \u001b[0m\u001b[90m Array… \u001b[0m\u001b[90m Int64 \u001b[0m\n",
       "───────┼───────────────────────────────────────────────────\n",
       "     1 │   0.0       demand               1  [7, 8]     20\n",
       "     2 │   0.0       demand               2  [7, 7]     20\n",
       "     3 │   0.0       ret2dc_order         1  [7, 7]     19\n",
       "     4 │   0.0       ret2dc_order         2  [7, 7]     18\n",
       "     5 │   0.456446  demand               1  [6, 7]     18\n",
       "     6 │   0.456446  ret2dc_order         1  [6, 7]     17\n",
       "     7 │   0.572171  demand               1  [5, 7]     17\n",
       "     8 │   0.572171  ret2dc_order         1  [5, 7]     16\n",
       "     9 │   0.955705  demand               1  [4, 7]     16\n",
       "    10 │   0.955705  ret2dc_order         1  [4, 7]     15\n",
       "    11 │   1.0       dc2ret_ship          2  [4, 8]     15\n",
       "   ⋮   │     ⋮              ⋮           ⋮      ⋮       ⋮\n",
       " 15172 │ 999.478     sup2dc2ret_ship      1  [4, 1]      8\n",
       " 15173 │ 999.551     demand               1  [3, 1]      8\n",
       " 15174 │ 999.551     ret2dc_order         1  [3, 1]      7\n",
       " 15175 │ 999.632     demand               2  [3, 0]      7\n",
       " 15176 │ 999.632     ret2dc_order         2  [3, 0]      6\n",
       " 15177 │ 999.692     dc2ret_ship          2  [3, 1]      6\n",
       " 15178 │ 999.718     demand               1  [2, 1]      6\n",
       " 15179 │ 999.718     ret2dc_order         1  [2, 1]      5\n",
       " 15180 │ 999.858     dc2ret_ship          1  [3, 1]      5\n",
       " 15181 │ 999.892     dc2ret_ship          1  [4, 1]      5\n",
       "\u001b[36m                                         15160 rows omitted\u001b[0m"
      ]
     },
     "execution_count": 8,
     "metadata": {},
     "output_type": "execute_result"
    }
   ],
   "source": [
    "@show out"
   ]
  },
  {
   "cell_type": "code",
   "execution_count": 4,
   "metadata": {},
   "outputs": [
    {
     "data": {
      "text/html": [
       "<div><div style = \"float: left;\"><span>875×5 DataFrame</span></div><div style = \"float: right;\"><span style = \"font-style: italic;\">850 rows omitted</span></div><div style = \"clear: both;\"></div></div><div class = \"data-frame\" style = \"overflow-x: scroll;\"><table class = \"data-frame\" style = \"margin-bottom: 6px;\"><thead><tr class = \"header\"><th class = \"rowNumber\" style = \"font-weight: bold; text-align: right;\">Row</th><th style = \"text-align: left;\">t</th><th style = \"text-align: left;\">evt</th><th style = \"text-align: left;\">loc</th><th style = \"text-align: left;\">q_r</th><th style = \"text-align: left;\">q_dc</th></tr><tr class = \"subheader headerLastRow\"><th class = \"rowNumber\" style = \"font-weight: bold; text-align: right;\"></th><th title = \"Float64\" style = \"text-align: left;\">Float64</th><th title = \"Symbol\" style = \"text-align: left;\">Symbol</th><th title = \"Int64\" style = \"text-align: left;\">Int64</th><th title = \"Vector{Int64}\" style = \"text-align: left;\">Array…</th><th title = \"Int64\" style = \"text-align: left;\">Int64</th></tr></thead><tbody><tr><td class = \"rowNumber\" style = \"font-weight: bold; text-align: right;\">1</td><td style = \"text-align: right;\">13.431</td><td style = \"text-align: left;\">sup2dc2ret_ship</td><td style = \"text-align: right;\">1</td><td style = \"text-align: left;\">[2, 1]</td><td style = \"text-align: right;\">13</td></tr><tr><td class = \"rowNumber\" style = \"font-weight: bold; text-align: right;\">2</td><td style = \"text-align: right;\">13.47</td><td style = \"text-align: left;\">sup2dc2ret_ship</td><td style = \"text-align: right;\">1</td><td style = \"text-align: left;\">[3, 1]</td><td style = \"text-align: right;\">13</td></tr><tr><td class = \"rowNumber\" style = \"font-weight: bold; text-align: right;\">3</td><td style = \"text-align: right;\">13.4785</td><td style = \"text-align: left;\">sup2dc2ret_ship</td><td style = \"text-align: right;\">1</td><td style = \"text-align: left;\">[4, 1]</td><td style = \"text-align: right;\">13</td></tr><tr><td class = \"rowNumber\" style = \"font-weight: bold; text-align: right;\">4</td><td style = \"text-align: right;\">13.6191</td><td style = \"text-align: left;\">sup2dc2ret_ship</td><td style = \"text-align: right;\">1</td><td style = \"text-align: left;\">[4, 0]</td><td style = \"text-align: right;\">11</td></tr><tr><td class = \"rowNumber\" style = \"font-weight: bold; text-align: right;\">5</td><td style = \"text-align: right;\">13.6471</td><td style = \"text-align: left;\">sup2dc2ret_ship</td><td style = \"text-align: right;\">2</td><td style = \"text-align: left;\">[3, 1]</td><td style = \"text-align: right;\">10</td></tr><tr><td class = \"rowNumber\" style = \"font-weight: bold; text-align: right;\">6</td><td style = \"text-align: right;\">14.0319</td><td style = \"text-align: left;\">sup2dc2ret_ship</td><td style = \"text-align: right;\">2</td><td style = \"text-align: left;\">[3, 3]</td><td style = \"text-align: right;\">10</td></tr><tr><td class = \"rowNumber\" style = \"font-weight: bold; text-align: right;\">7</td><td style = \"text-align: right;\">14.0383</td><td style = \"text-align: left;\">sup2dc2ret_ship</td><td style = \"text-align: right;\">2</td><td style = \"text-align: left;\">[3, 4]</td><td style = \"text-align: right;\">10</td></tr><tr><td class = \"rowNumber\" style = \"font-weight: bold; text-align: right;\">8</td><td style = \"text-align: right;\">14.4642</td><td style = \"text-align: left;\">sup2dc2ret_ship</td><td style = \"text-align: right;\">1</td><td style = \"text-align: left;\">[3, 3]</td><td style = \"text-align: right;\">9</td></tr><tr><td class = \"rowNumber\" style = \"font-weight: bold; text-align: right;\">9</td><td style = \"text-align: right;\">14.465</td><td style = \"text-align: left;\">sup2dc2ret_ship</td><td style = \"text-align: right;\">2</td><td style = \"text-align: left;\">[3, 4]</td><td style = \"text-align: right;\">9</td></tr><tr><td class = \"rowNumber\" style = \"font-weight: bold; text-align: right;\">10</td><td style = \"text-align: right;\">14.8347</td><td style = \"text-align: left;\">sup2dc2ret_ship</td><td style = \"text-align: right;\">1</td><td style = \"text-align: left;\">[5, 4]</td><td style = \"text-align: right;\">9</td></tr><tr><td class = \"rowNumber\" style = \"font-weight: bold; text-align: right;\">11</td><td style = \"text-align: right;\">15.515</td><td style = \"text-align: left;\">sup2dc2ret_ship</td><td style = \"text-align: right;\">1</td><td style = \"text-align: left;\">[3, 4]</td><td style = \"text-align: right;\">3</td></tr><tr><td class = \"rowNumber\" style = \"font-weight: bold; text-align: right;\">12</td><td style = \"text-align: right;\">15.6855</td><td style = \"text-align: left;\">sup2dc2ret_ship</td><td style = \"text-align: right;\">2</td><td style = \"text-align: left;\">[3, 6]</td><td style = \"text-align: right;\">4</td></tr><tr><td class = \"rowNumber\" style = \"font-weight: bold; text-align: right;\">13</td><td style = \"text-align: right;\">25.1261</td><td style = \"text-align: left;\">sup2dc2ret_ship</td><td style = \"text-align: right;\">2</td><td style = \"text-align: left;\">[1, 1]</td><td style = \"text-align: right;\">16</td></tr><tr><td style = \"text-align: right;\">&vellip;</td><td style = \"text-align: right;\">&vellip;</td><td style = \"text-align: right;\">&vellip;</td><td style = \"text-align: right;\">&vellip;</td><td style = \"text-align: right;\">&vellip;</td><td style = \"text-align: right;\">&vellip;</td></tr><tr><td class = \"rowNumber\" style = \"font-weight: bold; text-align: right;\">864</td><td style = \"text-align: right;\">990.305</td><td style = \"text-align: left;\">sup2dc2ret_ship</td><td style = \"text-align: right;\">1</td><td style = \"text-align: left;\">[1, 2]</td><td style = \"text-align: right;\">14</td></tr><tr><td class = \"rowNumber\" style = \"font-weight: bold; text-align: right;\">865</td><td style = \"text-align: right;\">990.387</td><td style = \"text-align: left;\">sup2dc2ret_ship</td><td style = \"text-align: right;\">1</td><td style = \"text-align: left;\">[2, 2]</td><td style = \"text-align: right;\">14</td></tr><tr><td class = \"rowNumber\" style = \"font-weight: bold; text-align: right;\">866</td><td style = \"text-align: right;\">990.495</td><td style = \"text-align: left;\">sup2dc2ret_ship</td><td style = \"text-align: right;\">2</td><td style = \"text-align: left;\">[2, 3]</td><td style = \"text-align: right;\">15</td></tr><tr><td class = \"rowNumber\" style = \"font-weight: bold; text-align: right;\">867</td><td style = \"text-align: right;\">990.56</td><td style = \"text-align: left;\">sup2dc2ret_ship</td><td style = \"text-align: right;\">2</td><td style = \"text-align: left;\">[2, 4]</td><td style = \"text-align: right;\">15</td></tr><tr><td class = \"rowNumber\" style = \"font-weight: bold; text-align: right;\">868</td><td style = \"text-align: right;\">990.682</td><td style = \"text-align: left;\">sup2dc2ret_ship</td><td style = \"text-align: right;\">1</td><td style = \"text-align: left;\">[2, 4]</td><td style = \"text-align: right;\">14</td></tr><tr><td class = \"rowNumber\" style = \"font-weight: bold; text-align: right;\">869</td><td style = \"text-align: right;\">990.683</td><td style = \"text-align: left;\">sup2dc2ret_ship</td><td style = \"text-align: right;\">1</td><td style = \"text-align: left;\">[3, 4]</td><td style = \"text-align: right;\">14</td></tr><tr><td class = \"rowNumber\" style = \"font-weight: bold; text-align: right;\">870</td><td style = \"text-align: right;\">990.895</td><td style = \"text-align: left;\">sup2dc2ret_ship</td><td style = \"text-align: right;\">1</td><td style = \"text-align: left;\">[3, 5]</td><td style = \"text-align: right;\">13</td></tr><tr><td class = \"rowNumber\" style = \"font-weight: bold; text-align: right;\">871</td><td style = \"text-align: right;\">991.048</td><td style = \"text-align: left;\">sup2dc2ret_ship</td><td style = \"text-align: right;\">1</td><td style = \"text-align: left;\">[2, 5]</td><td style = \"text-align: right;\">10</td></tr><tr><td class = \"rowNumber\" style = \"font-weight: bold; text-align: right;\">872</td><td style = \"text-align: right;\">991.057</td><td style = \"text-align: left;\">sup2dc2ret_ship</td><td style = \"text-align: right;\">1</td><td style = \"text-align: left;\">[3, 5]</td><td style = \"text-align: right;\">10</td></tr><tr><td class = \"rowNumber\" style = \"font-weight: bold; text-align: right;\">873</td><td style = \"text-align: right;\">991.263</td><td style = \"text-align: left;\">sup2dc2ret_ship</td><td style = \"text-align: right;\">1</td><td style = \"text-align: left;\">[4, 5]</td><td style = \"text-align: right;\">11</td></tr><tr><td class = \"rowNumber\" style = \"font-weight: bold; text-align: right;\">874</td><td style = \"text-align: right;\">991.269</td><td style = \"text-align: left;\">sup2dc2ret_ship</td><td style = \"text-align: right;\">2</td><td style = \"text-align: left;\">[4, 6]</td><td style = \"text-align: right;\">11</td></tr><tr><td class = \"rowNumber\" style = \"font-weight: bold; text-align: right;\">875</td><td style = \"text-align: right;\">991.689</td><td style = \"text-align: left;\">sup2dc2ret_ship</td><td style = \"text-align: right;\">2</td><td style = \"text-align: left;\">[1, 7]</td><td style = \"text-align: right;\">7</td></tr></tbody></table></div>"
      ],
      "text/latex": [
       "\\begin{tabular}{r|ccccc}\n",
       "\t& t & evt & loc & q\\_r & q\\_dc\\\\\n",
       "\t\\hline\n",
       "\t& Float64 & Symbol & Int64 & Array… & Int64\\\\\n",
       "\t\\hline\n",
       "\t1 & 13.431 & sup2dc2ret\\_ship & 1 & [2, 1] & 13 \\\\\n",
       "\t2 & 13.47 & sup2dc2ret\\_ship & 1 & [3, 1] & 13 \\\\\n",
       "\t3 & 13.4785 & sup2dc2ret\\_ship & 1 & [4, 1] & 13 \\\\\n",
       "\t4 & 13.6191 & sup2dc2ret\\_ship & 1 & [4, 0] & 11 \\\\\n",
       "\t5 & 13.6471 & sup2dc2ret\\_ship & 2 & [3, 1] & 10 \\\\\n",
       "\t6 & 14.0319 & sup2dc2ret\\_ship & 2 & [3, 3] & 10 \\\\\n",
       "\t7 & 14.0383 & sup2dc2ret\\_ship & 2 & [3, 4] & 10 \\\\\n",
       "\t8 & 14.4642 & sup2dc2ret\\_ship & 1 & [3, 3] & 9 \\\\\n",
       "\t9 & 14.465 & sup2dc2ret\\_ship & 2 & [3, 4] & 9 \\\\\n",
       "\t10 & 14.8347 & sup2dc2ret\\_ship & 1 & [5, 4] & 9 \\\\\n",
       "\t11 & 15.515 & sup2dc2ret\\_ship & 1 & [3, 4] & 3 \\\\\n",
       "\t12 & 15.6855 & sup2dc2ret\\_ship & 2 & [3, 6] & 4 \\\\\n",
       "\t13 & 25.1261 & sup2dc2ret\\_ship & 2 & [1, 1] & 16 \\\\\n",
       "\t14 & 25.3399 & sup2dc2ret\\_ship & 1 & [2, 0] & 16 \\\\\n",
       "\t15 & 25.4049 & sup2dc2ret\\_ship & 1 & [2, 0] & 16 \\\\\n",
       "\t16 & 25.4527 & sup2dc2ret\\_ship & 1 & [3, 0] & 16 \\\\\n",
       "\t17 & 25.5207 & sup2dc2ret\\_ship & 2 & [2, 1] & 16 \\\\\n",
       "\t18 & 25.6294 & sup2dc2ret\\_ship & 2 & [2, 1] & 15 \\\\\n",
       "\t19 & 25.7727 & sup2dc2ret\\_ship & 2 & [4, 2] & 15 \\\\\n",
       "\t20 & 26.6954 & sup2dc2ret\\_ship & 2 & [3, 3] & 12 \\\\\n",
       "\t21 & 27.1674 & sup2dc2ret\\_ship & 2 & [2, 5] & 11 \\\\\n",
       "\t22 & 27.2064 & sup2dc2ret\\_ship & 2 & [2, 6] & 11 \\\\\n",
       "\t23 & 27.5186 & sup2dc2ret\\_ship & 1 & [3, 7] & 11 \\\\\n",
       "\t24 & 27.572 & sup2dc2ret\\_ship & 2 & [3, 7] & 10 \\\\\n",
       "\t25 & 27.6899 & sup2dc2ret\\_ship & 1 & [4, 7] & 9 \\\\\n",
       "\t26 & 38.4893 & sup2dc2ret\\_ship & 1 & [3, 0] & 5 \\\\\n",
       "\t27 & 38.5351 & sup2dc2ret\\_ship & 2 & [3, 1] & 5 \\\\\n",
       "\t28 & 38.6313 & sup2dc2ret\\_ship & 1 & [4, 1] & 5 \\\\\n",
       "\t29 & 38.7278 & sup2dc2ret\\_ship & 1 & [5, 1] & 5 \\\\\n",
       "\t30 & 38.7911 & sup2dc2ret\\_ship & 1 & [6, 1] & 5 \\\\\n",
       "\t$\\dots$ & $\\dots$ & $\\dots$ & $\\dots$ & $\\dots$ & $\\dots$ \\\\\n",
       "\\end{tabular}\n"
      ],
      "text/plain": [
       "\u001b[1m875×5 DataFrame\u001b[0m\n",
       "\u001b[1m Row \u001b[0m│\u001b[1m t        \u001b[0m\u001b[1m evt             \u001b[0m\u001b[1m loc   \u001b[0m\u001b[1m q_r    \u001b[0m\u001b[1m q_dc  \u001b[0m\n",
       "     │\u001b[90m Float64  \u001b[0m\u001b[90m Symbol          \u001b[0m\u001b[90m Int64 \u001b[0m\u001b[90m Array… \u001b[0m\u001b[90m Int64 \u001b[0m\n",
       "─────┼─────────────────────────────────────────────────\n",
       "   1 │  13.431   sup2dc2ret_ship      1  [2, 1]     13\n",
       "   2 │  13.47    sup2dc2ret_ship      1  [3, 1]     13\n",
       "   3 │  13.4785  sup2dc2ret_ship      1  [4, 1]     13\n",
       "   4 │  13.6191  sup2dc2ret_ship      1  [4, 0]     11\n",
       "   5 │  13.6471  sup2dc2ret_ship      2  [3, 1]     10\n",
       "   6 │  14.0319  sup2dc2ret_ship      2  [3, 3]     10\n",
       "   7 │  14.0383  sup2dc2ret_ship      2  [3, 4]     10\n",
       "   8 │  14.4642  sup2dc2ret_ship      1  [3, 3]      9\n",
       "   9 │  14.465   sup2dc2ret_ship      2  [3, 4]      9\n",
       "  10 │  14.8347  sup2dc2ret_ship      1  [5, 4]      9\n",
       "  11 │  15.515   sup2dc2ret_ship      1  [3, 4]      3\n",
       "  ⋮  │    ⋮             ⋮           ⋮      ⋮       ⋮\n",
       " 866 │ 990.495   sup2dc2ret_ship      2  [2, 3]     15\n",
       " 867 │ 990.56    sup2dc2ret_ship      2  [2, 4]     15\n",
       " 868 │ 990.682   sup2dc2ret_ship      1  [2, 4]     14\n",
       " 869 │ 990.683   sup2dc2ret_ship      1  [3, 4]     14\n",
       " 870 │ 990.895   sup2dc2ret_ship      1  [3, 5]     13\n",
       " 871 │ 991.048   sup2dc2ret_ship      1  [2, 5]     10\n",
       " 872 │ 991.057   sup2dc2ret_ship      1  [3, 5]     10\n",
       " 873 │ 991.263   sup2dc2ret_ship      1  [4, 5]     11\n",
       " 874 │ 991.269   sup2dc2ret_ship      2  [4, 6]     11\n",
       " 875 │ 991.689   sup2dc2ret_ship      2  [1, 7]      7\n",
       "\u001b[36m                                       854 rows omitted\u001b[0m"
      ]
     },
     "execution_count": 4,
     "metadata": {},
     "output_type": "execute_result"
    }
   ],
   "source": [
    "filter(r -> r.evt == :sup2dc2ret_ship, out)"
   ]
  },
  {
   "cell_type": "code",
   "execution_count": null,
   "metadata": {},
   "outputs": [],
   "source": []
  }
 ],
 "metadata": {
  "kernelspec": {
   "display_name": "Julia 1.10.4",
   "language": "julia",
   "name": "julia-1.10"
  },
  "language_info": {
   "file_extension": ".jl",
   "mimetype": "application/julia",
   "name": "julia",
   "version": "1.10.4"
  }
 },
 "nbformat": 4,
 "nbformat_minor": 4
}
