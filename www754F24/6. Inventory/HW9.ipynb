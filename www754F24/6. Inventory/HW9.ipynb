{
 "cells": [
  {
   "cell_type": "markdown",
   "metadata": {},
   "source": [
    "# HW 9: Inventory\n",
    "---\n",
    "`ISE 754, Fall 2024`\n",
    "\n",
    "__Assigned:__ Mon, 6 Nov (Individual Assignment)  \n",
    "__Due:__ 10:00a, Mon, 2 Dec  \n",
    "\n",
    "Solve question 1 by hand (you can submit a scanned copy of your solution, or you can turn in a paper copy in class), and then, for all the other questions, use the Code cells in this Jupyter Notebook to answer the questions. Please run all the cells in your notebook and then submit it as a .ipynb file, along with a .html or .pdf copy, via Moodle. (There is a _Run All Cells_ command under the _Run_ menu.)\n"
   ]
  },
  {
   "attachments": {},
   "cell_type": "markdown",
   "metadata": {},
   "source": [
    "---\n",
    "__(1)__ A factory in Savannah is considering two suppliers for a component with an annual demand of 300 tons. The first is located in Monterrey, Mexico, and can provide each ton at \\\\$12,000 and ship each three-day-in-transit 15-ton truckload for \\\\$5,000. The second supplier is located in Busan, South Korea, and can provide each ton at \\\\$11,500 and ship each 45-day-in-transit 15-ton container for \\\\$2700. Each ton of components loses 10% of its value every month. Which supplier should be selected?"
   ]
  },
  {
   "attachments": {},
   "cell_type": "markdown",
   "metadata": {},
   "source": [
    "---\n",
    "__(2)__ Use the 7-weeks of data in the file `HW9data.csv` to answer the following questions:\n",
    "\n",
    "(a) Determine the total profit for all of the procedures listed in the last table of the _Inv 1_ notebook except for multiple regression (this is because there are no website visitor data in the file)."
   ]
  },
  {
   "cell_type": "code",
   "execution_count": null,
   "metadata": {},
   "outputs": [],
   "source": []
  },
  {
   "cell_type": "markdown",
   "metadata": {},
   "source": [
    "(b) Determine what day 50's size should be if 350 orders have been received at the beginning of day."
   ]
  },
  {
   "cell_type": "code",
   "execution_count": null,
   "metadata": {},
   "outputs": [],
   "source": []
  },
  {
   "cell_type": "markdown",
   "metadata": {},
   "source": [
    "(c) The \\\\$1 cost to bake each loaf of bread used in the analysis only includes the cost of ingredients and the direct labor cost of the baker. It has been estimated that it cost an additional \\\\$500 to fuel the oven each day for baking the bread, irrespective of the number of loaves baked in the oven. Since order data is available each morning, determine the impact on total profits if no bread were baked any day that the orders were below a threshold of 100, thereby saving \\$500 for that day."
   ]
  },
  {
   "cell_type": "code",
   "execution_count": null,
   "metadata": {},
   "outputs": [],
   "source": []
  },
  {
   "cell_type": "markdown",
   "metadata": {},
   "source": [
    "(d) Describe (in words, no code) a possible procedure to determine the optimal threshold to use.\n",
    "\n",
    "_Your Procedure:_ Make the threshold value a variable in your procedure and then determine the threshold value that maximizes profit. All thresholds from one to the maximum order value in the data can be used to find the optimal threshold."
   ]
  },
  {
   "cell_type": "markdown",
   "metadata": {},
   "source": [
    "---\n",
    "__(3)__ A firm runs a wilderness adventure program and, at the beginning of each month, purchases a pass to a national park for each customer attending the program at any time during the month because the passes sell out quickly. Unused passes cannot be returned and are illegal to resell. Each pass costs \\\\$250, and each customer pays \\\\$850 to attend the program. The number of customers per month over the past year has been\n",
    "\n",
    "    143, 256, 459, 209, 247, 281, 100, 133, 270, 480, 284, 410\n",
    "\n",
    "and the number of preorders has been\n",
    "\n",
    "    52, 128, 167, 105, 244, 193, 81, 76, 217, 468, 195, 341\n",
    "    \n",
    "Determine how many passes should be purchased for next month, given that there have already been 190 preorders received for next month's program."
   ]
  },
  {
   "cell_type": "code",
   "execution_count": null,
   "metadata": {},
   "outputs": [],
   "source": []
  },
  {
   "cell_type": "markdown",
   "metadata": {},
   "source": [
    "---\n",
    "__(4)__ A base stock inventory policy will be used to stock widgets at an industrial supply store that is open five days per week, fifty weeks per year. Demand for the widgets averages 12 units per day. Each widget can be sold for \\\\$12, cost \\\\$9, takes exactly two working days to be received from its supplier and loses all of its value after six months. Determine the maximum stocking level for the widgets assuming that the widgets cannot be backordered."
   ]
  },
  {
   "cell_type": "code",
   "execution_count": null,
   "metadata": {},
   "outputs": [],
   "source": []
  },
  {
   "cell_type": "markdown",
   "metadata": {},
   "source": [
    "---\n",
    "__(5)__ Explain why it is necessary to include ordering cost in the total profit associated with the order point inventory model but not in the base stock model.\n",
    "\n",
    "_Your Answer:_ "
   ]
  },
  {
   "cell_type": "markdown",
   "metadata": {},
   "source": [
    "---\n",
    "__(6)__ Using the same example as in notebook _Inv 3_, modify the way DC stockouts are handled so that when a backorder arrives at the DC, it is shipped to a retailer who has the least amount of inventory in stock. Run the modified simulation for the same set of parameters as used in the notebook and report the results."
   ]
  },
  {
   "cell_type": "code",
   "execution_count": null,
   "metadata": {},
   "outputs": [],
   "source": []
  }
 ],
 "metadata": {
  "kernelspec": {
   "display_name": "Julia 1.10.4",
   "language": "julia",
   "name": "julia-1.10"
  },
  "language_info": {
   "file_extension": ".jl",
   "mimetype": "application/julia",
   "name": "julia",
   "version": "1.10.4"
  }
 },
 "nbformat": 4,
 "nbformat_minor": 4
}
