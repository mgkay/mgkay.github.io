{
 "cells": [
  {
   "cell_type": "code",
   "execution_count": 36,
   "id": "9e2a505c-d068-4b5f-af0c-27404746614d",
   "metadata": {},
   "outputs": [
    {
     "name": "stdout",
     "output_type": "stream",
     "text": [
      "IC_FTL\t= 45,833.33 ($/yr)\n"
     ]
    }
   ],
   "source": [
    "using Printf\n",
    "\n",
    "uwt = 40                                                     # lb\n",
    "ucu = 9                                                      # ft3\n",
    "s = uwt/ucu                                                  # lb/ft3\n",
    "Kwt = 25                                                     # ton\n",
    "Kcu = 2750                                                   # ft3\n",
    "qmax = min(Kwt, s*Kcu/2000)                                  # ton\n",
    "\n",
    "a = 1\n",
    "v = 25000                                                    # $/ton\n",
    "h = 0.3                                                      # 1/yr\n",
    "\n",
    "using Printf\n",
    "\n",
    "function prt(value, label, units=\"\", digits=2)\n",
    "    fmtval = split(Printf.format(Printf.Format(\"%.\"*string(digits)*\"f\"),value),\".\")\n",
    "    fmtval[1] = reverse(join(Iterators.partition(reverse(fmtval[1]), 3), \",\"))\n",
    "    println(\"$label\\t= $(join(fmtval, \".\")) $units\")\n",
    "    return value\n",
    "end\n",
    "k = prt(a*v*h*qmax, \"IC_FTL\", \"(\\$/yr)\");"
   ]
  },
  {
   "cell_type": "code",
   "execution_count": 34,
   "id": "acd1710c-e510-47c9-8ddb-b1d66352af13",
   "metadata": {},
   "outputs": [
    {
     "data": {
      "text/plain": [
       "\"%.2f\""
      ]
     },
     "execution_count": 34,
     "metadata": {},
     "output_type": "execute_result"
    }
   ],
   "source": [
    "fmt = \"%.\"*string(2)*\"f\""
   ]
  }
 ],
 "metadata": {
  "kernelspec": {
   "display_name": "Julia 1.10.4",
   "language": "julia",
   "name": "julia-1.10"
  },
  "language_info": {
   "file_extension": ".jl",
   "mimetype": "application/julia",
   "name": "julia",
   "version": "1.10.4"
  }
 },
 "nbformat": 4,
 "nbformat_minor": 5
}
