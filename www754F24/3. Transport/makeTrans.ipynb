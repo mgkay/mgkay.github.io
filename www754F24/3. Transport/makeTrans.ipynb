{
 "cells": [
  {
   "cell_type": "code",
   "execution_count": 36,
   "id": "9e2a505c-d068-4b5f-af0c-27404746614d",
   "metadata": {},
   "outputs": [
    {
     "name": "stdout",
     "output_type": "stream",
     "text": [
      "IC_FTL\t= 45,833.33 ($/yr)\n"
     ]
    }
   ],
   "source": [
    "using Printf\n",
    "\n",
    "uwt = 40                                                     # lb\n",
    "ucu = 9                                                      # ft3\n",
    "s = uwt/ucu                                                  # lb/ft3\n",
    "Kwt = 25                                                     # ton\n",
    "Kcu = 2750                                                   # ft3\n",
    "qmax = min(Kwt, s*Kcu/2000)                                  # ton\n",
    "\n",
    "a = 1\n",
    "v = 25000                                                    # $/ton\n",
    "h = 0.3                                                      # 1/yr\n",
    "\n",
    "using Printf\n",
    "\n",
    "function prt(value, label, units=\"\", digits=2)\n",
    "    fmtval = split(Printf.format(Printf.Format(\"%.\"*string(digits)*\"f\"),value),\".\")\n",
    "    fmtval[1] = reverse(join(Iterators.partition(reverse(fmtval[1]), 3), \",\"))\n",
    "    println(\"$label\\t= $(join(fmtval, \".\")) $units\")\n",
    "    return value\n",
    "end\n",
    "k = prt(a*v*h*qmax, \"IC_FTL\", \"(\\$/yr)\");"
   ]
  },
  {
   "cell_type": "code",
   "execution_count": 34,
   "id": "acd1710c-e510-47c9-8ddb-b1d66352af13",
   "metadata": {},
   "outputs": [
    {
     "data": {
      "text/plain": [
       "\"%.2f\""
      ]
     },
     "execution_count": 34,
     "metadata": {},
     "output_type": "execute_result"
    }
   ],
   "source": [
    "fmt = \"%.\"*string(2)*\"f\""
   ]
  },
  {
   "cell_type": "code",
   "execution_count": 39,
   "id": "f557f426-dfe8-402c-ae0a-b0e450635783",
   "metadata": {},
   "outputs": [
    {
     "data": {
      "text/plain": [
       "25"
      ]
     },
     "execution_count": 39,
     "metadata": {},
     "output_type": "execute_result"
    }
   ],
   "source": [
    "tr = (Kwt = 25, Kcu = 2750)\n"
   ]
  },
  {
   "cell_type": "code",
   "execution_count": 1,
   "id": "e20cccc0-9835-4763-a84b-b43a9adabd3d",
   "metadata": {},
   "outputs": [
    {
     "name": "stdout",
     "output_type": "stream",
     "text": [
      "Original DataFrame:\n",
      "\u001b[1m4×3 DataFrame\u001b[0m\n",
      "\u001b[1m Row \u001b[0m│\u001b[1m A            \u001b[0m\u001b[1m B            \u001b[0m\u001b[1m C         \u001b[0m\n",
      "     │\u001b[90m Any          \u001b[0m\u001b[90m Any          \u001b[0m\u001b[90m Float64   \u001b[0m\n",
      "─────┼───────────────────────────────────────\n",
      "   1 │ 1234.57       Text          9.87654e6\n",
      "   2 │ 9876.54       5678.9        1.23457e6\n",
      "   3 │ Not a number  1234.57       5.6789e6\n",
      "   4 │ 1.0e6         Another text  4.3211e6\n",
      "\n",
      "Formatted DataFrame:\n",
      "\u001b[1m4×3 DataFrame\u001b[0m\n",
      "\u001b[1m Row \u001b[0m│\u001b[1m A              \u001b[0m\u001b[1m B            \u001b[0m\u001b[1m C              \u001b[0m\n",
      "     │\u001b[90m String         \u001b[0m\u001b[90m Any          \u001b[0m\u001b[90m String         \u001b[0m\n",
      "─────┼──────────────────────────────────────────────\n",
      "   1 │ 1,234.57        Text          9.87,654,321e6\n",
      "   2 │ 9,876.54        5678.9        1.23,456,789e6\n",
      "   3 │ Not a number    1234.57       5.67,890,123e6\n",
      "   4 │ 1.00,000,001e6  Another text  4.32,109,876e6\n",
      "\n",
      "Final Formatted DataFrame:\n",
      "\u001b[1m4×3 DataFrame\u001b[0m\n",
      "\u001b[1m Row \u001b[0m│\u001b[1m A              \u001b[0m\u001b[1m B            \u001b[0m\u001b[1m C              \u001b[0m\n",
      "     │\u001b[90m String         \u001b[0m\u001b[90m String       \u001b[0m\u001b[90m String         \u001b[0m\n",
      "─────┼──────────────────────────────────────────────\n",
      "   1 │ 1,234.57        Text          9.87,654,321e6\n",
      "   2 │ 9,876.54        5,678.901     1.23,456,789e6\n",
      "   3 │ Not a number    1,234.568     5.67,890,123e6\n",
      "   4 │ 1.00,000,001e6  Another text  4.32,109,876e6\n"
     ]
    }
   ],
   "source": [
    "using DataFrames\n",
    "\n",
    "function format_columns(df::DataFrame, columns::Vector{Symbol}, digits::Int=2)\n",
    "    for col in columns\n",
    "        df[!, col] = map(df[!, col]) do value\n",
    "            if value isa Number\n",
    "                return string(round(value, digits=digits)) |> \n",
    "                       x -> replace(x, r\"(?<=[0-9])(?=(?:[0-9]{3})+(?![0-9]))\" => \",\")\n",
    "            else\n",
    "                return value\n",
    "            end\n",
    "        end\n",
    "    end\n",
    "    return df\n",
    "end\n",
    "\n",
    "# Create a sample DataFrame\n",
    "df = DataFrame(\n",
    "    A = [1234.5678, 9876.5432, \"Not a number\", 1000000.01],\n",
    "    B = [\"Text\", 5678.9012, 1234.5678, \"Another text\"],\n",
    "    C = [9876543.21, 1234567.89, 5678901.23, 4321098.76]\n",
    ")\n",
    "\n",
    "println(\"Original DataFrame:\")\n",
    "println(df)\n",
    "\n",
    "# Format columns A and C with 2 decimal places\n",
    "formatted_df = format_columns(df, [:A, :C])\n",
    "\n",
    "println(\"\\nFormatted DataFrame:\")\n",
    "println(formatted_df)\n",
    "\n",
    "# Format column B with 3 decimal places\n",
    "formatted_df = format_columns(formatted_df, [:B], 3)\n",
    "\n",
    "println(\"\\nFinal Formatted DataFrame:\")\n",
    "println(formatted_df)\n",
    "\n",
    "\n"
   ]
  },
  {
   "cell_type": "code",
   "execution_count": null,
   "id": "02a92b07-eb39-4683-8d46-aaade6641442",
   "metadata": {},
   "outputs": [],
   "source": []
  }
 ],
 "metadata": {
  "kernelspec": {
   "display_name": "Julia 1.10.4",
   "language": "julia",
   "name": "julia-1.10"
  },
  "language_info": {
   "file_extension": ".jl",
   "mimetype": "application/julia",
   "name": "julia",
   "version": "1.10.4"
  }
 },
 "nbformat": 4,
 "nbformat_minor": 5
}
