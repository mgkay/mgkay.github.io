{
 "cells": [
  {
   "cell_type": "markdown",
   "metadata": {},
   "source": [
    "# 3. Transport 3: Periodic Truck Shipments\n",
    "`ISE 754, Fall 2024`\n",
    "\n",
    "__Package Used:__ No new packages used."
   ]
  },
  {
   "cell_type": "markdown",
   "metadata": {},
   "source": [
    "## Ex: Truck Shipment Example (cont.)\n",
    "\n",
    "* Product shipped in cartons from Raleigh, NC (27606) to Gainesville, FL (32606)\n",
    "* Each identical carton weighs 40 lb and occupies 9 ft<sup>3</sup> (its cube)\n",
    "* Don’t know the linear dimensions of each unit for TL and LTL\n",
    "* Cartons can be stacked on top of each other in a trailer\n",
    "* Additional info/data is presented only when it is needed to determine the answer\n",
    "\n",
    "__9.__ Continuing with the example: assuming a constant annual demand for the product of 20 tons, what is the number of full truckloads per year?"
   ]
  },
  {
   "cell_type": "code",
   "execution_count": 1,
   "metadata": {},
   "outputs": [
    {
     "name": "stdout",
     "output_type": "stream",
     "text": [
      "s\t= 4.4444 (lb/ft3)\n",
      "qmax\t= 6.11 (ton)\n",
      "n\t= 3.27 (TL/yr)\n"
     ]
    }
   ],
   "source": [
    "using Printf\n",
    "\n",
    "function prt(value, label, units=\"\", digits=2)\n",
    "    fmtval = split(Printf.format(Printf.Format(\"%.\"*string(digits)*\"f\"),value),\".\")\n",
    "    fmtval[1] = reverse(join(Iterators.partition(reverse(fmtval[1]), 3), \",\"))\n",
    "    println(\"$label\\t= $(join(fmtval, \".\")) $units\")\n",
    "    return value\n",
    "end\n",
    "\n",
    "# Previous:\n",
    "uwt = 40                                                     # lb\n",
    "ucu = 9                                                      # ft3\n",
    "s = prt( uwt/ucu, \"s\", \"(lb/ft3)\", 4)\n",
    "Kwt = 25                                                     # ton\n",
    "Kcu = 2750                                                   # ft3\n",
    "qmax = prt( min(Kwt, s*Kcu/2000), \"qmax\", \"(ton)\")\n",
    "\n",
    "# New:\n",
    "f = 20                                                       # ton/yr\n",
    "q = qmax                                                     # ton (FTL => q = qmax)\n",
    "n = prt( f/q, \"n\", \"(TL/yr)\");"
   ]
  },
  {
   "cell_type": "markdown",
   "metadata": {},
   "source": [
    "__10.__ What is the shipment interval?"
   ]
  },
  {
   "cell_type": "code",
   "execution_count": 2,
   "metadata": {
    "tags": []
   },
   "outputs": [
    {
     "name": "stdout",
     "output_type": "stream",
     "text": [
      "t\t\t= 0.31 (yr/TL)\n",
      "Days b/w TLs\t= 111.60 (day/TL)\n"
     ]
    }
   ],
   "source": [
    "t = prt( q/f, \"t\\t\", \"(yr/TL)\")\n",
    "prt( 365.25/n, \"Days b/w TLs\", \"(day/TL)\");"
   ]
  },
  {
   "cell_type": "markdown",
   "metadata": {},
   "source": [
    "__11.__ What is the annual full-truckload transport cost?"
   ]
  },
  {
   "cell_type": "code",
   "execution_count": 3,
   "metadata": {
    "tags": []
   },
   "outputs": [
    {
     "name": "stdout",
     "output_type": "stream",
     "text": [
      "rTL\t= 2.55 ($/mi)\n",
      "rFTL\t= 0.42 ($/ton-mi)\n",
      "TC_FTL\t= 4,441.73 ($/yr)\n"
     ]
    }
   ],
   "source": [
    "d = 532                                                      # Google Maps road distance\n",
    "ppiTL = 131.0                                                # TL PPI for Jan 2018\n",
    "rTL = prt( 2.00ppiTL/102.7, \"rTL\", \"(\\$/mi)\")\n",
    "rFTL = prt( rTL/qmax, \"rFTL\", \"(\\$/ton-mi)\")\n",
    "TC_FTL = prt( n * rTL * d, \"TC_FTL\", \"(\\$/yr)\");"
   ]
  },
  {
   "cell_type": "markdown",
   "metadata": {},
   "source": [
    "What would be the cost if the shipments were to be made at least every three months?"
   ]
  },
  {
   "cell_type": "code",
   "execution_count": 4,
   "metadata": {
    "tags": []
   },
   "outputs": [
    {
     "name": "stdout",
     "output_type": "stream",
     "text": [
      "tmax\t= 0.25 (yr/TL)\n",
      "nmin\t= 4.00 (TL/yr)\n",
      "q\t= 5.00 (ton)\n",
      "TC′_FTL\t= 5,428.78 ($/yr)\n"
     ]
    }
   ],
   "source": [
    "tmax = prt( 3/12, \"tmax\", \"(yr/TL)\")\n",
    "nmin = prt( 1/tmax, \"nmin\", \"(TL/yr)\")\n",
    "q = prt( f/max(n, nmin), \"q\", \"(ton)\")\n",
    "TC′_FTL = prt( max(n, nmin) * rTL * d, \"TC′_FTL\", \"(\\$/yr)\");"
   ]
  },
  {
   "attachments": {},
   "cell_type": "markdown",
   "metadata": {},
   "source": [
    "__12.__ “Reasonable estimate” for the total annual cost for the cycle inventory:"
   ]
  },
  {
   "cell_type": "code",
   "execution_count": 5,
   "metadata": {
    "tags": []
   },
   "outputs": [
    {
     "name": "stdout",
     "output_type": "stream",
     "text": [
      "IC_FTL\t= 45,833.33 ($/yr)\n"
     ]
    }
   ],
   "source": [
    "α = 1\n",
    "v = 25000                                                    # $/ton\n",
    "h = 0.3                                                      # 1/yr\n",
    "IC_FTL = prt( α*v*h*qmax, \"IC_FTL\", \"(\\$/yr)\");"
   ]
  },
  {
   "cell_type": "markdown",
   "metadata": {},
   "source": [
    "__13.__ What is the annual total logistics cost (TLC) for these full-truckload TL shipments?\n"
   ]
  },
  {
   "cell_type": "code",
   "execution_count": 6,
   "metadata": {
    "tags": []
   },
   "outputs": [
    {
     "name": "stdout",
     "output_type": "stream",
     "text": [
      "TC_FTL\t= 4,441.73 ($/yr)\n",
      "IC_FTL\t= 45,833.33 ($/yr)\n",
      "TLC_FTL\t= 50,275.06 ($/yr)\n"
     ]
    }
   ],
   "source": [
    "prt( TC_FTL, \"TC_FTL\", \"(\\$/yr)\")\n",
    "prt( IC_FTL, \"IC_FTL\", \"(\\$/yr)\")\n",
    "TLC_FTL = prt( TC_FTL + IC_FTL, \"TLC_FTL\", \"(\\$/yr)\");"
   ]
  },
  {
   "cell_type": "markdown",
   "metadata": {},
   "source": [
    "__14.__ What is minimum possible annual total logistics cost for TL shipments, where the shipment size can now be less than a full truckload?\n"
   ]
  },
  {
   "cell_type": "code",
   "execution_count": 7,
   "metadata": {
    "tags": []
   },
   "outputs": [
    {
     "name": "stdout",
     "output_type": "stream",
     "text": [
      "qᵒTL\t= 1.9024 (ton)\n",
      "TCᵒ_TL\t= 14,268.12 ($/yr)\n",
      "ICᵒ_TL\t= 14,268.12 ($/yr)\n",
      "TLCᵒ_TL\t= 28,536.25 ($/yr)\n"
     ]
    }
   ],
   "source": [
    "qᵒTL =    prt( sqrt((f*rTL*d)/(α*v*h)), \"qᵒTL\", \"(ton)\", 4)\n",
    "TCᵒ_TL =  prt( (f/qᵒTL)*rTL*d,          \"TCᵒ_TL\", \"(\\$/yr)\")\n",
    "ICᵒ_TL =  prt( α*v*h*qᵒTL,              \"ICᵒ_TL\", \"(\\$/yr)\")\n",
    "TLCᵒ_TL = prt( TCᵒ_TL + ICᵒ_TL,         \"TLCᵒ_TL\", \"(\\$/yr)\");"
   ]
  },
  {
   "cell_type": "markdown",
   "metadata": {},
   "source": [
    "__15.__ What is the optimal LTL shipment size?\n"
   ]
  },
  {
   "cell_type": "code",
   "execution_count": 8,
   "metadata": {
    "tags": []
   },
   "outputs": [
    {
     "name": "stdout",
     "output_type": "stream",
     "text": [
      "LB\t= 0.0750 (ton)\n",
      "UB\t= 1.4444 (ton)\n",
      "qᵒLTL\t= 0.7622 (ton)\n"
     ]
    }
   ],
   "source": [
    "using Optim\n",
    "\n",
    "ppiLTL = 177.4\n",
    "\n",
    "rateLTL(q,s,d,ppi) = ppi*(s^2/8 + 14)/((q^(1/7) * d^(15/29) - 7/2) * (s^2 + 2*s + 14))\n",
    "\n",
    "TLC_LTLh(q) = (f/q)*rateLTL(q,s,d,ppiLTL)*q*d + α*v*h*q\n",
    "\n",
    "LB = prt( 150/2000, \"LB\", \"(ton)\", 4)\n",
    "UB = prt( min(5, 650s/2000), \"UB\", \"(ton)\", 4)\n",
    "qᵒLTL = prt( optimize(TLC_LTLh, LB, UB).minimizer, \"qᵒLTL\", \"(ton)\", 4);"
   ]
  },
  {
   "cell_type": "markdown",
   "metadata": {},
   "source": [
    "__16.__ Should the product be shipped TL or LTL?\n"
   ]
  },
  {
   "cell_type": "code",
   "execution_count": 9,
   "metadata": {},
   "outputs": [
    {
     "name": "stdout",
     "output_type": "stream",
     "text": [
      "rLTL\t\t= 3.23 ($/ton-mi)\n",
      "cLTL\t\t= 1,309.00 ($)\n",
      "TCᵒ_LTL\t\t= 34,349.30 ($/yr)\n",
      "ICᵒ_LTL\t\t= 5,716.28 ($/yr)\n",
      "TLCᵒ_LTL\t= 40,065.59 ($/yr)\n",
      "\n",
      "TLCᵒ_TL\t\t= 28,536.25 ($/yr)\n",
      "\n",
      "Ship TL\n"
     ]
    }
   ],
   "source": [
    "rLTL =     prt( rateLTL(qᵒLTL,s,d,ppiLTL), \"rLTL\\t\", \"(\\$/ton-mi)\")\n",
    "cLTL =     prt( rLTL * qᵒLTL * d,          \"cLTL\\t\", \"(\\$)\")\n",
    "TCᵒ_LTL =  prt( (f/qᵒLTL) * cLTL,          \"TCᵒ_LTL\\t\", \"(\\$/yr)\")\n",
    "ICᵒ_LTL =  prt( α*v*h*qᵒLTL,               \"ICᵒ_LTL\\t\", \"(\\$/yr)\")\n",
    "TLCᵒ_LTL = prt( TCᵒ_LTL + ICᵒ_LTL,         \"TLCᵒ_LTL\", \"(\\$/yr)\")\n",
    "\n",
    "prt( TLCᵒ_TL, \"\\nTLCᵒ_TL\\t\", \"(\\$/yr)\")\n",
    "TLCᵒ_TL > TLCᵒ_LTL ? println(\"\\nShip LTL\") : println(\"\\nShip TL\")"
   ]
  },
  {
   "cell_type": "markdown",
   "metadata": {},
   "source": [
    "__17.__ If the value of the product increased to $85,000 per ton, should the product be shipped TL or LTL?\n"
   ]
  },
  {
   "cell_type": "code",
   "execution_count": 10,
   "metadata": {},
   "outputs": [
    {
     "name": "stdout",
     "output_type": "stream",
     "text": [
      "qᵒTL\t= 1.0317 (ton)\n",
      "TCᵒ_TL\t= 26,309.12 ($/yr)\n",
      "ICᵒ_TL\t= 26,309.12 ($/yr)\n",
      "TLCᵒ_TL\t= 52,618.24 ($/yr)\n",
      "\n",
      "qᵒLTL\t\t= 0.2735 (ton)\n",
      "rLTL\t\t= 3.84 ($/ton-mi)\n",
      "cLTL\t\t= 558.38 ($)\n",
      "TCᵒ_LTL\t\t= 40,825.62 ($/yr)\n",
      "ICᵒ_LTL\t\t= 6,975.39 ($/yr)\n",
      "TLCᵒ_LTL\t= 47,801.01 ($/yr)\n",
      "\n",
      "Ship LTL\n"
     ]
    }
   ],
   "source": [
    "v = 85000   # $/ton\n",
    "\n",
    "qᵒTL =    prt( sqrt((f*rTL*d)/(α*v*h)), \"qᵒTL\", \"(ton)\", 4)\n",
    "TCᵒ_TL =  prt( (f/qᵒTL)*rTL*d,          \"TCᵒ_TL\", \"(\\$/yr)\")\n",
    "ICᵒ_TL =  prt( α*v*h*qᵒTL,              \"ICᵒ_TL\", \"(\\$/yr)\")\n",
    "TLCᵒ_TL = prt( TCᵒ_TL + ICᵒ_TL,         \"TLCᵒ_TL\", \"(\\$/yr)\")\n",
    "\n",
    "qᵒLTL =    prt( optimize(TLC_LTLh, LB, UB).minimizer, \"\\nqᵒLTL\\t\", \"(ton)\", 4)\n",
    "rLTL =     prt( rateLTL(qᵒLTL,s,d,ppiLTL), \"rLTL\\t\", \"(\\$/ton-mi)\")\n",
    "cLTL =     prt( rLTL * qᵒLTL * d,          \"cLTL\\t\", \"(\\$)\")\n",
    "TCᵒ_LTL =  prt( (f/qᵒLTL) * cLTL,          \"TCᵒ_LTL\\t\", \"(\\$/yr)\")\n",
    "ICᵒ_LTL =  prt( α*v*h*qᵒLTL,               \"ICᵒ_LTL\\t\", \"(\\$/yr)\")\n",
    "TLCᵒ_LTL = prt( TCᵒ_LTL + ICᵒ_LTL,         \"TLCᵒ_LTL\", \"(\\$/yr)\")\n",
    "\n",
    "TLCᵒ_TL > TLCᵒ_LTL ? println(\"\\nShip LTL\") : println(\"\\nShip TL\")"
   ]
  },
  {
   "cell_type": "markdown",
   "metadata": {},
   "source": [
    "__Using `sh` and `tr`__\n",
    "\n",
    "To make it easier to work with shipment data, a name tuple `tr` can be used to store rate and capacity limits for TL shipments, and shipment-related information can be stored in a DataFrame `sh`. These can then be used as inputs into a series of functions."
   ]
  },
  {
   "cell_type": "code",
   "execution_count": 11,
   "metadata": {},
   "outputs": [
    {
     "data": {
      "text/html": [
       "<div><div style = \"float: left;\"><span>1×6 DataFrame</span></div><div style = \"clear: both;\"></div></div><div class = \"data-frame\" style = \"overflow-x: scroll;\"><table class = \"data-frame\" style = \"margin-bottom: 6px;\"><thead><tr class = \"header\"><th class = \"rowNumber\" style = \"font-weight: bold; text-align: right;\">Row</th><th style = \"text-align: left;\">f</th><th style = \"text-align: left;\">s</th><th style = \"text-align: left;\">α</th><th style = \"text-align: left;\">v</th><th style = \"text-align: left;\">h</th><th style = \"text-align: left;\">d</th></tr><tr class = \"subheader headerLastRow\"><th class = \"rowNumber\" style = \"font-weight: bold; text-align: right;\"></th><th title = \"Int64\" style = \"text-align: left;\">Int64</th><th title = \"Float64\" style = \"text-align: left;\">Float64</th><th title = \"Int64\" style = \"text-align: left;\">Int64</th><th title = \"Int64\" style = \"text-align: left;\">Int64</th><th title = \"Float64\" style = \"text-align: left;\">Float64</th><th title = \"Int64\" style = \"text-align: left;\">Int64</th></tr></thead><tbody><tr><td class = \"rowNumber\" style = \"font-weight: bold; text-align: right;\">1</td><td style = \"text-align: right;\">20</td><td style = \"text-align: right;\">4.44444</td><td style = \"text-align: right;\">1</td><td style = \"text-align: right;\">85000</td><td style = \"text-align: right;\">0.3</td><td style = \"text-align: right;\">532</td></tr></tbody></table></div>"
      ],
      "text/latex": [
       "\\begin{tabular}{r|cccccc}\n",
       "\t& f & s & α & v & h & d\\\\\n",
       "\t\\hline\n",
       "\t& Int64 & Float64 & Int64 & Int64 & Float64 & Int64\\\\\n",
       "\t\\hline\n",
       "\t1 & 20 & 4.44444 & 1 & 85000 & 0.3 & 532 \\\\\n",
       "\\end{tabular}\n"
      ],
      "text/plain": [
       "\u001b[1m1×6 DataFrame\u001b[0m\n",
       "\u001b[1m Row \u001b[0m│\u001b[1m f     \u001b[0m\u001b[1m s       \u001b[0m\u001b[1m α     \u001b[0m\u001b[1m v     \u001b[0m\u001b[1m h       \u001b[0m\u001b[1m d     \u001b[0m\n",
       "     │\u001b[90m Int64 \u001b[0m\u001b[90m Float64 \u001b[0m\u001b[90m Int64 \u001b[0m\u001b[90m Int64 \u001b[0m\u001b[90m Float64 \u001b[0m\u001b[90m Int64 \u001b[0m\n",
       "─────┼──────────────────────────────────────────────\n",
       "   1 │    20  4.44444      1  85000      0.3    532"
      ]
     },
     "execution_count": 11,
     "metadata": {},
     "output_type": "execute_result"
    }
   ],
   "source": [
    "using DataFrames, Optim\n",
    "\n",
    "tr = (r = rTL, Kwt = 25, Kcu = 2750)\n",
    "sh = DataFrame(f=f, s=s, α=α, v=v, h=h, d=d)"
   ]
  },
  {
   "cell_type": "code",
   "execution_count": 12,
   "metadata": {},
   "outputs": [
    {
     "data": {
      "text/plain": [
       "(qᵒ = 0.27354473025205917, TLCᵒ = 47801.00891038934, isLTL = true)"
      ]
     },
     "execution_count": 12,
     "metadata": {},
     "output_type": "execute_result"
    }
   ],
   "source": [
    "# Maximum payload\n",
    "maxpayld(sh, tr) = min(tr.Kwt, sh.s*tr.Kcu/2000)\n",
    "\n",
    "# TL transport charge\n",
    "tranchgTL(q, sh, tr) = max(ceil(q/maxpayld(sh, tr))*sh.d*tr.r, 45tr.r/2)\n",
    "\n",
    "# LTL transport rate\n",
    "rateLTL(q,s,d,ppi) = ppi*(s^2/8 + 14)/((q^(1/7) * d^(15/29) - 7/2) * (s^2 + 2*s + 14))\n",
    "\n",
    "# LTL transport charge\n",
    "tranchgLTL(q, sh, ppi) = max(rateLTL(q, sh.s, sh.d, ppi) * q * sh.d, \n",
    "    (ppi/104.2)*(45 + sh.d^(28/19)/1625))\n",
    "\n",
    "# Total logistics cost for size `q` shipment with transport charge `c`\n",
    "totlogcost(q, c, sh) = sh.f*c/q + sh.α*sh.v*sh.h*q\n",
    "\n",
    "# Determine independent shipment size that minimizes TLC\n",
    "function minTLC(sh, tr = nothing, ppi = nothing)\n",
    "    qᵒ, TLCᵒ, isLTL = nothing, Inf, false\n",
    "    \n",
    "    if tr !== nothing    # Check TL option\n",
    "        qTL = min(sqrt((sh.f * max(tr.r*sh.d, 45tr.r/2))/(sh.α*sh.v*sh.h)),\n",
    "            maxpayld(sh, tr))\n",
    "        TLCtl = totlogcost(qTL, tranchgTL(qTL, sh, tr), sh)\n",
    "        qᵒ, TLCᵒ = qTL, TLCtl\n",
    "    end\n",
    "\n",
    "    if ppi !== nothing   # Check LTL option\n",
    "        qLTL = optimize(q -> totlogcost(q, tranchgLTL(q,sh,ppi), sh),\n",
    "            150/2000, min(5,650sh.s/2000)).minimizer\n",
    "        TLCltl = totlogcost(qLTL, tranchgLTL(qLTL, sh, ppi), sh)\n",
    "        if TLCltl < TLCᵒ\n",
    "            qᵒ, TLCᵒ, isLTL = qLTL, TLCltl, true\n",
    "        end\n",
    "    end\n",
    "\n",
    "    return (qᵒ = qᵒ, TLCᵒ = TLCᵒ, isLTL = isLTL)\n",
    "end\n",
    "\n",
    "# Redo calculations using function\n",
    "res = minTLC(first(sh), tr, ppiLTL)"
   ]
  },
  {
   "attachments": {},
   "cell_type": "markdown",
   "metadata": {},
   "source": [
    "__18.__ _Second product:_ On Jan 10, 2018, what was the optimal independent shipment size to ship 80 tons per year of a second, Class 60 product valued at \\$5000 per ton between Raleigh and Gainesville?"
   ]
  },
  {
   "cell_type": "code",
   "execution_count": 13,
   "metadata": {},
   "outputs": [
    {
     "data": {
      "text/html": [
       "<div><div style = \"float: left;\"><span>2×6 DataFrame</span></div><div style = \"clear: both;\"></div></div><div class = \"data-frame\" style = \"overflow-x: scroll;\"><table class = \"data-frame\" style = \"margin-bottom: 6px;\"><thead><tr class = \"header\"><th class = \"rowNumber\" style = \"font-weight: bold; text-align: right;\">Row</th><th style = \"text-align: left;\">f</th><th style = \"text-align: left;\">s</th><th style = \"text-align: left;\">α</th><th style = \"text-align: left;\">v</th><th style = \"text-align: left;\">h</th><th style = \"text-align: left;\">d</th></tr><tr class = \"subheader headerLastRow\"><th class = \"rowNumber\" style = \"font-weight: bold; text-align: right;\"></th><th title = \"Int64\" style = \"text-align: left;\">Int64</th><th title = \"Float64\" style = \"text-align: left;\">Float64</th><th title = \"Int64\" style = \"text-align: left;\">Int64</th><th title = \"Int64\" style = \"text-align: left;\">Int64</th><th title = \"Float64\" style = \"text-align: left;\">Float64</th><th title = \"Int64\" style = \"text-align: left;\">Int64</th></tr></thead><tbody><tr><td class = \"rowNumber\" style = \"font-weight: bold; text-align: right;\">1</td><td style = \"text-align: right;\">20</td><td style = \"text-align: right;\">4.44444</td><td style = \"text-align: right;\">1</td><td style = \"text-align: right;\">85000</td><td style = \"text-align: right;\">0.3</td><td style = \"text-align: right;\">532</td></tr><tr><td class = \"rowNumber\" style = \"font-weight: bold; text-align: right;\">2</td><td style = \"text-align: right;\">20</td><td style = \"text-align: right;\">4.44444</td><td style = \"text-align: right;\">1</td><td style = \"text-align: right;\">85000</td><td style = \"text-align: right;\">0.3</td><td style = \"text-align: right;\">532</td></tr></tbody></table></div>"
      ],
      "text/latex": [
       "\\begin{tabular}{r|cccccc}\n",
       "\t& f & s & α & v & h & d\\\\\n",
       "\t\\hline\n",
       "\t& Int64 & Float64 & Int64 & Int64 & Float64 & Int64\\\\\n",
       "\t\\hline\n",
       "\t1 & 20 & 4.44444 & 1 & 85000 & 0.3 & 532 \\\\\n",
       "\t2 & 20 & 4.44444 & 1 & 85000 & 0.3 & 532 \\\\\n",
       "\\end{tabular}\n"
      ],
      "text/plain": [
       "\u001b[1m2×6 DataFrame\u001b[0m\n",
       "\u001b[1m Row \u001b[0m│\u001b[1m f     \u001b[0m\u001b[1m s       \u001b[0m\u001b[1m α     \u001b[0m\u001b[1m v     \u001b[0m\u001b[1m h       \u001b[0m\u001b[1m d     \u001b[0m\n",
       "     │\u001b[90m Int64 \u001b[0m\u001b[90m Float64 \u001b[0m\u001b[90m Int64 \u001b[0m\u001b[90m Int64 \u001b[0m\u001b[90m Float64 \u001b[0m\u001b[90m Int64 \u001b[0m\n",
       "─────┼──────────────────────────────────────────────\n",
       "   1 │    20  4.44444      1  85000      0.3    532\n",
       "   2 │    20  4.44444      1  85000      0.3    532"
      ]
     },
     "execution_count": 13,
     "metadata": {},
     "output_type": "execute_result"
    }
   ],
   "source": [
    "# First, duplicate the data for the first product since much of it will stay the same\n",
    "push!(sh, first(sh))   # `first` used to get a row of DataFrame"
   ]
  },
  {
   "cell_type": "code",
   "execution_count": 14,
   "metadata": {},
   "outputs": [
    {
     "data": {
      "text/html": [
       "<div><div style = \"float: left;\"><span>2×6 DataFrame</span></div><div style = \"clear: both;\"></div></div><div class = \"data-frame\" style = \"overflow-x: scroll;\"><table class = \"data-frame\" style = \"margin-bottom: 6px;\"><thead><tr class = \"header\"><th class = \"rowNumber\" style = \"font-weight: bold; text-align: right;\">Row</th><th style = \"text-align: left;\">f</th><th style = \"text-align: left;\">s</th><th style = \"text-align: left;\">α</th><th style = \"text-align: left;\">v</th><th style = \"text-align: left;\">h</th><th style = \"text-align: left;\">d</th></tr><tr class = \"subheader headerLastRow\"><th class = \"rowNumber\" style = \"font-weight: bold; text-align: right;\"></th><th title = \"Int64\" style = \"text-align: left;\">Int64</th><th title = \"Float64\" style = \"text-align: left;\">Float64</th><th title = \"Int64\" style = \"text-align: left;\">Int64</th><th title = \"Int64\" style = \"text-align: left;\">Int64</th><th title = \"Float64\" style = \"text-align: left;\">Float64</th><th title = \"Int64\" style = \"text-align: left;\">Int64</th></tr></thead><tbody><tr><td class = \"rowNumber\" style = \"font-weight: bold; text-align: right;\">1</td><td style = \"text-align: right;\">20</td><td style = \"text-align: right;\">4.44444</td><td style = \"text-align: right;\">1</td><td style = \"text-align: right;\">85000</td><td style = \"text-align: right;\">0.3</td><td style = \"text-align: right;\">532</td></tr><tr><td class = \"rowNumber\" style = \"font-weight: bold; text-align: right;\">2</td><td style = \"text-align: right;\">80</td><td style = \"text-align: right;\">32.16</td><td style = \"text-align: right;\">1</td><td style = \"text-align: right;\">5000</td><td style = \"text-align: right;\">0.3</td><td style = \"text-align: right;\">532</td></tr></tbody></table></div>"
      ],
      "text/latex": [
       "\\begin{tabular}{r|cccccc}\n",
       "\t& f & s & α & v & h & d\\\\\n",
       "\t\\hline\n",
       "\t& Int64 & Float64 & Int64 & Int64 & Float64 & Int64\\\\\n",
       "\t\\hline\n",
       "\t1 & 20 & 4.44444 & 1 & 85000 & 0.3 & 532 \\\\\n",
       "\t2 & 80 & 32.16 & 1 & 5000 & 0.3 & 532 \\\\\n",
       "\\end{tabular}\n"
      ],
      "text/plain": [
       "\u001b[1m2×6 DataFrame\u001b[0m\n",
       "\u001b[1m Row \u001b[0m│\u001b[1m f     \u001b[0m\u001b[1m s        \u001b[0m\u001b[1m α     \u001b[0m\u001b[1m v     \u001b[0m\u001b[1m h       \u001b[0m\u001b[1m d     \u001b[0m\n",
       "     │\u001b[90m Int64 \u001b[0m\u001b[90m Float64  \u001b[0m\u001b[90m Int64 \u001b[0m\u001b[90m Int64 \u001b[0m\u001b[90m Float64 \u001b[0m\u001b[90m Int64 \u001b[0m\n",
       "─────┼───────────────────────────────────────────────\n",
       "   1 │    20   4.44444      1  85000      0.3    532\n",
       "   2 │    80  32.16         1   5000      0.3    532"
      ]
     },
     "execution_count": 14,
     "metadata": {},
     "output_type": "execute_result"
    }
   ],
   "source": [
    "# Change selected values\n",
    "sh[2, [:f, :s, :v]] = [80, 32.16, 5000]\n",
    "sh"
   ]
  },
  {
   "cell_type": "code",
   "execution_count": 15,
   "metadata": {},
   "outputs": [
    {
     "data": {
      "text/plain": [
       "(qᵒ = 8.507865272955305, TLCᵒ = 25523.595818865913, isLTL = false)"
      ]
     },
     "execution_count": 15,
     "metadata": {},
     "output_type": "execute_result"
    }
   ],
   "source": [
    "# Determin optimal size for second product\n",
    "res = minTLC(last(sh), tr, ppiLTL)"
   ]
  },
  {
   "cell_type": "code",
   "execution_count": 16,
   "metadata": {},
   "outputs": [
    {
     "data": {
      "text/html": [
       "<div><div style = \"float: left;\"><span>2×10 DataFrame</span></div><div style = \"clear: both;\"></div></div><div class = \"data-frame\" style = \"overflow-x: scroll;\"><table class = \"data-frame\" style = \"margin-bottom: 6px;\"><thead><tr class = \"header\"><th class = \"rowNumber\" style = \"font-weight: bold; text-align: right;\">Row</th><th style = \"text-align: left;\">f</th><th style = \"text-align: left;\">s</th><th style = \"text-align: left;\">α</th><th style = \"text-align: left;\">v</th><th style = \"text-align: left;\">h</th><th style = \"text-align: left;\">d</th><th style = \"text-align: left;\">qmax</th><th style = \"text-align: left;\">qᵒ</th><th style = \"text-align: left;\">TLCᵒ</th><th style = \"text-align: left;\">isLTL</th></tr><tr class = \"subheader headerLastRow\"><th class = \"rowNumber\" style = \"font-weight: bold; text-align: right;\"></th><th title = \"Int64\" style = \"text-align: left;\">Int64</th><th title = \"Float64\" style = \"text-align: left;\">Float64</th><th title = \"Int64\" style = \"text-align: left;\">Int64</th><th title = \"Int64\" style = \"text-align: left;\">Int64</th><th title = \"Float64\" style = \"text-align: left;\">Float64</th><th title = \"Int64\" style = \"text-align: left;\">Int64</th><th title = \"Float64\" style = \"text-align: left;\">Float64</th><th title = \"Float64\" style = \"text-align: left;\">Float64</th><th title = \"Float64\" style = \"text-align: left;\">Float64</th><th title = \"Bool\" style = \"text-align: left;\">Bool</th></tr></thead><tbody><tr><td class = \"rowNumber\" style = \"font-weight: bold; text-align: right;\">1</td><td style = \"text-align: right;\">20</td><td style = \"text-align: right;\">4.44444</td><td style = \"text-align: right;\">1</td><td style = \"text-align: right;\">85000</td><td style = \"text-align: right;\">0.3</td><td style = \"text-align: right;\">532</td><td style = \"text-align: right;\">6.11111</td><td style = \"text-align: right;\">0.273545</td><td style = \"text-align: right;\">47801.0</td><td style = \"text-align: right;\">true</td></tr><tr><td class = \"rowNumber\" style = \"font-weight: bold; text-align: right;\">2</td><td style = \"text-align: right;\">80</td><td style = \"text-align: right;\">32.16</td><td style = \"text-align: right;\">1</td><td style = \"text-align: right;\">5000</td><td style = \"text-align: right;\">0.3</td><td style = \"text-align: right;\">532</td><td style = \"text-align: right;\">25.0</td><td style = \"text-align: right;\">8.50787</td><td style = \"text-align: right;\">25523.6</td><td style = \"text-align: right;\">false</td></tr></tbody></table></div>"
      ],
      "text/latex": [
       "\\begin{tabular}{r|cccccccccc}\n",
       "\t& f & s & α & v & h & d & qmax & qᵒ & TLCᵒ & isLTL\\\\\n",
       "\t\\hline\n",
       "\t& Int64 & Float64 & Int64 & Int64 & Float64 & Int64 & Float64 & Float64 & Float64 & Bool\\\\\n",
       "\t\\hline\n",
       "\t1 & 20 & 4.44444 & 1 & 85000 & 0.3 & 532 & 6.11111 & 0.273545 & 47801.0 & 1 \\\\\n",
       "\t2 & 80 & 32.16 & 1 & 5000 & 0.3 & 532 & 25.0 & 8.50787 & 25523.6 & 0 \\\\\n",
       "\\end{tabular}\n"
      ],
      "text/plain": [
       "\u001b[1m2×10 DataFrame\u001b[0m\n",
       "\u001b[1m Row \u001b[0m│\u001b[1m f     \u001b[0m\u001b[1m s        \u001b[0m\u001b[1m α     \u001b[0m\u001b[1m v     \u001b[0m\u001b[1m h       \u001b[0m\u001b[1m d     \u001b[0m\u001b[1m qmax     \u001b[0m\u001b[1m qᵒ       \u001b[0m\u001b[1m TLCᵒ\u001b[0m ⋯\n",
       "     │\u001b[90m Int64 \u001b[0m\u001b[90m Float64  \u001b[0m\u001b[90m Int64 \u001b[0m\u001b[90m Int64 \u001b[0m\u001b[90m Float64 \u001b[0m\u001b[90m Int64 \u001b[0m\u001b[90m Float64  \u001b[0m\u001b[90m Float64  \u001b[0m\u001b[90m Floa\u001b[0m ⋯\n",
       "─────┼──────────────────────────────────────────────────────────────────────────\n",
       "   1 │    20   4.44444      1  85000      0.3    532   6.11111  0.273545  4780 ⋯\n",
       "   2 │    80  32.16         1   5000      0.3    532  25.0      8.50787   2552\n",
       "\u001b[36m                                                               2 columns omitted\u001b[0m"
      ]
     },
     "execution_count": 16,
     "metadata": {},
     "output_type": "execute_result"
    }
   ],
   "source": [
    "# Add results to `sh`\n",
    "sh.qmax = [maxpayld(sh, tr) for sh in eachrow(sh)]\n",
    "transform!(sh, AsTable(:) => ByRow(row -> minTLC(row, tr, ppiLTL)) => AsTable) "
   ]
  },
  {
   "cell_type": "markdown",
   "metadata": {
    "tags": []
   },
   "source": [
    "__19.__ _Aggregate shipment:_ What would have been the annual full-truckload transport cost if both shipments were always shipped together on the same truck?"
   ]
  },
  {
   "cell_type": "code",
   "execution_count": 17,
   "metadata": {},
   "outputs": [
    {
     "data": {
      "text/html": [
       "<div><div style = \"float: left;\"><span>DataFrameRow (10 columns)</span></div><div style = \"clear: both;\"></div></div><div class = \"data-frame\" style = \"overflow-x: scroll;\"><table class = \"data-frame\" style = \"margin-bottom: 6px;\"><thead><tr class = \"header\"><th class = \"rowLabel\" style = \"font-weight: bold; text-align: right;\">Row</th><th style = \"text-align: left;\">f</th><th style = \"text-align: left;\">s</th><th style = \"text-align: left;\">α</th><th style = \"text-align: left;\">v</th><th style = \"text-align: left;\">h</th><th style = \"text-align: left;\">d</th><th style = \"text-align: left;\">qmax</th><th style = \"text-align: left;\">qᵒ</th><th style = \"text-align: left;\">TLCᵒ</th><th style = \"text-align: left;\">isLTL</th></tr><tr class = \"subheader headerLastRow\"><th class = \"rowLabel\" style = \"font-weight: bold; text-align: right;\"></th><th title = \"Int64\" style = \"text-align: left;\">Int64</th><th title = \"Float64\" style = \"text-align: left;\">Float64</th><th title = \"Int64\" style = \"text-align: left;\">Int64</th><th title = \"Int64\" style = \"text-align: left;\">Int64</th><th title = \"Float64\" style = \"text-align: left;\">Float64</th><th title = \"Int64\" style = \"text-align: left;\">Int64</th><th title = \"Float64\" style = \"text-align: left;\">Float64</th><th title = \"Float64\" style = \"text-align: left;\">Float64</th><th title = \"Float64\" style = \"text-align: left;\">Float64</th><th title = \"Bool\" style = \"text-align: left;\">Bool</th></tr></thead><tbody><tr><td class = \"rowLabel\" style = \"font-weight: bold; text-align: right;\">1</td><td style = \"text-align: right;\">20</td><td style = \"text-align: right;\">4.44444</td><td style = \"text-align: right;\">1</td><td style = \"text-align: right;\">85000</td><td style = \"text-align: right;\">0.3</td><td style = \"text-align: right;\">532</td><td style = \"text-align: right;\">6.11111</td><td style = \"text-align: right;\">0.273545</td><td style = \"text-align: right;\">47801.0</td><td style = \"text-align: right;\">true</td></tr></tbody></table></div>"
      ],
      "text/latex": [
       "\\begin{tabular}{r|cccccccccc}\n",
       "\t& f & s & α & v & h & d & qmax & qᵒ & TLCᵒ & isLTL\\\\\n",
       "\t\\hline\n",
       "\t& Int64 & Float64 & Int64 & Int64 & Float64 & Int64 & Float64 & Float64 & Float64 & Bool\\\\\n",
       "\t\\hline\n",
       "\t1 & 20 & 4.44444 & 1 & 85000 & 0.3 & 532 & 6.11111 & 0.273545 & 47801.0 & 1 \\\\\n",
       "\\end{tabular}\n"
      ],
      "text/plain": [
       "\u001b[1mDataFrameRow\u001b[0m\n",
       "\u001b[1m Row \u001b[0m│\u001b[1m f     \u001b[0m\u001b[1m s       \u001b[0m\u001b[1m α     \u001b[0m\u001b[1m v     \u001b[0m\u001b[1m h       \u001b[0m\u001b[1m d     \u001b[0m\u001b[1m qmax    \u001b[0m\u001b[1m qᵒ       \u001b[0m\u001b[1m TLCᵒ  \u001b[0m ⋯\n",
       "     │\u001b[90m Int64 \u001b[0m\u001b[90m Float64 \u001b[0m\u001b[90m Int64 \u001b[0m\u001b[90m Int64 \u001b[0m\u001b[90m Float64 \u001b[0m\u001b[90m Int64 \u001b[0m\u001b[90m Float64 \u001b[0m\u001b[90m Float64  \u001b[0m\u001b[90m Float6\u001b[0m ⋯\n",
       "─────┼──────────────────────────────────────────────────────────────────────────\n",
       "   1 │    20  4.44444      1  85000      0.3    532  6.11111  0.273545  47801. ⋯\n",
       "\u001b[36m                                                               2 columns omitted\u001b[0m"
      ]
     },
     "execution_count": 17,
     "metadata": {},
     "output_type": "execute_result"
    }
   ],
   "source": [
    "ash = first(sh)"
   ]
  },
  {
   "cell_type": "code",
   "execution_count": 18,
   "metadata": {},
   "outputs": [
    {
     "data": {
      "text/plain": [
       "100"
      ]
     },
     "execution_count": 18,
     "metadata": {},
     "output_type": "execute_result"
    }
   ],
   "source": [
    "fagg = sum(sh.f)"
   ]
  },
  {
   "cell_type": "code",
   "execution_count": 19,
   "metadata": {},
   "outputs": [
    {
     "data": {
      "text/plain": [
       "14.311142755428978"
      ]
     },
     "execution_count": 19,
     "metadata": {},
     "output_type": "execute_result"
    }
   ],
   "source": [
    "sagg = fagg / sum(sh.f./sh.s)"
   ]
  },
  {
   "cell_type": "code",
   "execution_count": 20,
   "metadata": {},
   "outputs": [
    {
     "data": {
      "text/plain": [
       "21000.0"
      ]
     },
     "execution_count": 20,
     "metadata": {},
     "output_type": "execute_result"
    }
   ],
   "source": [
    "vagg = sum(sh.f.*sh.v)/fagg"
   ]
  },
  {
   "cell_type": "code",
   "execution_count": 21,
   "metadata": {},
   "outputs": [
    {
     "data": {
      "text/html": [
       "<div><div style = \"float: left;\"><span>1×6 DataFrame</span></div><div style = \"clear: both;\"></div></div><div class = \"data-frame\" style = \"overflow-x: scroll;\"><table class = \"data-frame\" style = \"margin-bottom: 6px;\"><thead><tr class = \"header\"><th class = \"rowNumber\" style = \"font-weight: bold; text-align: right;\">Row</th><th style = \"text-align: left;\">f</th><th style = \"text-align: left;\">s</th><th style = \"text-align: left;\">α</th><th style = \"text-align: left;\">v</th><th style = \"text-align: left;\">h</th><th style = \"text-align: left;\">d</th></tr><tr class = \"subheader headerLastRow\"><th class = \"rowNumber\" style = \"font-weight: bold; text-align: right;\"></th><th title = \"Int64\" style = \"text-align: left;\">Int64</th><th title = \"Float64\" style = \"text-align: left;\">Float64</th><th title = \"Float64\" style = \"text-align: left;\">Float64</th><th title = \"Float64\" style = \"text-align: left;\">Float64</th><th title = \"Float64\" style = \"text-align: left;\">Float64</th><th title = \"Int64\" style = \"text-align: left;\">Int64</th></tr></thead><tbody><tr><td class = \"rowNumber\" style = \"font-weight: bold; text-align: right;\">1</td><td style = \"text-align: right;\">100</td><td style = \"text-align: right;\">14.3111</td><td style = \"text-align: right;\">1.0</td><td style = \"text-align: right;\">21000.0</td><td style = \"text-align: right;\">0.3</td><td style = \"text-align: right;\">532</td></tr></tbody></table></div>"
      ],
      "text/latex": [
       "\\begin{tabular}{r|cccccc}\n",
       "\t& f & s & α & v & h & d\\\\\n",
       "\t\\hline\n",
       "\t& Int64 & Float64 & Float64 & Float64 & Float64 & Int64\\\\\n",
       "\t\\hline\n",
       "\t1 & 100 & 14.3111 & 1.0 & 21000.0 & 0.3 & 532 \\\\\n",
       "\\end{tabular}\n"
      ],
      "text/plain": [
       "\u001b[1m1×6 DataFrame\u001b[0m\n",
       "\u001b[1m Row \u001b[0m│\u001b[1m f     \u001b[0m\u001b[1m s       \u001b[0m\u001b[1m α       \u001b[0m\u001b[1m v       \u001b[0m\u001b[1m h       \u001b[0m\u001b[1m d     \u001b[0m\n",
       "     │\u001b[90m Int64 \u001b[0m\u001b[90m Float64 \u001b[0m\u001b[90m Float64 \u001b[0m\u001b[90m Float64 \u001b[0m\u001b[90m Float64 \u001b[0m\u001b[90m Int64 \u001b[0m\n",
       "─────┼──────────────────────────────────────────────────\n",
       "   1 │   100  14.3111      1.0  21000.0      0.3    532"
      ]
     },
     "execution_count": 21,
     "metadata": {},
     "output_type": "execute_result"
    }
   ],
   "source": [
    "# Use `combine` to create aggregate shipment\n",
    "ash = combine(sh, \n",
    "    :f => sum => :f, \n",
    "    [:f, :s] => ((f, s) -> sum(f)/sum(f./s)) => :s,\n",
    "    [:f, :α] => ((f, α) -> sum(f.*α)/sum(f)) => :α,\n",
    "    [:f, :v] => ((f, v) -> sum(f.*v)/sum(f)) => :v,\n",
    "    [:f, :h] => ((f, h) -> sum(f.*h)/sum(f)) => :h,\n",
    "    :d => first => :d)   # Distance the same for all shipments, so use first"
   ]
  },
  {
   "cell_type": "code",
   "execution_count": 22,
   "metadata": {
    "tags": []
   },
   "outputs": [
    {
     "data": {
      "text/html": [
       "<div><div style = \"float: left;\"><span>1×10 DataFrame</span></div><div style = \"clear: both;\"></div></div><div class = \"data-frame\" style = \"overflow-x: scroll;\"><table class = \"data-frame\" style = \"margin-bottom: 6px;\"><thead><tr class = \"header\"><th class = \"rowNumber\" style = \"font-weight: bold; text-align: right;\">Row</th><th style = \"text-align: left;\">f</th><th style = \"text-align: left;\">s</th><th style = \"text-align: left;\">α</th><th style = \"text-align: left;\">v</th><th style = \"text-align: left;\">h</th><th style = \"text-align: left;\">d</th><th style = \"text-align: left;\">qmax</th><th style = \"text-align: left;\">qᵒ</th><th style = \"text-align: left;\">TLCᵒ</th><th style = \"text-align: left;\">isLTL</th></tr><tr class = \"subheader headerLastRow\"><th class = \"rowNumber\" style = \"font-weight: bold; text-align: right;\"></th><th title = \"Int64\" style = \"text-align: left;\">Int64</th><th title = \"Float64\" style = \"text-align: left;\">Float64</th><th title = \"Float64\" style = \"text-align: left;\">Float64</th><th title = \"Float64\" style = \"text-align: left;\">Float64</th><th title = \"Float64\" style = \"text-align: left;\">Float64</th><th title = \"Int64\" style = \"text-align: left;\">Int64</th><th title = \"Float64\" style = \"text-align: left;\">Float64</th><th title = \"Float64\" style = \"text-align: left;\">Float64</th><th title = \"Float64\" style = \"text-align: left;\">Float64</th><th title = \"Bool\" style = \"text-align: left;\">Bool</th></tr></thead><tbody><tr><td class = \"rowNumber\" style = \"font-weight: bold; text-align: right;\">1</td><td style = \"text-align: right;\">100</td><td style = \"text-align: right;\">14.3111</td><td style = \"text-align: right;\">1.0</td><td style = \"text-align: right;\">21000.0</td><td style = \"text-align: right;\">0.3</td><td style = \"text-align: right;\">532</td><td style = \"text-align: right;\">19.6778</td><td style = \"text-align: right;\">4.64142</td><td style = \"text-align: right;\">58481.9</td><td style = \"text-align: right;\">false</td></tr></tbody></table></div>"
      ],
      "text/latex": [
       "\\begin{tabular}{r|cccccccccc}\n",
       "\t& f & s & α & v & h & d & qmax & qᵒ & TLCᵒ & isLTL\\\\\n",
       "\t\\hline\n",
       "\t& Int64 & Float64 & Float64 & Float64 & Float64 & Int64 & Float64 & Float64 & Float64 & Bool\\\\\n",
       "\t\\hline\n",
       "\t1 & 100 & 14.3111 & 1.0 & 21000.0 & 0.3 & 532 & 19.6778 & 4.64142 & 58481.9 & 0 \\\\\n",
       "\\end{tabular}\n"
      ],
      "text/plain": [
       "\u001b[1m1×10 DataFrame\u001b[0m\n",
       "\u001b[1m Row \u001b[0m│\u001b[1m f     \u001b[0m\u001b[1m s       \u001b[0m\u001b[1m α       \u001b[0m\u001b[1m v       \u001b[0m\u001b[1m h       \u001b[0m\u001b[1m d     \u001b[0m\u001b[1m qmax    \u001b[0m\u001b[1m qᵒ      \u001b[0m\u001b[1m TLC\u001b[0m ⋯\n",
       "     │\u001b[90m Int64 \u001b[0m\u001b[90m Float64 \u001b[0m\u001b[90m Float64 \u001b[0m\u001b[90m Float64 \u001b[0m\u001b[90m Float64 \u001b[0m\u001b[90m Int64 \u001b[0m\u001b[90m Float64 \u001b[0m\u001b[90m Float64 \u001b[0m\u001b[90m Flo\u001b[0m ⋯\n",
       "─────┼──────────────────────────────────────────────────────────────────────────\n",
       "   1 │   100  14.3111      1.0  21000.0      0.3    532  19.6778  4.64142  584 ⋯\n",
       "\u001b[36m                                                               2 columns omitted\u001b[0m"
      ]
     },
     "execution_count": 22,
     "metadata": {},
     "output_type": "execute_result"
    }
   ],
   "source": [
    "# Determine optimal aggregate shipment size (only use TL)\n",
    "ash.qmax = [maxpayld(sh, tr) for sh in eachrow(ash)]\n",
    "transform!(ash, AsTable(:) => ByRow(row -> minTLC(row, tr)) => AsTable)"
   ]
  },
  {
   "cell_type": "code",
   "execution_count": 23,
   "metadata": {},
   "outputs": [
    {
     "name": "stdout",
     "output_type": "stream",
     "text": [
      "Shmt 1 + 2 TLC\t= 73,324.60 \n",
      "Agg shmt TLC\t= 58,481.90 \n"
     ]
    }
   ],
   "source": [
    "# Compare with total TLC for separate shipments\n",
    "prt( sum(sh.TLCᵒ), \"Shmt 1 + 2 TLC\")\n",
    "prt( ash.TLCᵒ[1], \"Agg shmt TLC\");"
   ]
  }
 ],
 "metadata": {
  "kernelspec": {
   "display_name": "Julia 1.10.4",
   "language": "julia",
   "name": "julia-1.10"
  },
  "language_info": {
   "file_extension": ".jl",
   "mimetype": "application/julia",
   "name": "julia",
   "version": "1.10.4"
  }
 },
 "nbformat": 4,
 "nbformat_minor": 4
}
