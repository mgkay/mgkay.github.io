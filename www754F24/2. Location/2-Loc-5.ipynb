{
 "cells": [
  {
   "cell_type": "markdown",
   "metadata": {},
   "source": [
    "# 2. Loc 5: UFL Heuristics\n",
    "`ISE 754, Fall 2024`\n",
    "\n",
    "__Package Used:__ No new packages used.\n"
   ]
  },
  {
   "cell_type": "markdown",
   "metadata": {},
   "source": [
    "## 1. UFL Construction and Improvement Procedures\n",
    "### UFL ADD Construction Procedure\n",
    "Data: Asheville, Statesville, Greensboro, Raleigh, and Wilmington"
   ]
  },
  {
   "cell_type": "code",
   "execution_count": 1,
   "metadata": {},
   "outputs": [
    {
     "data": {
      "text/plain": [
       "5×5 Matrix{Int64}:\n",
       "   0  100  170  245  370\n",
       " 100    0   70  145  270\n",
       " 170   70    0   75  200\n",
       " 245  145   75    0  125\n",
       " 370  270  200  125    0"
      ]
     },
     "execution_count": 1,
     "metadata": {},
     "output_type": "execute_result"
    }
   ],
   "source": [
    "d1(x1, x2) = length(x1) == length(x2) ? sum(abs.(x1 .- x2)) : \n",
    "    error(\"Inputs not same length.\")\n",
    "D1(X₁, X₂) = [d1(i, j) for i in eachrow(X₁), j in eachrow(X₂)]\n",
    "\n",
    "P = [50 150 220 295 420]'\n",
    "r, f = 1, 1\n",
    "w = r * f\n",
    "k = [150, 200, 150, 150, 200]\n",
    "C = w * D1(P, P)"
   ]
  },
  {
   "cell_type": "code",
   "execution_count": 2,
   "metadata": {},
   "outputs": [
    {
     "data": {
      "text/plain": [
       "5×4 Matrix{Int64}:\n",
       " 1  150  885  1035\n",
       " 2  200  585   785\n",
       " 3  150  515   665\n",
       " 4  150  590   740\n",
       " 5  200  965  1165"
      ]
     },
     "execution_count": 2,
     "metadata": {},
     "output_type": "execute_result"
    }
   ],
   "source": [
    "# Find first NF to add: 3\n",
    "N = 1:size(C, 1)\n",
    "hcat(N, k, sum(C, dims=2), k + sum(C, dims=2))"
   ]
  },
  {
   "cell_type": "code",
   "execution_count": 3,
   "metadata": {},
   "outputs": [
    {
     "data": {
      "text/plain": [
       "4-element Vector{Int64}:\n",
       " 1\n",
       " 2\n",
       " 4\n",
       " 5"
      ]
     },
     "execution_count": 3,
     "metadata": {},
     "output_type": "execute_result"
    }
   ],
   "source": [
    "y = [3]\n",
    "setdiff(N, y)"
   ]
  },
  {
   "cell_type": "code",
   "execution_count": 4,
   "metadata": {},
   "outputs": [
    {
     "name": "stdout",
     "output_type": "stream",
     "text": [
      "    3:150[170, 70, 0, 75, 200]\n",
      "    1:150[0, 100, 170, 245, 370]\n",
      "    [0 70 0 75 200]\n",
      "1 : 300 + 345 = 645\n",
      "    3:150[170, 70, 0, 75, 200]\n",
      "    2:200[100, 0, 70, 145, 270]\n",
      "    [100 0 0 75 200]\n",
      "2 : 350 + 375 = 725\n",
      "    3:150[170, 70, 0, 75, 200]\n",
      "    4:150[245, 145, 75, 0, 125]\n",
      "    [170 70 0 0 125]\n",
      "4 : 300 + 365 = 665\n",
      "    3:150[170, 70, 0, 75, 200]\n",
      "    5:200[370, 270, 200, 125, 0]\n",
      "    [170 70 0 75 0]\n",
      "5 : 350 + 315 = 665\n"
     ]
    }
   ],
   "source": [
    "# Find next NF to add: 1\n",
    "for i in setdiff(N, y)\n",
    "    y′ = vcat(y, i)\n",
    "        [println(\"    \",r, \":\",k[r],C[r, :]) for r in y′]\n",
    "        println(\"    \",minimum(C[y′, :], dims=1))\n",
    "    TC′ = sum(k[y′]) + sum(minimum(C[y′, :], dims=1))\n",
    "        println(i, \" : \", sum(k[y′]), \" + \", sum(minimum(C[y′, :], dims=1)),\" = \", TC′)\n",
    "end"
   ]
  },
  {
   "cell_type": "code",
   "execution_count": 5,
   "metadata": {},
   "outputs": [
    {
     "data": {
      "text/plain": [
       "2-element Vector{Int64}:\n",
       " 3\n",
       " 1"
      ]
     },
     "execution_count": 5,
     "metadata": {},
     "output_type": "execute_result"
    }
   ],
   "source": [
    "y = vcat(y, 1)"
   ]
  },
  {
   "cell_type": "code",
   "execution_count": 6,
   "metadata": {},
   "outputs": [
    {
     "name": "stdout",
     "output_type": "stream",
     "text": [
      "    3:150[170, 70, 0, 75, 200]\n",
      "    1:150[0, 100, 170, 245, 370]\n",
      "    2:200[100, 0, 70, 145, 270]\n",
      "    [0 0 0 75 200]\n",
      "2 : 500 + 275 = 775\n",
      "    3:150[170, 70, 0, 75, 200]\n",
      "    1:150[0, 100, 170, 245, 370]\n",
      "    4:150[245, 145, 75, 0, 125]\n",
      "    [0 70 0 0 125]\n",
      "4 : 450 + 195 = 645\n",
      "    3:150[170, 70, 0, 75, 200]\n",
      "    1:150[0, 100, 170, 245, 370]\n",
      "    5:200[370, 270, 200, 125, 0]\n",
      "    [0 70 0 75 0]\n",
      "5 : 500 + 145 = 645\n"
     ]
    }
   ],
   "source": [
    "# Find next NF to add: none reduce TC, so STOP\n",
    "for i in setdiff(N, y)\n",
    "    y′ = vcat(y, i)\n",
    "        [println(\"    \",r, \":\",k[r],C[r, :]) for r in y′]\n",
    "        println(\"    \",minimum(C[y′, :], dims=1))\n",
    "    TC′ = sum(k[y′]) + sum(minimum(C[y′, :], dims=1))\n",
    "        println(i, \" : \", sum(k[y′]), \" + \", sum(minimum(C[y′, :], dims=1)),\" = \", TC′)\n",
    "end"
   ]
  },
  {
   "cell_type": "code",
   "execution_count": 7,
   "metadata": {},
   "outputs": [
    {
     "data": {
      "text/plain": [
       "([3, 1], 645)"
      ]
     },
     "execution_count": 7,
     "metadata": {},
     "output_type": "execute_result"
    }
   ],
   "source": [
    "# Write as a general procedure, given k and C as inputs\n",
    "function ufladd(k, C)\n",
    "    fTC(y) = sum(k[y]) + sum(minimum(C[y, :], dims=1))\n",
    "    y = Int[]\n",
    "    TCᵒ, done = Inf, false\n",
    "    while !done\n",
    "        TC, i = Inf, nothing               # Stops if y = all NF\n",
    "        for i′ = setdiff(1:size(C, 1), y)  # since i′ = []\n",
    "            TC′ = fTC(vcat(y, i′))\n",
    "            if TC′ < TC\n",
    "                TC, i = TC′, i′\n",
    "            end\n",
    "        end\n",
    "        if TC < TCᵒ                     # TC = Inf if y = all NF\n",
    "            TCᵒ, y = TC, push!(y, i)\n",
    "        else\n",
    "            done = true\n",
    "        end\n",
    "    end\n",
    "    return y, TCᵒ\n",
    "end\n",
    "\n",
    "ufladd(k, C)"
   ]
  },
  {
   "cell_type": "markdown",
   "metadata": {},
   "source": [
    "### UFL DROP Construction Procedure\n",
    "Using same data as UFL ADD"
   ]
  },
  {
   "cell_type": "code",
   "execution_count": 8,
   "metadata": {},
   "outputs": [
    {
     "data": {
      "text/plain": [
       "850"
      ]
     },
     "execution_count": 8,
     "metadata": {},
     "output_type": "execute_result"
    }
   ],
   "source": [
    "# Calc TC with no dropped NFs\n",
    "y = 1:size(C, 1)\n",
    "TC = sum(k[y]) + sum(minimum(C[y, :], dims=1))"
   ]
  },
  {
   "cell_type": "code",
   "execution_count": 9,
   "metadata": {},
   "outputs": [
    {
     "name": "stdout",
     "output_type": "stream",
     "text": [
      "    2:200[100, 0, 70, 145, 270]\n",
      "    3:150[170, 70, 0, 75, 200]\n",
      "    4:150[245, 145, 75, 0, 125]\n",
      "    5:200[370, 270, 200, 125, 0]\n",
      "    [100 0 0 0 0]\n",
      "1 : 700 + 100 = 800\n",
      "    1:150[0, 100, 170, 245, 370]\n",
      "    3:150[170, 70, 0, 75, 200]\n",
      "    4:150[245, 145, 75, 0, 125]\n",
      "    5:200[370, 270, 200, 125, 0]\n",
      "    [0 70 0 0 0]\n",
      "2 : 650 + 70 = 720\n",
      "    1:150[0, 100, 170, 245, 370]\n",
      "    2:200[100, 0, 70, 145, 270]\n",
      "    4:150[245, 145, 75, 0, 125]\n",
      "    5:200[370, 270, 200, 125, 0]\n",
      "    [0 0 70 0 0]\n",
      "3 : 700 + 70 = 770\n",
      "    1:150[0, 100, 170, 245, 370]\n",
      "    2:200[100, 0, 70, 145, 270]\n",
      "    3:150[170, 70, 0, 75, 200]\n",
      "    5:200[370, 270, 200, 125, 0]\n",
      "    [0 0 0 75 0]\n",
      "4 : 700 + 75 = 775\n",
      "    1:150[0, 100, 170, 245, 370]\n",
      "    2:200[100, 0, 70, 145, 270]\n",
      "    3:150[170, 70, 0, 75, 200]\n",
      "    4:150[245, 145, 75, 0, 125]\n",
      "    [0 0 0 0 125]\n",
      "5 : 650 + 125 = 775\n"
     ]
    }
   ],
   "source": [
    "# Find first NF to drop: 2\n",
    "for i in y\n",
    "    y′ = setdiff(y, i)\n",
    "        [println(\"    \",r, \":\",k[r],C[r, :]) for r in y′]\n",
    "        println(\"    \",minimum(C[y′, :], dims=1))\n",
    "    TC′ = sum(k[y′]) + sum(minimum(C[y′, :], dims=1))\n",
    "        println(i, \" : \", sum(k[y′]), \" + \", sum(minimum(C[y′, :], dims=1)),\" = \", TC′)\n",
    "end"
   ]
  },
  {
   "cell_type": "code",
   "execution_count": 10,
   "metadata": {},
   "outputs": [
    {
     "data": {
      "text/plain": [
       "4-element Vector{Int64}:\n",
       " 1\n",
       " 3\n",
       " 4\n",
       " 5"
      ]
     },
     "execution_count": 10,
     "metadata": {},
     "output_type": "execute_result"
    }
   ],
   "source": [
    "y = setdiff(y, 2)"
   ]
  },
  {
   "cell_type": "code",
   "execution_count": 11,
   "metadata": {},
   "outputs": [
    {
     "name": "stdout",
     "output_type": "stream",
     "text": [
      "    3:150[170, 70, 0, 75, 200]\n",
      "    4:150[245, 145, 75, 0, 125]\n",
      "    5:200[370, 270, 200, 125, 0]\n",
      "    [170 70 0 0 0]\n",
      "1 : 500 + 240 = 740\n",
      "    1:150[0, 100, 170, 245, 370]\n",
      "    4:150[245, 145, 75, 0, 125]\n",
      "    5:200[370, 270, 200, 125, 0]\n",
      "    [0 100 75 0 0]\n",
      "3 : 500 + 175 = 675\n",
      "    1:150[0, 100, 170, 245, 370]\n",
      "    3:150[170, 70, 0, 75, 200]\n",
      "    5:200[370, 270, 200, 125, 0]\n",
      "    [0 70 0 75 0]\n",
      "4 : 500 + 145 = 645\n",
      "    1:150[0, 100, 170, 245, 370]\n",
      "    3:150[170, 70, 0, 75, 200]\n",
      "    4:150[245, 145, 75, 0, 125]\n",
      "    [0 70 0 0 125]\n",
      "5 : 450 + 195 = 645\n"
     ]
    }
   ],
   "source": [
    "# Find next NF to drop: 4 or 5, pick 4\n",
    "for i in y\n",
    "    y′ = setdiff(y, i)\n",
    "        [println(\"    \",r, \":\",k[r],C[r, :]) for r in y′]\n",
    "        println(\"    \",minimum(C[y′, :], dims=1))\n",
    "    TC′ = sum(k[y′]) + sum(minimum(C[y′, :], dims=1))\n",
    "        println(i, \" : \", sum(k[y′]), \" + \", sum(minimum(C[y′, :], dims=1)),\" = \", TC′)\n",
    "end"
   ]
  },
  {
   "cell_type": "code",
   "execution_count": 12,
   "metadata": {},
   "outputs": [
    {
     "data": {
      "text/plain": [
       "3-element Vector{Int64}:\n",
       " 1\n",
       " 3\n",
       " 5"
      ]
     },
     "execution_count": 12,
     "metadata": {},
     "output_type": "execute_result"
    }
   ],
   "source": [
    "y = setdiff(y, 4)"
   ]
  },
  {
   "cell_type": "code",
   "execution_count": 13,
   "metadata": {},
   "outputs": [
    {
     "name": "stdout",
     "output_type": "stream",
     "text": [
      "    3:150[170, 70, 0, 75, 200]\n",
      "    5:200[370, 270, 200, 125, 0]\n",
      "    [170 70 0 75 0]\n",
      "1 : 350 + 315 = 665\n",
      "    1:150[0, 100, 170, 245, 370]\n",
      "    5:200[370, 270, 200, 125, 0]\n",
      "    [0 100 170 125 0]\n",
      "3 : 350 + 395 = 745\n",
      "    1:150[0, 100, 170, 245, 370]\n",
      "    3:150[170, 70, 0, 75, 200]\n",
      "    [0 70 0 75 200]\n",
      "5 : 300 + 345 = 645\n"
     ]
    }
   ],
   "source": [
    "# Find next NF to add: none reduce TC, so STOP\n",
    "for i in y\n",
    "    y′ = setdiff(y, i)\n",
    "        [println(\"    \",r, \":\",k[r],C[r, :]) for r in y′]\n",
    "        println(\"    \",minimum(C[y′, :], dims=1))\n",
    "    TC′ = sum(k[y′]) + sum(minimum(C[y′, :], dims=1))\n",
    "        println(i, \" : \", sum(k[y′]), \" + \", sum(minimum(C[y′, :], dims=1)),\" = \", TC′)\n",
    "end"
   ]
  },
  {
   "cell_type": "markdown",
   "metadata": {},
   "source": [
    "Download file `ufl_heuristics.jl` posted along with this notebook, and then use `include` it to input all of its functions for use: "
   ]
  },
  {
   "cell_type": "code",
   "execution_count": 14,
   "metadata": {},
   "outputs": [
    {
     "data": {
      "text/plain": [
       "([1, 3, 5], 645)"
      ]
     },
     "execution_count": 14,
     "metadata": {},
     "output_type": "execute_result"
    }
   ],
   "source": [
    "include(\"ufl_heuristics.jl\")\n",
    "\n",
    "ufldrop(k, C)"
   ]
  },
  {
   "cell_type": "markdown",
   "metadata": {},
   "source": [
    "### UFL Exchange Improvement Procedure"
   ]
  },
  {
   "cell_type": "code",
   "execution_count": 15,
   "metadata": {},
   "outputs": [
    {
     "data": {
      "text/plain": [
       "([4, 1], 600)"
      ]
     },
     "execution_count": 15,
     "metadata": {},
     "output_type": "execute_result"
    }
   ],
   "source": [
    "# First use UFLADD to construct a solution `y` that can then be improved\n",
    "y, TC = ufladd(k, C)\n",
    "uflxchg(k, C, y)"
   ]
  },
  {
   "cell_type": "markdown",
   "metadata": {},
   "source": [
    "### UFL Hybrid Procedure"
   ]
  },
  {
   "cell_type": "code",
   "execution_count": 16,
   "metadata": {},
   "outputs": [
    {
     "name": "stdout",
     "output_type": "stream",
     "text": [
      "  Add: 645\n",
      " Xchg: 600\n",
      "  Add: 600\n",
      " Drop: 600\n"
     ]
    },
    {
     "data": {
      "text/plain": [
       "([4, 1], 600)"
      ]
     },
     "execution_count": 16,
     "metadata": {},
     "output_type": "execute_result"
    }
   ],
   "source": [
    "ufl(k, C)"
   ]
  },
  {
   "cell_type": "markdown",
   "metadata": {},
   "source": [
    "### p-Median Construction Procedure"
   ]
  },
  {
   "cell_type": "code",
   "execution_count": 17,
   "metadata": {},
   "outputs": [
    {
     "data": {
      "text/plain": [
       "([2, 5], 295)"
      ]
     },
     "execution_count": 17,
     "metadata": {},
     "output_type": "execute_result"
    }
   ],
   "source": [
    "p = 2\n",
    "pmedian(p, C)"
   ]
  },
  {
   "cell_type": "markdown",
   "metadata": {},
   "source": [
    "## 2. Ex: NC & SC 10K+ Cities"
   ]
  },
  {
   "cell_type": "code",
   "execution_count": 18,
   "metadata": {},
   "outputs": [
    {
     "data": {
      "text/plain": [
       "lonlat2name (generic function with 1 method)"
      ]
     },
     "execution_count": 18,
     "metadata": {},
     "output_type": "execute_result"
    }
   ],
   "source": [
    "function dgc(xy₁, xy₂; unit=:mi)\n",
    "    length(xy₁) == length(xy₂) == 2 || error(\"Inputs must have length 2.\")\n",
    "    unit in [:mi, :km] || error(\"Unit must be :mi or :km\")\n",
    "\n",
    "    Δx, Δy = xy₂[1] - xy₁[1], xy₂[2] - xy₁[2]\n",
    "    a = sind(Δy / 2)^2 + cosd(xy₁[2]) * cosd(xy₂[2]) * sind(Δx / 2)^2\n",
    "    2 * asin(min(sqrt(a), 1.0)) * (unit == :mi ? 3958.75 : 6371.00)\n",
    "end\n",
    "\n",
    "Dgc(X₁, X₂) = [dgc(i, j) for i in eachrow(X₁), j in eachrow(X₂)]\n",
    "\n",
    "function lonlat2name(X, D, name, st)\n",
    "    for i = 1:size(D, 1)\n",
    "        d = D[i, :]\n",
    "        println(\"NF\", i, \": \", round(minimum(d)), \" miles from \", \n",
    "            name[argmin(d)], \", \", st[argmin(d)])\n",
    "    end\n",
    "end"
   ]
  },
  {
   "cell_type": "code",
   "execution_count": 19,
   "metadata": {},
   "outputs": [
    {
     "data": {
      "text/plain": [
       "155×155 Matrix{Float64}:\n",
       " 0.0        9.52936e5  1.26403e7  1.93727e6  …      2.69232e6      1.87705e6\n",
       " 1.14833e6  0.0        1.92483e7  3.15753e6         4.13654e6      2.61596e6\n",
       " 2.19587e6  2.77484e6  0.0        1.27228e6         1.05608e6      2.38361e6\n",
       " 1.66736e6  2.25519e6  6.30335e6  0.0               2.13336e6      2.73321e6\n",
       " 1.05173e6  8.59114e5  1.6674e7   2.34719e6         3.88762e6      2.9804e6\n",
       " 1.3553e6   4.99219e5  1.98684e7  3.0905e6   …      4.45741e6      3.11635e6\n",
       " 1.24345e6  6.26805e5  1.87838e7  2.8265e6          4.27439e6      3.09141e6\n",
       " 6.16389e5  1.44203e6  9.47312e6  1.59848e6         1.88681e6      1.49064e6\n",
       " 4.12052e5  1.29487e6  1.02697e7  1.54549e6         2.19322e6      1.74832e6\n",
       " 1.38335e6  6.76204e5  1.95452e7  2.96233e6         4.45698e6      3.22952e6\n",
       " 3.7931e6   2.29626e6  3.3756e7   5.77613e6  …      7.64915e6      5.52991e6\n",
       " 1.17327e6  1.71006e5  1.93483e7  3.24807e6         4.09446e6      2.4837e6\n",
       " 9.29875e5  1.71426e6  7.57604e6  1.37237e6         1.49366e6      1.51704e6\n",
       " ⋮                                           ⋱                 \n",
       " 2.24114e6  2.76844e6  5.1776e6   2.09199e6         2.53149e5      1.68267e6\n",
       " 1.89325e6  2.16672e6  1.28539e7  3.04903e6         1.95162e6      1.52803e5\n",
       " 2.10641e6  1.40063e6  2.23322e7  4.30376e6  …      4.38312e6      2.09763e6\n",
       " 1.71327e6  2.01857e6  1.26076e7  2.91609e6         1.94286e6  73629.6\n",
       " 1.73462e6  2.04375e6  1.25174e7  2.91474e6         1.91444e6  79207.6\n",
       " 2.04826e6  2.59485e6  5.7289e6   2.05966e6         2.46599e5      1.45274e6\n",
       " 2.19798e6  1.48578e6  2.26852e7  4.39909e6         4.44418e6      2.12091e6\n",
       " 2.67704e6  2.33399e6  2.11185e7  4.53311e6  …      3.84864e6      1.50507e6\n",
       " 2.03388e6  2.60771e6  4.47688e6  1.85018e6     51639.7            1.63983e6\n",
       " 8.49583e5  1.60037e6  8.91089e6  1.70392e6         1.61541e6      1.25948e6\n",
       " 2.05941e6  2.62572e6  4.65012e6  1.89601e6         0.0            1.62772e6\n",
       " 1.771e6    2.04819e6  1.29458e7  2.99623e6         2.00773e6      0.0"
      ]
     },
     "execution_count": 19,
     "metadata": {},
     "output_type": "execute_result"
    }
   ],
   "source": [
    "using Logjam.DataTools, DataFrames\n",
    "\n",
    "include(\"ufl_heuristics.jl\")\n",
    "\n",
    "df = filter!(r -> any(i -> r.STFIP == i, st2fips.([:NC,:SC])) && \n",
    "    r.POP > 10_000, usplace())\n",
    "select!(df, :NAME, :ST, :LAT, :LON, :POP)\n",
    "\n",
    "P = hcat(df.LON, df.LAT)\n",
    "w = df.POP\n",
    "\n",
    "D = Dgc(P, P)\n",
    "C = w[:]' .* D"
   ]
  },
  {
   "cell_type": "code",
   "execution_count": 20,
   "metadata": {},
   "outputs": [
    {
     "data": {
      "text/plain": [
       "(1.148331477137756e6, 952936.2233599344)"
      ]
     },
     "execution_count": 20,
     "metadata": {},
     "output_type": "execute_result"
    }
   ],
   "source": [
    "# Check broadcasting:\n",
    "w[1] * D[2, 1], w[2] * D[1, 2]"
   ]
  },
  {
   "cell_type": "code",
   "execution_count": 21,
   "metadata": {},
   "outputs": [
    {
     "data": {
      "text/plain": [
       "([6, 8], 3.935223149761722e8)"
      ]
     },
     "execution_count": 21,
     "metadata": {},
     "output_type": "execute_result"
    }
   ],
   "source": [
    "y, TC = ufladd(0, C, p = 2)\n",
    "y, TC = uflxchg(0, C, y)"
   ]
  },
  {
   "cell_type": "code",
   "execution_count": 22,
   "metadata": {},
   "outputs": [
    {
     "data": {
      "text/plain": [
       "([6, 8], 3.935223149761722e8)"
      ]
     },
     "execution_count": 22,
     "metadata": {},
     "output_type": "execute_result"
    }
   ],
   "source": [
    "y, TC = pmedian(2, C)"
   ]
  },
  {
   "cell_type": "code",
   "execution_count": 23,
   "metadata": {},
   "outputs": [
    {
     "name": "stdout",
     "output_type": "stream",
     "text": [
      "NF1: 0.0 miles from Cary, NC\n",
      "NF2: 0.0 miles from Charlotte, NC\n"
     ]
    }
   ],
   "source": [
    "lonlat2name(P[y, :], Dgc(P[y, :], hcat(df.LON, df.LAT)), df.NAME, df.ST)"
   ]
  },
  {
   "cell_type": "markdown",
   "metadata": {},
   "source": [
    "## 3. Ex: Best Retail Warehouse Locations in U.S."
   ]
  },
  {
   "cell_type": "code",
   "execution_count": 24,
   "metadata": {},
   "outputs": [
    {
     "data": {
      "text/plain": [
       "882×882 Matrix{Float64}:\n",
       " 0.0        1.27581e6  4.80354e6  2.18512e6  …  9.2409e8   4.91286e7\n",
       " 3.51217e6  0.0        5.41746e6  2.77588e6     9.257e8    4.92168e7\n",
       " 1.77188e7  7.25901e6  0.0        3.21568e6     9.08958e8  4.8294e7\n",
       " 1.24675e7  5.75327e6  4.974e6    0.0           9.21586e8  4.89931e7\n",
       " 2.25424e7  8.77433e6  9.50444e6  2.97611e6     9.3507e8   4.97385e7\n",
       " 1.87714e7  6.75069e6  9.60909e6  3.61903e6  …  9.38799e8  4.99417e7\n",
       " 1.85466e7  6.78733e6  9.43232e6  3.40518e6     9.3798e8   4.98968e7\n",
       " 2.73191e7  9.9899e6   1.16637e7  4.61751e6     9.44071e8  5.0234e7\n",
       " 3.57961e7  1.33727e7  1.33056e7  5.41801e6     9.45415e8  5.0311e7\n",
       " 4.18636e7  1.54333e7  1.51848e7  6.66314e6     9.51715e8  5.06587e7\n",
       " 3.45029e7  1.23299e7  1.3883e7   6.19699e6  …  9.51841e8  5.06621e7\n",
       " 3.6616e7   1.33181e7  1.4167e7   6.16469e6     9.5125e8   5.0631e7\n",
       " 3.60784e7  1.31345e7  1.40081e7  6.05778e6     9.50721e8  5.06018e7\n",
       " ⋮                                           ⋱  ⋮          \n",
       " 1.13975e9  4.14776e8  3.04181e8  1.99091e8  …  8.26229e7  5.98634e6\n",
       " 1.15063e9  4.18704e8  3.07132e8  2.01052e8     7.39824e7  5.77462e6\n",
       " 1.15008e9  4.18497e8  3.06983e8  2.00969e8     7.04601e7  5.62251e6\n",
       " 1.16344e9  4.23344e8  3.10605e8  2.03319e8     7.87306e7  6.13573e6\n",
       " 1.16173e9  4.22683e8  3.10148e8  2.03096e8     7.00666e7  5.72333e6\n",
       " 1.0916e9   3.97255e8  2.91128e8  1.90713e8  …  3.955e7    3.32021e6\n",
       " 1.10906e9  4.0357e8   2.95868e8  1.93833e8     2.8577e7   3.37339e6\n",
       " 1.03629e9  3.7716e8   2.76135e8  1.8103e8      5.01937e7  2.03863e6\n",
       " 1.04366e9  3.79836e8  2.78131e8  1.82319e8     4.632e7    2.07917e6\n",
       " 1.0363e9   3.77165e8  2.76138e8  1.81032e8     5.02776e7  2.04599e6\n",
       " 1.07985e9  3.92941e8  2.87952e8  1.88747e8  …  0.0        1.86568e6\n",
       " 1.04058e9  3.78672e8  2.77307e8  1.81874e8     3.38165e7  0.0"
      ]
     },
     "execution_count": 24,
     "metadata": {},
     "output_type": "execute_result"
    }
   ],
   "source": [
    "using Logjam.DataTools, DataFrames\n",
    "\n",
    "include(\"ufl_heuristics.jl\")\n",
    "\n",
    "df = filter!(r -> r.ISCUS == true && r.POP > 0, uszcta3())\n",
    "select!(df, :ZCTA3, :LAT, :LON, :POP)\n",
    "\n",
    "P = hcat(df.LON, df.LAT)\n",
    "w = df.POP\n",
    "\n",
    "D = Dgc(P, P)\n",
    "C = w[:]' .* D"
   ]
  },
  {
   "cell_type": "code",
   "execution_count": 25,
   "metadata": {},
   "outputs": [
    {
     "data": {
      "text/plain": [
       "([834, 281, 873, 686, 312, 729, 559, 397, 60], 5.710476191147255e10)"
      ]
     },
     "execution_count": 25,
     "metadata": {},
     "output_type": "execute_result"
    }
   ],
   "source": [
    "y, TC = pmedian(9, C)"
   ]
  },
  {
   "cell_type": "code",
   "execution_count": 26,
   "metadata": {},
   "outputs": [
    {
     "name": "stdout",
     "output_type": "stream",
     "text": [
      "NF1: 14.0 miles from Lancaster, CA\n",
      "NF2: 40.0 miles from Athens-Clarke County unified government (balance), GA\n",
      "NF3: 4.0 miles from Tacoma, WA\n",
      "NF4: 58.0 miles from Tyler, TX\n",
      "NF5: 14.0 miles from Lakeland, FL\n",
      "NF6: 5.0 miles from Denver, CO\n",
      "NF7: 17.0 miles from Rockford, IL\n",
      "NF8: 43.0 miles from Columbus, OH\n",
      "NF9: 3.0 miles from Newark, NJ\n"
     ]
    }
   ],
   "source": [
    "df2 = filter!(r -> r.ISCUS == true && r.POP > 100_000, usplace())\n",
    "lonlat2name(P[y, :], Dgc(P[y, :], hcat(df2.LON, df2.LAT)), df2.NAME, df2.ST)"
   ]
  },
  {
   "attachments": {
    "93514bdb-74c5-4db6-9510-ebe253a724af.png": {
     "image/png": "[encoded data removed]"
    }
   },
   "cell_type": "markdown",
   "metadata": {},
   "source": [
    "Using Integrated Formulation from previous notebook:\n",
    "\n",
    "![image.png](attachment:93514bdb-74c5-4db6-9510-ebe253a724af.png)"
   ]
  }
 ],
 "metadata": {
  "kernelspec": {
   "display_name": "Julia 1.10.4",
   "language": "julia",
   "name": "julia-1.10"
  },
  "language_info": {
   "file_extension": ".jl",
   "mimetype": "application/julia",
   "name": "julia",
   "version": "1.10.4"
  }
 },
 "nbformat": 4,
 "nbformat_minor": 4
}
