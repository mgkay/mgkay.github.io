{
 "cells": [
  {
   "cell_type": "markdown",
   "metadata": {},
   "source": [
    "# 2. Loc 4: Allocation and ALA\n",
    "`ISE 754, Fall 2024`\n",
    "\n",
    "__Package Used:__ No new packages used.\n"
   ]
  },
  {
   "cell_type": "markdown",
   "metadata": {},
   "source": [
    "## 1. Allocation\n",
    "Allocate NC 100K city population to Raleigh and Charlotte based on their closeness:"
   ]
  },
  {
   "cell_type": "code",
   "execution_count": 1,
   "metadata": {},
   "outputs": [
    {
     "data": {
      "text/plain": [
       "name2lonlat (generic function with 1 method)"
      ]
     },
     "execution_count": 1,
     "metadata": {},
     "output_type": "execute_result"
    }
   ],
   "source": [
    "function dgc(xy₁, xy₂; unit=:mi)\n",
    "    length(xy₁) == length(xy₂) == 2 || error(\"Inputs must have length 2.\")\n",
    "    unit in [:mi, :km] || error(\"Unit must be :mi or :km\")\n",
    "\n",
    "    Δx, Δy = xy₂[1] - xy₁[1], xy₂[2] - xy₁[2]\n",
    "    a = sind(Δy / 2)^2 + cosd(xy₁[2]) * cosd(xy₂[2]) * sind(Δx / 2)^2\n",
    "    2 * asin(min(sqrt(a), 1.0)) * (unit == :mi ? 3958.75 : 6371.00)\n",
    "end\n",
    "\n",
    "function name2lonlat(name, df)\n",
    "    idx = findfirst(r -> r.NAME == name, eachrow(df))   # Find first match\n",
    "    if idx === nothing\n",
    "        error(\"'$name' not found in $df\")\n",
    "    end\n",
    "    return collect(df[idx, [:LON, :LAT]])\n",
    "end"
   ]
  },
  {
   "cell_type": "code",
   "execution_count": null,
   "metadata": {},
   "outputs": [],
   "source": [
    "using Logjam.DataTools, DataFrames\n",
    "\n",
    "df = filter(r -> (r.STFIP == st2fips(:NC)) && (r.POP > 100_000), usplace())\n",
    "select!(df, :NAME, :LAT, :LON, :POP)"
   ]
  },
  {
   "cell_type": "code",
   "execution_count": null,
   "metadata": {},
   "outputs": [],
   "source": [
    "P = hcat(df.LON, df.LAT)"
   ]
  },
  {
   "cell_type": "code",
   "execution_count": null,
   "metadata": {},
   "outputs": [],
   "source": [
    "xyC = name2lonlat(\"Charlotte\", df)\n",
    "xyR = name2lonlat(\"Raleigh\", df)\n",
    "X = vcat(xyC', xyR')"
   ]
  },
  {
   "cell_type": "code",
   "execution_count": null,
   "metadata": {},
   "outputs": [],
   "source": [
    "Dgc(X₁, X₂) = [dgc(i, j) for i in eachrow(X₁), j in eachrow(X₂)]\n",
    "\n",
    "D = Dgc(X, P)"
   ]
  },
  {
   "cell_type": "code",
   "execution_count": null,
   "metadata": {},
   "outputs": [],
   "source": [
    "α = [argmin(c) for c in eachcol(D)]"
   ]
  },
  {
   "cell_type": "code",
   "execution_count": null,
   "metadata": {},
   "outputs": [],
   "source": [
    "w = df.POP"
   ]
  },
  {
   "cell_type": "code",
   "execution_count": null,
   "metadata": {},
   "outputs": [],
   "source": [
    "using SparseArrays\n",
    "\n",
    "n, m = size(D)\n",
    "W = sparse(α, 1:m, w, n, m)"
   ]
  },
  {
   "cell_type": "code",
   "execution_count": null,
   "metadata": {},
   "outputs": [],
   "source": [
    "TC2 = sum(W .* D)"
   ]
  },
  {
   "cell_type": "markdown",
   "metadata": {},
   "source": [
    "__Add Greensboro:__ What would be the impact of adding Greensboro as potential allocation point?"
   ]
  },
  {
   "cell_type": "code",
   "execution_count": null,
   "metadata": {},
   "outputs": [],
   "source": [
    "X = vcat(X, name2lonlat(\"Greensboro\", df)')"
   ]
  },
  {
   "cell_type": "code",
   "execution_count": null,
   "metadata": {},
   "outputs": [],
   "source": [
    "D = Dgc(X, P)"
   ]
  },
  {
   "cell_type": "code",
   "execution_count": null,
   "metadata": {},
   "outputs": [],
   "source": [
    "α = [argmin(c) for c in eachcol(D)]\n",
    "n, m = size(D)\n",
    "TC3 = sum(sparse(α, 1:m, w, n, m) .* D)"
   ]
  },
  {
   "cell_type": "code",
   "execution_count": null,
   "metadata": {},
   "outputs": [],
   "source": [
    "println(\"Deduction in person-miles = \", 100*(TC2 - TC3)/TC2, \"%\")"
   ]
  },
  {
   "cell_type": "markdown",
   "metadata": {},
   "source": [
    "## 2. Facility Location–Allocation Problem\n",
    "\n",
    "### Ex: I-40 Cities (1-D location problem)"
   ]
  },
  {
   "cell_type": "code",
   "execution_count": null,
   "metadata": {},
   "outputs": [],
   "source": [
    "d1(x1, x2) = length(x1) == length(x2) ? sum(abs.(x1 .- x2)) : \n",
    "    error(\"Inputs not same length.\")\n",
    "D1(X₁, X₂) = [d1(i, j) for i in eachrow(X₁), j in eachrow(X₂)]\n",
    "\n",
    "P = [50 150 190 220 270 295 420]'\n",
    "m = size(P, 1)\n",
    "w = collect(1:m)\n",
    "X = [100 300]'\n",
    "n = size(X, 1)\n",
    "D1(X, P)"
   ]
  },
  {
   "cell_type": "code",
   "execution_count": null,
   "metadata": {},
   "outputs": [],
   "source": [
    "# First Approach: Integrated Formulation\n",
    "using SparseArrays\n",
    "\n",
    "function TCint(X)\n",
    "    D = D1(X, P)\n",
    "    α = [argmin(c) for c in eachcol(D)]\n",
    "    n, m = size(D)\n",
    "    return sum(sparse(α, 1:m, w, n, m) .* D)\n",
    "end"
   ]
  },
  {
   "cell_type": "code",
   "execution_count": null,
   "metadata": {},
   "outputs": [],
   "source": [
    "using CairoMakie\n",
    "\n",
    "xrng = 0:500\n",
    "Z = [TCint([x1; x2]) for x1 in xrng, x2 in xrng]\n",
    "contour(xrng, xrng, Z; levels = 100)"
   ]
  },
  {
   "cell_type": "code",
   "execution_count": null,
   "metadata": {},
   "outputs": [],
   "source": [
    "using Optim\n",
    "\n",
    "Xᵒ = optimize(TCint, [0.; 200.]).minimizer"
   ]
  },
  {
   "cell_type": "code",
   "execution_count": null,
   "metadata": {},
   "outputs": [],
   "source": [
    "Xᵒ = optimize(TCint, [200.; 500.]).minimizer"
   ]
  },
  {
   "cell_type": "code",
   "execution_count": null,
   "metadata": {},
   "outputs": [],
   "source": [
    "# Second Approach: Alternating Location-Allocation (ALA) Procedure\n",
    "\n",
    "TC(W, X) = sum(W .* D1(X, P))\n",
    "alloc(X) = sparse([argmin(c) for c in eachcol(D1(X, P))], 1:m, w, n, m)\n",
    "loc(W, X₀) = optimize(X -> TC(W, X), X₀).minimizer\n",
    "\n",
    "function ala(Xᵒ)            # Input initial location\n",
    "    TCᵒ, done = Inf, false\n",
    "    while !done\n",
    "        W = alloc(Xᵒ)       # Allocate\n",
    "        X′ = loc(W, Xᵒ)     # Locate\n",
    "        TC′ = TC(W, X′)\n",
    "        println(TC′, X′)\n",
    "        if TC′ < TCᵒ\n",
    "            TCᵒ, Xᵒ = TC′, X′\n",
    "        else\n",
    "            done = true\n",
    "        end\n",
    "    end\n",
    "end"
   ]
  },
  {
   "cell_type": "code",
   "execution_count": null,
   "metadata": {},
   "outputs": [],
   "source": [
    "ala([0.; 200.])"
   ]
  },
  {
   "cell_type": "code",
   "execution_count": null,
   "metadata": {},
   "outputs": [],
   "source": [
    "ala([200.; 500.])"
   ]
  },
  {
   "cell_type": "markdown",
   "metadata": {},
   "source": [
    "### Ex: NC & SC 10K+ Cities (2-D location problem)"
   ]
  },
  {
   "cell_type": "code",
   "execution_count": null,
   "metadata": {},
   "outputs": [],
   "source": [
    "using Logjam.DataTools, Logjam.MapTools\n",
    "using GeoMakie, DataFrames\n",
    "\n",
    "df = filter!(r -> any(i -> r.STFIP == i, st2fips.([:NC,:SC])) && \n",
    "    r.POP > 10_000, usplace())\n",
    "select!(df, :NAME, :ST, :LAT, :LON, :POP)\n",
    "\n",
    "fig, ax = makemap(df.LON, df.LAT; xexpand=0.1)\n",
    "scatter!(ax, df.LON, df.LAT; marker='.', markersize=24, color=:red)\n",
    "fig"
   ]
  },
  {
   "cell_type": "code",
   "execution_count": null,
   "metadata": {},
   "outputs": [],
   "source": [
    "P = hcat(df.LON, df.LAT)"
   ]
  },
  {
   "cell_type": "code",
   "execution_count": null,
   "metadata": {},
   "outputs": [],
   "source": [
    "using Random\n",
    "\n",
    "function randX(P, n)\n",
    "    (xmn, xmx), (ymn, ymx) = extrema(P, dims=1)\n",
    "    return [xmn ymn] .+ rand(n, 2) .* [(xmx - xmn) (ymx - ymn)]\n",
    "end\n",
    "\n",
    "Random.seed!(8345)\n",
    "\n",
    "X₀ = randX(P, 3)"
   ]
  },
  {
   "cell_type": "code",
   "execution_count": null,
   "metadata": {},
   "outputs": [],
   "source": [
    "n = 2\n",
    "m = size(P, 1)\n",
    "w = df.POP\n",
    "\n",
    "TC(W, X) = sum(W .* Dgc(X, P))\n",
    "alloc(X) = sparse([argmin(c) for c in eachcol(Dgc(X, P))], 1:m, w, n, m)\n",
    "loc(W, X₀) = optimize(X -> TC(W, X), X₀).minimizer\n",
    "\n",
    "function ala(Xᵒ)            # Input initial location\n",
    "    TCᵒ, done = Inf, false\n",
    "    while !done\n",
    "        W = alloc(Xᵒ)       # Allocate\n",
    "        X′ = loc(W, Xᵒ)     # Locate\n",
    "        TC′ = TC(W, X′)\n",
    "        println(TC′)\n",
    "        if TC′ < TCᵒ\n",
    "            TCᵒ, Xᵒ = TC′, X′\n",
    "        else\n",
    "            done = true\n",
    "        end\n",
    "    end\n",
    "    return Xᵒ, TCᵒ \n",
    "end\n",
    "\n",
    "@show X₀ = randX(P, n)\n",
    "Xᵒ, TCᵒ = ala(X₀)\n",
    "Xᵒ"
   ]
  },
  {
   "cell_type": "code",
   "execution_count": null,
   "metadata": {},
   "outputs": [],
   "source": [
    "@show X₀ = randX(P, n)\n",
    "Xᵒ, TCᵒ = ala(X₀)\n",
    "Xᵒ"
   ]
  },
  {
   "cell_type": "code",
   "execution_count": null,
   "metadata": {},
   "outputs": [],
   "source": [
    "@show X₀ = randX(P, n)\n",
    "Xᵒ, TCᵒ = ala(X₀)\n",
    "Xᵒ"
   ]
  },
  {
   "cell_type": "code",
   "execution_count": null,
   "metadata": {},
   "outputs": [],
   "source": [
    "scatter!(ax, Xᵒ[:, 1], Xᵒ[:, 2]; marker=:dtriangle, markersize=12, color=:black)\n",
    "fig"
   ]
  },
  {
   "cell_type": "code",
   "execution_count": null,
   "metadata": {},
   "outputs": [],
   "source": [
    "function lonlat2name(X, D, name, st)\n",
    "    for i = 1:size(D, 1)\n",
    "        d = D[i, :]\n",
    "        println(\"NF\", i, \": \", round(minimum(d)), \" miles from \", \n",
    "            name[argmin(d)], \", \", st[argmin(d)])\n",
    "    end\n",
    "end\n",
    "\n",
    "lonlat2name(Xᵒ, Dgc(Xᵒ, P), df.NAME, df.ST)"
   ]
  },
  {
   "cell_type": "code",
   "execution_count": null,
   "metadata": {},
   "outputs": [],
   "source": [
    "# Take the best of 'nruns' runs of ALA\n",
    "nruns = 5\n",
    "TCᵒ, Xᵒ = Inf, nothing\n",
    "for i = 1:nruns\n",
    "    println(\"\\nRun \", i)\n",
    "    X′, TC′ = ala(randX(P, n))\n",
    "    if TC′ < TCᵒ\n",
    "        Xᵒ, TCᵒ = X′, TC′\n",
    "    end\n",
    "end\n",
    "println(\"\\nTC = \", TCᵒ, \" person-miles\")\n",
    "lonlat2name(Xᵒ, Dgc(Xᵒ, P), df.NAME, df.ST)"
   ]
  },
  {
   "cell_type": "markdown",
   "metadata": {},
   "source": [
    "__Allocation constraint:__ Due to a preexising contract. the first three EFs must be allocated to NF1, and the next three EFs must be allocated to NF2."
   ]
  },
  {
   "cell_type": "code",
   "execution_count": null,
   "metadata": {},
   "outputs": [],
   "source": [
    "# Re-define `alloc`:\n",
    "function alloc(X)\n",
    "    α = [argmin(c) for c in eachcol(Dgc(X, P))]\n",
    "    α[1:3] .= 1\n",
    "    α[4:6] .= 2\n",
    "    return sparse(α, 1:m, w, n, m)\n",
    "end\n",
    "\n",
    "# Need to re-init `ala` so that reads the new `alloc`\n",
    "function ala(Xᵒ)            # Input initial location\n",
    "    TCᵒ, done = Inf, false\n",
    "    while !done\n",
    "        W = alloc(Xᵒ)\n",
    "        X′ = loc(W, Xᵒ)\n",
    "        TC′ = TC(W, X′)\n",
    "        println(TC′)\n",
    "        if TC′ < TCᵒ\n",
    "            TCᵒ, Xᵒ = TC′, X′\n",
    "        else\n",
    "            done = true\n",
    "        end\n",
    "    end\n",
    "    return Xᵒ, TCᵒ \n",
    "end\n",
    "\n",
    "Xᵒ, TCᵒ = ala(randX(P, n))\n",
    "lonlat2name(Xᵒ, Dgc(Xᵒ, P), df.NAME, df.ST)\n",
    "W = alloc(Xᵒ)\n",
    "W[:, 1:10]"
   ]
  },
  {
   "cell_type": "markdown",
   "metadata": {},
   "source": [
    "---\n",
    "#### __Question 2.4.1__\n",
    "After adding the allocation constraint, still found Cary and Charlotte locations for the two NFs, but the TC increased from 3.9e8 to 4.3e8. Why?\n",
    "\n",
    "(a) Adding any constraint to a minimization problem usually increases TC even though the same final NF locations were found.\n",
    "\n",
    "(b) Since ALA was started from random initial locations, the local minimum TCs found vary.\r\n",
    "\r\n",
    "(c) The ALA with the constraint only ran once; the best of multiple runs would have found the same result.\r\n",
    "\r\n",
    "(d) Adding any constraint to a minimization problem usually increases TC only when different final NF locations are found.\n",
    "\n",
    "---"
   ]
  },
  {
   "cell_type": "markdown",
   "metadata": {},
   "source": [
    "### Ex: Best Retail Warehouse Locations in U.S."
   ]
  },
  {
   "cell_type": "code",
   "execution_count": null,
   "metadata": {},
   "outputs": [],
   "source": [
    "using Logjam.DataTools, Logjam.MapTools\n",
    "using GeoMakie, DataFrames\n",
    "\n",
    "df = filter!(r -> r.ISCUS == true && r.POP > 0, uszcta3())\n",
    "select!(df, :ZCTA3, :LAT, :LON, :POP)\n",
    "\n",
    "fig, ax, h = makemap(region=:CUS)\n",
    "h[1].alpha = 0.5\n",
    "scatter!(ax, df.LON, df.LAT; marker='.', markersize=12, color=:red)\n",
    "fig"
   ]
  },
  {
   "cell_type": "code",
   "execution_count": null,
   "metadata": {},
   "outputs": [],
   "source": [
    "Random.seed!(4161)\n",
    "\n",
    "P = hcat(df.LON, df.LAT)\n",
    "w = df.POP\n",
    "\n",
    "TC(X) = sum(w .* Dgc(X, P))\n",
    "Xᵒ = optimize(TC, randX(P, 1)).minimizer"
   ]
  },
  {
   "cell_type": "code",
   "execution_count": null,
   "metadata": {},
   "outputs": [],
   "source": [
    "df2 = filter!(r -> r.ISCUS == true && r.POP > 100_000, usplace())\n",
    "lonlat2name(Xᵒ, Dgc(Xᵒ, hcat(df2.LON, df2.LAT)), df2.NAME, df2.ST)"
   ]
  },
  {
   "cell_type": "code",
   "execution_count": null,
   "metadata": {},
   "outputs": [],
   "source": [
    "TC(W, X) = sum(W .* Dgc(X, P))\n",
    "alloc(X) = sparse([argmin(c) for c in eachcol(Dgc(X, P))],  # Using P and X to calc m and n\n",
    "    1:size(P, 1), w, size(X, 1), size(P, 1))\n",
    "loc(W, X₀) = optimize(X -> TC(W, X), X₀).minimizer\n",
    "\n",
    "function ala(Xᵒ)\n",
    "    TCᵒ, done = Inf, false\n",
    "    while !done\n",
    "        W = alloc(Xᵒ)\n",
    "        X′ = loc(W, Xᵒ)\n",
    "        TC′ = TC(W, X′)\n",
    "        println(TC′)\n",
    "        if TC′ < TCᵒ\n",
    "            TCᵒ, Xᵒ = TC′, X′\n",
    "        else\n",
    "            done = true\n",
    "        end\n",
    "    end\n",
    "    return Xᵒ, TCᵒ \n",
    "end\n",
    "\n",
    "Xᵒ = ala(randX(P, 2))[1]\n",
    "lonlat2name(Xᵒ, Dgc(Xᵒ, hcat(df2.LON, df2.LAT)), df2.NAME, df2.ST)"
   ]
  },
  {
   "cell_type": "code",
   "execution_count": null,
   "metadata": {},
   "outputs": [],
   "source": [
    "Xᵒ = ala(randX(P, 3))[1]\n",
    "lonlat2name(Xᵒ, Dgc(Xᵒ, hcat(df2.LON, df2.LAT)), df2.NAME, df2.ST)"
   ]
  },
  {
   "cell_type": "code",
   "execution_count": null,
   "metadata": {},
   "outputs": [],
   "source": [
    "scatter!(ax, Xᵒ[:, 1], Xᵒ[:, 2]; marker=:dtriangle, markersize=12, color=:black)\n",
    "fig"
   ]
  },
  {
   "cell_type": "code",
   "execution_count": null,
   "metadata": {},
   "outputs": [],
   "source": [
    "X₀ = randX(P, 9)\n",
    "Xᵒ = ala(X₀)[1]\n",
    "lonlat2name(Xᵒ, Dgc(Xᵒ, hcat(df2.LON, df2.LAT)), df2.NAME, df2.ST)"
   ]
  },
  {
   "cell_type": "code",
   "execution_count": null,
   "metadata": {},
   "outputs": [],
   "source": [
    "# Integrated Formulation\n",
    "using SparseArrays\n",
    "\n",
    "function TCint(X)\n",
    "    D = Dgc(X, P)\n",
    "    α = [argmin(c) for c in eachcol(D)]\n",
    "    n, m = size(D)\n",
    "    return sum(sparse(α, 1:m, w, n, m) .* D)\n",
    "end\n",
    "\n",
    "Xᵒ = optimize(TCint, X₀).minimizer\n",
    "lonlat2name(Xᵒ, Dgc(Xᵒ, hcat(df2.LON, df2.LAT)), df2.NAME, df2.ST)\n",
    "TCint(Xᵒ)"
   ]
  },
  {
   "cell_type": "code",
   "execution_count": null,
   "metadata": {},
   "outputs": [],
   "source": [
    "Xᵒ = optimize(TCint, randX(P, 9)).minimizer\n",
    "lonlat2name(Xᵒ, Dgc(Xᵒ, hcat(df2.LON, df2.LAT)), df2.NAME, df2.ST)\n",
    "TCint(Xᵒ)"
   ]
  },
  {
   "cell_type": "markdown",
   "metadata": {},
   "source": [
    "To add a row to the table:"
   ]
  }
 ],
 "metadata": {
  "kernelspec": {
   "display_name": "Julia 1.10.4",
   "language": "julia",
   "name": "julia-1.10"
  },
  "language_info": {
   "file_extension": ".jl",
   "mimetype": "application/julia",
   "name": "julia",
   "version": "1.10.4"
  }
 },
 "nbformat": 4,
 "nbformat_minor": 4
}
