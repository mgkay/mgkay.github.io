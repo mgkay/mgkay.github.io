{
 "cells": [
  {
   "cell_type": "markdown",
   "metadata": {},
   "source": [
    "# HW 1: Julia \n",
    "---\n",
    "`ISE 754, Fall 2024`\n",
    "\n",
    "__Assigned:__ Wed, 21 Aug (Individual Assignment)  \n",
    "__Due:__ 10:00a, Wed, 28 Aug \n",
    "\n",
    "Please use the Code cells in this Jupyter notebook to answer the following questions. Please run all of the cells in your notebook and then submit it via Moodle. (There is a _Run All Cells_ command under the _Run_ menu.)\n",
    "\n",
    "---"
   ]
  },
  {
   "cell_type": "markdown",
   "metadata": {},
   "source": [
    "__(1)__ Given the array `x = [3, 1, 2, 9, 5, 4]`, provide the single command  (namely, one line of code with at most one assignment (i.e., one equals sign =)) needed to perform the following actions. Unless noted, all of the actions should not modify `x`; instead, the result of the action will just be displayed in the notebook. If `x` is modified, type `x` on a second line in the cell to display the modified `x` in full (otherwise, just the modified elements of `x` will be displayed; the modified `x` should be used for subsequent actions.\n",
    "\n",
    "(a) After first creating `x`, extract the third element from `x`"
   ]
  },
  {
   "cell_type": "code",
   "execution_count": 1,
   "metadata": {},
   "outputs": [
    {
     "data": {
      "text/plain": [
       "2"
      ]
     },
     "execution_count": 1,
     "metadata": {},
     "output_type": "execute_result"
    }
   ],
   "source": [
    "x = [3,1,2,9,5,4]\n",
    "x[3]"
   ]
  },
  {
   "cell_type": "markdown",
   "metadata": {},
   "source": [
    "(b) Extract all but the last element from `x`"
   ]
  },
  {
   "cell_type": "code",
   "execution_count": 2,
   "metadata": {},
   "outputs": [
    {
     "data": {
      "text/plain": [
       "(3, 1, 2, 9, 5)"
      ]
     },
     "execution_count": 2,
     "metadata": {},
     "output_type": "execute_result"
    }
   ],
   "source": [
    "x[1],x[2], x[3], x[4], x[end-1]"
   ]
  },
  {
   "cell_type": "markdown",
   "metadata": {},
   "source": [
    "(c) Extract the first, third, first, sixth, and first element from `x`"
   ]
  },
  {
   "cell_type": "code",
   "execution_count": 3,
   "metadata": {},
   "outputs": [
    {
     "data": {
      "text/plain": [
       "(3, 2, 3, 4, 3)"
      ]
     },
     "execution_count": 3,
     "metadata": {},
     "output_type": "execute_result"
    }
   ],
   "source": [
    "x[1], x[3], x[1], x[end], x[1]"
   ]
  },
  {
   "cell_type": "markdown",
   "metadata": {},
   "source": [
    "(d) Reverse the elements of `x`"
   ]
  },
  {
   "cell_type": "code",
   "execution_count": 4,
   "metadata": {},
   "outputs": [
    {
     "data": {
      "text/plain": [
       "6-element Vector{Int64}:\n",
       " 4\n",
       " 5\n",
       " 9\n",
       " 2\n",
       " 1\n",
       " 3"
      ]
     },
     "execution_count": 4,
     "metadata": {},
     "output_type": "execute_result"
    }
   ],
   "source": [
    "reverse(x)"
   ]
  },
  {
   "cell_type": "markdown",
   "metadata": {},
   "source": [
    "(e) Calculate the sum of all of the elements of `x`"
   ]
  },
  {
   "cell_type": "code",
   "execution_count": 5,
   "metadata": {},
   "outputs": [
    {
     "data": {
      "text/plain": [
       "24"
      ]
     },
     "execution_count": 5,
     "metadata": {},
     "output_type": "execute_result"
    }
   ],
   "source": [
    "sum(x)"
   ]
  },
  {
   "cell_type": "markdown",
   "metadata": {},
   "source": [
    "(f) Calculate the sum from the first to the _i_ th element of `x`, for all elements 1 to _i_ in `x`"
   ]
  },
  {
   "cell_type": "code",
   "execution_count": 6,
   "metadata": {},
   "outputs": [
    {
     "data": {
      "text/plain": [
       "6-element Vector{Int64}:\n",
       "  3\n",
       "  4\n",
       "  6\n",
       " 15\n",
       " 20\n",
       " 24"
      ]
     },
     "execution_count": 6,
     "metadata": {},
     "output_type": "execute_result"
    }
   ],
   "source": [
    "[sum(x[1:i]) for i in 1:length(x)]"
   ]
  },
  {
   "cell_type": "markdown",
   "metadata": {},
   "source": [
    "(g) Modify `x` by setting the second and sixth elements of `x` equal to zero; then type `x` on a second line in cell in order to display the result"
   ]
  },
  {
   "cell_type": "code",
   "execution_count": 7,
   "metadata": {},
   "outputs": [
    {
     "data": {
      "text/plain": [
       "6-element Vector{Int64}:\n",
       " 3\n",
       " 0\n",
       " 2\n",
       " 9\n",
       " 5\n",
       " 0"
      ]
     },
     "execution_count": 7,
     "metadata": {},
     "output_type": "execute_result"
    }
   ],
   "source": [
    "x[[2,6]] =[0,0]\n",
    "x"
   ]
  },
  {
   "cell_type": "markdown",
   "metadata": {},
   "source": [
    "(h) Using the result from (g), modify `x` by deleting its third element"
   ]
  },
  {
   "cell_type": "code",
   "execution_count": 8,
   "metadata": {},
   "outputs": [
    {
     "data": {
      "text/plain": [
       "5-element Vector{Int64}:\n",
       " 3\n",
       " 0\n",
       " 9\n",
       " 5\n",
       " 0"
      ]
     },
     "execution_count": 8,
     "metadata": {},
     "output_type": "execute_result"
    }
   ],
   "source": [
    "deleteat!(x, 3)"
   ]
  },
  {
   "cell_type": "markdown",
   "metadata": {},
   "source": [
    "(i) Using the result from (h), modify `x` by adding 7 to its end"
   ]
  },
  {
   "cell_type": "code",
   "execution_count": 9,
   "metadata": {},
   "outputs": [
    {
     "data": {
      "text/plain": [
       "6-element Vector{Int64}:\n",
       " 3\n",
       " 0\n",
       " 9\n",
       " 5\n",
       " 0\n",
       " 7"
      ]
     },
     "execution_count": 9,
     "metadata": {},
     "output_type": "execute_result"
    }
   ],
   "source": [
    "push!(x, 7)   "
   ]
  },
  {
   "cell_type": "markdown",
   "metadata": {},
   "source": [
    "---\n",
    "__(2)__ Provide a single command needed to create or modify the following arrays:\n",
    "\n",
    "(a) A two-row, three-column matrix consisting of all integer zero values"
   ]
  },
  {
   "cell_type": "code",
   "execution_count": 10,
   "metadata": {},
   "outputs": [
    {
     "data": {
      "text/plain": [
       "2×3 Matrix{Int64}:\n",
       " 0  0  0\n",
       " 0  0  0"
      ]
     },
     "execution_count": 10,
     "metadata": {},
     "output_type": "execute_result"
    }
   ],
   "source": [
    "s = zeros(Int,2,3)"
   ]
  },
  {
   "cell_type": "markdown",
   "metadata": {},
   "source": [
    "(b) A 3-element array whose first element is the vector `[1, 4, 2]`, second element is the matrix `[2 5 4; 1 8 3]`, and third element is the scalar 6.5"
   ]
  },
  {
   "cell_type": "code",
   "execution_count": 11,
   "metadata": {},
   "outputs": [
    {
     "data": {
      "text/plain": [
       "4-element Vector{Matrix{Float64}}:\n",
       " [1.0 4.0 2.0]\n",
       " [2.0 5.0 4.0]\n",
       " [1.0 8.0 3.0]\n",
       " [6.5 6.5 6.5]"
      ]
     },
     "execution_count": 11,
     "metadata": {},
     "output_type": "execute_result"
    }
   ],
   "source": [
    "A = [[1;; 4;; 2],[2;; 5;; 4],[1;; 8;; 3],[6.5;; 6.5;; 6.5]]"
   ]
  },
  {
   "cell_type": "markdown",
   "metadata": {},
   "source": [
    "(c) Multiply each element of the array from (c) by 2"
   ]
  },
  {
   "cell_type": "code",
   "execution_count": 12,
   "metadata": {},
   "outputs": [
    {
     "data": {
      "text/plain": [
       "4-element Vector{Matrix{Float64}}:\n",
       " [4.0 16.0 8.0]\n",
       " [8.0 20.0 16.0]\n",
       " [4.0 32.0 12.0]\n",
       " [26.0 26.0 26.0]"
      ]
     },
     "execution_count": 12,
     "metadata": {},
     "output_type": "execute_result"
    }
   ],
   "source": [
    "4A"
   ]
  },
  {
   "cell_type": "markdown",
   "metadata": {},
   "source": [
    "---\n",
    "__(3)__ A chemical processing facility will operate 24 hours a day, seven days a week. As a byproduct of its operation, hazardous waste material is generated at a constant rate of 1 ton per day and will be stored until removal. The facility has contracted to have its hazardous waste removed three times per week. The truck that will be used has the capacity to remove up to 15 tons of material, but no other details regarding the contract are currently available. Estimate how many tons, on average, of the hazardous material will be in storage at the facility."
   ]
  },
  {
   "cell_type": "code",
   "execution_count": 13,
   "metadata": {},
   "outputs": [
    {
     "name": "stdout",
     "output_type": "stream",
     "text": [
      "Estimated average waste in storage: 2.333 tons\n"
     ]
    }
   ],
   "source": [
    "d_waste = 1\n",
    "r_capacity = 15\n",
    "r_week = 3\n",
    "\n",
    "w_waste = d_waste * 7\n",
    "\n",
    "w_r = r_capacity * r_week\n",
    "\n",
    "avg_w = max(w_waste - w_r, 0) / 2 + min(w_r, w_waste) / r_week\n",
    "\n",
    "println(\"Estimated average waste in storage: \", round(avg_w, digits=3), \" tons\")\n"
   ]
  },
  {
   "cell_type": "markdown",
   "metadata": {},
   "source": [
    "---\n",
    "__(4)__ Create a function `d1` that determines the rectilinear distance between two points:\n",
    "\n",
    "$ d = \\lvert x_1 - x_2 \\rvert + \\lvert y_1 - y_2 \\rvert $ "
   ]
  },
  {
   "cell_type": "code",
   "execution_count": 14,
   "metadata": {},
   "outputs": [
    {
     "name": "stdout",
     "output_type": "stream",
     "text": [
      "Rectilinear distance between the points [(4,7), and (5,2)]: 6\n"
     ]
    }
   ],
   "source": [
    "d1(x1, y1, x2, y2) = abs(x1 - x2) + abs(y1 - y2)\n",
    "println(\"Rectilinear distance between the points [(4,7), and (5,2)]: \",d1(4, 7, 5, 2))"
   ]
  },
  {
   "cell_type": "markdown",
   "metadata": {},
   "source": [
    "---\n",
    "__(5)__ Create a function `sum_d2` that returns the sum of the Euclidean distances between a single point and multiple other points."
   ]
  },
  {
   "cell_type": "code",
   "execution_count": 15,
   "metadata": {},
   "outputs": [
    {
     "name": "stdout",
     "output_type": "stream",
     "text": [
      "The sum of the Euclidean distance between a single point,(2,3), and the points [(1,1), (4,4), (7,7)] is : 10.875260192432428\n"
     ]
    }
   ],
   "source": [
    "# Function to calculate the sum of Euclidean distances\n",
    "sum_d2(x, y, points) = sum(sqrt((x - px)^2 + (y - py)^2) for (px, py) in points)\n",
    "\n",
    "# Example usage:\n",
    "println(\"The sum of the Euclidean distance between a single point,(2,3), and the points [(1,1), (4,4), (7,7)] is : \",sum_d2(2, 3, [(1, 1), (4, 4), (7, 7)]))\n"
   ]
  },
  {
   "cell_type": "code",
   "execution_count": null,
   "metadata": {},
   "outputs": [],
   "source": []
  }
 ],
 "metadata": {
  "kernelspec": {
   "display_name": "Julia 1.10.4",
   "language": "julia",
   "name": "julia-1.10"
  },
  "language_info": {
   "file_extension": ".jl",
   "mimetype": "application/julia",
   "name": "julia",
   "version": "1.10.4"
  }
 },
 "nbformat": 4,
 "nbformat_minor": 4
}
