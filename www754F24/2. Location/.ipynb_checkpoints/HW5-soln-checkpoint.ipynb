{
 "cells": [
  {
   "cell_type": "markdown",
   "metadata": {},
   "source": [
    "# HW 5: Discrete Location (Solution)\n",
    "---\n",
    "`ISE 754, Fall 2024`\n",
    "\n",
    "__Assigned:__ Mon, 23 Sep (Individual Assignment)  \n",
    "__Due:__ 10:00a, Mon, 7 Oct  \n",
    "\n",
    "Solve question 1 by hand (you can submit a scanned copy of your solution, or you can turn in a paper copy in class), and then, for the other questions, use the Code cells in this Jupyter Notebook to answer the questions. Please run all the cells in your notebook and then submit it as a .ipynb file, along with a .html or .pdf copy, via Moodle. (There is a _Run All Cells_ command under the _Run_ menu.)\n",
    "\n",
    "---"
   ]
  },
  {
   "attachments": {
    "88638d4b-3923-40af-a1e9-4b3d1a18a763.png": {
     "image/png": "[encoded data removed]"
    }
   },
   "cell_type": "markdown",
   "metadata": {},
   "source": [
    "__(1)__ With respect to the Popco Bottling Company example, assume that now there are only two existing plants and the four 3-digit ZIP codes 813, 814, 815, and 829. The annual plant production is 84 and 61 tons, respectively, the annual production cost at each plant is \\\\$21,346 and \\\\$18,124, respectively, and the annual distribution cost at each plant is \\\\$15,721 and \\\\$10,351, respectively. Tables A–C, below, list the plant to ZIP-code centroid distances (mi), ZIP-code to ZIP-code centroid distances (mi), and the population and area of each ZIP code, respectively. Using the same modeling approach and assumptions using in the original example, determine the change in total costs associated with closing both plants and opening a single plant at the ZIP-code 815 centroid location.\n",
    "\n",
    "![image.png](attachment:88638d4b-3923-40af-a1e9-4b3d1a18a763.png)"
   ]
  },
  {
   "cell_type": "code",
   "execution_count": 1,
   "metadata": {},
   "outputs": [
    {
     "name": "stdout",
     "output_type": "stream",
     "text": [
      "k = tpc(0) = 9578.695652173914\n",
      "f = [0.0, 31.19680011227676, 52.80319988772324, 61.0]\n",
      "Da = max.(D, ((2 / 3) * sqrt.((a[:])')) / π) = [219.0 52.0 9.937523852720986 177.0; 301.0 227.0 181.0 25.0]\n",
      "tccost = sum(f[2:3] .* Da[1, 2:3]) + f[4] * Da[2, 4] = 3671.9666642226357\n",
      "rnom = sum(transCost) / tccost = 7.100282323919056\n",
      "Da = max.(D, ((2 / 3) * sqrt.((a[:])')) / π) = [120.0 51.0 9.937523852720986 176.0]\n",
      "tccost′ = rnom * sum(f[:] .* Da[:]) = 91251.1943972184\n",
      "TC′ = k + tccost′ = 100829.89004939231\n",
      "TC = 2k + sum(transCost) = 45229.391304347824\n",
      "TC′ - TC = 55600.49874504449\n"
     ]
    }
   ],
   "source": [
    "# Data\n",
    "fDC = [84, 61]\n",
    "prodCost = [21346, 18124]\n",
    "transCost = [15721, 10351]\n",
    "a = [4669, 5711, 2193, 6815]  # area\n",
    "q = [66124, 84680, 143328, 70485] # population\n",
    "D = [219 52 2 177; 301 227 181 25]\n",
    "\n",
    "# Step 1: Estimate fixed cost\n",
    "p1 = (61, 18124)\n",
    "p2 = (84, 21346)\n",
    "tpc(x) = p1[2] + ((p2[2] - p1[2]) * (x - p1[1]) / (p2[1] - p1[1]))\n",
    "@show k = tpc(0)\n",
    "\n",
    "# Step 2: Allocate customer demand to DCs\n",
    "idx = [0, 1, 1, 2]   # 813 not allocated since GC distance > 200 (actual even greater)\n",
    "\n",
    "# Step 3: Allocate DC demand to customers based on population\n",
    "f = zeros(length(q))\n",
    "f[2:3] .= fDC[1] .* q[2:3] ./ sum(q[2:3])\n",
    "f[4] = fDC[2]   # Full allocation to DC2 demand\n",
    "@show f\n",
    "\n",
    "# Step 4: Nominal transport rate\n",
    "@show Da = max.(D,(2/3)*sqrt.(a[:]')/π)\n",
    "@show tccost = sum(f[2:3] .* Da[1, 2:3]) + f[4]*Da[2,4]\n",
    "@show rnom = sum(transCost)/tccost\n",
    "\n",
    "# Step 5 + 6: Cost matrix for UFL + Solve UFL\n",
    "D = [120 51 0 176]\n",
    "@show Da = max.(D,(2/3)*sqrt.(a[:]')/π)\n",
    "@show tccost′ = rnom * sum(f[:] .* Da[:])\n",
    "@show TC′ = k + tccost′\n",
    "@show TC = 2k + sum(transCost)\n",
    "@show TC′ - TC;   # Increase in cost associated with the changes"
   ]
  },
  {
   "cell_type": "markdown",
   "metadata": {},
   "source": [
    "---\n",
    "__(2)__ Gipfel, Inc., has wholesale distributors located throughout the continental U.S. that sell the products manufactured in its twelve plants. Each plant manufactures the same mix of products. Gipfel would like for you to determine if they should consider either constructing more plants and/or closing some of their existing plants. The 5-digit zip code and annual demand (in tons) for each wholesaler are provided in `HW5data-cust.csv`. In `HW5data-plant.csv`, the city, state, annual production and procurement cost, and the annual cost to distribute products to wholesalers are provided for each plant."
   ]
  },
  {
   "cell_type": "code",
   "execution_count": 2,
   "metadata": {},
   "outputs": [
    {
     "name": "stdout",
     "output_type": "stream",
     "text": [
      "any((any(ismissing, x) for x = eachcol(dfC))) = false\n"
     ]
    },
    {
     "data": {
      "text/html": [
       "<div><div style = \"float: left;\"><span>5×4 DataFrame</span></div><div style = \"clear: both;\"></div></div><div class = \"data-frame\" style = \"overflow-x: scroll;\"><table class = \"data-frame\" style = \"margin-bottom: 6px;\"><thead><tr class = \"header\"><th class = \"rowNumber\" style = \"font-weight: bold; text-align: right;\">Row</th><th style = \"text-align: left;\">ZCTA5</th><th style = \"text-align: left;\">Demand</th><th style = \"text-align: left;\">LON</th><th style = \"text-align: left;\">LAT</th></tr><tr class = \"subheader headerLastRow\"><th class = \"rowNumber\" style = \"font-weight: bold; text-align: right;\"></th><th title = \"Int64\" style = \"text-align: left;\">Int64</th><th title = \"Int64\" style = \"text-align: left;\">Int64</th><th title = \"Union{Missing, Float64}\" style = \"text-align: left;\">Float64?</th><th title = \"Union{Missing, Float64}\" style = \"text-align: left;\">Float64?</th></tr></thead><tbody><tr><td class = \"rowNumber\" style = \"font-weight: bold; text-align: right;\">1</td><td style = \"text-align: right;\">16335</td><td style = \"text-align: right;\">400</td><td style = \"text-align: right;\">-80.1536</td><td style = \"text-align: right;\">41.6306</td></tr><tr><td class = \"rowNumber\" style = \"font-weight: bold; text-align: right;\">2</td><td style = \"text-align: right;\">7450</td><td style = \"text-align: right;\">2840</td><td style = \"text-align: right;\">-74.1135</td><td style = \"text-align: right;\">40.9816</td></tr><tr><td class = \"rowNumber\" style = \"font-weight: bold; text-align: right;\">3</td><td style = \"text-align: right;\">33034</td><td style = \"text-align: right;\">2367</td><td style = \"text-align: right;\">-80.7733</td><td style = \"text-align: right;\">25.4722</td></tr><tr><td class = \"rowNumber\" style = \"font-weight: bold; text-align: right;\">4</td><td style = \"text-align: right;\">27360</td><td style = \"text-align: right;\">281</td><td style = \"text-align: right;\">-80.0993</td><td style = \"text-align: right;\">35.8606</td></tr><tr><td class = \"rowNumber\" style = \"font-weight: bold; text-align: right;\">5</td><td style = \"text-align: right;\">80615</td><td style = \"text-align: right;\">1521</td><td style = \"text-align: right;\">-104.646</td><td style = \"text-align: right;\">40.5457</td></tr></tbody></table></div>"
      ],
      "text/latex": [
       "\\begin{tabular}{r|cccc}\n",
       "\t& ZCTA5 & Demand & LON & LAT\\\\\n",
       "\t\\hline\n",
       "\t& Int64 & Int64 & Float64? & Float64?\\\\\n",
       "\t\\hline\n",
       "\t1 & 16335 & 400 & -80.1536 & 41.6306 \\\\\n",
       "\t2 & 7450 & 2840 & -74.1135 & 40.9816 \\\\\n",
       "\t3 & 33034 & 2367 & -80.7733 & 25.4722 \\\\\n",
       "\t4 & 27360 & 281 & -80.0993 & 35.8606 \\\\\n",
       "\t5 & 80615 & 1521 & -104.646 & 40.5457 \\\\\n",
       "\\end{tabular}\n"
      ],
      "text/plain": [
       "\u001b[1m5×4 DataFrame\u001b[0m\n",
       "\u001b[1m Row \u001b[0m│\u001b[1m ZCTA5 \u001b[0m\u001b[1m Demand \u001b[0m\u001b[1m LON       \u001b[0m\u001b[1m LAT      \u001b[0m\n",
       "     │\u001b[90m Int64 \u001b[0m\u001b[90m Int64  \u001b[0m\u001b[90m Float64?  \u001b[0m\u001b[90m Float64? \u001b[0m\n",
       "─────┼────────────────────────────────────\n",
       "   1 │ 16335     400   -80.1536   41.6306\n",
       "   2 │  7450    2840   -74.1135   40.9816\n",
       "   3 │ 33034    2367   -80.7733   25.4722\n",
       "   4 │ 27360     281   -80.0993   35.8606\n",
       "   5 │ 80615    1521  -104.646    40.5457"
      ]
     },
     "execution_count": 2,
     "metadata": {},
     "output_type": "execute_result"
    }
   ],
   "source": [
    "using Logjam.DataTools, DataFrames, CSV\n",
    "\n",
    "function dgc(xy₁, xy₂; unit=:mi)\n",
    "    length(xy₁) == length(xy₂) == 2 || error(\"Inputs must have length 2.\")\n",
    "    unit in [:mi, :km] || error(\"Unit must be :mi or :km\")\n",
    "\n",
    "    Δx, Δy = xy₂[1] - xy₁[1], xy₂[2] - xy₁[2]\n",
    "    a = sind(Δy / 2)^2 + cosd(xy₁[2]) * cosd(xy₂[2]) * sind(Δx / 2)^2\n",
    "    2 * asin(min(sqrt(a), 1.0)) * (unit == :mi ? 3958.75 : 6371.00)\n",
    "end\n",
    "\n",
    "Dgc(X₁, X₂) = [dgc(i, j) for i in eachrow(X₁), j in eachrow(X₂)]\n",
    "\n",
    "function name2lonlat(name, st, df)\n",
    "    idx = findfirst(r -> startswith(r[:NAME], name) && r.ST == st, eachrow(df))\n",
    "    if idx === nothing\n",
    "        error(\"'$name', '$st' not found in $df\")\n",
    "    end\n",
    "    return collect(df[idx, [:LON, :LAT]])\n",
    "end\n",
    "\n",
    "# Geolocate Customers\n",
    "dfC = DataFrame(CSV.File(\"HW5data-cust.csv\"))\n",
    "rename!(dfC, :Zip => :ZCTA5)\n",
    "leftjoin!(dfC, uszcta5()[!, [:ZCTA5, :LON, :LAT]], on=:ZCTA5)\n",
    "@show any(any(ismissing, x) for x in eachcol(dfC))\n",
    "XYC = hcat(dfC.LON, dfC.LAT)\n",
    "first(dfC, 5)"
   ]
  },
  {
   "cell_type": "code",
   "execution_count": 3,
   "metadata": {},
   "outputs": [
    {
     "data": {
      "text/html": [
       "<div><div style = \"float: left;\"><span>12×4 DataFrame</span></div><div style = \"clear: both;\"></div></div><div class = \"data-frame\" style = \"overflow-x: scroll;\"><table class = \"data-frame\" style = \"margin-bottom: 6px;\"><thead><tr class = \"header\"><th class = \"rowNumber\" style = \"font-weight: bold; text-align: right;\">Row</th><th style = \"text-align: left;\">City</th><th style = \"text-align: left;\">State</th><th style = \"text-align: left;\">ProdCost</th><th style = \"text-align: left;\">DistCost</th></tr><tr class = \"subheader headerLastRow\"><th class = \"rowNumber\" style = \"font-weight: bold; text-align: right;\"></th><th title = \"String15\" style = \"text-align: left;\">String15</th><th title = \"String3\" style = \"text-align: left;\">String3</th><th title = \"Int64\" style = \"text-align: left;\">Int64</th><th title = \"Int64\" style = \"text-align: left;\">Int64</th></tr></thead><tbody><tr><td class = \"rowNumber\" style = \"font-weight: bold; text-align: right;\">1</td><td style = \"text-align: left;\">Pueblo</td><td style = \"text-align: left;\">CO</td><td style = \"text-align: right;\">2181633</td><td style = \"text-align: right;\">884777</td></tr><tr><td class = \"rowNumber\" style = \"font-weight: bold; text-align: right;\">2</td><td style = \"text-align: left;\">Colonia</td><td style = \"text-align: left;\">NJ</td><td style = \"text-align: right;\">6843040</td><td style = \"text-align: right;\">2210017</td></tr><tr><td class = \"rowNumber\" style = \"font-weight: bold; text-align: right;\">3</td><td style = \"text-align: left;\">Lubbock</td><td style = \"text-align: left;\">TX</td><td style = \"text-align: right;\">586417</td><td style = \"text-align: right;\">144603</td></tr><tr><td class = \"rowNumber\" style = \"font-weight: bold; text-align: right;\">4</td><td style = \"text-align: left;\">Niles</td><td style = \"text-align: left;\">OH</td><td style = \"text-align: right;\">3811055</td><td style = \"text-align: right;\">1356737</td></tr><tr><td class = \"rowNumber\" style = \"font-weight: bold; text-align: right;\">5</td><td style = \"text-align: left;\">Livermore</td><td style = \"text-align: left;\">CA</td><td style = \"text-align: right;\">3329137</td><td style = \"text-align: right;\">315428</td></tr><tr><td class = \"rowNumber\" style = \"font-weight: bold; text-align: right;\">6</td><td style = \"text-align: left;\">Vancouver</td><td style = \"text-align: left;\">WA</td><td style = \"text-align: right;\">2846157</td><td style = \"text-align: right;\">677024</td></tr><tr><td class = \"rowNumber\" style = \"font-weight: bold; text-align: right;\">7</td><td style = \"text-align: left;\">Palestine</td><td style = \"text-align: left;\">TX</td><td style = \"text-align: right;\">5573486</td><td style = \"text-align: right;\">1956309</td></tr><tr><td class = \"rowNumber\" style = \"font-weight: bold; text-align: right;\">8</td><td style = \"text-align: left;\">Diamond Bar</td><td style = \"text-align: left;\">CA</td><td style = \"text-align: right;\">3289147</td><td style = \"text-align: right;\">744632</td></tr><tr><td class = \"rowNumber\" style = \"font-weight: bold; text-align: right;\">9</td><td style = \"text-align: left;\">Doctor Phillips</td><td style = \"text-align: left;\">FL</td><td style = \"text-align: right;\">3986378</td><td style = \"text-align: right;\">1095356</td></tr><tr><td class = \"rowNumber\" style = \"font-weight: bold; text-align: right;\">10</td><td style = \"text-align: left;\">Stillwater</td><td style = \"text-align: left;\">OK</td><td style = \"text-align: right;\">2942617</td><td style = \"text-align: right;\">1155570</td></tr><tr><td class = \"rowNumber\" style = \"font-weight: bold; text-align: right;\">11</td><td style = \"text-align: left;\">Gainesville</td><td style = \"text-align: left;\">GA</td><td style = \"text-align: right;\">6661509</td><td style = \"text-align: right;\">3236088</td></tr><tr><td class = \"rowNumber\" style = \"font-weight: bold; text-align: right;\">12</td><td style = \"text-align: left;\">Elkhorn</td><td style = \"text-align: left;\">WI</td><td style = \"text-align: right;\">6098870</td><td style = \"text-align: right;\">1697663</td></tr></tbody></table></div>"
      ],
      "text/latex": [
       "\\begin{tabular}{r|cccc}\n",
       "\t& City & State & ProdCost & DistCost\\\\\n",
       "\t\\hline\n",
       "\t& String15 & String3 & Int64 & Int64\\\\\n",
       "\t\\hline\n",
       "\t1 & Pueblo & CO & 2181633 & 884777 \\\\\n",
       "\t2 & Colonia & NJ & 6843040 & 2210017 \\\\\n",
       "\t3 & Lubbock & TX & 586417 & 144603 \\\\\n",
       "\t4 & Niles & OH & 3811055 & 1356737 \\\\\n",
       "\t5 & Livermore & CA & 3329137 & 315428 \\\\\n",
       "\t6 & Vancouver & WA & 2846157 & 677024 \\\\\n",
       "\t7 & Palestine & TX & 5573486 & 1956309 \\\\\n",
       "\t8 & Diamond Bar & CA & 3289147 & 744632 \\\\\n",
       "\t9 & Doctor Phillips & FL & 3986378 & 1095356 \\\\\n",
       "\t10 & Stillwater & OK & 2942617 & 1155570 \\\\\n",
       "\t11 & Gainesville & GA & 6661509 & 3236088 \\\\\n",
       "\t12 & Elkhorn & WI & 6098870 & 1697663 \\\\\n",
       "\\end{tabular}\n"
      ],
      "text/plain": [
       "\u001b[1m12×4 DataFrame\u001b[0m\n",
       "\u001b[1m Row \u001b[0m│\u001b[1m City            \u001b[0m\u001b[1m State   \u001b[0m\u001b[1m ProdCost \u001b[0m\u001b[1m DistCost \u001b[0m\n",
       "     │\u001b[90m String15        \u001b[0m\u001b[90m String3 \u001b[0m\u001b[90m Int64    \u001b[0m\u001b[90m Int64    \u001b[0m\n",
       "─────┼──────────────────────────────────────────────\n",
       "   1 │ Pueblo           CO        2181633    884777\n",
       "   2 │ Colonia          NJ        6843040   2210017\n",
       "   3 │ Lubbock          TX         586417    144603\n",
       "   4 │ Niles            OH        3811055   1356737\n",
       "   5 │ Livermore        CA        3329137    315428\n",
       "   6 │ Vancouver        WA        2846157    677024\n",
       "   7 │ Palestine        TX        5573486   1956309\n",
       "   8 │ Diamond Bar      CA        3289147    744632\n",
       "   9 │ Doctor Phillips  FL        3986378   1095356\n",
       "  10 │ Stillwater       OK        2942617   1155570\n",
       "  11 │ Gainesville      GA        6661509   3236088\n",
       "  12 │ Elkhorn          WI        6098870   1697663"
      ]
     },
     "execution_count": 3,
     "metadata": {},
     "output_type": "execute_result"
    }
   ],
   "source": [
    "# Geolocate Plants\n",
    "dfP = DataFrame(CSV.File(\"HW5data-plant.csv\"))"
   ]
  },
  {
   "cell_type": "code",
   "execution_count": 4,
   "metadata": {},
   "outputs": [
    {
     "data": {
      "text/plain": [
       "12×2 Matrix{Float64}:\n",
       " -104.611   38.2699\n",
       "  -74.3114  40.5893\n",
       " -101.888   33.5668\n",
       "  -80.7531  41.1878\n",
       " -121.76    37.687\n",
       " -122.597   45.6372\n",
       "  -95.647   31.7545\n",
       " -117.818   34.0016\n",
       "  -81.4905  28.4433\n",
       "  -97.0745  36.1315\n",
       "  -83.8291  34.2901\n",
       "  -88.5363  42.6716"
      ]
     },
     "execution_count": 4,
     "metadata": {},
     "output_type": "execute_result"
    }
   ],
   "source": [
    "XYP = vcat([name2lonlat(i, j, usplace())' \n",
    "        for (i,j) in zip(dfP.City, dfP.State)]...)"
   ]
  },
  {
   "cell_type": "code",
   "execution_count": 5,
   "metadata": {},
   "outputs": [
    {
     "name": "stdout",
     "output_type": "stream",
     "text": [
      "rnom = sum(dfP.DistCost) / sum(F .* D) = 0.18068528797293912\n"
     ]
    },
    {
     "data": {
      "text/plain": [
       "287×275 Matrix{Float64}:\n",
       " 94785.3             8.3409e5   …       1.02511e6  940302.0\n",
       " 22582.8         14887.9                6.39326e5       1.24387e5\n",
       " 94597.7             8.2239e5           8.69766e5       9.46898e5\n",
       "  3151.28            1.77542e5     631636.0             2.57217e5\n",
       "     1.596e5         1.29562e6          1.58843e6       1.41495e6\n",
       "     1.52882e5       1.2424e6   …       1.67467e6       1.33465e6\n",
       " 79038.6        693707.0                6.29472e5  824607.0\n",
       "     1.52087e5       1.24083e6          1.43949e6       1.37027e6\n",
       " 66077.1             4.9333e5       96366.4             6.31156e5\n",
       " 71122.4             6.57273e5          7.5054e5        7.70288e5\n",
       " 39398.5             3.61103e5  …       3.60888e5       4.86236e5\n",
       " 31452.6        385239.0                7.57261e5       4.54194e5\n",
       "     0.0             1.62472e5          6.50337e5       2.3556e5\n",
       "     ⋮                          ⋱                  \n",
       " 16169.7             2.34436e5  …       5.34688e5       3.37654e5\n",
       "     1.55587e5       1.26659e6          1.49874e6       1.39299e6\n",
       " 12553.4             2.49818e5          6.96227e5       3.14024e5\n",
       " 26875.7             1.08501e5          7.87067e5   48448.6\n",
       "     1.19529e5       1.01113e6          1.27721e6       1.11557e6\n",
       " 24029.8         43772.1        …       6.05708e5       1.52106e5\n",
       "     1.57076e5       1.2713e6           1.71832e6       1.36309e6\n",
       " 29511.4             3.7077e5           7.60374e5       4.36477e5\n",
       " 13592.6             2.41733e5          5.86693e5       3.34216e5\n",
       " 89658.0             7.63872e5          6.50059e5  901880.0\n",
       " 74966.8             5.3814e5   …       0.0             6.77028e5\n",
       " 31324.4             1.02798e5          7.81013e5       0.0"
      ]
     },
     "execution_count": 5,
     "metadata": {},
     "output_type": "execute_result"
    }
   ],
   "source": [
    "# Calc (Plant + Customer) to Customer Transport Costs\n",
    "using SparseArrays\n",
    "\n",
    "D = Dgc(XYP, XYC)\n",
    "f = dfC.Demand\n",
    "F = sparse([argmin(c) for c in eachcol(D)], 1:nrow(dfC), f)\n",
    "@show rnom = sum(dfP.DistCost)/sum(F.*D)\n",
    "D = Dgc(vcat(XYP, XYC), XYC)\n",
    "C = rnom * f[:]' .* D"
   ]
  },
  {
   "cell_type": "code",
   "execution_count": 6,
   "metadata": {},
   "outputs": [
    {
     "data": {
      "text/plain": [
       "2-element Vector{Float64}:\n",
       "  1.5473113593988172e6\n",
       " 54.28932393333319"
      ]
     },
     "execution_count": 6,
     "metadata": {},
     "output_type": "execute_result"
    }
   ],
   "source": [
    "# Est Fixed Cost\n",
    "using Optim\n",
    "\n",
    "x = sum(F, dims=2)     # Plant demand\n",
    "y = dfP.ProdCost   # Plant production cost\n",
    "\n",
    "ŷ(p, x) = p[1] .+ p[2]*x\n",
    "loss(p, x, y) = sum((y .- ŷ(p, x)).^2)\n",
    "k, cp = optimize(p -> loss(p, x, y), [0., 1.]).minimizer"
   ]
  },
  {
   "cell_type": "code",
   "execution_count": 7,
   "metadata": {},
   "outputs": [
    {
     "name": "stdout",
     "output_type": "stream",
     "text": [
      "  Add: 3.033872298631873e7\n",
      " Xchg: 3.0134788573585838e7\n",
      "  Add: 3.0134788573585838e7\n",
      " Drop: 3.0134788573585838e7\n"
     ]
    },
    {
     "data": {
      "text/plain": [
       "([190, 11, 93, 132, 130, 236, 108, 41], 3.0134788573585838e7)"
      ]
     },
     "execution_count": 7,
     "metadata": {},
     "output_type": "execute_result"
    }
   ],
   "source": [
    "# Solve UFL\n",
    "include(\"ufl_heuristics.jl\")\n",
    "\n",
    "y, TC = ufl(fill(k, size(C, 1)), C)"
   ]
  },
  {
   "cell_type": "code",
   "execution_count": 8,
   "metadata": {},
   "outputs": [
    {
     "name": "stdout",
     "output_type": "stream",
     "text": [
      "% reduction in TC = 11.477464866279904\n",
      "\n"
     ]
    },
    {
     "data": {
      "text/html": [
       "<div><div style = \"float: left;\"><span>3×3 DataFrame</span></div><div style = \"clear: both;\"></div></div><div class = \"data-frame\" style = \"overflow-x: scroll;\"><table class = \"data-frame\" style = \"margin-bottom: 6px;\"><thead><tr class = \"header\"><th class = \"rowNumber\" style = \"font-weight: bold; text-align: right;\">Row</th><th style = \"text-align: left;\">_</th><th style = \"text-align: left;\">Orig</th><th style = \"text-align: left;\">New</th></tr><tr class = \"subheader headerLastRow\"><th class = \"rowNumber\" style = \"font-weight: bold; text-align: right;\"></th><th title = \"String\" style = \"text-align: left;\">String</th><th title = \"Float64\" style = \"text-align: left;\">Float64</th><th title = \"Float64\" style = \"text-align: left;\">Float64</th></tr></thead><tbody><tr><td class = \"rowNumber\" style = \"font-weight: bold; text-align: right;\">1</td><td style = \"text-align: left;\">No. of NFs</td><td style = \"text-align: right;\">12.0</td><td style = \"text-align: right;\">8.0</td></tr><tr><td class = \"rowNumber\" style = \"font-weight: bold; text-align: right;\">2</td><td style = \"text-align: left;\">TDC</td><td style = \"text-align: right;\">1.54742e7</td><td style = \"text-align: right;\">1.77563e7</td></tr><tr><td class = \"rowNumber\" style = \"font-weight: bold; text-align: right;\">3</td><td style = \"text-align: left;\">TC</td><td style = \"text-align: right;\">3.40419e7</td><td style = \"text-align: right;\">3.01348e7</td></tr></tbody></table></div>"
      ],
      "text/latex": [
       "\\begin{tabular}{r|ccc}\n",
       "\t& \\_ & Orig & New\\\\\n",
       "\t\\hline\n",
       "\t& String & Float64 & Float64\\\\\n",
       "\t\\hline\n",
       "\t1 & No. of NFs & 12.0 & 8.0 \\\\\n",
       "\t2 & TDC & 1.54742e7 & 1.77563e7 \\\\\n",
       "\t3 & TC & 3.40419e7 & 3.01348e7 \\\\\n",
       "\\end{tabular}\n"
      ],
      "text/plain": [
       "\u001b[1m3×3 DataFrame\u001b[0m\n",
       "\u001b[1m Row \u001b[0m│\u001b[1m _          \u001b[0m\u001b[1m Orig       \u001b[0m\u001b[1m New       \u001b[0m\n",
       "     │\u001b[90m String     \u001b[0m\u001b[90m Float64    \u001b[0m\u001b[90m Float64   \u001b[0m\n",
       "─────┼───────────────────────────────────\n",
       "   1 │ No. of NFs  12.0        8.0\n",
       "   2 │ TDC          1.54742e7  1.77563e7\n",
       "   3 │ TC           3.40419e7  3.01348e7"
      ]
     },
     "execution_count": 8,
     "metadata": {},
     "output_type": "execute_result"
    }
   ],
   "source": [
    "TCorig = k*nrow(dfP) + sum(dfP.DistCost)\n",
    "println(\"% reduction in TC = \", 100*(TCorig - TC)/TCorig, \"\\n\")\n",
    "DataFrame(_=[\"No. of NFs\", \"TDC\",\"TC\"],\n",
    "    Orig=[nrow(dfP), sum(dfP.DistCost), TCorig],\n",
    "    New=[length(y), TC - k*length(y), TC])"
   ]
  },
  {
   "cell_type": "markdown",
   "metadata": {},
   "source": [
    "---\n",
    "__(3)__ UNCTV is planning to install new ATSC 3.0 TV broadcasting transmitters throughout North Carolina. The transmitters have a 50-mile maximum signal range and UNCTV would like to reach, at the least cost, as many people in North Carolina with a signal as possible, but they plan to install the transmitters only in cities with a population of at least 10,000. They would like you to recommend where transmitters should be installed, and how much of the state’s population would be covered. You do not need to consider any existing UNCTV facilities in your analysis.\n"
   ]
  },
  {
   "cell_type": "code",
   "execution_count": 9,
   "metadata": {},
   "outputs": [
    {
     "name": "stdout",
     "output_type": "stream",
     "text": [
      "Total population\t= 10,439,388.00 \n",
      "Population not covered\t= 44,439.00 \n",
      "Percent covered\t= 99.57 \n"
     ]
    }
   ],
   "source": [
    "using Printf\n",
    "\n",
    "function prt(value, label, units=\"\", digits=2)\n",
    "    fmtval = split(Printf.format(Printf.Format(\"%.\"*string(digits)*\"f\"),value),\".\")\n",
    "    fmtval[1] = reverse(join(Iterators.partition(reverse(fmtval[1]), 3), \",\"))\n",
    "    println(\"$label\\t= $(join(fmtval, \".\")) $units\")\n",
    "    return value\n",
    "end\n",
    "    \n",
    "dfS = filter(r -> (r.STFIP == st2fips(:NC)) && (r.POP > 10_000), usplace())\n",
    "dfC = filter(r -> (r.STFIP == st2fips(:NC)), uscenblkgrp())\n",
    "D = Dgc(hcat(dfC.LON, dfC.LAT), hcat(dfS.LON, dfS.LAT))\n",
    "A = D .< 50\n",
    "is0 = .!any(A, dims=2)[:]\n",
    "A = A[.!is0, :]\n",
    "TP = prt( sum(dfC.POP), \"Total population\")\n",
    "TP0 = prt( sum(dfC.POP[is0]), \"Population not covered\")\n",
    "prt( 100*((TP - TP0)/TP), \"Percent covered\");"
   ]
  },
  {
   "cell_type": "code",
   "execution_count": 10,
   "metadata": {},
   "outputs": [
    {
     "name": "stdout",
     "output_type": "stream",
     "text": [
      "OPTIMAL\n",
      "Locate transmitters in:\n"
     ]
    },
    {
     "data": {
      "text/html": [
       "<div><div style = \"float: left;\"><span>13×1 DataFrame</span></div><div style = \"clear: both;\"></div></div><div class = \"data-frame\" style = \"overflow-x: scroll;\"><table class = \"data-frame\" style = \"margin-bottom: 6px;\"><thead><tr class = \"header\"><th class = \"rowNumber\" style = \"font-weight: bold; text-align: right;\">Row</th><th style = \"text-align: left;\">City</th></tr><tr class = \"subheader headerLastRow\"><th class = \"rowNumber\" style = \"font-weight: bold; text-align: right;\"></th><th title = \"String\" style = \"text-align: left;\">String</th></tr></thead><tbody><tr><td class = \"rowNumber\" style = \"font-weight: bold; text-align: right;\">1</td><td style = \"text-align: left;\">Boone</td></tr><tr><td class = \"rowNumber\" style = \"font-weight: bold; text-align: right;\">2</td><td style = \"text-align: left;\">Elizabeth City</td></tr><tr><td class = \"rowNumber\" style = \"font-weight: bold; text-align: right;\">3</td><td style = \"text-align: left;\">Laurinburg</td></tr><tr><td class = \"rowNumber\" style = \"font-weight: bold; text-align: right;\">4</td><td style = \"text-align: left;\">Morganton</td></tr><tr><td class = \"rowNumber\" style = \"font-weight: bold; text-align: right;\">5</td><td style = \"text-align: left;\">New Bern</td></tr><tr><td class = \"rowNumber\" style = \"font-weight: bold; text-align: right;\">6</td><td style = \"text-align: left;\">Roanoke Rapids</td></tr><tr><td class = \"rowNumber\" style = \"font-weight: bold; text-align: right;\">7</td><td style = \"text-align: left;\">Waynesville</td></tr><tr><td class = \"rowNumber\" style = \"font-weight: bold; text-align: right;\">8</td><td style = \"text-align: left;\">Winston-Salem</td></tr><tr><td class = \"rowNumber\" style = \"font-weight: bold; text-align: right;\">9</td><td style = \"text-align: left;\">Leland</td></tr><tr><td class = \"rowNumber\" style = \"font-weight: bold; text-align: right;\">10</td><td style = \"text-align: left;\">Mebane</td></tr><tr><td class = \"rowNumber\" style = \"font-weight: bold; text-align: right;\">11</td><td style = \"text-align: left;\">Mint Hill</td></tr><tr><td class = \"rowNumber\" style = \"font-weight: bold; text-align: right;\">12</td><td style = \"text-align: left;\">Smithfield</td></tr><tr><td class = \"rowNumber\" style = \"font-weight: bold; text-align: right;\">13</td><td style = \"text-align: left;\">Tarboro</td></tr></tbody></table></div>"
      ],
      "text/latex": [
       "\\begin{tabular}{r|c}\n",
       "\t& City\\\\\n",
       "\t\\hline\n",
       "\t& String\\\\\n",
       "\t\\hline\n",
       "\t1 & Boone \\\\\n",
       "\t2 & Elizabeth City \\\\\n",
       "\t3 & Laurinburg \\\\\n",
       "\t4 & Morganton \\\\\n",
       "\t5 & New Bern \\\\\n",
       "\t6 & Roanoke Rapids \\\\\n",
       "\t7 & Waynesville \\\\\n",
       "\t8 & Winston-Salem \\\\\n",
       "\t9 & Leland \\\\\n",
       "\t10 & Mebane \\\\\n",
       "\t11 & Mint Hill \\\\\n",
       "\t12 & Smithfield \\\\\n",
       "\t13 & Tarboro \\\\\n",
       "\\end{tabular}\n"
      ],
      "text/plain": [
       "\u001b[1m13×1 DataFrame\u001b[0m\n",
       "\u001b[1m Row \u001b[0m│\u001b[1m City           \u001b[0m\n",
       "     │\u001b[90m String         \u001b[0m\n",
       "─────┼────────────────\n",
       "   1 │ Boone\n",
       "   2 │ Elizabeth City\n",
       "   3 │ Laurinburg\n",
       "   4 │ Morganton\n",
       "   5 │ New Bern\n",
       "   6 │ Roanoke Rapids\n",
       "   7 │ Waynesville\n",
       "   8 │ Winston-Salem\n",
       "   9 │ Leland\n",
       "  10 │ Mebane\n",
       "  11 │ Mint Hill\n",
       "  12 │ Smithfield\n",
       "  13 │ Tarboro"
      ]
     },
     "execution_count": 10,
     "metadata": {},
     "output_type": "execute_result"
    }
   ],
   "source": [
    "using JuMP, Cbc\n",
    "\n",
    "function setcover(A)\n",
    "    M = 1:size(A,1)\n",
    "    N = 1:size(A,2)\n",
    "    model = Model(Cbc.Optimizer)\n",
    "    @variable(model, x[1:length(N)], Bin )\n",
    "    @objective(model, Min, sum(x[i] for i ∈ N) )\n",
    "    @constraint(model, [j ∈ M], sum(A[j,i]*x[i] for i ∈ N) >= 1 )\n",
    "    set_attribute(model, \"logLevel\", 0)\n",
    "    set_attribute(model, \"seconds\", 60.0)   # Solution timeout limit\n",
    "    optimize!(model)\n",
    "    println(solution_summary(model).termination_status)\n",
    "    return findall(Array(value.(x)) .> 0)\n",
    "end\n",
    "\n",
    "idx = setcover(A)\n",
    "println(\"Locate transmitters in:\")\n",
    "DataFrame(:City => dfS.NAME[idx])"
   ]
  },
  {
   "cell_type": "markdown",
   "metadata": {},
   "source": [
    "---\n",
    "__(4)__ Continuing with the same example using in `Loc 5` and `Loc 8`:\n",
    "\n",
    "```\n",
    "P = [50 150 220 295 420]'\n",
    "r, f = 1, 1\n",
    "w = r * f\n",
    "k = [150, 200, 150, 150, 200]\n",
    "C = w * D1(P, P)\n",
    "```\r\n",
    "(a) What would be the impact on the solution if each NF was limited to a processing two tons, where the demand of each EF, `f`, is one ton?\n"
   ]
  },
  {
   "cell_type": "code",
   "execution_count": 11,
   "metadata": {},
   "outputs": [
    {
     "name": "stdout",
     "output_type": "stream",
     "text": [
      "Original\n",
      " TC: 600.0\n",
      "  y: [1.0, 0.0, 0.0, 1.0, 0.0]\n",
      "fxᵒ: [2.0 0.0 0.0 3.0 0.0]\n",
      "\n",
      "Cap cstr\n",
      " TC: 645.0\n",
      "  y: [1.0, 0.0, 1.0, 1.0, 0.0]\n",
      "fxᵒ: [1.0 0.0 2.0 2.0 0.0]\n"
     ]
    }
   ],
   "source": [
    "using JuMP, Cbc\n",
    "\n",
    "d1(x1, x2) = length(x1) == length(x2) ? sum(abs.(x1 .- x2)) : \n",
    "    error(\"Inputs not same length.\")\n",
    "D1(X₁, X₂) = [d1(i, j) for i in eachrow(X₁), j in eachrow(X₂)]\n",
    "\n",
    "P = [50 150 220 295 420]'\n",
    "r, f = 1, 1\n",
    "w = r * f\n",
    "k = [150, 200, 150, 150, 200]\n",
    "C = w * D1(P, P)\n",
    "\n",
    "K = 2\n",
    "\n",
    "n, m = size(C)\n",
    "N, M = 1:n, 1:m\n",
    "model = Model(Cbc.Optimizer)\n",
    "@variable(model, y[N], Bin)\n",
    "@variable(model, 0 <= x[N, M] <= 1)\n",
    "@objective(model, Min, \n",
    "    sum(k[i]*y[i] for i ∈ N) + sum(C[i,j]*x[i,j] for i ∈ N, j ∈ M))\n",
    "@constraint(model, [j ∈ M], sum(x[i,j] for i ∈ N) == 1)\n",
    "@constraint(model, estabNF[i ∈ N], m*y[i] >= sum(x[i,j] for j ∈ M))\n",
    "set_attribute(model, \"logLevel\", 0)\n",
    "\n",
    "# Original: no cap or loc cstr\n",
    "optimize!(model)\n",
    "TCᵒ, yᵒ, xᵒ = objective_value(model), Array(value.(y)), Array(value.(x))\n",
    "println(\"Original\\n TC: \", TCᵒ, \"\\n  y: \", yᵒ, \"\\nfxᵒ: \", sum(f*xᵒ, dims=2)')\n",
    "\n",
    "# Cap cstr: delete NF establishment constraints, add capacity constraints\n",
    "for i ∈ N\n",
    "    delete(model, estabNF[i])\n",
    "end\n",
    "@constraint(model, [i ∈ N], K*y[i] >= sum(f*x[i,j] for j ∈ M))\n",
    "optimize!(model)\n",
    "TCᵒ, yᵒ, xᵒ = objective_value(model), Array(value.(y)), Array(value.(x))\n",
    "println(\"\\nCap cstr\\n TC: \", TCᵒ, \"\\n  y: \", yᵒ, \"\\nfxᵒ: \", sum(f*xᵒ, dims=2)')"
   ]
  },
  {
   "cell_type": "markdown",
   "metadata": {},
   "source": [
    "(b) What would be the impact on the solution if, in addition, one of the NFs was required to be located in Wilmington?"
   ]
  },
  {
   "cell_type": "code",
   "execution_count": 12,
   "metadata": {},
   "outputs": [
    {
     "name": "stdout",
     "output_type": "stream",
     "text": [
      "\n",
      "Cap + loc cstr\n",
      " TC: 675.0\n",
      "  y: [1.0, 0.0, 1.0, 0.0, 1.0]\n",
      "fxᵒ: [2.0 0.0 2.0 0.0 1.0]\n"
     ]
    }
   ],
   "source": [
    "# Loc cstr: add location constraint\n",
    "@constraint(model, y[5] == 1)\n",
    "optimize!(model)\n",
    "TCᵒ, yᵒ, xᵒ = objective_value(model), Array(value.(y)), Array(value.(x))\n",
    "println(\"\\nCap + loc cstr\\n TC: \", TCᵒ, \"\\n  y: \", yᵒ, \"\\nfxᵒ: \", sum(f*xᵒ, dims=2)')"
   ]
  }
 ],
 "metadata": {
  "kernelspec": {
   "display_name": "Julia 1.10.4",
   "language": "julia",
   "name": "julia-1.10"
  },
  "language_info": {
   "file_extension": ".jl",
   "mimetype": "application/julia",
   "name": "julia",
   "version": "1.10.4"
  }
 },
 "nbformat": 4,
 "nbformat_minor": 4
}
