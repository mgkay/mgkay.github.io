{
 "cells": [
  {
   "cell_type": "markdown",
   "metadata": {},
   "source": [
    "# HW 4: ALA and UFLADD\n",
    "---\n",
    "`ISE 754, Fall 2024`\n",
    "\n",
    "__Assigned:__ Mon, 16 Sep (Individual Assignment)  \n",
    "__Due:__ 10:00a, Mon, 23 Sep  \n",
    "\n",
    "First, please solve questions 1 and 3 by hand (you can submit a scanned copy of your solution, or you can turn in a paper copy in class), and then, for all three questions, use the Code cells in this Jupyter Notebook to answer the following questions. Please run all of the cells in your notebook and then submit it as a .ipynb file, along with a .html or .pdf copy, via Moodle. (There is a _Run All Cells_ command under the _Run_ menu.)\n",
    "\n",
    "---"
   ]
  },
  {
   "attachments": {
    "d84f5cc0-9d34-4a4e-b98e-f076b39da8e1.png": {
     "image/png": "[encoded data removed]"
    }
   },
   "cell_type": "markdown",
   "metadata": {},
   "source": [
    "![image.png](attachment:d84f5cc0-9d34-4a4e-b98e-f076b39da8e1.png)\n",
    "\n",
    "__(1)__ An EF is located in each city along I-40 in the figure above. Each EF has a demand equal to one P2P TL. Given starting locations of mile markers 60, 125, and 130:\n",
    "\n",
    "(a) Show, by hand, each step of the ALA procedure used to determine the NF locations.?"
   ]
  },
  {
   "cell_type": "code",
   "execution_count": null,
   "metadata": {},
   "outputs": [],
   "source": []
  },
  {
   "cell_type": "markdown",
   "metadata": {},
   "source": [
    "(b)\tUse the `ALA` function to determine the optimal locations."
   ]
  },
  {
   "cell_type": "code",
   "execution_count": null,
   "metadata": {},
   "outputs": [],
   "source": []
  },
  {
   "cell_type": "markdown",
   "metadata": {},
   "source": [
    "---\n",
    "__(2)__ A chain of retail stores has a single DC located in Roanoke Rapids, NC, that supplies all of its stores. One store is located in each city with a population of at least 10,000 in North Carolina, South Carolina, and Virginia, excluding those cities in Virginia that are located north of Charlottesville. Last year, the chain spent $6.7 million on outbound transportation costs. Each store’s demand is proportional to the population of the city in which it is located, and outbound transportation costs are proportional to demand-weighted distance.\n",
    "\n",
    "(a) What would be the maximum expected reduction in annual outbound transportation costs if the DC could be relocated to any other location?"
   ]
  },
  {
   "cell_type": "code",
   "execution_count": null,
   "metadata": {},
   "outputs": [],
   "source": []
  },
  {
   "cell_type": "markdown",
   "metadata": {},
   "source": [
    "(b) What would be the maximum expected reduction in annual outbound transportation costs if two DCs could be located anywhere and the existing DC would be closed, where each store would be supplied by one of the DCs?"
   ]
  },
  {
   "cell_type": "code",
   "execution_count": null,
   "metadata": {},
   "outputs": [],
   "source": []
  },
  {
   "cell_type": "markdown",
   "metadata": {},
   "source": [
    "(c) What would be the change from (b) if only one new DC could be located anywhere and the existing DC in Roanoke Rapids remained open? (To solve this, you can create a user-defined function for the `ALA` procedure that locates the one new DC and keeps the location of the existing DC fixed; the allocation procedure remains the same and you can use the default allocation in `ALA`.)"
   ]
  },
  {
   "cell_type": "code",
   "execution_count": null,
   "metadata": {},
   "outputs": [],
   "source": []
  },
  {
   "cell_type": "markdown",
   "metadata": {},
   "source": [
    "---\n",
    "__(3)__ The table below contains the variable costs of serving four EFs from an NF located at one of four sites. If the fixed costs of locating an NF at any site are 30, (a) show, by hand, each step of the UFLADD procedure used to determine the number and location of NFs, and (b) use the `UFLADD` procedure to determine the solution.\n",
    "\n",
    "|   | 1  | 2  | 3  | 4  |\n",
    "|---|----|----|----|----|\n",
    "| 1 |  0 | 92 | 30 | 46 |\n",
    "| 2 | 92 |  0 | 40 | 94 |\n",
    "| 3 | 30 | 40 |  0 | 18 |\n",
    "| 4 | 46 | 94 | 18 |  0 |  |\r\n",
    "\n",
    "\n"
   ]
  },
  {
   "cell_type": "code",
   "execution_count": null,
   "metadata": {},
   "outputs": [],
   "source": []
  }
 ],
 "metadata": {
  "kernelspec": {
   "display_name": "Julia 1.10.4",
   "language": "julia",
   "name": "julia-1.10"
  },
  "language_info": {
   "file_extension": ".jl",
   "mimetype": "application/julia",
   "name": "julia",
   "version": "1.10.4"
  }
 },
 "nbformat": 4,
 "nbformat_minor": 4
}
