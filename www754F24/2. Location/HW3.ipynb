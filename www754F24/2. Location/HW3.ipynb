{
 "cells": [
  {
   "cell_type": "markdown",
   "metadata": {},
   "source": [
    "# HW 3: Minisum Location\n",
    "---\n",
    "`ISE 754, Fall 2024`\n",
    "\n",
    "__Assigned:__ Mon, 9 Sep (Individual Assignment)  \n",
    "__Due:__ 10:00a, Mon, 16 Sep  \n",
    "\n",
    "Use the Code cells in this Jupyter Notebook to answer the following questions. Please run all of the cells in your notebook and then submit it as a .ipynb file, along with a .html or .pdf copy, via Moodle. (There is a _Run All Cells_ command under the _Run_ menu.)\n",
    "\n",
    "---\n",
    "\n",
    "__(1)__ Referring to all of cities in North Carolina and South Carolina with populations of at least 10,000:\r\n",
    "\n",
    "(a)\tAssuming weight is proportional to population, what location minimizes the sum of the weight times the great-circle distance to each city?"
   ]
  },
  {
   "cell_type": "code",
   "execution_count": null,
   "metadata": {},
   "outputs": [],
   "source": []
  },
  {
   "cell_type": "markdown",
   "metadata": {},
   "source": [
    "(b)\tWhat city is closest to the optimal location?"
   ]
  },
  {
   "cell_type": "code",
   "execution_count": null,
   "metadata": {},
   "outputs": [],
   "source": []
  },
  {
   "cell_type": "markdown",
   "metadata": {},
   "source": [
    "(c)\tWhat city is furthest from the location?"
   ]
  },
  {
   "cell_type": "code",
   "execution_count": null,
   "metadata": {},
   "outputs": [],
   "source": []
  },
  {
   "cell_type": "markdown",
   "metadata": {},
   "source": [
    "(d)\tWhat are the four closest cities to the location?"
   ]
  },
  {
   "cell_type": "code",
   "execution_count": null,
   "metadata": {},
   "outputs": [],
   "source": []
  },
  {
   "cell_type": "markdown",
   "metadata": {},
   "source": [
    "(e)\tPlot the name and location of the four closest cites."
   ]
  },
  {
   "cell_type": "code",
   "execution_count": null,
   "metadata": {},
   "outputs": [],
   "source": []
  },
  {
   "cell_type": "markdown",
   "metadata": {},
   "source": [
    "(f)\tHow far is the location from the largest (greatest population) city?"
   ]
  },
  {
   "cell_type": "code",
   "execution_count": null,
   "metadata": {},
   "outputs": [],
   "source": []
  },
  {
   "cell_type": "markdown",
   "metadata": {},
   "source": [
    "(g)\tWhat city with a population of at least 40,000 is closest to the location?"
   ]
  },
  {
   "cell_type": "code",
   "execution_count": null,
   "metadata": {},
   "outputs": [],
   "source": []
  },
  {
   "cell_type": "markdown",
   "metadata": {},
   "source": [
    "(h)\tWhat percentage of the population in the cities is South of the location?"
   ]
  },
  {
   "cell_type": "code",
   "execution_count": null,
   "metadata": {},
   "outputs": [],
   "source": []
  },
  {
   "cell_type": "markdown",
   "metadata": {},
   "source": [
    "(i)\tWhat is the total population of all of the cities that are within 80 miles of the location?"
   ]
  },
  {
   "cell_type": "code",
   "execution_count": null,
   "metadata": {},
   "outputs": [],
   "source": []
  },
  {
   "cell_type": "markdown",
   "metadata": {},
   "source": [
    "(j)\tPlot the name and location of the six closest cities to the optimal location that have a population of at least 40,000."
   ]
  },
  {
   "cell_type": "code",
   "execution_count": null,
   "metadata": {},
   "outputs": [],
   "source": []
  },
  {
   "cell_type": "markdown",
   "metadata": {},
   "source": [
    "(k)\tAssuming that three DCs are located in Raleigh, NC, Charlotte, NC, and North Charleston, SC, respectively, and that each city is served by its closest DC, what is the total population served by each DC"
   ]
  },
  {
   "cell_type": "code",
   "execution_count": null,
   "metadata": {},
   "outputs": [],
   "source": []
  },
  {
   "attachments": {
    "7db7ca0a-15bd-4505-9d1c-faa27ba58e12.png": {
     "image/png": "[encoded data removed]"
    }
   },
   "cell_type": "markdown",
   "metadata": {},
   "source": [
    "---\n",
    "__(2)__ Assume that 28, 48, and 32 full truckloads (TL) per year of finished goods will be shipped to customers located in Detroit, MI, Gainesville, FL, and Memphis, TN.\n",
    "\n",
    "![image.png](attachment:7db7ca0a-15bd-4505-9d1c-faa27ba58e12.png)\n",
    "\n",
    "(a) Where (in decimal degrees) should a new factory be located in order to minimize total outbound truck travel?"
   ]
  },
  {
   "cell_type": "code",
   "execution_count": null,
   "metadata": {},
   "outputs": [],
   "source": []
  },
  {
   "cell_type": "markdown",
   "metadata": {},
   "source": [
    "(b) Near what city with a population of at least 50,000 is this location?"
   ]
  },
  {
   "cell_type": "code",
   "execution_count": null,
   "metadata": {},
   "outputs": [],
   "source": []
  },
  {
   "cell_type": "markdown",
   "metadata": {},
   "source": [
    "(c) Near what city with a population of at least 10,000 is this location?"
   ]
  },
  {
   "cell_type": "code",
   "execution_count": null,
   "metadata": {},
   "outputs": [],
   "source": []
  },
  {
   "cell_type": "markdown",
   "metadata": {},
   "source": [
    "(d) A circuity factor is the average ratio of the actual road distance between two points and the great circle distance between the two points. Use the simple average of the distances between all pairs of customers (three values, in total) to estimate the circuity factor. You can use _Google Maps_ to determine the actual road distances (where you can pick the fastest route if several routes are available)."
   ]
  },
  {
   "cell_type": "code",
   "execution_count": null,
   "metadata": {},
   "outputs": [],
   "source": []
  },
  {
   "cell_type": "markdown",
   "metadata": {},
   "source": [
    "(e) If the transportation rate is $2.00 per mile for each one-way TL shipment, what is the total transportation cost per year assuming that the trucks do not return to the factory and that the actual road distances are estimated using a circuity factor?"
   ]
  },
  {
   "cell_type": "code",
   "execution_count": null,
   "metadata": {},
   "outputs": [],
   "source": []
  },
  {
   "cell_type": "markdown",
   "metadata": {},
   "source": [
    "(f) Assuming that the factory will be built in Cary, NC instead of at the optimal location, what is the increase in total transportation cost per year?"
   ]
  },
  {
   "cell_type": "code",
   "execution_count": null,
   "metadata": {},
   "outputs": [],
   "source": []
  }
 ],
 "metadata": {
  "kernelspec": {
   "display_name": "Julia 1.10.4",
   "language": "julia",
   "name": "julia-1.10"
  },
  "language_info": {
   "file_extension": ".jl",
   "mimetype": "application/julia",
   "name": "julia",
   "version": "1.10.4"
  }
 },
 "nbformat": 4,
 "nbformat_minor": 4
}
